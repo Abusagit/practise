{
 "cells": [
  {
   "cell_type": "code",
   "execution_count": 1,
   "metadata": {
    "collapsed": true
   },
   "outputs": [],
   "source": [
    "import pandas as pd\n",
    "import numpy as np\n",
    "import matplotlib as plt\n",
    "pd.set_option('display.max_columns', 100)"
   ]
  },
  {
   "cell_type": "code",
   "execution_count": 30,
   "outputs": [],
   "source": [
    "df = pd.read_csv('nhanes_2015_2016.csv')"
   ],
   "metadata": {
    "collapsed": false,
    "pycharm": {
     "name": "#%%\n"
    }
   }
  },
  {
   "cell_type": "code",
   "execution_count": 32,
   "outputs": [
    {
     "data": {
      "text/plain": "    SEQN  ALQ101  ALQ110  ALQ130  SMQ020  RIAGENDR  RIDAGEYR  RIDRETH1  \\\n0  83732     1.0     NaN     1.0       1         1        62         3   \n1  83733     1.0     NaN     6.0       1         1        53         3   \n2  83734     1.0     NaN     NaN       1         1        78         3   \n3  83735     2.0     1.0     1.0       2         2        56         3   \n4  83736     2.0     1.0     1.0       2         2        42         4   \n\n   DMDCITZN  DMDEDUC2  DMDMARTL  DMDHHSIZ   WTINT2YR  SDMVPSU  SDMVSTRA  \\\n0       1.0       5.0       1.0         2  134671.37        1       125   \n1       2.0       3.0       3.0         1   24328.56        1       125   \n2       1.0       3.0       1.0         2   12400.01        1       131   \n3       1.0       5.0       6.0         1  102718.00        1       131   \n4       1.0       4.0       3.0         5   17627.67        2       126   \n\n   INDFMPIR  BPXSY1  BPXDI1  BPXSY2  BPXDI2  BMXWT  BMXHT  BMXBMI  BMXLEG  \\\n0      4.39   128.0    70.0   124.0    64.0   94.8  184.5    27.8    43.3   \n1      1.32   146.0    88.0   140.0    88.0   90.4  171.4    30.8    38.0   \n2      1.51   138.0    46.0   132.0    44.0   83.4  170.1    28.8    35.6   \n3      5.00   132.0    72.0   134.0    68.0  109.8  160.9    42.4    38.5   \n4      1.23   100.0    70.0   114.0    54.0   55.2  164.9    20.3    37.4   \n\n   BMXARML  BMXARMC  BMXWAIST  HIQ210  \n0     43.6     35.9     101.1     2.0  \n1     40.0     33.2     107.9     NaN  \n2     37.0     31.0     116.5     2.0  \n3     37.7     38.3     110.1     2.0  \n4     36.0     27.2      80.4     2.0  ",
      "text/html": "<div>\n<style scoped>\n    .dataframe tbody tr th:only-of-type {\n        vertical-align: middle;\n    }\n\n    .dataframe tbody tr th {\n        vertical-align: top;\n    }\n\n    .dataframe thead th {\n        text-align: right;\n    }\n</style>\n<table border=\"1\" class=\"dataframe\">\n  <thead>\n    <tr style=\"text-align: right;\">\n      <th></th>\n      <th>SEQN</th>\n      <th>ALQ101</th>\n      <th>ALQ110</th>\n      <th>ALQ130</th>\n      <th>SMQ020</th>\n      <th>RIAGENDR</th>\n      <th>RIDAGEYR</th>\n      <th>RIDRETH1</th>\n      <th>DMDCITZN</th>\n      <th>DMDEDUC2</th>\n      <th>DMDMARTL</th>\n      <th>DMDHHSIZ</th>\n      <th>WTINT2YR</th>\n      <th>SDMVPSU</th>\n      <th>SDMVSTRA</th>\n      <th>INDFMPIR</th>\n      <th>BPXSY1</th>\n      <th>BPXDI1</th>\n      <th>BPXSY2</th>\n      <th>BPXDI2</th>\n      <th>BMXWT</th>\n      <th>BMXHT</th>\n      <th>BMXBMI</th>\n      <th>BMXLEG</th>\n      <th>BMXARML</th>\n      <th>BMXARMC</th>\n      <th>BMXWAIST</th>\n      <th>HIQ210</th>\n    </tr>\n  </thead>\n  <tbody>\n    <tr>\n      <th>0</th>\n      <td>83732</td>\n      <td>1.0</td>\n      <td>NaN</td>\n      <td>1.0</td>\n      <td>1</td>\n      <td>1</td>\n      <td>62</td>\n      <td>3</td>\n      <td>1.0</td>\n      <td>5.0</td>\n      <td>1.0</td>\n      <td>2</td>\n      <td>134671.37</td>\n      <td>1</td>\n      <td>125</td>\n      <td>4.39</td>\n      <td>128.0</td>\n      <td>70.0</td>\n      <td>124.0</td>\n      <td>64.0</td>\n      <td>94.8</td>\n      <td>184.5</td>\n      <td>27.8</td>\n      <td>43.3</td>\n      <td>43.6</td>\n      <td>35.9</td>\n      <td>101.1</td>\n      <td>2.0</td>\n    </tr>\n    <tr>\n      <th>1</th>\n      <td>83733</td>\n      <td>1.0</td>\n      <td>NaN</td>\n      <td>6.0</td>\n      <td>1</td>\n      <td>1</td>\n      <td>53</td>\n      <td>3</td>\n      <td>2.0</td>\n      <td>3.0</td>\n      <td>3.0</td>\n      <td>1</td>\n      <td>24328.56</td>\n      <td>1</td>\n      <td>125</td>\n      <td>1.32</td>\n      <td>146.0</td>\n      <td>88.0</td>\n      <td>140.0</td>\n      <td>88.0</td>\n      <td>90.4</td>\n      <td>171.4</td>\n      <td>30.8</td>\n      <td>38.0</td>\n      <td>40.0</td>\n      <td>33.2</td>\n      <td>107.9</td>\n      <td>NaN</td>\n    </tr>\n    <tr>\n      <th>2</th>\n      <td>83734</td>\n      <td>1.0</td>\n      <td>NaN</td>\n      <td>NaN</td>\n      <td>1</td>\n      <td>1</td>\n      <td>78</td>\n      <td>3</td>\n      <td>1.0</td>\n      <td>3.0</td>\n      <td>1.0</td>\n      <td>2</td>\n      <td>12400.01</td>\n      <td>1</td>\n      <td>131</td>\n      <td>1.51</td>\n      <td>138.0</td>\n      <td>46.0</td>\n      <td>132.0</td>\n      <td>44.0</td>\n      <td>83.4</td>\n      <td>170.1</td>\n      <td>28.8</td>\n      <td>35.6</td>\n      <td>37.0</td>\n      <td>31.0</td>\n      <td>116.5</td>\n      <td>2.0</td>\n    </tr>\n    <tr>\n      <th>3</th>\n      <td>83735</td>\n      <td>2.0</td>\n      <td>1.0</td>\n      <td>1.0</td>\n      <td>2</td>\n      <td>2</td>\n      <td>56</td>\n      <td>3</td>\n      <td>1.0</td>\n      <td>5.0</td>\n      <td>6.0</td>\n      <td>1</td>\n      <td>102718.00</td>\n      <td>1</td>\n      <td>131</td>\n      <td>5.00</td>\n      <td>132.0</td>\n      <td>72.0</td>\n      <td>134.0</td>\n      <td>68.0</td>\n      <td>109.8</td>\n      <td>160.9</td>\n      <td>42.4</td>\n      <td>38.5</td>\n      <td>37.7</td>\n      <td>38.3</td>\n      <td>110.1</td>\n      <td>2.0</td>\n    </tr>\n    <tr>\n      <th>4</th>\n      <td>83736</td>\n      <td>2.0</td>\n      <td>1.0</td>\n      <td>1.0</td>\n      <td>2</td>\n      <td>2</td>\n      <td>42</td>\n      <td>4</td>\n      <td>1.0</td>\n      <td>4.0</td>\n      <td>3.0</td>\n      <td>5</td>\n      <td>17627.67</td>\n      <td>2</td>\n      <td>126</td>\n      <td>1.23</td>\n      <td>100.0</td>\n      <td>70.0</td>\n      <td>114.0</td>\n      <td>54.0</td>\n      <td>55.2</td>\n      <td>164.9</td>\n      <td>20.3</td>\n      <td>37.4</td>\n      <td>36.0</td>\n      <td>27.2</td>\n      <td>80.4</td>\n      <td>2.0</td>\n    </tr>\n  </tbody>\n</table>\n</div>"
     },
     "execution_count": 32,
     "metadata": {},
     "output_type": "execute_result"
    }
   ],
   "source": [
    "df.head()"
   ],
   "metadata": {
    "collapsed": false,
    "pycharm": {
     "name": "#%%\n"
    }
   }
  },
  {
   "cell_type": "code",
   "execution_count": 18,
   "outputs": [
    {
     "data": {
      "text/plain": "Index(['SEQN', 'ALQ101', 'ALQ110', 'ALQ130', 'SMQ020', 'RIAGENDR', 'RIDAGEYR',\n       'RIDRETH1', 'DMDCITZN', 'DMDEDUC2', 'DMDMARTL', 'DMDHHSIZ', 'WTINT2YR',\n       'SDMVPSU', 'SDMVSTRA', 'INDFMPIR', 'BPXSY1', 'BPXDI1', 'BPXSY2',\n       'BPXDI2', 'BMXWT', 'BMXHT', 'BMXBMI', 'BMXLEG', 'BMXARML', 'BMXARMC',\n       'BMXWAIST', 'HIQ210'],\n      dtype='object')"
     },
     "execution_count": 18,
     "metadata": {},
     "output_type": "execute_result"
    }
   ],
   "source": [
    "df.columns"
   ],
   "metadata": {
    "collapsed": false,
    "pycharm": {
     "name": "#%%\n"
    }
   }
  },
  {
   "cell_type": "markdown",
   "source": [
    "### Goal\n",
    "We want to find the mean of first 100 rows of 'BPXSY1' when 'RIDAGEYR' > 60"
   ],
   "metadata": {
    "collapsed": false
   }
  },
  {
   "cell_type": "code",
   "execution_count": 31,
   "outputs": [
    {
     "data": {
      "text/plain": "136.29166666666666"
     },
     "execution_count": 31,
     "metadata": {},
     "output_type": "execute_result"
    }
   ],
   "source": [
    "# One possible way of doing this is:\n",
    "pd.Series.mean(df[df.RIDAGEYR > 60].iloc[range(0,100), 16]) # 16 - BPXSY1\n",
    "# Current version of python will include this warning, older versions will not"
   ],
   "metadata": {
    "collapsed": false,
    "pycharm": {
     "name": "#%%\n"
    }
   }
  },
  {
   "cell_type": "code",
   "execution_count": 21,
   "outputs": [
    {
     "ename": "KeyError",
     "evalue": "\"Passing list-likes to .loc or [] with any missing labels is no longer supported. The following labels were missing: Int64Index([1, 3, 4], dtype='int64'). See https://pandas.pydata.org/pandas-docs/stable/user_guide/indexing.html#deprecate-loc-reindex-listlike\"",
     "output_type": "error",
     "traceback": [
      "\u001B[1;31m---------------------------------------------------------------------------\u001B[0m",
      "\u001B[1;31mKeyError\u001B[0m                                  Traceback (most recent call last)",
      "\u001B[1;32m<ipython-input-21-97bd00df7a34>\u001B[0m in \u001B[0;36m<module>\u001B[1;34m\u001B[0m\n\u001B[0;32m      1\u001B[0m \u001B[1;31m# We can compare what our real dataframe looks like with the incorrect and correct methods\u001B[0m\u001B[1;33m\u001B[0m\u001B[1;33m\u001B[0m\u001B[1;33m\u001B[0m\u001B[0m\n\u001B[1;32m----> 2\u001B[1;33m \u001B[0mdf\u001B[0m\u001B[1;33m[\u001B[0m\u001B[0mdf\u001B[0m\u001B[1;33m.\u001B[0m\u001B[0mRIDAGEYR\u001B[0m \u001B[1;33m>\u001B[0m \u001B[1;36m60\u001B[0m\u001B[1;33m]\u001B[0m\u001B[1;33m.\u001B[0m\u001B[0mloc\u001B[0m\u001B[1;33m[\u001B[0m\u001B[0mrange\u001B[0m\u001B[1;33m(\u001B[0m\u001B[1;36m0\u001B[0m\u001B[1;33m,\u001B[0m\u001B[1;36m5\u001B[0m\u001B[1;33m)\u001B[0m\u001B[1;33m,\u001B[0m \u001B[1;33m:\u001B[0m\u001B[1;33m]\u001B[0m \u001B[1;31m# Filled with NaN whenever a row label does not meet the condition\u001B[0m\u001B[1;33m\u001B[0m\u001B[1;33m\u001B[0m\u001B[0m\n\u001B[0m\u001B[0;32m      3\u001B[0m \u001B[1;33m\u001B[0m\u001B[0m\n\u001B[0;32m      4\u001B[0m \u001B[1;33m\u001B[0m\u001B[0m\n",
      "\u001B[1;32mc:\\users\\fyodor\\pycharmprojects\\data\\venv\\lib\\site-packages\\pandas\\core\\indexing.py\u001B[0m in \u001B[0;36m__getitem__\u001B[1;34m(self, key)\u001B[0m\n\u001B[0;32m    871\u001B[0m                     \u001B[1;31m# AttributeError for IntervalTree get_value\u001B[0m\u001B[1;33m\u001B[0m\u001B[1;33m\u001B[0m\u001B[1;33m\u001B[0m\u001B[0m\n\u001B[0;32m    872\u001B[0m                     \u001B[1;32mpass\u001B[0m\u001B[1;33m\u001B[0m\u001B[1;33m\u001B[0m\u001B[0m\n\u001B[1;32m--> 873\u001B[1;33m             \u001B[1;32mreturn\u001B[0m \u001B[0mself\u001B[0m\u001B[1;33m.\u001B[0m\u001B[0m_getitem_tuple\u001B[0m\u001B[1;33m(\u001B[0m\u001B[0mkey\u001B[0m\u001B[1;33m)\u001B[0m\u001B[1;33m\u001B[0m\u001B[1;33m\u001B[0m\u001B[0m\n\u001B[0m\u001B[0;32m    874\u001B[0m         \u001B[1;32melse\u001B[0m\u001B[1;33m:\u001B[0m\u001B[1;33m\u001B[0m\u001B[1;33m\u001B[0m\u001B[0m\n\u001B[0;32m    875\u001B[0m             \u001B[1;31m# we by definition only have the 0th axis\u001B[0m\u001B[1;33m\u001B[0m\u001B[1;33m\u001B[0m\u001B[1;33m\u001B[0m\u001B[0m\n",
      "\u001B[1;32mc:\\users\\fyodor\\pycharmprojects\\data\\venv\\lib\\site-packages\\pandas\\core\\indexing.py\u001B[0m in \u001B[0;36m_getitem_tuple\u001B[1;34m(self, tup)\u001B[0m\n\u001B[0;32m   1053\u001B[0m             \u001B[1;32mreturn\u001B[0m \u001B[0mself\u001B[0m\u001B[1;33m.\u001B[0m\u001B[0m_multi_take\u001B[0m\u001B[1;33m(\u001B[0m\u001B[0mtup\u001B[0m\u001B[1;33m)\u001B[0m\u001B[1;33m\u001B[0m\u001B[1;33m\u001B[0m\u001B[0m\n\u001B[0;32m   1054\u001B[0m \u001B[1;33m\u001B[0m\u001B[0m\n\u001B[1;32m-> 1055\u001B[1;33m         \u001B[1;32mreturn\u001B[0m \u001B[0mself\u001B[0m\u001B[1;33m.\u001B[0m\u001B[0m_getitem_tuple_same_dim\u001B[0m\u001B[1;33m(\u001B[0m\u001B[0mtup\u001B[0m\u001B[1;33m)\u001B[0m\u001B[1;33m\u001B[0m\u001B[1;33m\u001B[0m\u001B[0m\n\u001B[0m\u001B[0;32m   1056\u001B[0m \u001B[1;33m\u001B[0m\u001B[0m\n\u001B[0;32m   1057\u001B[0m     \u001B[1;32mdef\u001B[0m \u001B[0m_get_label\u001B[0m\u001B[1;33m(\u001B[0m\u001B[0mself\u001B[0m\u001B[1;33m,\u001B[0m \u001B[0mlabel\u001B[0m\u001B[1;33m,\u001B[0m \u001B[0maxis\u001B[0m\u001B[1;33m:\u001B[0m \u001B[0mint\u001B[0m\u001B[1;33m)\u001B[0m\u001B[1;33m:\u001B[0m\u001B[1;33m\u001B[0m\u001B[1;33m\u001B[0m\u001B[0m\n",
      "\u001B[1;32mc:\\users\\fyodor\\pycharmprojects\\data\\venv\\lib\\site-packages\\pandas\\core\\indexing.py\u001B[0m in \u001B[0;36m_getitem_tuple_same_dim\u001B[1;34m(self, tup)\u001B[0m\n\u001B[0;32m    748\u001B[0m                 \u001B[1;32mcontinue\u001B[0m\u001B[1;33m\u001B[0m\u001B[1;33m\u001B[0m\u001B[0m\n\u001B[0;32m    749\u001B[0m \u001B[1;33m\u001B[0m\u001B[0m\n\u001B[1;32m--> 750\u001B[1;33m             \u001B[0mretval\u001B[0m \u001B[1;33m=\u001B[0m \u001B[0mgetattr\u001B[0m\u001B[1;33m(\u001B[0m\u001B[0mretval\u001B[0m\u001B[1;33m,\u001B[0m \u001B[0mself\u001B[0m\u001B[1;33m.\u001B[0m\u001B[0mname\u001B[0m\u001B[1;33m)\u001B[0m\u001B[1;33m.\u001B[0m\u001B[0m_getitem_axis\u001B[0m\u001B[1;33m(\u001B[0m\u001B[0mkey\u001B[0m\u001B[1;33m,\u001B[0m \u001B[0maxis\u001B[0m\u001B[1;33m=\u001B[0m\u001B[0mi\u001B[0m\u001B[1;33m)\u001B[0m\u001B[1;33m\u001B[0m\u001B[1;33m\u001B[0m\u001B[0m\n\u001B[0m\u001B[0;32m    751\u001B[0m             \u001B[1;31m# We should never have retval.ndim < self.ndim, as that should\u001B[0m\u001B[1;33m\u001B[0m\u001B[1;33m\u001B[0m\u001B[1;33m\u001B[0m\u001B[0m\n\u001B[0;32m    752\u001B[0m             \u001B[1;31m#  be handled by the _getitem_lowerdim call above.\u001B[0m\u001B[1;33m\u001B[0m\u001B[1;33m\u001B[0m\u001B[1;33m\u001B[0m\u001B[0m\n",
      "\u001B[1;32mc:\\users\\fyodor\\pycharmprojects\\data\\venv\\lib\\site-packages\\pandas\\core\\indexing.py\u001B[0m in \u001B[0;36m_getitem_axis\u001B[1;34m(self, key, axis)\u001B[0m\n\u001B[0;32m   1097\u001B[0m                     \u001B[1;32mraise\u001B[0m \u001B[0mValueError\u001B[0m\u001B[1;33m(\u001B[0m\u001B[1;34m\"Cannot index with multidimensional key\"\u001B[0m\u001B[1;33m)\u001B[0m\u001B[1;33m\u001B[0m\u001B[1;33m\u001B[0m\u001B[0m\n\u001B[0;32m   1098\u001B[0m \u001B[1;33m\u001B[0m\u001B[0m\n\u001B[1;32m-> 1099\u001B[1;33m                 \u001B[1;32mreturn\u001B[0m \u001B[0mself\u001B[0m\u001B[1;33m.\u001B[0m\u001B[0m_getitem_iterable\u001B[0m\u001B[1;33m(\u001B[0m\u001B[0mkey\u001B[0m\u001B[1;33m,\u001B[0m \u001B[0maxis\u001B[0m\u001B[1;33m=\u001B[0m\u001B[0maxis\u001B[0m\u001B[1;33m)\u001B[0m\u001B[1;33m\u001B[0m\u001B[1;33m\u001B[0m\u001B[0m\n\u001B[0m\u001B[0;32m   1100\u001B[0m \u001B[1;33m\u001B[0m\u001B[0m\n\u001B[0;32m   1101\u001B[0m             \u001B[1;31m# nested tuple slicing\u001B[0m\u001B[1;33m\u001B[0m\u001B[1;33m\u001B[0m\u001B[1;33m\u001B[0m\u001B[0m\n",
      "\u001B[1;32mc:\\users\\fyodor\\pycharmprojects\\data\\venv\\lib\\site-packages\\pandas\\core\\indexing.py\u001B[0m in \u001B[0;36m_getitem_iterable\u001B[1;34m(self, key, axis)\u001B[0m\n\u001B[0;32m   1035\u001B[0m \u001B[1;33m\u001B[0m\u001B[0m\n\u001B[0;32m   1036\u001B[0m         \u001B[1;31m# A collection of keys\u001B[0m\u001B[1;33m\u001B[0m\u001B[1;33m\u001B[0m\u001B[1;33m\u001B[0m\u001B[0m\n\u001B[1;32m-> 1037\u001B[1;33m         \u001B[0mkeyarr\u001B[0m\u001B[1;33m,\u001B[0m \u001B[0mindexer\u001B[0m \u001B[1;33m=\u001B[0m \u001B[0mself\u001B[0m\u001B[1;33m.\u001B[0m\u001B[0m_get_listlike_indexer\u001B[0m\u001B[1;33m(\u001B[0m\u001B[0mkey\u001B[0m\u001B[1;33m,\u001B[0m \u001B[0maxis\u001B[0m\u001B[1;33m,\u001B[0m \u001B[0mraise_missing\u001B[0m\u001B[1;33m=\u001B[0m\u001B[1;32mFalse\u001B[0m\u001B[1;33m)\u001B[0m\u001B[1;33m\u001B[0m\u001B[1;33m\u001B[0m\u001B[0m\n\u001B[0m\u001B[0;32m   1038\u001B[0m         return self.obj._reindex_with_indexers(\n\u001B[0;32m   1039\u001B[0m             \u001B[1;33m{\u001B[0m\u001B[0maxis\u001B[0m\u001B[1;33m:\u001B[0m \u001B[1;33m[\u001B[0m\u001B[0mkeyarr\u001B[0m\u001B[1;33m,\u001B[0m \u001B[0mindexer\u001B[0m\u001B[1;33m]\u001B[0m\u001B[1;33m}\u001B[0m\u001B[1;33m,\u001B[0m \u001B[0mcopy\u001B[0m\u001B[1;33m=\u001B[0m\u001B[1;32mTrue\u001B[0m\u001B[1;33m,\u001B[0m \u001B[0mallow_dups\u001B[0m\u001B[1;33m=\u001B[0m\u001B[1;32mTrue\u001B[0m\u001B[1;33m\u001B[0m\u001B[1;33m\u001B[0m\u001B[0m\n",
      "\u001B[1;32mc:\\users\\fyodor\\pycharmprojects\\data\\venv\\lib\\site-packages\\pandas\\core\\indexing.py\u001B[0m in \u001B[0;36m_get_listlike_indexer\u001B[1;34m(self, key, axis, raise_missing)\u001B[0m\n\u001B[0;32m   1252\u001B[0m             \u001B[0mkeyarr\u001B[0m\u001B[1;33m,\u001B[0m \u001B[0mindexer\u001B[0m\u001B[1;33m,\u001B[0m \u001B[0mnew_indexer\u001B[0m \u001B[1;33m=\u001B[0m \u001B[0max\u001B[0m\u001B[1;33m.\u001B[0m\u001B[0m_reindex_non_unique\u001B[0m\u001B[1;33m(\u001B[0m\u001B[0mkeyarr\u001B[0m\u001B[1;33m)\u001B[0m\u001B[1;33m\u001B[0m\u001B[1;33m\u001B[0m\u001B[0m\n\u001B[0;32m   1253\u001B[0m \u001B[1;33m\u001B[0m\u001B[0m\n\u001B[1;32m-> 1254\u001B[1;33m         \u001B[0mself\u001B[0m\u001B[1;33m.\u001B[0m\u001B[0m_validate_read_indexer\u001B[0m\u001B[1;33m(\u001B[0m\u001B[0mkeyarr\u001B[0m\u001B[1;33m,\u001B[0m \u001B[0mindexer\u001B[0m\u001B[1;33m,\u001B[0m \u001B[0maxis\u001B[0m\u001B[1;33m,\u001B[0m \u001B[0mraise_missing\u001B[0m\u001B[1;33m=\u001B[0m\u001B[0mraise_missing\u001B[0m\u001B[1;33m)\u001B[0m\u001B[1;33m\u001B[0m\u001B[1;33m\u001B[0m\u001B[0m\n\u001B[0m\u001B[0;32m   1255\u001B[0m         \u001B[1;32mreturn\u001B[0m \u001B[0mkeyarr\u001B[0m\u001B[1;33m,\u001B[0m \u001B[0mindexer\u001B[0m\u001B[1;33m\u001B[0m\u001B[1;33m\u001B[0m\u001B[0m\n\u001B[0;32m   1256\u001B[0m \u001B[1;33m\u001B[0m\u001B[0m\n",
      "\u001B[1;32mc:\\users\\fyodor\\pycharmprojects\\data\\venv\\lib\\site-packages\\pandas\\core\\indexing.py\u001B[0m in \u001B[0;36m_validate_read_indexer\u001B[1;34m(self, key, indexer, axis, raise_missing)\u001B[0m\n\u001B[0;32m   1313\u001B[0m \u001B[1;33m\u001B[0m\u001B[0m\n\u001B[0;32m   1314\u001B[0m                 \u001B[1;32mwith\u001B[0m \u001B[0moption_context\u001B[0m\u001B[1;33m(\u001B[0m\u001B[1;34m\"display.max_seq_items\"\u001B[0m\u001B[1;33m,\u001B[0m \u001B[1;36m10\u001B[0m\u001B[1;33m,\u001B[0m \u001B[1;34m\"display.width\"\u001B[0m\u001B[1;33m,\u001B[0m \u001B[1;36m80\u001B[0m\u001B[1;33m)\u001B[0m\u001B[1;33m:\u001B[0m\u001B[1;33m\u001B[0m\u001B[1;33m\u001B[0m\u001B[0m\n\u001B[1;32m-> 1315\u001B[1;33m                     raise KeyError(\n\u001B[0m\u001B[0;32m   1316\u001B[0m                         \u001B[1;34m\"Passing list-likes to .loc or [] with any missing labels \"\u001B[0m\u001B[1;33m\u001B[0m\u001B[1;33m\u001B[0m\u001B[0m\n\u001B[0;32m   1317\u001B[0m                         \u001B[1;34m\"is no longer supported. \"\u001B[0m\u001B[1;33m\u001B[0m\u001B[1;33m\u001B[0m\u001B[0m\n",
      "\u001B[1;31mKeyError\u001B[0m: \"Passing list-likes to .loc or [] with any missing labels is no longer supported. The following labels were missing: Int64Index([1, 3, 4], dtype='int64'). See https://pandas.pydata.org/pandas-docs/stable/user_guide/indexing.html#deprecate-loc-reindex-listlike\""
     ]
    }
   ],
   "source": [
    "# We can compare what our real dataframe looks like with the incorrect and correct methods\n",
    "df[df.RIDAGEYR > 60].loc[range(0,5), :] # Filled with NaN whenever a row label does not meet the condition\n",
    "\"\"\" THERE WILL BE AN ERROR! USE iloc INSTEAD OF loc\"\"\"\n"
   ],
   "metadata": {
    "collapsed": false,
    "pycharm": {
     "name": "#%%\n"
    }
   }
  },
  {
   "cell_type": "code",
   "execution_count": 23,
   "outputs": [
    {
     "data": {
      "text/plain": "     SEQN  ALQ101  ALQ110  ALQ130  SMQ020  RIAGENDR  RIDAGEYR  RIDRETH1  \\\n0   83732     1.0     NaN     1.0       1         1        62         3   \n2   83734     1.0     NaN     NaN       1         1        78         3   \n5   83737     2.0     2.0     NaN       2         2        72         1   \n13  83754     2.0     1.0     1.0       2         2        67         2   \n14  83755     1.0     NaN     3.0       2         1        67         4   \n\n    DMDCITZN  DMDEDUC2  DMDMARTL  DMDHHSIZ   WTINT2YR  SDMVPSU  SDMVSTRA  \\\n0        1.0       5.0       1.0         2  134671.37        1       125   \n2        1.0       3.0       1.0         2   12400.01        1       131   \n5        2.0       2.0       4.0         5   11252.31        1       128   \n13       1.0       5.0       1.0         7   10495.87        1       128   \n14       1.0       5.0       2.0         1   14080.10        1       126   \n\n    INDFMPIR  BPXSY1  BPXDI1  BPXSY2  BPXDI2  BMXWT  BMXHT  BMXBMI  BMXLEG  \\\n0       4.39   128.0    70.0   124.0    64.0   94.8  184.5    27.8    43.3   \n2       1.51   138.0    46.0   132.0    44.0   83.4  170.1    28.8    35.6   \n5       2.82   116.0    58.0   122.0    58.0   64.4  150.0    28.6    34.4   \n13      0.89   124.0    76.0   116.0    64.0  117.8  164.1    43.7    34.8   \n14      2.04   132.0    84.0   136.0    82.0   97.4  183.8    28.8    42.5   \n\n    BMXARML  BMXARMC  BMXWAIST  HIQ210  \n0      43.6     35.9     101.1     2.0  \n2      37.0     31.0     116.5     2.0  \n5      33.5     31.4      92.9     NaN  \n13     38.6     42.7     123.0     2.0  \n14     40.6     34.2     106.3     2.0  ",
      "text/html": "<div>\n<style scoped>\n    .dataframe tbody tr th:only-of-type {\n        vertical-align: middle;\n    }\n\n    .dataframe tbody tr th {\n        vertical-align: top;\n    }\n\n    .dataframe thead th {\n        text-align: right;\n    }\n</style>\n<table border=\"1\" class=\"dataframe\">\n  <thead>\n    <tr style=\"text-align: right;\">\n      <th></th>\n      <th>SEQN</th>\n      <th>ALQ101</th>\n      <th>ALQ110</th>\n      <th>ALQ130</th>\n      <th>SMQ020</th>\n      <th>RIAGENDR</th>\n      <th>RIDAGEYR</th>\n      <th>RIDRETH1</th>\n      <th>DMDCITZN</th>\n      <th>DMDEDUC2</th>\n      <th>DMDMARTL</th>\n      <th>DMDHHSIZ</th>\n      <th>WTINT2YR</th>\n      <th>SDMVPSU</th>\n      <th>SDMVSTRA</th>\n      <th>INDFMPIR</th>\n      <th>BPXSY1</th>\n      <th>BPXDI1</th>\n      <th>BPXSY2</th>\n      <th>BPXDI2</th>\n      <th>BMXWT</th>\n      <th>BMXHT</th>\n      <th>BMXBMI</th>\n      <th>BMXLEG</th>\n      <th>BMXARML</th>\n      <th>BMXARMC</th>\n      <th>BMXWAIST</th>\n      <th>HIQ210</th>\n    </tr>\n  </thead>\n  <tbody>\n    <tr>\n      <th>0</th>\n      <td>83732</td>\n      <td>1.0</td>\n      <td>NaN</td>\n      <td>1.0</td>\n      <td>1</td>\n      <td>1</td>\n      <td>62</td>\n      <td>3</td>\n      <td>1.0</td>\n      <td>5.0</td>\n      <td>1.0</td>\n      <td>2</td>\n      <td>134671.37</td>\n      <td>1</td>\n      <td>125</td>\n      <td>4.39</td>\n      <td>128.0</td>\n      <td>70.0</td>\n      <td>124.0</td>\n      <td>64.0</td>\n      <td>94.8</td>\n      <td>184.5</td>\n      <td>27.8</td>\n      <td>43.3</td>\n      <td>43.6</td>\n      <td>35.9</td>\n      <td>101.1</td>\n      <td>2.0</td>\n    </tr>\n    <tr>\n      <th>2</th>\n      <td>83734</td>\n      <td>1.0</td>\n      <td>NaN</td>\n      <td>NaN</td>\n      <td>1</td>\n      <td>1</td>\n      <td>78</td>\n      <td>3</td>\n      <td>1.0</td>\n      <td>3.0</td>\n      <td>1.0</td>\n      <td>2</td>\n      <td>12400.01</td>\n      <td>1</td>\n      <td>131</td>\n      <td>1.51</td>\n      <td>138.0</td>\n      <td>46.0</td>\n      <td>132.0</td>\n      <td>44.0</td>\n      <td>83.4</td>\n      <td>170.1</td>\n      <td>28.8</td>\n      <td>35.6</td>\n      <td>37.0</td>\n      <td>31.0</td>\n      <td>116.5</td>\n      <td>2.0</td>\n    </tr>\n    <tr>\n      <th>5</th>\n      <td>83737</td>\n      <td>2.0</td>\n      <td>2.0</td>\n      <td>NaN</td>\n      <td>2</td>\n      <td>2</td>\n      <td>72</td>\n      <td>1</td>\n      <td>2.0</td>\n      <td>2.0</td>\n      <td>4.0</td>\n      <td>5</td>\n      <td>11252.31</td>\n      <td>1</td>\n      <td>128</td>\n      <td>2.82</td>\n      <td>116.0</td>\n      <td>58.0</td>\n      <td>122.0</td>\n      <td>58.0</td>\n      <td>64.4</td>\n      <td>150.0</td>\n      <td>28.6</td>\n      <td>34.4</td>\n      <td>33.5</td>\n      <td>31.4</td>\n      <td>92.9</td>\n      <td>NaN</td>\n    </tr>\n    <tr>\n      <th>13</th>\n      <td>83754</td>\n      <td>2.0</td>\n      <td>1.0</td>\n      <td>1.0</td>\n      <td>2</td>\n      <td>2</td>\n      <td>67</td>\n      <td>2</td>\n      <td>1.0</td>\n      <td>5.0</td>\n      <td>1.0</td>\n      <td>7</td>\n      <td>10495.87</td>\n      <td>1</td>\n      <td>128</td>\n      <td>0.89</td>\n      <td>124.0</td>\n      <td>76.0</td>\n      <td>116.0</td>\n      <td>64.0</td>\n      <td>117.8</td>\n      <td>164.1</td>\n      <td>43.7</td>\n      <td>34.8</td>\n      <td>38.6</td>\n      <td>42.7</td>\n      <td>123.0</td>\n      <td>2.0</td>\n    </tr>\n    <tr>\n      <th>14</th>\n      <td>83755</td>\n      <td>1.0</td>\n      <td>NaN</td>\n      <td>3.0</td>\n      <td>2</td>\n      <td>1</td>\n      <td>67</td>\n      <td>4</td>\n      <td>1.0</td>\n      <td>5.0</td>\n      <td>2.0</td>\n      <td>1</td>\n      <td>14080.10</td>\n      <td>1</td>\n      <td>126</td>\n      <td>2.04</td>\n      <td>132.0</td>\n      <td>84.0</td>\n      <td>136.0</td>\n      <td>82.0</td>\n      <td>97.4</td>\n      <td>183.8</td>\n      <td>28.8</td>\n      <td>42.5</td>\n      <td>40.6</td>\n      <td>34.2</td>\n      <td>106.3</td>\n      <td>2.0</td>\n    </tr>\n  </tbody>\n</table>\n</div>"
     },
     "execution_count": 23,
     "metadata": {},
     "output_type": "execute_result"
    }
   ],
   "source": [
    "df[df.RIDAGEYR > 60].iloc[range(0,5), :] # Correct picks the first fice rows such that 'RIDAGEYR\" > 60"
   ],
   "metadata": {
    "collapsed": false,
    "pycharm": {
     "name": "#%%\n"
    }
   }
  },
  {
   "cell_type": "code",
   "execution_count": 25,
   "outputs": [
    {
     "name": "stdout",
     "output_type": "stream",
     "text": [
      "136.29166666666666\n"
     ]
    }
   ],
   "source": [
    "# correct method to the original question\n",
    "print(pd.Series.mean(df[df.RIDAGEYR > 60].iloc[range(0, 100), 16]))"
   ],
   "metadata": {
    "collapsed": false,
    "pycharm": {
     "name": "#%%\n"
    }
   }
  },
  {
   "cell_type": "code",
   "execution_count": 26,
   "outputs": [
    {
     "name": "stdout",
     "output_type": "stream",
     "text": [
      "136.29166666666666\n"
     ]
    }
   ],
   "source": [
    "# Another way to reference the BPXSY1 variable\n",
    "print(pd.Series.mean(df[df.RIDAGEYR > 60].iloc[range(0, 100), df.columns.get_loc('BPXSY1')]))"
   ],
   "metadata": {
    "collapsed": false,
    "pycharm": {
     "name": "#%%\n"
    }
   }
  }
 ],
 "metadata": {
  "kernelspec": {
   "display_name": "Python 3",
   "language": "python",
   "name": "python3"
  },
  "language_info": {
   "codemirror_mode": {
    "name": "ipython",
    "version": 2
   },
   "file_extension": ".py",
   "mimetype": "text/x-python",
   "name": "python",
   "nbconvert_exporter": "python",
   "pygments_lexer": "ipython2",
   "version": "2.7.6"
  }
 },
 "nbformat": 4,
 "nbformat_minor": 0
}