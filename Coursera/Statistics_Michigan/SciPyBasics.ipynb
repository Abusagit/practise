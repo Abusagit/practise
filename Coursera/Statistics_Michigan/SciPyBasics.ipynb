{
 "cells": [
  {
   "cell_type": "markdown",
   "metadata": {
    "collapsed": true,
    "pycharm": {
     "name": "#%% md\n"
    }
   },
   "source": [
    "# SciPy"
   ]
  },
  {
   "cell_type": "code",
   "execution_count": 1,
   "outputs": [],
   "source": [
    "from scipy import stats\n",
    "import numpy as np"
   ],
   "metadata": {
    "collapsed": false,
    "pycharm": {
     "name": "#%%\n",
     "is_executing": false
    }
   }
  },
  {
   "cell_type": "code",
   "execution_count": 3,
   "outputs": [
    {
     "name": "stdout",
     "text": [
      "[-0.29687821 -1.64546368  0.50012206  0.51857679 -0.22734001 -2.21948323\n -0.16043877  0.16267876 -0.19579633  1.44483373 -2.09284757 -0.32731559\n  1.81735716 -1.01873626 -0.12306706  0.73600303  0.24978927  1.44053525\n  0.86278535 -1.09087565  1.87421519 -1.31788868  0.46595549  0.52256009\n  0.70931517  0.18891332 -0.3278494  -0.63406881 -0.05634718 -0.9553638\n  0.22290159  0.76666923  0.41111256 -0.45791716  0.55727048  1.44409774\n -0.51847999 -0.06966663  0.95713455  0.40839076  0.283322    1.6307708\n  0.92846611  1.71683532  0.7796408   0.59644678 -1.66447741  0.65793565\n  0.16294297  1.61841179  0.86943177  0.99298539  0.61602324 -0.35939612\n  0.45758188  0.49974776  0.79141923  0.25574919  1.59565985 -2.13508191\n -0.99260932  0.22410878 -0.84963931  0.76631363 -0.83288692 -0.5561578\n  0.53961752  0.48061649  0.91913467 -0.42982629 -0.1793422  -0.00512325\n  0.21101453 -1.12475121 -0.78871445  0.05039819  0.29412704  0.10165208\n -1.37742852 -0.41187815 -0.11275173  0.14521825 -0.28628894 -0.21740144\n  0.74466419  1.21459483  1.68717735  1.39701745 -1.25644632  1.81124405\n -0.81240496  0.06128064 -1.68417431 -2.9293291  -0.24810223  1.57711102\n  0.911586   -0.42155449 -0.50315013  0.84879638]\n"
     ],
     "output_type": "stream"
    }
   ],
   "source": [
    "### Print Normal Random Variables\n",
    "print(stats.norm.rvs(size = 100))"
   ],
   "metadata": {
    "collapsed": false,
    "pycharm": {
     "name": "#%%\n",
     "is_executing": false
    }
   }
  },
  {
   "cell_type": "code",
   "execution_count": 4,
   "outputs": [
    {
     "data": {
      "text/plain": "<Figure size 432x288 with 1 Axes>",
      "image/png": "[encoded data removed]"
     },
     "metadata": {
      "needs_background": "light"
     },
     "output_type": "display_data"
    }
   ],
   "source": [
    "from pylab import *\n",
    "\n",
    "# Create some test data\n",
    "dx = .01\n",
    "X  = np.arange(-2,2,dx)\n",
    "Y  = exp(-X**2)\n",
    "\n",
    "# Normalize the data to a proper PDF\n",
    "Y /= (dx*Y).sum()\n",
    "\n",
    "# Compute the CDF\n",
    "CY = np.cumsum(Y*dx)\n",
    "\n",
    "# Plot both\n",
    "plot(X,Y)\n",
    "plot(X,CY,'r--')\n",
    "\n",
    "show()"
   ],
   "metadata": {
    "collapsed": false,
    "pycharm": {
     "name": "#%%\n",
     "is_executing": false
    }
   }
  },
  {
   "cell_type": "code",
   "execution_count": 5,
   "outputs": [
    {
     "name": "stdout",
     "text": [
      "[0.84134475 0.15865525 0.5        0.84134475 0.9986501  0.99996833\n 0.02275013 1.        ]\n"
     ],
     "output_type": "stream"
    }
   ],
   "source": [
    "### Compute the Normal CDF of certain values.\n",
    "print(stats.norm.cdf(np.array([1,-1., 0, 1, 3, 4, -2, 6])))"
   ],
   "metadata": {
    "collapsed": false,
    "pycharm": {
     "name": "#%%\n",
     "is_executing": false
    }
   }
  },
  {
   "cell_type": "markdown",
   "source": [
    "### Descriptive statistics"
   ],
   "metadata": {
    "collapsed": false
   }
  },
  {
   "cell_type": "code",
   "execution_count": 7,
   "outputs": [],
   "source": [
    "np.random.seed(282629734)  # initialization of random generator mechanism\n",
    "\n",
    "# Generate 1000 Student’s T continuous random variables.\n",
    "x = stats.t.rvs(10, size=1000)"
   ],
   "metadata": {
    "collapsed": false,
    "pycharm": {
     "name": "#%%\n",
     "is_executing": false
    }
   }
  },
  {
   "cell_type": "code",
   "execution_count": 8,
   "outputs": [
    {
     "name": "stdout",
     "text": [
      "-3.7897557242248197\n5.263277329807165\n0.014061066398468422\n1.288993862079285\n"
     ],
     "output_type": "stream"
    },
    {
     "data": {
      "text/plain": "DescribeResult(nobs=1000, minmax=(-3.7897557242248197, 5.263277329807165), mean=0.014061066398468422, variance=1.2902841462255106, skewness=0.21652778283120955, kurtosis=1.055594041706331)"
     },
     "metadata": {},
     "output_type": "execute_result",
     "execution_count": 8
    }
   ],
   "source": [
    "# Do some descriptive statistics\n",
    "print(x.min())   # equivalent to np.min(x)\n",
    "\n",
    "print(x.max())   # equivalent to np.max(x)\n",
    "\n",
    "print(x.mean())  # equivalent to np.mean(x)\n",
    "\n",
    "print(x.var())   # equivalent to np.var(x))\n",
    "\n",
    "stats.describe(x)"
   ],
   "metadata": {
    "collapsed": false,
    "pycharm": {
     "name": "#%%\n",
     "is_executing": false
    }
   }
  }
 ],
 "metadata": {
  "kernelspec": {
   "display_name": "Python 3",
   "language": "python",
   "name": "python3"
  },
  "language_info": {
   "codemirror_mode": {
    "name": "ipython",
    "version": 2
   },
   "file_extension": ".py",
   "mimetype": "text/x-python",
   "name": "python",
   "nbconvert_exporter": "python",
   "pygments_lexer": "ipython2",
   "version": "2.7.6"
  }
 },
 "nbformat": 4,
 "nbformat_minor": 0
}