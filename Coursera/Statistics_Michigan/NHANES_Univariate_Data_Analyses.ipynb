{
 "cells": [
  {
   "cell_type": "code",
   "execution_count": 17,
   "metadata": {
    "collapsed": true
   },
   "outputs": [],
   "source": [
    "%matplotlib inline\n",
    "import matplotlib.pyplot as plt\n",
    "import seaborn as sns\n",
    "import pandas as pd\n",
    "import numpy as np\n",
    "\n",
    "data = pd.read_csv('nhanes_2015_2016.csv')"
   ]
  },
  {
   "cell_type": "markdown",
   "source": [
    "## Frequency tables"
   ],
   "metadata": {
    "collapsed": false
   }
  },
  {
   "cell_type": "code",
   "execution_count": 18,
   "outputs": [
    {
     "name": "stdout",
     "output_type": "stream",
     "text": [
      "4.0    1621\n",
      "5.0    1366\n",
      "3.0    1186\n",
      "1.0     655\n",
      "2.0     643\n",
      "9.0       3\n",
      "Name: DMDEDUC2, dtype: int64\n"
     ]
    }
   ],
   "source": [
    "a = data.DMDEDUC2.value_counts()\n",
    "print(a)\n"
   ],
   "metadata": {
    "collapsed": false,
    "pycharm": {
     "name": "#%%\n"
    }
   }
  },
  {
   "cell_type": "code",
   "execution_count": 19,
   "outputs": [
    {
     "name": "stdout",
     "output_type": "stream",
     "text": [
      "5474\n",
      "5474\n",
      "(5735, 28)\n"
     ]
    }
   ],
   "source": [
    "print(data.DMDEDUC2.value_counts().sum())\n",
    "print(1621 + 1366 + 1186 + 655 + 643 + 3)\n",
    "print(data.shape)  # There are some missing variables"
   ],
   "metadata": {
    "collapsed": false,
    "pycharm": {
     "name": "#%%\n"
    }
   }
  },
  {
   "cell_type": "code",
   "execution_count": 20,
   "outputs": [
    {
     "name": "stdout",
     "output_type": "stream",
     "text": [
      "261\n"
     ]
    }
   ],
   "source": [
    "print(pd.isnull(data.DMDEDUC2).sum())"
   ],
   "metadata": {
    "collapsed": false,
    "pycharm": {
     "name": "#%%\n"
    }
   }
  },
  {
   "cell_type": "markdown",
   "source": [
    "### Replacing integer codes with text labes"
   ],
   "metadata": {
    "collapsed": false,
    "pycharm": {
     "name": "#%% md\n"
    }
   }
  },
  {
   "cell_type": "code",
   "execution_count": 21,
   "outputs": [
    {
     "name": "stdout",
     "output_type": "stream",
     "text": [
      "Some college/AA    1621\n",
      "College            1366\n",
      "HS/GED             1186\n",
      "<9                  655\n",
      "9-11                643\n",
      "Don`t know            3\n",
      "Name: DMDEDUC2x, dtype: int64\n",
      "5474\n"
     ]
    }
   ],
   "source": [
    "data['DMDEDUC2x'] = data.DMDEDUC2.replace({1: '<9',\n",
    "                                           2: '9-11',\n",
    "                                           3: 'HS/GED',\n",
    "                                           4: 'Some college/AA',\n",
    "                                           5: 'College',\n",
    "                                           7: 'Refused',\n",
    "                                           9: 'Don`t know'\n",
    "                                           }\n",
    "                                          )\n",
    "\n",
    "print(data.DMDEDUC2x.value_counts())\n",
    "print(data.DMDEDUC2.value_counts().sum())"
   ],
   "metadata": {
    "collapsed": false,
    "pycharm": {
     "name": "#%%\n"
    }
   }
  },
  {
   "cell_type": "code",
   "execution_count": 65,
   "outputs": [
    {
     "name": "stdout",
     "output_type": "stream",
     "text": [
      "Female    2976\n",
      "Male      2759\n",
      "Name: RIAGENDRx, dtype: int64\n"
     ]
    }
   ],
   "source": [
    "## Doing the same with gender:\n",
    "data['RIAGENDRx'] = data.RIAGENDR.replace(\n",
    "    {\n",
    "        1: 'Male',\n",
    "        2: 'Female'\n",
    "    }\n",
    ")\n",
    "print(data.RIAGENDRx.value_counts())"
   ],
   "metadata": {
    "collapsed": false,
    "pycharm": {
     "name": "#%%\n"
    }
   }
  },
  {
   "cell_type": "markdown",
   "source": [
    "#### Counting proportions"
   ],
   "metadata": {
    "collapsed": false
   }
  },
  {
   "cell_type": "code",
   "execution_count": 23,
   "outputs": [
    {
     "name": "stdout",
     "output_type": "stream",
     "text": [
      "Some college/AA    0.296127\n",
      "College            0.249543\n",
      "HS/GED             0.216661\n",
      "<9                 0.119657\n",
      "9-11               0.117464\n",
      "Don`t know         0.000548\n",
      "Name: DMDEDUC2x, dtype: float64\n"
     ]
    }
   ],
   "source": [
    "x = data.DMDEDUC2x.value_counts()\n",
    "print(x / x.sum())"
   ],
   "metadata": {
    "collapsed": false,
    "pycharm": {
     "name": "#%%\n"
    }
   }
  },
  {
   "cell_type": "markdown",
   "source": [
    "#### Creating a variable for missing values"
   ],
   "metadata": {
    "collapsed": false
   }
  },
  {
   "cell_type": "code",
   "execution_count": 24,
   "outputs": [
    {
     "name": "stdout",
     "output_type": "stream",
     "text": [
      "Some college/AA    0.282650\n",
      "College            0.238187\n",
      "HS/GED             0.206800\n",
      "<9                 0.114211\n",
      "9-11               0.112119\n",
      "Missing            0.045510\n",
      "Don`t know         0.000523\n",
      "Name: DMDEDUC2x, dtype: float64\n"
     ]
    }
   ],
   "source": [
    "data['DMDEDUC2x'] = data.DMDEDUC2x.fillna('Missing')\n",
    "x = data.DMDEDUC2x.value_counts()\n",
    "print(x / x.sum())"
   ],
   "metadata": {
    "collapsed": false,
    "pycharm": {
     "name": "#%%\n"
    }
   }
  },
  {
   "cell_type": "markdown",
   "source": [
    "## Numerical summaries"
   ],
   "metadata": {
    "collapsed": false,
    "pycharm": {
     "name": "#%% md\n"
    }
   }
  },
  {
   "cell_type": "code",
   "execution_count": 27,
   "outputs": [
    {
     "name": "stdout",
     "output_type": "stream",
     "text": [
      "count    5666.000000\n",
      "mean       81.342676\n",
      "std        21.764409\n",
      "min        32.400000\n",
      "25%        65.900000\n",
      "50%        78.200000\n",
      "75%        92.700000\n",
      "max       198.900000\n",
      "Name: BMXWT, dtype: float64\n",
      "\n"
     ]
    }
   ],
   "source": [
    "print(data.BMXWT.dropna().describe(), end='\\n\\n')\n",
    "# print(data.BMXWT.describe())"
   ],
   "metadata": {
    "collapsed": false,
    "pycharm": {
     "name": "#%%\n"
    }
   }
  },
  {
   "cell_type": "code",
   "execution_count": 33,
   "outputs": [
    {
     "name": "stdout",
     "output_type": "stream",
     "text": [
      "81.34267560889516\n",
      "81.34267560889516\n",
      "78.2\n",
      "78.2\n",
      "92.7\n",
      "92.7\n",
      "79.6\n"
     ]
    }
   ],
   "source": [
    "## individual summary statistics using NumPy or Pandas\n",
    "x = data.BMXWT.dropna()  # Extract all na into a variable 'x'\n",
    "print(x.mean())  # Pandas\n",
    "print(np.mean(x))  # NumPy\n",
    "\n",
    "print(x.median())  # Pandas\n",
    "print(np.percentile(x, 50))  # NumPy\n",
    "\n",
    "print(np.percentile(x, 75))  # NumPy\n",
    "print(x.quantile(0.75))  # Pandas\n",
    "\n",
    "print(x.quantile(0.53))"
   ],
   "metadata": {
    "collapsed": false,
    "pycharm": {
     "name": "#%%\n"
    }
   }
  },
  {
   "cell_type": "markdown",
   "source": [
    "A person is generally considered to have pre-hypertension when their systolic blood pressure is between 120 and 139,\n",
    "or their diastolic blood pressure is between 80 and 89. Considering only the systolic condition, we can calculate\n",
    "the proprotion of the NHANES sample who would be considered to have pre-hypertension"
   ],
   "metadata": {
    "collapsed": false,
    "pycharm": {
     "name": "#%% md\n"
    }
   }
  },
  {
   "cell_type": "code",
   "execution_count": 37,
   "outputs": [
    {
     "name": "stdout",
     "output_type": "stream",
     "text": [
      "0.366870095902354\n"
     ]
    }
   ],
   "source": [
    "a = np.mean((data.BPXSY1 >= 120) & (data.BPXSY1 <= 139))\n",
    "print(a)  # \"&\" means \"and\""
   ],
   "metadata": {
    "collapsed": false,
    "pycharm": {
     "name": "#%%\n"
    }
   }
  },
  {
   "cell_type": "markdown",
   "source": [
    "the propotion of NHANES subjects who are pre-hypertensive based on diastolic blood pressure:"
   ],
   "metadata": {
    "collapsed": false,
    "pycharm": {
     "name": "#%% md\n"
    }
   }
  },
  {
   "cell_type": "code",
   "execution_count": 38,
   "outputs": [
    {
     "name": "stdout",
     "output_type": "stream",
     "text": [
      "0.14699215344376634\n"
     ]
    }
   ],
   "source": [
    "b = np.mean((data.BPXDI1 >= 80) & (data.BPXDI1 <= 89))\n",
    "print(b)"
   ],
   "metadata": {
    "collapsed": false,
    "pycharm": {
     "name": "#%%\n"
    }
   }
  },
  {
   "cell_type": "markdown",
   "source": [
    "the proportion of NHANES subjects who are pre-hypertensive based on either systolic or diastolic blood pressure:"
   ],
   "metadata": {
    "collapsed": false
   }
  },
  {
   "cell_type": "code",
   "execution_count": 39,
   "outputs": [
    {
     "name": "stdout",
     "output_type": "stream",
     "text": [
      "0.43173496076721884\n"
     ]
    }
   ],
   "source": [
    "a = (data.BPXSY1 >= 120) & (data.BPXSY1 <= 139)\n",
    "b = (data.BPXDI1 >= 80) & (data.BPXDI1 <= 89)\n",
    "print(np.mean(a | b))"
   ],
   "metadata": {
    "collapsed": false,
    "pycharm": {
     "name": "#%%\n"
    }
   }
  },
  {
   "cell_type": "markdown",
   "source": [
    "exploring 'white coat anxiety' -> looking at mean difference (extent) between 2 measurements"
   ],
   "metadata": {
    "collapsed": false
   }
  },
  {
   "cell_type": "code",
   "execution_count": 40,
   "outputs": [
    {
     "name": "stdout",
     "output_type": "stream",
     "text": [
      "0.6749860309182343\n",
      "0.3490407897187558\n"
     ]
    }
   ],
   "source": [
    "print(np.mean(data.BPXSY1 - data.BPXSY2))\n",
    "print(np.mean(data.BPXDI1 - data.BPXDI2))"
   ],
   "metadata": {
    "collapsed": false,
    "pycharm": {
     "name": "#%%\n"
    }
   }
  },
  {
   "cell_type": "markdown",
   "source": [
    "## Graphical summaries"
   ],
   "metadata": {
    "collapsed": false
   }
  },
  {
   "cell_type": "code",
   "execution_count": 44,
   "outputs": [
    {
     "data": {
      "text/plain": "<Figure size 432x288 with 1 Axes>",
      "image/png": "[encoded data removed]"
     },
     "metadata": {
      "needs_background": "light"
     },
     "output_type": "display_data"
    }
   ],
   "source": [
    "# Weight\n",
    "sns.distplot(data.BMXWT.dropna()).set_title('Weight')\n",
    "plt.xlabel('Weight')\n",
    "plt.ylabel('Frequency')\n",
    "\n",
    "plt.show()"
   ],
   "metadata": {
    "collapsed": false,
    "pycharm": {
     "name": "#%%\n"
    }
   }
  },
  {
   "cell_type": "code",
   "execution_count": 45,
   "outputs": [
    {
     "data": {
      "text/plain": "<Figure size 432x288 with 1 Axes>",
      "image/png": "[encoded data removed]"
     },
     "metadata": {
      "needs_background": "light"
     },
     "output_type": "display_data"
    }
   ],
   "source": [
    "# Blood pressure:\n",
    "sns.distplot(data.BPXSY1.dropna()).set_title('Systolic BP1')\n",
    "plt.show()\n",
    "# It`s divided into some clusters"
   ],
   "metadata": {
    "collapsed": false,
    "pycharm": {
     "name": "#%%\n"
    }
   }
  },
  {
   "cell_type": "code",
   "execution_count": 47,
   "outputs": [
    {
     "data": {
      "text/plain": "<Figure size 432x288 with 1 Axes>",
      "image/png": "[encoded data removed]"
     },
     "metadata": {
      "needs_background": "light"
     },
     "output_type": "display_data"
    }
   ],
   "source": [
    "bp = sns.boxplot(data=data.loc[:, ['BPXSY1', 'BPXSY2', 'BPXDI1', 'BPXDI2']])\n",
    "_ = bp.set_ylabel('Blood pressure in mm/Hg')\n",
    "\n",
    "plt.show()"
   ],
   "metadata": {
    "collapsed": false,
    "pycharm": {
     "name": "#%%\n"
    }
   }
  },
  {
   "cell_type": "markdown",
   "source": [
    "## Stratification"
   ],
   "metadata": {
    "collapsed": false
   }
  },
  {
   "cell_type": "code",
   "execution_count": 52,
   "outputs": [
    {
     "data": {
      "text/plain": "<Figure size 864x360 with 1 Axes>",
      "image/png": "[encoded data removed]"
     },
     "metadata": {
      "needs_background": "light"
     },
     "output_type": "display_data"
    }
   ],
   "source": [
    "data['age_group'] = pd.cut(data.RIDAGEYR, [18, 30, 40, 50, 60, 70, 80])  # Create age strata based on these cut points\n",
    "plt.figure(figsize=(12, 5))  # Make the figure wider than default (12cm wide by 5cm tall)\n",
    "sns.boxplot(x='age_group', y='BPXSY1', data=data).set_title('Stratification')\n",
    "plt.show()"
   ],
   "metadata": {
    "collapsed": false,
    "pycharm": {
     "name": "#%%\n"
    }
   }
  },
  {
   "cell_type": "code",
   "execution_count": 54,
   "outputs": [
    {
     "data": {
      "text/plain": "<Figure size 936x432 with 1 Axes>",
      "image/png": "[encoded data removed]"
     },
     "metadata": {
      "needs_background": "light"
     },
     "output_type": "display_data"
    }
   ],
   "source": [
    "data['age_group'] = pd.cut(data.RIDAGEYR, [18, 30, 40, 50, 60, 70, 80])\n",
    "plt.figure(figsize=(13,6))\n",
    "sns.boxplot(x='age_group', y='BPXSY1', hue='RIAGENDRx', data=data)\n",
    "plt.show()"
   ],
   "metadata": {
    "collapsed": false,
    "pycharm": {
     "name": "#%%\n"
    }
   }
  },
  {
   "cell_type": "code",
   "execution_count": 69,
   "outputs": [
    {
     "data": {
      "text/plain": "<Figure size 1080x504 with 1 Axes>",
      "image/png": "[encoded data removed]"
     },
     "metadata": {
      "needs_background": "light"
     },
     "output_type": "display_data"
    }
   ],
   "source": [
    "data['age_group'] = pd.cut(data.RIDAGEYR, [18, 30, 40, 50, 60, 70, 80])\n",
    "plt.figure(figsize=(15, 7))\n",
    "sns.boxplot(x='RIAGENDRx', y='BPXSY1', hue='age_group', data=data)\n",
    "plt.show()"
   ],
   "metadata": {
    "collapsed": false,
    "pycharm": {
     "name": "#%%\n"
    }
   }
  },
  {
   "cell_type": "markdown",
   "source": [
    "\"Birth cohort effect\". NHANES is a cross sectional survey (all data for one wave were collected at a single point in\n",
    "time). People who were, say, 65 in 2015 (when these data were collected), were college-aged around 1970, while people\n",
    "who were in their 20's in 2015 were college-aged in around 2010 or later. Over the last few decades, it has become much\n",
    "more common for people to at least begin a college degree than it was in the past. Therefore, younger people as a group\n",
    "have higher educational attainment than older people as a group. As these young people grow older, the cross sectional\n",
    "relationship between age and educational attainment will change."
   ],
   "metadata": {
    "collapsed": false,
    "pycharm": {
     "name": "#%% md\n"
    }
   }
  },
  {
   "cell_type": "code",
   "execution_count": 66,
   "outputs": [
    {
     "name": "stdout",
     "output_type": "stream",
     "text": [
      "age_group  DMDEDUC2x      \n",
      "(18, 30]   Some college/AA    364\n",
      "           College            278\n",
      "           HS/GED             237\n",
      "           Missing            128\n",
      "           9-11                99\n",
      "           <9                  47\n",
      "(30, 40]   Some college/AA    282\n",
      "           College            264\n",
      "           HS/GED             182\n",
      "           9-11               111\n",
      "           <9                  93\n",
      "(40, 50]   Some college/AA    262\n",
      "           College            260\n",
      "           HS/GED             171\n",
      "           9-11               112\n",
      "           <9                  98\n",
      "(50, 60]   Some college/AA    258\n",
      "           College            220\n",
      "           HS/GED             220\n",
      "           9-11               122\n",
      "           <9                 104\n",
      "(60, 70]   Some college/AA    238\n",
      "           HS/GED             192\n",
      "           College            188\n",
      "           <9                 149\n",
      "           9-11               111\n",
      "(70, 80]   Some college/AA    217\n",
      "           HS/GED             184\n",
      "           <9                 164\n",
      "           College            156\n",
      "           9-11                88\n",
      "           Don`t know           3\n",
      "Name: DMDEDUC2x, dtype: int64\n"
     ]
    }
   ],
   "source": [
    "groups = data.groupby('age_group')['DMDEDUC2x'].value_counts()\n",
    "print(groups)"
   ],
   "metadata": {
    "collapsed": false,
    "pycharm": {
     "name": "#%%\n"
    }
   }
  },
  {
   "cell_type": "code",
   "source": [
    "dx = data.loc[~data.DMDEDUC2x.isin(['Don`t know', 'Missing']), :]  # Eliminate rare/missing values\n",
    "dx = dx.groupby(['age_group', 'RIAGENDRx'])['DMDEDUC2x']\n",
    "dx = dx.value_counts()\n",
    "print(dx)\n",
    "dx = dx.unstack()\n",
    "print(dx)# Restructure the results from 'long' to 'wide'\n",
    "dx = dx.apply(lambda x: x/x.sum(), axis=1) # Normalize within each stratum to get proportions\n",
    "print(dx)\n",
    "print(dx.to_string(float_format='%.3f'))    # Limit display to 3 decimal places"
   ],
   "metadata": {
    "collapsed": false,
    "pycharm": {
     "name": "#%%\n"
    }
   },
   "execution_count": 68,
   "outputs": [
    {
     "name": "stdout",
     "output_type": "stream",
     "text": [
      "age_group  RIAGENDRx  DMDEDUC2x      \n",
      "(18, 30]   Female     Some college/AA    207\n",
      "                      College            156\n",
      "                      HS/GED             119\n",
      "                      9-11                44\n",
      "                      <9                  27\n",
      "           Male       Some college/AA    157\n",
      "                      College            122\n",
      "                      HS/GED             118\n",
      "                      9-11                55\n",
      "                      <9                  20\n",
      "(30, 40]   Female     Some college/AA    159\n",
      "                      College            149\n",
      "                      HS/GED              78\n",
      "                      <9                  46\n",
      "                      9-11                42\n",
      "           Male       Some college/AA    123\n",
      "                      College            115\n",
      "                      HS/GED             104\n",
      "                      9-11                69\n",
      "                      <9                  47\n",
      "(40, 50]   Female     Some college/AA    157\n",
      "                      College            150\n",
      "                      HS/GED              87\n",
      "                      9-11                55\n",
      "                      <9                  53\n",
      "           Male       College            110\n",
      "                      Some college/AA    105\n",
      "                      HS/GED              84\n",
      "                      9-11                57\n",
      "                      <9                  45\n",
      "(50, 60]   Female     Some college/AA    142\n",
      "                      College            115\n",
      "                      HS/GED             110\n",
      "                      9-11                55\n",
      "                      <9                  48\n",
      "           Male       Some college/AA    116\n",
      "                      HS/GED             110\n",
      "                      College            105\n",
      "                      9-11                67\n",
      "                      <9                  56\n",
      "(60, 70]   Female     Some college/AA    129\n",
      "                      HS/GED              91\n",
      "                      College             86\n",
      "                      <9                  83\n",
      "                      9-11                52\n",
      "           Male       Some college/AA    109\n",
      "                      College            102\n",
      "                      HS/GED             101\n",
      "                      <9                  66\n",
      "                      9-11                59\n",
      "(70, 80]   Female     Some college/AA    115\n",
      "                      HS/GED              98\n",
      "                      <9                  92\n",
      "                      College             61\n",
      "                      9-11                43\n",
      "           Male       Some college/AA    102\n",
      "                      College             95\n",
      "                      HS/GED              86\n",
      "                      <9                  72\n",
      "                      9-11                45\n",
      "Name: DMDEDUC2x, dtype: int64\n",
      "DMDEDUC2x            9-11  <9  College  HS/GED  Some college/AA\n",
      "age_group RIAGENDRx                                            \n",
      "(18, 30]  Female       44  27      156     119              207\n",
      "          Male         55  20      122     118              157\n",
      "(30, 40]  Female       42  46      149      78              159\n",
      "          Male         69  47      115     104              123\n",
      "(40, 50]  Female       55  53      150      87              157\n",
      "          Male         57  45      110      84              105\n",
      "(50, 60]  Female       55  48      115     110              142\n",
      "          Male         67  56      105     110              116\n",
      "(60, 70]  Female       52  83       86      91              129\n",
      "          Male         59  66      102     101              109\n",
      "(70, 80]  Female       43  92       61      98              115\n",
      "          Male         45  72       95      86              102\n",
      "DMDEDUC2x                9-11        <9   College    HS/GED  Some college/AA\n",
      "age_group RIAGENDRx                                                         \n",
      "(18, 30]  Female     0.079566  0.048825  0.282098  0.215190         0.374322\n",
      "          Male       0.116525  0.042373  0.258475  0.250000         0.332627\n",
      "(30, 40]  Female     0.088608  0.097046  0.314346  0.164557         0.335443\n",
      "          Male       0.150655  0.102620  0.251092  0.227074         0.268559\n",
      "(40, 50]  Female     0.109562  0.105578  0.298805  0.173307         0.312749\n",
      "          Male       0.142145  0.112219  0.274314  0.209476         0.261845\n",
      "(50, 60]  Female     0.117021  0.102128  0.244681  0.234043         0.302128\n",
      "          Male       0.147577  0.123348  0.231278  0.242291         0.255507\n",
      "(60, 70]  Female     0.117914  0.188209  0.195011  0.206349         0.292517\n",
      "          Male       0.135011  0.151030  0.233410  0.231121         0.249428\n",
      "(70, 80]  Female     0.105134  0.224939  0.149144  0.239609         0.281174\n",
      "          Male       0.112500  0.180000  0.237500  0.215000         0.255000\n",
      "DMDEDUC2x            9-11    <9  College  HS/GED  Some college/AA\n",
      "age_group RIAGENDRx                                              \n",
      "(18, 30]  Female    0.080 0.049    0.282   0.215            0.374\n",
      "          Male      0.117 0.042    0.258   0.250            0.333\n",
      "(30, 40]  Female    0.089 0.097    0.314   0.165            0.335\n",
      "          Male      0.151 0.103    0.251   0.227            0.269\n",
      "(40, 50]  Female    0.110 0.106    0.299   0.173            0.313\n",
      "          Male      0.142 0.112    0.274   0.209            0.262\n",
      "(50, 60]  Female    0.117 0.102    0.245   0.234            0.302\n",
      "          Male      0.148 0.123    0.231   0.242            0.256\n",
      "(60, 70]  Female    0.118 0.188    0.195   0.206            0.293\n",
      "          Male      0.135 0.151    0.233   0.231            0.249\n",
      "(70, 80]  Female    0.105 0.225    0.149   0.240            0.281\n",
      "          Male      0.113 0.180    0.237   0.215            0.255\n"
     ]
    }
   ]
  }
 ],
 "metadata": {
  "kernelspec": {
   "display_name": "Python 3",
   "language": "python",
   "name": "python3"
  },
  "language_info": {
   "codemirror_mode": {
    "name": "ipython",
    "version": 2
   },
   "file_extension": ".py",
   "mimetype": "text/x-python",
   "name": "python",
   "nbconvert_exporter": "python",
   "pygments_lexer": "ipython2",
   "version": "2.7.6"
  }
 },
 "nbformat": 4,
 "nbformat_minor": 0
}