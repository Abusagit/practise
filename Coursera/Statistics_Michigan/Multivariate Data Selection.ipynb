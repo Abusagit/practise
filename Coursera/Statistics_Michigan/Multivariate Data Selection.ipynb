{
 "cells": [
  {
   "cell_type": "code",
   "execution_count": 55,
   "metadata": {
    "collapsed": true
   },
   "outputs": [],
   "source": [
    "import numpy as np\n",
    "import pandas as pd\n",
    "pd.set_option('display.max_columns', 100)"
   ]
  },
  {
   "cell_type": "code",
   "execution_count": 56,
   "outputs": [],
   "source": [
    "df = pd.read_csv('nhanes_2015_2016.csv').dropna()"
   ],
   "metadata": {
    "collapsed": false,
    "pycharm": {
     "name": "#%%\n"
    }
   }
  },
  {
   "cell_type": "code",
   "execution_count": 57,
   "outputs": [
    {
     "name": "stdout",
     "output_type": "stream",
     "text": [
      "     SEQN  ALQ101  ALQ110  ALQ130  SMQ020  RIAGENDR  RIDAGEYR  RIDRETH1  \\\n",
      "3   83735     2.0     1.0     1.0       2         2        56         3   \n",
      "4   83736     2.0     1.0     1.0       2         2        42         4   \n",
      "13  83754     2.0     1.0     1.0       2         2        67         2   \n",
      "27  83785     2.0     1.0     1.0       1         2        60         2   \n",
      "30  83788     2.0     1.0     1.0       1         2        69         3   \n",
      "\n",
      "    DMDCITZN  DMDEDUC2  DMDMARTL  DMDHHSIZ   WTINT2YR  SDMVPSU  SDMVSTRA  \\\n",
      "3        1.0       5.0       6.0         1  102718.00        1       131   \n",
      "4        1.0       4.0       3.0         5   17627.67        2       126   \n",
      "13       1.0       5.0       1.0         7   10495.87        1       128   \n",
      "27       1.0       5.0       3.0         4   10495.87        1       128   \n",
      "30       1.0       4.0       1.0         3   50114.53        2       120   \n",
      "\n",
      "    INDFMPIR  BPXSY1  BPXDI1  BPXSY2  BPXDI2  BMXWT  BMXHT  BMXBMI  BMXLEG  \\\n",
      "3       5.00   132.0    72.0   134.0    68.0  109.8  160.9    42.4    38.5   \n",
      "4       1.23   100.0    70.0   114.0    54.0   55.2  164.9    20.3    37.4   \n",
      "13      0.89   124.0    76.0   116.0    64.0  117.8  164.1    43.7    34.8   \n",
      "27      5.00   142.0    74.0   136.0    74.0   75.6  145.2    35.9    31.0   \n",
      "30      1.79   146.0    70.0   148.0    72.0   84.0  164.6    31.0    35.0   \n",
      "\n",
      "    BMXARML  BMXARMC  BMXWAIST  HIQ210  \n",
      "3      37.7     38.3     110.1     2.0  \n",
      "4      36.0     27.2      80.4     2.0  \n",
      "13     38.6     42.7     123.0     2.0  \n",
      "27     33.1     36.0     108.0     2.0  \n",
      "30     35.8     33.0     103.0     2.0  \n",
      "\n",
      "Columns are:  Index(['SEQN', 'ALQ101', 'ALQ110', 'ALQ130', 'SMQ020', 'RIAGENDR', 'RIDAGEYR',\n",
      "       'RIDRETH1', 'DMDCITZN', 'DMDEDUC2', 'DMDMARTL', 'DMDHHSIZ', 'WTINT2YR',\n",
      "       'SDMVPSU', 'SDMVSTRA', 'INDFMPIR', 'BPXSY1', 'BPXDI1', 'BPXSY2',\n",
      "       'BPXDI2', 'BMXWT', 'BMXHT', 'BMXBMI', 'BMXLEG', 'BMXARML', 'BMXARMC',\n",
      "       'BMXWAIST', 'HIQ210'],\n",
      "      dtype='object')\n"
     ]
    }
   ],
   "source": [
    "print(df.head(), end='\\n\\n')\n",
    "print('Columns are: ', df.columns)"
   ],
   "metadata": {
    "collapsed": false,
    "pycharm": {
     "name": "#%%\n"
    }
   }
  },
  {
   "cell_type": "code",
   "execution_count": 22,
   "outputs": [
    {
     "name": "stdout",
     "output_type": "stream",
     "text": [
      "['BMXWT', 'BMXHT', 'BMXBMI', 'BMXLEG', 'BMXARML', 'BMXARMC', 'BMXWAIST']\n"
     ]
    }
   ],
   "source": [
    "# One way to get the column names we want to keep is simply by copying from the above output and storing in a list\n",
    "keep = ['BMXWT', 'BMXHT', 'BMXBMI', 'BMXLEG', 'BMXARML', 'BMXARMC', 'BMXWAIST']\n",
    "\n",
    "# or list comprehension:\n",
    "keep = [column for column in df.columns if 'BM' in column]\n",
    "print(keep)"
   ],
   "metadata": {
    "collapsed": false,
    "pycharm": {
     "name": "#%%\n"
    }
   }
  },
  {
   "cell_type": "code",
   "execution_count": 58,
   "outputs": [
    {
     "name": "stdout",
     "output_type": "stream",
     "text": [
      "    BMXWT  BMXHT  BMXBMI  BMXLEG  BMXARML  BMXARMC  BMXWAIST\n",
      "3   109.8  160.9    42.4    38.5     37.7     38.3     110.1\n",
      "4    55.2  164.9    20.3    37.4     36.0     27.2      80.4\n",
      "13  117.8  164.1    43.7    34.8     38.6     42.7     123.0\n",
      "27   75.6  145.2    35.9    31.0     33.1     36.0     108.0\n",
      "30   84.0  164.6    31.0    35.0     35.8     33.0     103.0\n"
     ]
    }
   ],
   "source": [
    "df_BMX = df[keep]\n",
    "print(df_BMX.head())"
   ],
   "metadata": {
    "collapsed": false,
    "pycharm": {
     "name": "#%%\n"
    }
   }
  },
  {
   "cell_type": "code",
   "execution_count": 24,
   "outputs": [
    {
     "name": "stdout",
     "output_type": "stream",
     "text": [
      "    BMXWT  BMXHT  BMXBMI  BMXLEG  BMXARML  BMXARMC  BMXWAIST\n",
      "3   109.8  160.9    42.4    38.5     37.7     38.3     110.1\n",
      "4    55.2  164.9    20.3    37.4     36.0     27.2      80.4\n",
      "13  117.8  164.1    43.7    34.8     38.6     42.7     123.0\n",
      "27   75.6  145.2    35.9    31.0     33.1     36.0     108.0\n",
      "30   84.0  164.6    31.0    35.0     35.8     33.0     103.0\n"
     ]
    }
   ],
   "source": [
    "print(df.loc[:, keep].head())"
   ],
   "metadata": {
    "collapsed": false,
    "pycharm": {
     "name": "#%%\n"
    }
   }
  },
  {
   "cell_type": "code",
   "execution_count": 26,
   "outputs": [
    {
     "name": "stdout",
     "output_type": "stream",
     "text": [
      "[False False False False False False False False False False False False\n",
      " False False False False False False False False  True  True  True  True\n",
      "  True  True  True False]\n"
     ]
    }
   ],
   "source": [
    "index_bool = np.isin(df.columns, keep)\n",
    "print(index_bool)  # list of index booleans whether it is in keep or not"
   ],
   "metadata": {
    "collapsed": false,
    "pycharm": {
     "name": "#%%\n"
    }
   }
  },
  {
   "cell_type": "code",
   "execution_count": 28,
   "outputs": [
    {
     "name": "stdout",
     "output_type": "stream",
     "text": [
      "    BMXWT  BMXHT  BMXBMI  BMXLEG  BMXARML  BMXARMC  BMXWAIST\n",
      "3   109.8  160.9    42.4    38.5     37.7     38.3     110.1\n",
      "4    55.2  164.9    20.3    37.4     36.0     27.2      80.4\n",
      "13  117.8  164.1    43.7    34.8     38.6     42.7     123.0\n"
     ]
    }
   ],
   "source": [
    "print(df.iloc[:, index_bool].head(3))  # unly returns if True"
   ],
   "metadata": {
    "collapsed": false,
    "pycharm": {
     "name": "#%%\n"
    }
   }
  },
  {
   "cell_type": "markdown",
   "source": [
    "There are two methods for selecting by row and column.\n",
    "# link for pandas cheat sheets\n",
    "* df.loc[row labels or bool, col labels or bool]\n",
    "* df.iloc[row int or bool, col int or bool]\n",
    "\n",
    "### [From pandas docs](https://pandas.pydata.org/pandas-docs/stable/indexing.html]):\n",
    "* [ ] column indexing\n",
    "* .loc is primarily label based, but may also be used with a boolean array.\n",
    "* .iloc is primarily integer position based (from 0 to length-1 of the axis), but may also be used with a boolean array."
   ],
   "metadata": {
    "collapsed": false
   }
  },
  {
   "cell_type": "code",
   "execution_count": 29,
   "outputs": [
    {
     "name": "stdout",
     "output_type": "stream",
     "text": [
      "99.8\n"
     ]
    }
   ],
   "source": [
    "# Lets only look at rows who 'BMXWAIST' is larger than the median\n",
    "waist_median = pd.Series.median(df['BMXWAIST'])  # get the median of 'BMXWAIST'\n",
    "print(waist_median)\n"
   ],
   "metadata": {
    "collapsed": false,
    "pycharm": {
     "name": "#%%\n"
    }
   }
  },
  {
   "cell_type": "code",
   "execution_count": 34,
   "outputs": [
    {
     "name": "stdout",
     "output_type": "stream",
     "text": [
      "      SEQN  ALQ101  ALQ110  ALQ130  SMQ020  RIAGENDR  RIDAGEYR  RIDRETH1  \\\n",
      "27   83785     2.0     1.0     1.0       1         2        60         2   \n",
      "849  85203     2.0     1.0     1.0       2         2        71         1   \n",
      "\n",
      "     DMDCITZN  DMDEDUC2  DMDMARTL  DMDHHSIZ  WTINT2YR  SDMVPSU  SDMVSTRA  \\\n",
      "27        1.0       5.0       3.0         4  10495.87        1       128   \n",
      "849       1.0       5.0       1.0         3  14026.93        1       127   \n",
      "\n",
      "     INDFMPIR  BPXSY1  BPXDI1  BPXSY2  BPXDI2  BMXWT  BMXHT  BMXBMI  BMXLEG  \\\n",
      "27       5.00   142.0    74.0   136.0    74.0   75.6  145.2    35.9    31.0   \n",
      "849      1.79   128.0    74.0   126.0    70.0  105.1  157.7    42.3    30.1   \n",
      "\n",
      "     BMXARML  BMXARMC  BMXWAIST  HIQ210  \n",
      "27      33.1     36.0     108.0     2.0  \n",
      "849     38.3     41.3     130.3     2.0  \n"
     ]
    }
   ],
   "source": [
    "condition1 = df['BMXWAIST'] > waist_median\n",
    "condition2 = df['BMXLEG'] < 32\n",
    "print(df[condition1 & condition2].head(2))"
   ],
   "metadata": {
    "collapsed": false,
    "pycharm": {
     "name": "#%%\n"
    }
   }
  },
  {
   "cell_type": "code",
   "execution_count": 38,
   "outputs": [
    {
     "name": "stdout",
     "output_type": "stream",
     "text": [
      "       SEQN  ALQ101  ALQ110  ALQ130  SMQ020  RIAGENDR  RIDAGEYR  RIDRETH1  \\\n",
      "27    83785     2.0     1.0     1.0       1         2        60         2   \n",
      "849   85203     2.0     1.0     1.0       2         2        71         1   \n",
      "1415  86129     2.0     1.0     2.0       1         2        70         1   \n",
      "1670  86557     2.0     1.0     1.0       1         2        52         1   \n",
      "2766  88514     2.0     1.0     1.0       2         2        62         3   \n",
      "\n",
      "      DMDCITZN  DMDEDUC2  DMDMARTL  DMDHHSIZ  WTINT2YR  SDMVPSU  SDMVSTRA  \\\n",
      "27         1.0       5.0       3.0         4  10495.87        1       128   \n",
      "849        1.0       5.0       1.0         3  14026.93        1       127   \n",
      "1415       1.0       4.0       5.0         1  11917.62        2       130   \n",
      "1670       1.0       4.0       3.0         4  18367.49        1       120   \n",
      "2766       1.0       3.0       1.0         2  40692.55        1       130   \n",
      "\n",
      "      INDFMPIR  BPXSY1  BPXDI1  BPXSY2  BPXDI2  BMXWT  BMXHT  BMXBMI  BMXLEG  \\\n",
      "27        5.00   142.0    74.0   136.0    74.0   75.6  145.2    35.9    31.0   \n",
      "849       1.79   128.0    74.0   126.0    70.0  105.1  157.7    42.3    30.1   \n",
      "1415      0.76   108.0    66.0   102.0    72.0   70.0  152.2    30.2    31.2   \n",
      "1670      2.58   128.0    86.0   128.0    86.0   86.6  151.2    37.9    31.2   \n",
      "2766      1.82   136.0    66.0   130.0    62.0  103.6  158.9    41.0    29.9   \n",
      "\n",
      "      BMXARML  BMXARMC  BMXWAIST  HIQ210  \n",
      "27       33.1     36.0     108.0     2.0  \n",
      "849      38.3     41.3     130.3     2.0  \n",
      "1415     36.3     30.1     111.5     2.0  \n",
      "1670     33.6     34.8     120.2     1.0  \n",
      "2766     35.5     36.0     130.9     2.0  \n"
     ]
    }
   ],
   "source": [
    "print(df.loc[condition1 & condition2, :].head())\n"
   ],
   "metadata": {
    "collapsed": false,
    "pycharm": {
     "name": "#%%\n"
    }
   }
  },
  {
   "cell_type": "code",
   "execution_count": 40,
   "outputs": [
    {
     "name": "stdout",
     "output_type": "stream",
     "text": [
      "    SEQN  ALQ101  ALQ110  ALQ130  SMQ020  RIAGENDR  RIDAGEYR  RIDRETH1  \\\n",
      "a  83735     2.0     1.0     1.0       2         2        56         3   \n",
      "b  83736     2.0     1.0     1.0       2         2        42         4   \n",
      "c  83754     2.0     1.0     1.0       2         2        67         2   \n",
      "d  83785     2.0     1.0     1.0       1         2        60         2   \n",
      "e  83788     2.0     1.0     1.0       1         2        69         3   \n",
      "\n",
      "   DMDCITZN  DMDEDUC2  DMDMARTL  DMDHHSIZ   WTINT2YR  SDMVPSU  SDMVSTRA  \\\n",
      "a       1.0       5.0       6.0         1  102718.00        1       131   \n",
      "b       1.0       4.0       3.0         5   17627.67        2       126   \n",
      "c       1.0       5.0       1.0         7   10495.87        1       128   \n",
      "d       1.0       5.0       3.0         4   10495.87        1       128   \n",
      "e       1.0       4.0       1.0         3   50114.53        2       120   \n",
      "\n",
      "   INDFMPIR  BPXSY1  BPXDI1  BPXSY2  BPXDI2  BMXWT  BMXHT  BMXBMI  BMXLEG  \\\n",
      "a      5.00   132.0    72.0   134.0    68.0  109.8  160.9    42.4    38.5   \n",
      "b      1.23   100.0    70.0   114.0    54.0   55.2  164.9    20.3    37.4   \n",
      "c      0.89   124.0    76.0   116.0    64.0  117.8  164.1    43.7    34.8   \n",
      "d      5.00   142.0    74.0   136.0    74.0   75.6  145.2    35.9    31.0   \n",
      "e      1.79   146.0    70.0   148.0    72.0   84.0  164.6    31.0    35.0   \n",
      "\n",
      "   BMXARML  BMXARMC  BMXWAIST  HIQ210  \n",
      "a     37.7     38.3     110.1     2.0  \n",
      "b     36.0     27.2      80.4     2.0  \n",
      "c     38.6     42.7     123.0     2.0  \n",
      "d     33.1     36.0     108.0     2.0  \n",
      "e     35.8     33.0     103.0     2.0  \n"
     ]
    }
   ],
   "source": [
    "# mall dataframe and give it a new index so can more clearly see the differences between .loc and .iloc\n",
    "df_small = df.head(5)\n",
    "df_small.index = ['a', 'b', 'c', 'd', 'e']\n",
    "print(df_small)"
   ],
   "metadata": {
    "collapsed": false,
    "pycharm": {
     "name": "#%%\n"
    }
   }
  },
  {
   "cell_type": "code",
   "execution_count": 61,
   "outputs": [
    {
     "name": "stdout",
     "output_type": "stream",
     "text": [
      "SEQN         83735.0\n",
      "ALQ101           2.0\n",
      "ALQ110           1.0\n",
      "ALQ130           1.0\n",
      "SMQ020           2.0\n",
      "RIAGENDR         2.0\n",
      "RIDAGEYR        56.0\n",
      "RIDRETH1         3.0\n",
      "DMDCITZN         1.0\n",
      "DMDEDUC2         5.0\n",
      "DMDMARTL         6.0\n",
      "DMDHHSIZ         1.0\n",
      "WTINT2YR    102718.0\n",
      "SDMVPSU          1.0\n",
      "SDMVSTRA       131.0\n",
      "INDFMPIR         5.0\n",
      "BPXSY1         132.0\n",
      "BPXDI1          72.0\n",
      "BPXSY2         134.0\n",
      "BPXDI2          68.0\n",
      "BMXWT          109.8\n",
      "BMXHT          160.9\n",
      "BMXBMI           0.0\n",
      "BMXLEG          38.5\n",
      "BMXARML         37.7\n",
      "BMXARMC         38.3\n",
      "BMXWAIST       110.1\n",
      "HIQ210           2.0\n",
      "Name: a, dtype: float64\n",
      "    SEQN  ALQ101  ALQ110  ALQ130  SMQ020  RIAGENDR  RIDAGEYR  RIDRETH1  \\\n",
      "a  83735     2.0     1.0     1.0       2         2        56         3   \n",
      "b  83736     2.0     1.0     1.0       2         2        42         4   \n",
      "\n",
      "   DMDCITZN  DMDEDUC2  DMDMARTL  DMDHHSIZ   WTINT2YR  SDMVPSU  SDMVSTRA  \\\n",
      "a       1.0       5.0       6.0         1  102718.00        1       131   \n",
      "b       1.0       4.0       3.0         5   17627.67        2       126   \n",
      "\n",
      "   INDFMPIR  BPXSY1  BPXDI1  BPXSY2  BPXDI2  BMXWT  BMXHT  BMXBMI  BMXLEG  \\\n",
      "a      5.00   132.0    72.0   134.0    68.0  109.8  160.9     0.0    38.5   \n",
      "b      1.23   100.0    70.0   114.0    54.0   55.2  164.9     1.0    37.4   \n",
      "\n",
      "   BMXARML  BMXARMC  BMXWAIST  HIQ210  \n",
      "a     37.7     38.3     110.1     2.0  \n",
      "b     36.0     27.2      80.4     2.0  \n"
     ]
    }
   ],
   "source": [
    "print(df_small.loc['a', :])\n",
    "\n",
    "print(df_small.loc[['a', 'b'], :])"
   ],
   "metadata": {
    "collapsed": false,
    "pycharm": {
     "name": "#%%\n"
    }
   }
  },
  {
   "cell_type": "code",
   "execution_count": 66,
   "outputs": [
    {
     "name": "stdout",
     "output_type": "stream",
     "text": [
      "[1. 1. 1. 3. 4.]\n",
      "a    1.0\n",
      "b    1.0\n",
      "c    1.0\n",
      "d    3.0\n",
      "e    4.0\n",
      "Name: BMXBMI, dtype: float64\n"
     ]
    }
   ],
   "source": [
    "print(df_small.loc[:, 'BMXBMI'].values)\n",
    "df_small.loc['a':'c','BMXBMI'] = [1]*3\n",
    "print(df_small.loc[:,'BMXBMI'])"
   ],
   "metadata": {
    "collapsed": false,
    "pycharm": {
     "name": "#%%\n"
    }
   }
  },
  {
   "cell_type": "code",
   "execution_count": 47,
   "outputs": [
    {
     "name": "stdout",
     "output_type": "stream",
     "text": [
      "a    42.4\n",
      "b    20.3\n",
      "c    43.7\n",
      "d    35.9\n",
      "e    31.0\n",
      "Name: BMXBMI, dtype: float64\n"
     ]
    }
   ],
   "source": [
    "print(df_small.iloc[:, 22])"
   ],
   "metadata": {
    "collapsed": false,
    "pycharm": {
     "name": "#%%\n"
    }
   }
  },
  {
   "cell_type": "code",
   "execution_count": 53,
   "outputs": [
    {
     "name": "stdout",
     "output_type": "stream",
     "text": [
      "(259, 28)\n",
      "a    0.0\n",
      "b    1.0\n",
      "c    2.0\n",
      "d    3.0\n",
      "e    4.0\n",
      "Name: BMXBMI, dtype: float64\n"
     ]
    }
   ],
   "source": [
    "df.iloc[0:5, 22] = range(5)\n",
    "print(df_small.BMXBMI)"
   ],
   "metadata": {
    "collapsed": false,
    "pycharm": {
     "name": "#%%\n"
    }
   }
  },
  {
   "cell_type": "code",
   "execution_count": 54,
   "outputs": [
    {
     "name": "stdout",
     "output_type": "stream",
     "text": [
      "a    0.0\n",
      "b    1.0\n",
      "c    2.0\n",
      "d    3.0\n",
      "e    4.0\n",
      "Name: BMXBMI, dtype: float64\n"
     ]
    }
   ],
   "source": [
    "df['BMXBMI'] = range(df.shape[0])\n",
    "print(df_small.BMXBMI)"
   ],
   "metadata": {
    "collapsed": false,
    "pycharm": {
     "name": "#%%\n"
    }
   }
  }
 ],
 "metadata": {
  "kernelspec": {
   "display_name": "Python 3",
   "language": "python",
   "name": "python3"
  },
  "language_info": {
   "codemirror_mode": {
    "name": "ipython",
    "version": 2
   },
   "file_extension": ".py",
   "mimetype": "text/x-python",
   "name": "python",
   "nbconvert_exporter": "python",
   "pygments_lexer": "ipython2",
   "version": "2.7.6"
  }
 },
 "nbformat": 4,
 "nbformat_minor": 0
}