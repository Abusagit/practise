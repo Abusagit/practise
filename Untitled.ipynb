{
 "cells": [
  {
   "cell_type": "code",
   "execution_count": 12,
   "id": "d9a86f2c",
   "metadata": {},
   "outputs": [],
   "source": [
    "import plotly.express as px\n",
    "import plotly as plt\n",
    "import pandas as pd\n",
    "import numpy as np\n",
    "from plotly.subplots import make_subplots"
   ]
  },
  {
   "cell_type": "code",
   "execution_count": 13,
   "id": "d037b03c",
   "metadata": {},
   "outputs": [],
   "source": [
    "df = pd.read_csv('vesic.csv', sep='\\t')\n",
    "\n",
    "mapping = {0: 'Здоровые доноры', 1: 'Ишемический инсульт', 2: 'СД', 3: 'ХНМК'}\n",
    "df.replace({'Groups': mapping}, inplace=True)\n",
    "df.sort_values(by='Groups', inplace=True)\n"
   ]
  },
  {
   "cell_type": "code",
   "execution_count": 14,
   "id": "398ae420",
   "metadata": {},
   "outputs": [
    {
     "data": {
      "text/plain": [
       "{0: 'Groups',\n",
       " 1: 'CD146 Events/?L(V)',\n",
       " 2: 'CD146 Events/?L(V) w/ dilution',\n",
       " 3: 'CD31+ Events/?L(V)',\n",
       " 4: 'CD31+ Events/?L(V) w/ dilution',\n",
       " 5: 'CD133 Events/?L(V)',\n",
       " 6: 'CD133 Events/?L(V) w/ dilution',\n",
       " 7: 'CD144+ Events/?L(V)',\n",
       " 8: 'CD144+ Events/?L(V) w/ dilution',\n",
       " 9: 'CD34 Events/?L(V)',\n",
       " 10: 'CD34 Events/?L(V) w/ dilution'}"
      ]
     },
     "execution_count": 14,
     "metadata": {},
     "output_type": "execute_result"
    }
   ],
   "source": [
    "cols = {index: col for index, col in enumerate(df.columns)}\n",
    "cols"
   ]
  },
  {
   "cell_type": "code",
   "execution_count": 17,
   "id": "487cf3d1",
   "metadata": {},
   "outputs": [
    {
     "data": {
      "application/vnd.plotly.v1+json": {
       "config": {
        "plotlyServerURL": "https://plot.ly"
       },
       "data": [
        {
         "alignmentgroup": "True",
         "hovertemplate": "Группы=%{x}<br>Концентрация (события\\мкл)=%{y}<extra></extra>",
         "legendgroup": "Здоровые доноры",
         "marker": {
          "color": "#636efa"
         },
         "name": "Здоровые доноры",
         "notched": false,
         "offsetgroup": "Здоровые доноры",
         "orientation": "v",
         "showlegend": true,
         "type": "box",
         "x": [
          "Здоровые доноры",
          "Здоровые доноры",
          "Здоровые доноры",
          "Здоровые доноры",
          "Здоровые доноры",
          "Здоровые доноры",
          "Здоровые доноры",
          "Здоровые доноры"
         ],
         "x0": " ",
         "xaxis": "x",
         "y": [
          64.8,
          73.3,
          33.1,
          25.5,
          26.8,
          76,
          17.8,
          11.9
         ],
         "y0": " ",
         "yaxis": "y"
        },
        {
         "alignmentgroup": "True",
         "hovertemplate": "Группы=%{x}<br>Концентрация (события\\мкл)=%{y}<extra></extra>",
         "legendgroup": "Ишемический инсульт",
         "marker": {
          "color": "#EF553B"
         },
         "name": "Ишемический инсульт",
         "notched": false,
         "offsetgroup": "Ишемический инсульт",
         "orientation": "v",
         "showlegend": true,
         "type": "box",
         "x": [
          "Ишемический инсульт",
          "Ишемический инсульт",
          "Ишемический инсульт",
          "Ишемический инсульт",
          "Ишемический инсульт",
          "Ишемический инсульт"
         ],
         "x0": " ",
         "xaxis": "x",
         "y": [
          43,
          18.5,
          29.5,
          53.8,
          13.3,
          46.9
         ],
         "y0": " ",
         "yaxis": "y"
        },
        {
         "alignmentgroup": "True",
         "hovertemplate": "Группы=%{x}<br>Концентрация (события\\мкл)=%{y}<extra></extra>",
         "legendgroup": "СД",
         "marker": {
          "color": "#00cc96"
         },
         "name": "СД",
         "notched": false,
         "offsetgroup": "СД",
         "orientation": "v",
         "showlegend": true,
         "type": "box",
         "x": [
          "СД",
          "СД",
          "СД",
          "СД",
          "СД",
          "СД",
          "СД",
          "СД",
          "СД",
          "СД",
          "СД"
         ],
         "x0": " ",
         "xaxis": "x",
         "y": [
          5.6,
          13.3,
          14.6,
          6.2,
          8.4,
          3.4,
          9.4,
          15.3,
          7.9,
          46.2,
          5.5
         ],
         "y0": " ",
         "yaxis": "y"
        },
        {
         "alignmentgroup": "True",
         "hovertemplate": "Группы=%{x}<br>Концентрация (события\\мкл)=%{y}<extra></extra>",
         "legendgroup": "ХНМК",
         "marker": {
          "color": "#ab63fa"
         },
         "name": "ХНМК",
         "notched": false,
         "offsetgroup": "ХНМК",
         "orientation": "v",
         "showlegend": true,
         "type": "box",
         "x": [
          "ХНМК",
          "ХНМК",
          "ХНМК",
          "ХНМК",
          "ХНМК",
          "ХНМК",
          "ХНМК",
          "ХНМК",
          "ХНМК",
          "ХНМК",
          "ХНМК",
          "ХНМК",
          "ХНМК",
          "ХНМК",
          "ХНМК",
          "ХНМК",
          "ХНМК",
          "ХНМК",
          "ХНМК",
          "ХНМК",
          "ХНМК",
          "ХНМК",
          "ХНМК",
          "ХНМК",
          "ХНМК",
          "ХНМК",
          "ХНМК",
          "ХНМК",
          "ХНМК",
          "ХНМК",
          "ХНМК",
          "ХНМК",
          "ХНМК"
         ],
         "x0": " ",
         "xaxis": "x",
         "y": [
          25,
          5.8,
          2.7,
          43.6,
          6.3,
          13.4,
          35.3,
          8.1,
          5.4,
          null,
          27.9,
          5.2,
          null,
          16.4,
          23.9,
          14.4,
          4.4,
          11.5,
          6.5,
          36.5,
          25.5,
          2.8,
          7.2,
          43.3,
          26.9,
          17.8,
          22,
          5.3,
          13.7,
          2.9,
          20.5,
          97.1,
          30.1
         ],
         "y0": " ",
         "yaxis": "y"
        }
       ],
       "layout": {
        "boxmode": "overlay",
        "legend": {
         "title": {
          "text": "Группы"
         },
         "tracegroupgap": 0
        },
        "margin": {
         "t": 60
        },
        "template": {
         "data": {
          "bar": [
           {
            "error_x": {
             "color": "#2a3f5f"
            },
            "error_y": {
             "color": "#2a3f5f"
            },
            "marker": {
             "line": {
              "color": "#E5ECF6",
              "width": 0.5
             }
            },
            "type": "bar"
           }
          ],
          "barpolar": [
           {
            "marker": {
             "line": {
              "color": "#E5ECF6",
              "width": 0.5
             }
            },
            "type": "barpolar"
           }
          ],
          "carpet": [
           {
            "aaxis": {
             "endlinecolor": "#2a3f5f",
             "gridcolor": "white",
             "linecolor": "white",
             "minorgridcolor": "white",
             "startlinecolor": "#2a3f5f"
            },
            "baxis": {
             "endlinecolor": "#2a3f5f",
             "gridcolor": "white",
             "linecolor": "white",
             "minorgridcolor": "white",
             "startlinecolor": "#2a3f5f"
            },
            "type": "carpet"
           }
          ],
          "choropleth": [
           {
            "colorbar": {
             "outlinewidth": 0,
             "ticks": ""
            },
            "type": "choropleth"
           }
          ],
          "contour": [
           {
            "colorbar": {
             "outlinewidth": 0,
             "ticks": ""
            },
            "colorscale": [
             [
              0,
              "#0d0887"
             ],
             [
              0.1111111111111111,
              "#46039f"
             ],
             [
              0.2222222222222222,
              "#7201a8"
             ],
             [
              0.3333333333333333,
              "#9c179e"
             ],
             [
              0.4444444444444444,
              "#bd3786"
             ],
             [
              0.5555555555555556,
              "#d8576b"
             ],
             [
              0.6666666666666666,
              "#ed7953"
             ],
             [
              0.7777777777777778,
              "#fb9f3a"
             ],
             [
              0.8888888888888888,
              "#fdca26"
             ],
             [
              1,
              "#f0f921"
             ]
            ],
            "type": "contour"
           }
          ],
          "contourcarpet": [
           {
            "colorbar": {
             "outlinewidth": 0,
             "ticks": ""
            },
            "type": "contourcarpet"
           }
          ],
          "heatmap": [
           {
            "colorbar": {
             "outlinewidth": 0,
             "ticks": ""
            },
            "colorscale": [
             [
              0,
              "#0d0887"
             ],
             [
              0.1111111111111111,
              "#46039f"
             ],
             [
              0.2222222222222222,
              "#7201a8"
             ],
             [
              0.3333333333333333,
              "#9c179e"
             ],
             [
              0.4444444444444444,
              "#bd3786"
             ],
             [
              0.5555555555555556,
              "#d8576b"
             ],
             [
              0.6666666666666666,
              "#ed7953"
             ],
             [
              0.7777777777777778,
              "#fb9f3a"
             ],
             [
              0.8888888888888888,
              "#fdca26"
             ],
             [
              1,
              "#f0f921"
             ]
            ],
            "type": "heatmap"
           }
          ],
          "heatmapgl": [
           {
            "colorbar": {
             "outlinewidth": 0,
             "ticks": ""
            },
            "colorscale": [
             [
              0,
              "#0d0887"
             ],
             [
              0.1111111111111111,
              "#46039f"
             ],
             [
              0.2222222222222222,
              "#7201a8"
             ],
             [
              0.3333333333333333,
              "#9c179e"
             ],
             [
              0.4444444444444444,
              "#bd3786"
             ],
             [
              0.5555555555555556,
              "#d8576b"
             ],
             [
              0.6666666666666666,
              "#ed7953"
             ],
             [
              0.7777777777777778,
              "#fb9f3a"
             ],
             [
              0.8888888888888888,
              "#fdca26"
             ],
             [
              1,
              "#f0f921"
             ]
            ],
            "type": "heatmapgl"
           }
          ],
          "histogram": [
           {
            "marker": {
             "colorbar": {
              "outlinewidth": 0,
              "ticks": ""
             }
            },
            "type": "histogram"
           }
          ],
          "histogram2d": [
           {
            "colorbar": {
             "outlinewidth": 0,
             "ticks": ""
            },
            "colorscale": [
             [
              0,
              "#0d0887"
             ],
             [
              0.1111111111111111,
              "#46039f"
             ],
             [
              0.2222222222222222,
              "#7201a8"
             ],
             [
              0.3333333333333333,
              "#9c179e"
             ],
             [
              0.4444444444444444,
              "#bd3786"
             ],
             [
              0.5555555555555556,
              "#d8576b"
             ],
             [
              0.6666666666666666,
              "#ed7953"
             ],
             [
              0.7777777777777778,
              "#fb9f3a"
             ],
             [
              0.8888888888888888,
              "#fdca26"
             ],
             [
              1,
              "#f0f921"
             ]
            ],
            "type": "histogram2d"
           }
          ],
          "histogram2dcontour": [
           {
            "colorbar": {
             "outlinewidth": 0,
             "ticks": ""
            },
            "colorscale": [
             [
              0,
              "#0d0887"
             ],
             [
              0.1111111111111111,
              "#46039f"
             ],
             [
              0.2222222222222222,
              "#7201a8"
             ],
             [
              0.3333333333333333,
              "#9c179e"
             ],
             [
              0.4444444444444444,
              "#bd3786"
             ],
             [
              0.5555555555555556,
              "#d8576b"
             ],
             [
              0.6666666666666666,
              "#ed7953"
             ],
             [
              0.7777777777777778,
              "#fb9f3a"
             ],
             [
              0.8888888888888888,
              "#fdca26"
             ],
             [
              1,
              "#f0f921"
             ]
            ],
            "type": "histogram2dcontour"
           }
          ],
          "mesh3d": [
           {
            "colorbar": {
             "outlinewidth": 0,
             "ticks": ""
            },
            "type": "mesh3d"
           }
          ],
          "parcoords": [
           {
            "line": {
             "colorbar": {
              "outlinewidth": 0,
              "ticks": ""
             }
            },
            "type": "parcoords"
           }
          ],
          "pie": [
           {
            "automargin": true,
            "type": "pie"
           }
          ],
          "scatter": [
           {
            "marker": {
             "colorbar": {
              "outlinewidth": 0,
              "ticks": ""
             }
            },
            "type": "scatter"
           }
          ],
          "scatter3d": [
           {
            "line": {
             "colorbar": {
              "outlinewidth": 0,
              "ticks": ""
             }
            },
            "marker": {
             "colorbar": {
              "outlinewidth": 0,
              "ticks": ""
             }
            },
            "type": "scatter3d"
           }
          ],
          "scattercarpet": [
           {
            "marker": {
             "colorbar": {
              "outlinewidth": 0,
              "ticks": ""
             }
            },
            "type": "scattercarpet"
           }
          ],
          "scattergeo": [
           {
            "marker": {
             "colorbar": {
              "outlinewidth": 0,
              "ticks": ""
             }
            },
            "type": "scattergeo"
           }
          ],
          "scattergl": [
           {
            "marker": {
             "colorbar": {
              "outlinewidth": 0,
              "ticks": ""
             }
            },
            "type": "scattergl"
           }
          ],
          "scattermapbox": [
           {
            "marker": {
             "colorbar": {
              "outlinewidth": 0,
              "ticks": ""
             }
            },
            "type": "scattermapbox"
           }
          ],
          "scatterpolar": [
           {
            "marker": {
             "colorbar": {
              "outlinewidth": 0,
              "ticks": ""
             }
            },
            "type": "scatterpolar"
           }
          ],
          "scatterpolargl": [
           {
            "marker": {
             "colorbar": {
              "outlinewidth": 0,
              "ticks": ""
             }
            },
            "type": "scatterpolargl"
           }
          ],
          "scatterternary": [
           {
            "marker": {
             "colorbar": {
              "outlinewidth": 0,
              "ticks": ""
             }
            },
            "type": "scatterternary"
           }
          ],
          "surface": [
           {
            "colorbar": {
             "outlinewidth": 0,
             "ticks": ""
            },
            "colorscale": [
             [
              0,
              "#0d0887"
             ],
             [
              0.1111111111111111,
              "#46039f"
             ],
             [
              0.2222222222222222,
              "#7201a8"
             ],
             [
              0.3333333333333333,
              "#9c179e"
             ],
             [
              0.4444444444444444,
              "#bd3786"
             ],
             [
              0.5555555555555556,
              "#d8576b"
             ],
             [
              0.6666666666666666,
              "#ed7953"
             ],
             [
              0.7777777777777778,
              "#fb9f3a"
             ],
             [
              0.8888888888888888,
              "#fdca26"
             ],
             [
              1,
              "#f0f921"
             ]
            ],
            "type": "surface"
           }
          ],
          "table": [
           {
            "cells": {
             "fill": {
              "color": "#EBF0F8"
             },
             "line": {
              "color": "white"
             }
            },
            "header": {
             "fill": {
              "color": "#C8D4E3"
             },
             "line": {
              "color": "white"
             }
            },
            "type": "table"
           }
          ]
         },
         "layout": {
          "annotationdefaults": {
           "arrowcolor": "#2a3f5f",
           "arrowhead": 0,
           "arrowwidth": 1
          },
          "autotypenumbers": "strict",
          "coloraxis": {
           "colorbar": {
            "outlinewidth": 0,
            "ticks": ""
           }
          },
          "colorscale": {
           "diverging": [
            [
             0,
             "#8e0152"
            ],
            [
             0.1,
             "#c51b7d"
            ],
            [
             0.2,
             "#de77ae"
            ],
            [
             0.3,
             "#f1b6da"
            ],
            [
             0.4,
             "#fde0ef"
            ],
            [
             0.5,
             "#f7f7f7"
            ],
            [
             0.6,
             "#e6f5d0"
            ],
            [
             0.7,
             "#b8e186"
            ],
            [
             0.8,
             "#7fbc41"
            ],
            [
             0.9,
             "#4d9221"
            ],
            [
             1,
             "#276419"
            ]
           ],
           "sequential": [
            [
             0,
             "#0d0887"
            ],
            [
             0.1111111111111111,
             "#46039f"
            ],
            [
             0.2222222222222222,
             "#7201a8"
            ],
            [
             0.3333333333333333,
             "#9c179e"
            ],
            [
             0.4444444444444444,
             "#bd3786"
            ],
            [
             0.5555555555555556,
             "#d8576b"
            ],
            [
             0.6666666666666666,
             "#ed7953"
            ],
            [
             0.7777777777777778,
             "#fb9f3a"
            ],
            [
             0.8888888888888888,
             "#fdca26"
            ],
            [
             1,
             "#f0f921"
            ]
           ],
           "sequentialminus": [
            [
             0,
             "#0d0887"
            ],
            [
             0.1111111111111111,
             "#46039f"
            ],
            [
             0.2222222222222222,
             "#7201a8"
            ],
            [
             0.3333333333333333,
             "#9c179e"
            ],
            [
             0.4444444444444444,
             "#bd3786"
            ],
            [
             0.5555555555555556,
             "#d8576b"
            ],
            [
             0.6666666666666666,
             "#ed7953"
            ],
            [
             0.7777777777777778,
             "#fb9f3a"
            ],
            [
             0.8888888888888888,
             "#fdca26"
            ],
            [
             1,
             "#f0f921"
            ]
           ]
          },
          "colorway": [
           "#636efa",
           "#EF553B",
           "#00cc96",
           "#ab63fa",
           "#FFA15A",
           "#19d3f3",
           "#FF6692",
           "#B6E880",
           "#FF97FF",
           "#FECB52"
          ],
          "font": {
           "color": "#2a3f5f"
          },
          "geo": {
           "bgcolor": "white",
           "lakecolor": "white",
           "landcolor": "#E5ECF6",
           "showlakes": true,
           "showland": true,
           "subunitcolor": "white"
          },
          "hoverlabel": {
           "align": "left"
          },
          "hovermode": "closest",
          "mapbox": {
           "style": "light"
          },
          "paper_bgcolor": "white",
          "plot_bgcolor": "#E5ECF6",
          "polar": {
           "angularaxis": {
            "gridcolor": "white",
            "linecolor": "white",
            "ticks": ""
           },
           "bgcolor": "#E5ECF6",
           "radialaxis": {
            "gridcolor": "white",
            "linecolor": "white",
            "ticks": ""
           }
          },
          "scene": {
           "xaxis": {
            "backgroundcolor": "#E5ECF6",
            "gridcolor": "white",
            "gridwidth": 2,
            "linecolor": "white",
            "showbackground": true,
            "ticks": "",
            "zerolinecolor": "white"
           },
           "yaxis": {
            "backgroundcolor": "#E5ECF6",
            "gridcolor": "white",
            "gridwidth": 2,
            "linecolor": "white",
            "showbackground": true,
            "ticks": "",
            "zerolinecolor": "white"
           },
           "zaxis": {
            "backgroundcolor": "#E5ECF6",
            "gridcolor": "white",
            "gridwidth": 2,
            "linecolor": "white",
            "showbackground": true,
            "ticks": "",
            "zerolinecolor": "white"
           }
          },
          "shapedefaults": {
           "line": {
            "color": "#2a3f5f"
           }
          },
          "ternary": {
           "aaxis": {
            "gridcolor": "white",
            "linecolor": "white",
            "ticks": ""
           },
           "baxis": {
            "gridcolor": "white",
            "linecolor": "white",
            "ticks": ""
           },
           "bgcolor": "#E5ECF6",
           "caxis": {
            "gridcolor": "white",
            "linecolor": "white",
            "ticks": ""
           }
          },
          "title": {
           "x": 0.05
          },
          "xaxis": {
           "automargin": true,
           "gridcolor": "white",
           "linecolor": "white",
           "ticks": "",
           "title": {
            "standoff": 15
           },
           "zerolinecolor": "white",
           "zerolinewidth": 2
          },
          "yaxis": {
           "automargin": true,
           "gridcolor": "white",
           "linecolor": "white",
           "ticks": "",
           "title": {
            "standoff": 15
           },
           "zerolinecolor": "white",
           "zerolinewidth": 2
          }
         }
        },
        "xaxis": {
         "anchor": "y",
         "categoryarray": [
          "Здоровые доноры",
          "Ишемический инсульт",
          "СД",
          "ХНМК"
         ],
         "categoryorder": "array",
         "domain": [
          0,
          1
         ],
         "title": {
          "text": "Группы"
         }
        },
        "yaxis": {
         "anchor": "x",
         "domain": [
          0,
          1
         ],
         "title": {
          "text": "Концентрация (события\\мкл)"
         }
        }
       }
      },
      "text/html": [
       "<div>                            <div id=\"0533b36e-f9f9-47a1-a235-3f3cdeb4c6c5\" class=\"plotly-graph-div\" style=\"height:525px; width:100%;\"></div>            <script type=\"text/javascript\">                require([\"plotly\"], function(Plotly) {                    window.PLOTLYENV=window.PLOTLYENV || {};                                    if (document.getElementById(\"0533b36e-f9f9-47a1-a235-3f3cdeb4c6c5\")) {                    Plotly.newPlot(                        \"0533b36e-f9f9-47a1-a235-3f3cdeb4c6c5\",                        [{\"alignmentgroup\": \"True\", \"hovertemplate\": \"\\u0413\\u0440\\u0443\\u043f\\u043f\\u044b=%{x}<br>\\u041a\\u043e\\u043d\\u0446\\u0435\\u043d\\u0442\\u0440\\u0430\\u0446\\u0438\\u044f (\\u0441\\u043e\\u0431\\u044b\\u0442\\u0438\\u044f\\\\\\u043c\\u043a\\u043b)=%{y}<extra></extra>\", \"legendgroup\": \"\\u0417\\u0434\\u043e\\u0440\\u043e\\u0432\\u044b\\u0435 \\u0434\\u043e\\u043d\\u043e\\u0440\\u044b\", \"marker\": {\"color\": \"#636efa\"}, \"name\": \"\\u0417\\u0434\\u043e\\u0440\\u043e\\u0432\\u044b\\u0435 \\u0434\\u043e\\u043d\\u043e\\u0440\\u044b\", \"notched\": false, \"offsetgroup\": \"\\u0417\\u0434\\u043e\\u0440\\u043e\\u0432\\u044b\\u0435 \\u0434\\u043e\\u043d\\u043e\\u0440\\u044b\", \"orientation\": \"v\", \"showlegend\": true, \"type\": \"box\", \"x\": [\"\\u0417\\u0434\\u043e\\u0440\\u043e\\u0432\\u044b\\u0435 \\u0434\\u043e\\u043d\\u043e\\u0440\\u044b\", \"\\u0417\\u0434\\u043e\\u0440\\u043e\\u0432\\u044b\\u0435 \\u0434\\u043e\\u043d\\u043e\\u0440\\u044b\", \"\\u0417\\u0434\\u043e\\u0440\\u043e\\u0432\\u044b\\u0435 \\u0434\\u043e\\u043d\\u043e\\u0440\\u044b\", \"\\u0417\\u0434\\u043e\\u0440\\u043e\\u0432\\u044b\\u0435 \\u0434\\u043e\\u043d\\u043e\\u0440\\u044b\", \"\\u0417\\u0434\\u043e\\u0440\\u043e\\u0432\\u044b\\u0435 \\u0434\\u043e\\u043d\\u043e\\u0440\\u044b\", \"\\u0417\\u0434\\u043e\\u0440\\u043e\\u0432\\u044b\\u0435 \\u0434\\u043e\\u043d\\u043e\\u0440\\u044b\", \"\\u0417\\u0434\\u043e\\u0440\\u043e\\u0432\\u044b\\u0435 \\u0434\\u043e\\u043d\\u043e\\u0440\\u044b\", \"\\u0417\\u0434\\u043e\\u0440\\u043e\\u0432\\u044b\\u0435 \\u0434\\u043e\\u043d\\u043e\\u0440\\u044b\"], \"x0\": \" \", \"xaxis\": \"x\", \"y\": [64.8, 73.3, 33.1, 25.5, 26.8, 76.0, 17.8, 11.9], \"y0\": \" \", \"yaxis\": \"y\"}, {\"alignmentgroup\": \"True\", \"hovertemplate\": \"\\u0413\\u0440\\u0443\\u043f\\u043f\\u044b=%{x}<br>\\u041a\\u043e\\u043d\\u0446\\u0435\\u043d\\u0442\\u0440\\u0430\\u0446\\u0438\\u044f (\\u0441\\u043e\\u0431\\u044b\\u0442\\u0438\\u044f\\\\\\u043c\\u043a\\u043b)=%{y}<extra></extra>\", \"legendgroup\": \"\\u0418\\u0448\\u0435\\u043c\\u0438\\u0447\\u0435\\u0441\\u043a\\u0438\\u0439 \\u0438\\u043d\\u0441\\u0443\\u043b\\u044c\\u0442\", \"marker\": {\"color\": \"#EF553B\"}, \"name\": \"\\u0418\\u0448\\u0435\\u043c\\u0438\\u0447\\u0435\\u0441\\u043a\\u0438\\u0439 \\u0438\\u043d\\u0441\\u0443\\u043b\\u044c\\u0442\", \"notched\": false, \"offsetgroup\": \"\\u0418\\u0448\\u0435\\u043c\\u0438\\u0447\\u0435\\u0441\\u043a\\u0438\\u0439 \\u0438\\u043d\\u0441\\u0443\\u043b\\u044c\\u0442\", \"orientation\": \"v\", \"showlegend\": true, \"type\": \"box\", \"x\": [\"\\u0418\\u0448\\u0435\\u043c\\u0438\\u0447\\u0435\\u0441\\u043a\\u0438\\u0439 \\u0438\\u043d\\u0441\\u0443\\u043b\\u044c\\u0442\", \"\\u0418\\u0448\\u0435\\u043c\\u0438\\u0447\\u0435\\u0441\\u043a\\u0438\\u0439 \\u0438\\u043d\\u0441\\u0443\\u043b\\u044c\\u0442\", \"\\u0418\\u0448\\u0435\\u043c\\u0438\\u0447\\u0435\\u0441\\u043a\\u0438\\u0439 \\u0438\\u043d\\u0441\\u0443\\u043b\\u044c\\u0442\", \"\\u0418\\u0448\\u0435\\u043c\\u0438\\u0447\\u0435\\u0441\\u043a\\u0438\\u0439 \\u0438\\u043d\\u0441\\u0443\\u043b\\u044c\\u0442\", \"\\u0418\\u0448\\u0435\\u043c\\u0438\\u0447\\u0435\\u0441\\u043a\\u0438\\u0439 \\u0438\\u043d\\u0441\\u0443\\u043b\\u044c\\u0442\", \"\\u0418\\u0448\\u0435\\u043c\\u0438\\u0447\\u0435\\u0441\\u043a\\u0438\\u0439 \\u0438\\u043d\\u0441\\u0443\\u043b\\u044c\\u0442\"], \"x0\": \" \", \"xaxis\": \"x\", \"y\": [43.0, 18.5, 29.5, 53.8, 13.3, 46.9], \"y0\": \" \", \"yaxis\": \"y\"}, {\"alignmentgroup\": \"True\", \"hovertemplate\": \"\\u0413\\u0440\\u0443\\u043f\\u043f\\u044b=%{x}<br>\\u041a\\u043e\\u043d\\u0446\\u0435\\u043d\\u0442\\u0440\\u0430\\u0446\\u0438\\u044f (\\u0441\\u043e\\u0431\\u044b\\u0442\\u0438\\u044f\\\\\\u043c\\u043a\\u043b)=%{y}<extra></extra>\", \"legendgroup\": \"\\u0421\\u0414\", \"marker\": {\"color\": \"#00cc96\"}, \"name\": \"\\u0421\\u0414\", \"notched\": false, \"offsetgroup\": \"\\u0421\\u0414\", \"orientation\": \"v\", \"showlegend\": true, \"type\": \"box\", \"x\": [\"\\u0421\\u0414\", \"\\u0421\\u0414\", \"\\u0421\\u0414\", \"\\u0421\\u0414\", \"\\u0421\\u0414\", \"\\u0421\\u0414\", \"\\u0421\\u0414\", \"\\u0421\\u0414\", \"\\u0421\\u0414\", \"\\u0421\\u0414\", \"\\u0421\\u0414\"], \"x0\": \" \", \"xaxis\": \"x\", \"y\": [5.6, 13.3, 14.6, 6.2, 8.4, 3.4, 9.4, 15.3, 7.9, 46.2, 5.5], \"y0\": \" \", \"yaxis\": \"y\"}, {\"alignmentgroup\": \"True\", \"hovertemplate\": \"\\u0413\\u0440\\u0443\\u043f\\u043f\\u044b=%{x}<br>\\u041a\\u043e\\u043d\\u0446\\u0435\\u043d\\u0442\\u0440\\u0430\\u0446\\u0438\\u044f (\\u0441\\u043e\\u0431\\u044b\\u0442\\u0438\\u044f\\\\\\u043c\\u043a\\u043b)=%{y}<extra></extra>\", \"legendgroup\": \"\\u0425\\u041d\\u041c\\u041a\", \"marker\": {\"color\": \"#ab63fa\"}, \"name\": \"\\u0425\\u041d\\u041c\\u041a\", \"notched\": false, \"offsetgroup\": \"\\u0425\\u041d\\u041c\\u041a\", \"orientation\": \"v\", \"showlegend\": true, \"type\": \"box\", \"x\": [\"\\u0425\\u041d\\u041c\\u041a\", \"\\u0425\\u041d\\u041c\\u041a\", \"\\u0425\\u041d\\u041c\\u041a\", \"\\u0425\\u041d\\u041c\\u041a\", \"\\u0425\\u041d\\u041c\\u041a\", \"\\u0425\\u041d\\u041c\\u041a\", \"\\u0425\\u041d\\u041c\\u041a\", \"\\u0425\\u041d\\u041c\\u041a\", \"\\u0425\\u041d\\u041c\\u041a\", \"\\u0425\\u041d\\u041c\\u041a\", \"\\u0425\\u041d\\u041c\\u041a\", \"\\u0425\\u041d\\u041c\\u041a\", \"\\u0425\\u041d\\u041c\\u041a\", \"\\u0425\\u041d\\u041c\\u041a\", \"\\u0425\\u041d\\u041c\\u041a\", \"\\u0425\\u041d\\u041c\\u041a\", \"\\u0425\\u041d\\u041c\\u041a\", \"\\u0425\\u041d\\u041c\\u041a\", \"\\u0425\\u041d\\u041c\\u041a\", \"\\u0425\\u041d\\u041c\\u041a\", \"\\u0425\\u041d\\u041c\\u041a\", \"\\u0425\\u041d\\u041c\\u041a\", \"\\u0425\\u041d\\u041c\\u041a\", \"\\u0425\\u041d\\u041c\\u041a\", \"\\u0425\\u041d\\u041c\\u041a\", \"\\u0425\\u041d\\u041c\\u041a\", \"\\u0425\\u041d\\u041c\\u041a\", \"\\u0425\\u041d\\u041c\\u041a\", \"\\u0425\\u041d\\u041c\\u041a\", \"\\u0425\\u041d\\u041c\\u041a\", \"\\u0425\\u041d\\u041c\\u041a\", \"\\u0425\\u041d\\u041c\\u041a\", \"\\u0425\\u041d\\u041c\\u041a\"], \"x0\": \" \", \"xaxis\": \"x\", \"y\": [25.0, 5.8, 2.7, 43.6, 6.3, 13.4, 35.3, 8.1, 5.4, null, 27.9, 5.2, null, 16.4, 23.9, 14.4, 4.4, 11.5, 6.5, 36.5, 25.5, 2.8, 7.2, 43.3, 26.9, 17.8, 22.0, 5.3, 13.7, 2.9, 20.5, 97.1, 30.1], \"y0\": \" \", \"yaxis\": \"y\"}],                        {\"boxmode\": \"overlay\", \"legend\": {\"title\": {\"text\": \"\\u0413\\u0440\\u0443\\u043f\\u043f\\u044b\"}, \"tracegroupgap\": 0}, \"margin\": {\"t\": 60}, \"template\": {\"data\": {\"bar\": [{\"error_x\": {\"color\": \"#2a3f5f\"}, \"error_y\": {\"color\": \"#2a3f5f\"}, \"marker\": {\"line\": {\"color\": \"#E5ECF6\", \"width\": 0.5}}, \"type\": \"bar\"}], \"barpolar\": [{\"marker\": {\"line\": {\"color\": \"#E5ECF6\", \"width\": 0.5}}, \"type\": \"barpolar\"}], \"carpet\": [{\"aaxis\": {\"endlinecolor\": \"#2a3f5f\", \"gridcolor\": \"white\", \"linecolor\": \"white\", \"minorgridcolor\": \"white\", \"startlinecolor\": \"#2a3f5f\"}, \"baxis\": {\"endlinecolor\": \"#2a3f5f\", \"gridcolor\": \"white\", \"linecolor\": \"white\", \"minorgridcolor\": \"white\", \"startlinecolor\": \"#2a3f5f\"}, \"type\": \"carpet\"}], \"choropleth\": [{\"colorbar\": {\"outlinewidth\": 0, \"ticks\": \"\"}, \"type\": \"choropleth\"}], \"contour\": [{\"colorbar\": {\"outlinewidth\": 0, \"ticks\": \"\"}, \"colorscale\": [[0.0, \"#0d0887\"], [0.1111111111111111, \"#46039f\"], [0.2222222222222222, \"#7201a8\"], [0.3333333333333333, \"#9c179e\"], [0.4444444444444444, \"#bd3786\"], [0.5555555555555556, \"#d8576b\"], [0.6666666666666666, \"#ed7953\"], [0.7777777777777778, \"#fb9f3a\"], [0.8888888888888888, \"#fdca26\"], [1.0, \"#f0f921\"]], \"type\": \"contour\"}], \"contourcarpet\": [{\"colorbar\": {\"outlinewidth\": 0, \"ticks\": \"\"}, \"type\": \"contourcarpet\"}], \"heatmap\": [{\"colorbar\": {\"outlinewidth\": 0, \"ticks\": \"\"}, \"colorscale\": [[0.0, \"#0d0887\"], [0.1111111111111111, \"#46039f\"], [0.2222222222222222, \"#7201a8\"], [0.3333333333333333, \"#9c179e\"], [0.4444444444444444, \"#bd3786\"], [0.5555555555555556, \"#d8576b\"], [0.6666666666666666, \"#ed7953\"], [0.7777777777777778, \"#fb9f3a\"], [0.8888888888888888, \"#fdca26\"], [1.0, \"#f0f921\"]], \"type\": \"heatmap\"}], \"heatmapgl\": [{\"colorbar\": {\"outlinewidth\": 0, \"ticks\": \"\"}, \"colorscale\": [[0.0, \"#0d0887\"], [0.1111111111111111, \"#46039f\"], [0.2222222222222222, \"#7201a8\"], [0.3333333333333333, \"#9c179e\"], [0.4444444444444444, \"#bd3786\"], [0.5555555555555556, \"#d8576b\"], [0.6666666666666666, \"#ed7953\"], [0.7777777777777778, \"#fb9f3a\"], [0.8888888888888888, \"#fdca26\"], [1.0, \"#f0f921\"]], \"type\": \"heatmapgl\"}], \"histogram\": [{\"marker\": {\"colorbar\": {\"outlinewidth\": 0, \"ticks\": \"\"}}, \"type\": \"histogram\"}], \"histogram2d\": [{\"colorbar\": {\"outlinewidth\": 0, \"ticks\": \"\"}, \"colorscale\": [[0.0, \"#0d0887\"], [0.1111111111111111, \"#46039f\"], [0.2222222222222222, \"#7201a8\"], [0.3333333333333333, \"#9c179e\"], [0.4444444444444444, \"#bd3786\"], [0.5555555555555556, \"#d8576b\"], [0.6666666666666666, \"#ed7953\"], [0.7777777777777778, \"#fb9f3a\"], [0.8888888888888888, \"#fdca26\"], [1.0, \"#f0f921\"]], \"type\": \"histogram2d\"}], \"histogram2dcontour\": [{\"colorbar\": {\"outlinewidth\": 0, \"ticks\": \"\"}, \"colorscale\": [[0.0, \"#0d0887\"], [0.1111111111111111, \"#46039f\"], [0.2222222222222222, \"#7201a8\"], [0.3333333333333333, \"#9c179e\"], [0.4444444444444444, \"#bd3786\"], [0.5555555555555556, \"#d8576b\"], [0.6666666666666666, \"#ed7953\"], [0.7777777777777778, \"#fb9f3a\"], [0.8888888888888888, \"#fdca26\"], [1.0, \"#f0f921\"]], \"type\": \"histogram2dcontour\"}], \"mesh3d\": [{\"colorbar\": {\"outlinewidth\": 0, \"ticks\": \"\"}, \"type\": \"mesh3d\"}], \"parcoords\": [{\"line\": {\"colorbar\": {\"outlinewidth\": 0, \"ticks\": \"\"}}, \"type\": \"parcoords\"}], \"pie\": [{\"automargin\": true, \"type\": \"pie\"}], \"scatter\": [{\"marker\": {\"colorbar\": {\"outlinewidth\": 0, \"ticks\": \"\"}}, \"type\": \"scatter\"}], \"scatter3d\": [{\"line\": {\"colorbar\": {\"outlinewidth\": 0, \"ticks\": \"\"}}, \"marker\": {\"colorbar\": {\"outlinewidth\": 0, \"ticks\": \"\"}}, \"type\": \"scatter3d\"}], \"scattercarpet\": [{\"marker\": {\"colorbar\": {\"outlinewidth\": 0, \"ticks\": \"\"}}, \"type\": \"scattercarpet\"}], \"scattergeo\": [{\"marker\": {\"colorbar\": {\"outlinewidth\": 0, \"ticks\": \"\"}}, \"type\": \"scattergeo\"}], \"scattergl\": [{\"marker\": {\"colorbar\": {\"outlinewidth\": 0, \"ticks\": \"\"}}, \"type\": \"scattergl\"}], \"scattermapbox\": [{\"marker\": {\"colorbar\": {\"outlinewidth\": 0, \"ticks\": \"\"}}, \"type\": \"scattermapbox\"}], \"scatterpolar\": [{\"marker\": {\"colorbar\": {\"outlinewidth\": 0, \"ticks\": \"\"}}, \"type\": \"scatterpolar\"}], \"scatterpolargl\": [{\"marker\": {\"colorbar\": {\"outlinewidth\": 0, \"ticks\": \"\"}}, \"type\": \"scatterpolargl\"}], \"scatterternary\": [{\"marker\": {\"colorbar\": {\"outlinewidth\": 0, \"ticks\": \"\"}}, \"type\": \"scatterternary\"}], \"surface\": [{\"colorbar\": {\"outlinewidth\": 0, \"ticks\": \"\"}, \"colorscale\": [[0.0, \"#0d0887\"], [0.1111111111111111, \"#46039f\"], [0.2222222222222222, \"#7201a8\"], [0.3333333333333333, \"#9c179e\"], [0.4444444444444444, \"#bd3786\"], [0.5555555555555556, \"#d8576b\"], [0.6666666666666666, \"#ed7953\"], [0.7777777777777778, \"#fb9f3a\"], [0.8888888888888888, \"#fdca26\"], [1.0, \"#f0f921\"]], \"type\": \"surface\"}], \"table\": [{\"cells\": {\"fill\": {\"color\": \"#EBF0F8\"}, \"line\": {\"color\": \"white\"}}, \"header\": {\"fill\": {\"color\": \"#C8D4E3\"}, \"line\": {\"color\": \"white\"}}, \"type\": \"table\"}]}, \"layout\": {\"annotationdefaults\": {\"arrowcolor\": \"#2a3f5f\", \"arrowhead\": 0, \"arrowwidth\": 1}, \"autotypenumbers\": \"strict\", \"coloraxis\": {\"colorbar\": {\"outlinewidth\": 0, \"ticks\": \"\"}}, \"colorscale\": {\"diverging\": [[0, \"#8e0152\"], [0.1, \"#c51b7d\"], [0.2, \"#de77ae\"], [0.3, \"#f1b6da\"], [0.4, \"#fde0ef\"], [0.5, \"#f7f7f7\"], [0.6, \"#e6f5d0\"], [0.7, \"#b8e186\"], [0.8, \"#7fbc41\"], [0.9, \"#4d9221\"], [1, \"#276419\"]], \"sequential\": [[0.0, \"#0d0887\"], [0.1111111111111111, \"#46039f\"], [0.2222222222222222, \"#7201a8\"], [0.3333333333333333, \"#9c179e\"], [0.4444444444444444, \"#bd3786\"], [0.5555555555555556, \"#d8576b\"], [0.6666666666666666, \"#ed7953\"], [0.7777777777777778, \"#fb9f3a\"], [0.8888888888888888, \"#fdca26\"], [1.0, \"#f0f921\"]], \"sequentialminus\": [[0.0, \"#0d0887\"], [0.1111111111111111, \"#46039f\"], [0.2222222222222222, \"#7201a8\"], [0.3333333333333333, \"#9c179e\"], [0.4444444444444444, \"#bd3786\"], [0.5555555555555556, \"#d8576b\"], [0.6666666666666666, \"#ed7953\"], [0.7777777777777778, \"#fb9f3a\"], [0.8888888888888888, \"#fdca26\"], [1.0, \"#f0f921\"]]}, \"colorway\": [\"#636efa\", \"#EF553B\", \"#00cc96\", \"#ab63fa\", \"#FFA15A\", \"#19d3f3\", \"#FF6692\", \"#B6E880\", \"#FF97FF\", \"#FECB52\"], \"font\": {\"color\": \"#2a3f5f\"}, \"geo\": {\"bgcolor\": \"white\", \"lakecolor\": \"white\", \"landcolor\": \"#E5ECF6\", \"showlakes\": true, \"showland\": true, \"subunitcolor\": \"white\"}, \"hoverlabel\": {\"align\": \"left\"}, \"hovermode\": \"closest\", \"mapbox\": {\"style\": \"light\"}, \"paper_bgcolor\": \"white\", \"plot_bgcolor\": \"#E5ECF6\", \"polar\": {\"angularaxis\": {\"gridcolor\": \"white\", \"linecolor\": \"white\", \"ticks\": \"\"}, \"bgcolor\": \"#E5ECF6\", \"radialaxis\": {\"gridcolor\": \"white\", \"linecolor\": \"white\", \"ticks\": \"\"}}, \"scene\": {\"xaxis\": {\"backgroundcolor\": \"#E5ECF6\", \"gridcolor\": \"white\", \"gridwidth\": 2, \"linecolor\": \"white\", \"showbackground\": true, \"ticks\": \"\", \"zerolinecolor\": \"white\"}, \"yaxis\": {\"backgroundcolor\": \"#E5ECF6\", \"gridcolor\": \"white\", \"gridwidth\": 2, \"linecolor\": \"white\", \"showbackground\": true, \"ticks\": \"\", \"zerolinecolor\": \"white\"}, \"zaxis\": {\"backgroundcolor\": \"#E5ECF6\", \"gridcolor\": \"white\", \"gridwidth\": 2, \"linecolor\": \"white\", \"showbackground\": true, \"ticks\": \"\", \"zerolinecolor\": \"white\"}}, \"shapedefaults\": {\"line\": {\"color\": \"#2a3f5f\"}}, \"ternary\": {\"aaxis\": {\"gridcolor\": \"white\", \"linecolor\": \"white\", \"ticks\": \"\"}, \"baxis\": {\"gridcolor\": \"white\", \"linecolor\": \"white\", \"ticks\": \"\"}, \"bgcolor\": \"#E5ECF6\", \"caxis\": {\"gridcolor\": \"white\", \"linecolor\": \"white\", \"ticks\": \"\"}}, \"title\": {\"x\": 0.05}, \"xaxis\": {\"automargin\": true, \"gridcolor\": \"white\", \"linecolor\": \"white\", \"ticks\": \"\", \"title\": {\"standoff\": 15}, \"zerolinecolor\": \"white\", \"zerolinewidth\": 2}, \"yaxis\": {\"automargin\": true, \"gridcolor\": \"white\", \"linecolor\": \"white\", \"ticks\": \"\", \"title\": {\"standoff\": 15}, \"zerolinecolor\": \"white\", \"zerolinewidth\": 2}}}, \"xaxis\": {\"anchor\": \"y\", \"categoryarray\": [\"\\u0417\\u0434\\u043e\\u0440\\u043e\\u0432\\u044b\\u0435 \\u0434\\u043e\\u043d\\u043e\\u0440\\u044b\", \"\\u0418\\u0448\\u0435\\u043c\\u0438\\u0447\\u0435\\u0441\\u043a\\u0438\\u0439 \\u0438\\u043d\\u0441\\u0443\\u043b\\u044c\\u0442\", \"\\u0421\\u0414\", \"\\u0425\\u041d\\u041c\\u041a\"], \"categoryorder\": \"array\", \"domain\": [0.0, 1.0], \"title\": {\"text\": \"\\u0413\\u0440\\u0443\\u043f\\u043f\\u044b\"}}, \"yaxis\": {\"anchor\": \"x\", \"domain\": [0.0, 1.0], \"title\": {\"text\": \"\\u041a\\u043e\\u043d\\u0446\\u0435\\u043d\\u0442\\u0440\\u0430\\u0446\\u0438\\u044f (\\u0441\\u043e\\u0431\\u044b\\u0442\\u0438\\u044f\\\\\\u043c\\u043a\\u043b)\"}}},                        {\"responsive\": true}                    ).then(function(){\n",
       "                            \n",
       "var gd = document.getElementById('0533b36e-f9f9-47a1-a235-3f3cdeb4c6c5');\n",
       "var x = new MutationObserver(function (mutations, observer) {{\n",
       "        var display = window.getComputedStyle(gd).display;\n",
       "        if (!display || display === 'none') {{\n",
       "            console.log([gd, 'removed!']);\n",
       "            Plotly.purge(gd);\n",
       "            observer.disconnect();\n",
       "        }}\n",
       "}});\n",
       "\n",
       "// Listen for the removal of the full notebook cells\n",
       "var notebookContainer = gd.closest('#notebook-container');\n",
       "if (notebookContainer) {{\n",
       "    x.observe(notebookContainer, {childList: true});\n",
       "}}\n",
       "\n",
       "// Listen for the clearing of the current output cell\n",
       "var outputEl = gd.closest('.output');\n",
       "if (outputEl) {{\n",
       "    x.observe(outputEl, {childList: true});\n",
       "}}\n",
       "\n",
       "                        })                };                });            </script>        </div>"
      ]
     },
     "metadata": {},
     "output_type": "display_data"
    }
   ],
   "source": [
    "\n",
    "px.box(df, x=df[cols[0]], y=df[cols[2]], color=df[cols[0]], labels={'Groups': 'Группы', 'CD146 Events/?L(V) w/ dilution': 'Концентрация (события\\мкл)'})"
   ]
  },
  {
   "cell_type": "code",
   "execution_count": 11,
   "id": "591f3620",
   "metadata": {},
   "outputs": [],
   "source": [
    "?px.box"
   ]
  },
  {
   "cell_type": "code",
   "execution_count": 6,
   "id": "7017a428",
   "metadata": {},
   "outputs": [
    {
     "data": {
      "application/vnd.plotly.v1+json": {
       "config": {
        "plotlyServerURL": "https://plot.ly"
       },
       "data": [
        {
         "alignmentgroup": "True",
         "hovertemplate": "Группы=%{x}<br>Концентрация (события\\мкл)=%{y}<extra></extra>",
         "legendgroup": "Здоровые доноры",
         "marker": {
          "color": "#636efa"
         },
         "name": "Здоровые доноры",
         "notched": false,
         "offsetgroup": "Здоровые доноры",
         "orientation": "v",
         "showlegend": true,
         "type": "box",
         "x": [
          "Здоровые доноры",
          "Здоровые доноры",
          "Здоровые доноры",
          "Здоровые доноры",
          "Здоровые доноры",
          "Здоровые доноры",
          "Здоровые доноры",
          "Здоровые доноры"
         ],
         "x0": " ",
         "xaxis": "x",
         "y": [
          49.5,
          43.6,
          99,
          20.5,
          283.7,
          36.9,
          11.9,
          4.5
         ],
         "y0": " ",
         "yaxis": "y"
        },
        {
         "alignmentgroup": "True",
         "hovertemplate": "Группы=%{x}<br>Концентрация (события\\мкл)=%{y}<extra></extra>",
         "legendgroup": "Ишемический инсульт",
         "marker": {
          "color": "#EF553B"
         },
         "name": "Ишемический инсульт",
         "notched": false,
         "offsetgroup": "Ишемический инсульт",
         "orientation": "v",
         "showlegend": true,
         "type": "box",
         "x": [
          "Ишемический инсульт",
          "Ишемический инсульт",
          "Ишемический инсульт",
          "Ишемический инсульт",
          "Ишемический инсульт",
          "Ишемический инсульт"
         ],
         "x0": " ",
         "xaxis": "x",
         "y": [
          33.5,
          8.3,
          234.5,
          116.1,
          70.9,
          89.2
         ],
         "y0": " ",
         "yaxis": "y"
        },
        {
         "alignmentgroup": "True",
         "hovertemplate": "Группы=%{x}<br>Концентрация (события\\мкл)=%{y}<extra></extra>",
         "legendgroup": "СД",
         "marker": {
          "color": "#00cc96"
         },
         "name": "СД",
         "notched": false,
         "offsetgroup": "СД",
         "orientation": "v",
         "showlegend": true,
         "type": "box",
         "x": [
          "СД",
          "СД",
          "СД",
          "СД",
          "СД",
          "СД",
          "СД",
          "СД",
          "СД",
          "СД",
          "СД"
         ],
         "x0": " ",
         "xaxis": "x",
         "y": [
          177.9,
          399,
          376,
          7.8,
          397.8,
          7.3,
          90.7,
          14.1,
          63.4,
          41.5,
          160.8
         ],
         "y0": " ",
         "yaxis": "y"
        },
        {
         "alignmentgroup": "True",
         "hovertemplate": "Группы=%{x}<br>Концентрация (события\\мкл)=%{y}<extra></extra>",
         "legendgroup": "ХНМК",
         "marker": {
          "color": "#ab63fa"
         },
         "name": "ХНМК",
         "notched": false,
         "offsetgroup": "ХНМК",
         "orientation": "v",
         "showlegend": true,
         "type": "box",
         "x": [
          "ХНМК",
          "ХНМК",
          "ХНМК",
          "ХНМК",
          "ХНМК",
          "ХНМК",
          "ХНМК",
          "ХНМК",
          "ХНМК",
          "ХНМК",
          "ХНМК",
          "ХНМК",
          "ХНМК",
          "ХНМК",
          "ХНМК",
          "ХНМК",
          "ХНМК",
          "ХНМК",
          "ХНМК",
          "ХНМК",
          "ХНМК",
          "ХНМК",
          "ХНМК",
          "ХНМК",
          "ХНМК",
          "ХНМК",
          "ХНМК",
          "ХНМК",
          "ХНМК",
          "ХНМК",
          "ХНМК",
          "ХНМК",
          "ХНМК"
         ],
         "x0": " ",
         "xaxis": "x",
         "y": [
          143.4,
          7.9,
          5.5,
          91.3,
          20.2,
          116,
          35.3,
          17.1,
          135.1,
          6.6,
          55.9,
          65.2,
          65.2,
          55.6,
          32,
          198.2,
          18,
          23.5,
          139,
          13,
          11.7,
          22.5,
          3.6,
          272,
          39.8,
          204.1,
          43.5,
          7,
          29.6,
          6.1,
          37.2,
          81.8,
          101.8
         ],
         "y0": " ",
         "yaxis": "y"
        }
       ],
       "layout": {
        "boxmode": "overlay",
        "legend": {
         "title": {
          "text": "Группы"
         },
         "tracegroupgap": 0
        },
        "margin": {
         "t": 60
        },
        "template": {
         "data": {
          "bar": [
           {
            "error_x": {
             "color": "#2a3f5f"
            },
            "error_y": {
             "color": "#2a3f5f"
            },
            "marker": {
             "line": {
              "color": "#E5ECF6",
              "width": 0.5
             }
            },
            "type": "bar"
           }
          ],
          "barpolar": [
           {
            "marker": {
             "line": {
              "color": "#E5ECF6",
              "width": 0.5
             }
            },
            "type": "barpolar"
           }
          ],
          "carpet": [
           {
            "aaxis": {
             "endlinecolor": "#2a3f5f",
             "gridcolor": "white",
             "linecolor": "white",
             "minorgridcolor": "white",
             "startlinecolor": "#2a3f5f"
            },
            "baxis": {
             "endlinecolor": "#2a3f5f",
             "gridcolor": "white",
             "linecolor": "white",
             "minorgridcolor": "white",
             "startlinecolor": "#2a3f5f"
            },
            "type": "carpet"
           }
          ],
          "choropleth": [
           {
            "colorbar": {
             "outlinewidth": 0,
             "ticks": ""
            },
            "type": "choropleth"
           }
          ],
          "contour": [
           {
            "colorbar": {
             "outlinewidth": 0,
             "ticks": ""
            },
            "colorscale": [
             [
              0,
              "#0d0887"
             ],
             [
              0.1111111111111111,
              "#46039f"
             ],
             [
              0.2222222222222222,
              "#7201a8"
             ],
             [
              0.3333333333333333,
              "#9c179e"
             ],
             [
              0.4444444444444444,
              "#bd3786"
             ],
             [
              0.5555555555555556,
              "#d8576b"
             ],
             [
              0.6666666666666666,
              "#ed7953"
             ],
             [
              0.7777777777777778,
              "#fb9f3a"
             ],
             [
              0.8888888888888888,
              "#fdca26"
             ],
             [
              1,
              "#f0f921"
             ]
            ],
            "type": "contour"
           }
          ],
          "contourcarpet": [
           {
            "colorbar": {
             "outlinewidth": 0,
             "ticks": ""
            },
            "type": "contourcarpet"
           }
          ],
          "heatmap": [
           {
            "colorbar": {
             "outlinewidth": 0,
             "ticks": ""
            },
            "colorscale": [
             [
              0,
              "#0d0887"
             ],
             [
              0.1111111111111111,
              "#46039f"
             ],
             [
              0.2222222222222222,
              "#7201a8"
             ],
             [
              0.3333333333333333,
              "#9c179e"
             ],
             [
              0.4444444444444444,
              "#bd3786"
             ],
             [
              0.5555555555555556,
              "#d8576b"
             ],
             [
              0.6666666666666666,
              "#ed7953"
             ],
             [
              0.7777777777777778,
              "#fb9f3a"
             ],
             [
              0.8888888888888888,
              "#fdca26"
             ],
             [
              1,
              "#f0f921"
             ]
            ],
            "type": "heatmap"
           }
          ],
          "heatmapgl": [
           {
            "colorbar": {
             "outlinewidth": 0,
             "ticks": ""
            },
            "colorscale": [
             [
              0,
              "#0d0887"
             ],
             [
              0.1111111111111111,
              "#46039f"
             ],
             [
              0.2222222222222222,
              "#7201a8"
             ],
             [
              0.3333333333333333,
              "#9c179e"
             ],
             [
              0.4444444444444444,
              "#bd3786"
             ],
             [
              0.5555555555555556,
              "#d8576b"
             ],
             [
              0.6666666666666666,
              "#ed7953"
             ],
             [
              0.7777777777777778,
              "#fb9f3a"
             ],
             [
              0.8888888888888888,
              "#fdca26"
             ],
             [
              1,
              "#f0f921"
             ]
            ],
            "type": "heatmapgl"
           }
          ],
          "histogram": [
           {
            "marker": {
             "colorbar": {
              "outlinewidth": 0,
              "ticks": ""
             }
            },
            "type": "histogram"
           }
          ],
          "histogram2d": [
           {
            "colorbar": {
             "outlinewidth": 0,
             "ticks": ""
            },
            "colorscale": [
             [
              0,
              "#0d0887"
             ],
             [
              0.1111111111111111,
              "#46039f"
             ],
             [
              0.2222222222222222,
              "#7201a8"
             ],
             [
              0.3333333333333333,
              "#9c179e"
             ],
             [
              0.4444444444444444,
              "#bd3786"
             ],
             [
              0.5555555555555556,
              "#d8576b"
             ],
             [
              0.6666666666666666,
              "#ed7953"
             ],
             [
              0.7777777777777778,
              "#fb9f3a"
             ],
             [
              0.8888888888888888,
              "#fdca26"
             ],
             [
              1,
              "#f0f921"
             ]
            ],
            "type": "histogram2d"
           }
          ],
          "histogram2dcontour": [
           {
            "colorbar": {
             "outlinewidth": 0,
             "ticks": ""
            },
            "colorscale": [
             [
              0,
              "#0d0887"
             ],
             [
              0.1111111111111111,
              "#46039f"
             ],
             [
              0.2222222222222222,
              "#7201a8"
             ],
             [
              0.3333333333333333,
              "#9c179e"
             ],
             [
              0.4444444444444444,
              "#bd3786"
             ],
             [
              0.5555555555555556,
              "#d8576b"
             ],
             [
              0.6666666666666666,
              "#ed7953"
             ],
             [
              0.7777777777777778,
              "#fb9f3a"
             ],
             [
              0.8888888888888888,
              "#fdca26"
             ],
             [
              1,
              "#f0f921"
             ]
            ],
            "type": "histogram2dcontour"
           }
          ],
          "mesh3d": [
           {
            "colorbar": {
             "outlinewidth": 0,
             "ticks": ""
            },
            "type": "mesh3d"
           }
          ],
          "parcoords": [
           {
            "line": {
             "colorbar": {
              "outlinewidth": 0,
              "ticks": ""
             }
            },
            "type": "parcoords"
           }
          ],
          "pie": [
           {
            "automargin": true,
            "type": "pie"
           }
          ],
          "scatter": [
           {
            "marker": {
             "colorbar": {
              "outlinewidth": 0,
              "ticks": ""
             }
            },
            "type": "scatter"
           }
          ],
          "scatter3d": [
           {
            "line": {
             "colorbar": {
              "outlinewidth": 0,
              "ticks": ""
             }
            },
            "marker": {
             "colorbar": {
              "outlinewidth": 0,
              "ticks": ""
             }
            },
            "type": "scatter3d"
           }
          ],
          "scattercarpet": [
           {
            "marker": {
             "colorbar": {
              "outlinewidth": 0,
              "ticks": ""
             }
            },
            "type": "scattercarpet"
           }
          ],
          "scattergeo": [
           {
            "marker": {
             "colorbar": {
              "outlinewidth": 0,
              "ticks": ""
             }
            },
            "type": "scattergeo"
           }
          ],
          "scattergl": [
           {
            "marker": {
             "colorbar": {
              "outlinewidth": 0,
              "ticks": ""
             }
            },
            "type": "scattergl"
           }
          ],
          "scattermapbox": [
           {
            "marker": {
             "colorbar": {
              "outlinewidth": 0,
              "ticks": ""
             }
            },
            "type": "scattermapbox"
           }
          ],
          "scatterpolar": [
           {
            "marker": {
             "colorbar": {
              "outlinewidth": 0,
              "ticks": ""
             }
            },
            "type": "scatterpolar"
           }
          ],
          "scatterpolargl": [
           {
            "marker": {
             "colorbar": {
              "outlinewidth": 0,
              "ticks": ""
             }
            },
            "type": "scatterpolargl"
           }
          ],
          "scatterternary": [
           {
            "marker": {
             "colorbar": {
              "outlinewidth": 0,
              "ticks": ""
             }
            },
            "type": "scatterternary"
           }
          ],
          "surface": [
           {
            "colorbar": {
             "outlinewidth": 0,
             "ticks": ""
            },
            "colorscale": [
             [
              0,
              "#0d0887"
             ],
             [
              0.1111111111111111,
              "#46039f"
             ],
             [
              0.2222222222222222,
              "#7201a8"
             ],
             [
              0.3333333333333333,
              "#9c179e"
             ],
             [
              0.4444444444444444,
              "#bd3786"
             ],
             [
              0.5555555555555556,
              "#d8576b"
             ],
             [
              0.6666666666666666,
              "#ed7953"
             ],
             [
              0.7777777777777778,
              "#fb9f3a"
             ],
             [
              0.8888888888888888,
              "#fdca26"
             ],
             [
              1,
              "#f0f921"
             ]
            ],
            "type": "surface"
           }
          ],
          "table": [
           {
            "cells": {
             "fill": {
              "color": "#EBF0F8"
             },
             "line": {
              "color": "white"
             }
            },
            "header": {
             "fill": {
              "color": "#C8D4E3"
             },
             "line": {
              "color": "white"
             }
            },
            "type": "table"
           }
          ]
         },
         "layout": {
          "annotationdefaults": {
           "arrowcolor": "#2a3f5f",
           "arrowhead": 0,
           "arrowwidth": 1
          },
          "autotypenumbers": "strict",
          "coloraxis": {
           "colorbar": {
            "outlinewidth": 0,
            "ticks": ""
           }
          },
          "colorscale": {
           "diverging": [
            [
             0,
             "#8e0152"
            ],
            [
             0.1,
             "#c51b7d"
            ],
            [
             0.2,
             "#de77ae"
            ],
            [
             0.3,
             "#f1b6da"
            ],
            [
             0.4,
             "#fde0ef"
            ],
            [
             0.5,
             "#f7f7f7"
            ],
            [
             0.6,
             "#e6f5d0"
            ],
            [
             0.7,
             "#b8e186"
            ],
            [
             0.8,
             "#7fbc41"
            ],
            [
             0.9,
             "#4d9221"
            ],
            [
             1,
             "#276419"
            ]
           ],
           "sequential": [
            [
             0,
             "#0d0887"
            ],
            [
             0.1111111111111111,
             "#46039f"
            ],
            [
             0.2222222222222222,
             "#7201a8"
            ],
            [
             0.3333333333333333,
             "#9c179e"
            ],
            [
             0.4444444444444444,
             "#bd3786"
            ],
            [
             0.5555555555555556,
             "#d8576b"
            ],
            [
             0.6666666666666666,
             "#ed7953"
            ],
            [
             0.7777777777777778,
             "#fb9f3a"
            ],
            [
             0.8888888888888888,
             "#fdca26"
            ],
            [
             1,
             "#f0f921"
            ]
           ],
           "sequentialminus": [
            [
             0,
             "#0d0887"
            ],
            [
             0.1111111111111111,
             "#46039f"
            ],
            [
             0.2222222222222222,
             "#7201a8"
            ],
            [
             0.3333333333333333,
             "#9c179e"
            ],
            [
             0.4444444444444444,
             "#bd3786"
            ],
            [
             0.5555555555555556,
             "#d8576b"
            ],
            [
             0.6666666666666666,
             "#ed7953"
            ],
            [
             0.7777777777777778,
             "#fb9f3a"
            ],
            [
             0.8888888888888888,
             "#fdca26"
            ],
            [
             1,
             "#f0f921"
            ]
           ]
          },
          "colorway": [
           "#636efa",
           "#EF553B",
           "#00cc96",
           "#ab63fa",
           "#FFA15A",
           "#19d3f3",
           "#FF6692",
           "#B6E880",
           "#FF97FF",
           "#FECB52"
          ],
          "font": {
           "color": "#2a3f5f"
          },
          "geo": {
           "bgcolor": "white",
           "lakecolor": "white",
           "landcolor": "#E5ECF6",
           "showlakes": true,
           "showland": true,
           "subunitcolor": "white"
          },
          "hoverlabel": {
           "align": "left"
          },
          "hovermode": "closest",
          "mapbox": {
           "style": "light"
          },
          "paper_bgcolor": "white",
          "plot_bgcolor": "#E5ECF6",
          "polar": {
           "angularaxis": {
            "gridcolor": "white",
            "linecolor": "white",
            "ticks": ""
           },
           "bgcolor": "#E5ECF6",
           "radialaxis": {
            "gridcolor": "white",
            "linecolor": "white",
            "ticks": ""
           }
          },
          "scene": {
           "xaxis": {
            "backgroundcolor": "#E5ECF6",
            "gridcolor": "white",
            "gridwidth": 2,
            "linecolor": "white",
            "showbackground": true,
            "ticks": "",
            "zerolinecolor": "white"
           },
           "yaxis": {
            "backgroundcolor": "#E5ECF6",
            "gridcolor": "white",
            "gridwidth": 2,
            "linecolor": "white",
            "showbackground": true,
            "ticks": "",
            "zerolinecolor": "white"
           },
           "zaxis": {
            "backgroundcolor": "#E5ECF6",
            "gridcolor": "white",
            "gridwidth": 2,
            "linecolor": "white",
            "showbackground": true,
            "ticks": "",
            "zerolinecolor": "white"
           }
          },
          "shapedefaults": {
           "line": {
            "color": "#2a3f5f"
           }
          },
          "ternary": {
           "aaxis": {
            "gridcolor": "white",
            "linecolor": "white",
            "ticks": ""
           },
           "baxis": {
            "gridcolor": "white",
            "linecolor": "white",
            "ticks": ""
           },
           "bgcolor": "#E5ECF6",
           "caxis": {
            "gridcolor": "white",
            "linecolor": "white",
            "ticks": ""
           }
          },
          "title": {
           "x": 0.05
          },
          "xaxis": {
           "automargin": true,
           "gridcolor": "white",
           "linecolor": "white",
           "ticks": "",
           "title": {
            "standoff": 15
           },
           "zerolinecolor": "white",
           "zerolinewidth": 2
          },
          "yaxis": {
           "automargin": true,
           "gridcolor": "white",
           "linecolor": "white",
           "ticks": "",
           "title": {
            "standoff": 15
           },
           "zerolinecolor": "white",
           "zerolinewidth": 2
          }
         }
        },
        "xaxis": {
         "anchor": "y",
         "categoryarray": [
          "Здоровые доноры",
          "Ишемический инсульт",
          "СД",
          "ХНМК"
         ],
         "categoryorder": "array",
         "domain": [
          0,
          1
         ],
         "title": {
          "text": "Группы"
         }
        },
        "yaxis": {
         "anchor": "x",
         "domain": [
          0,
          1
         ],
         "title": {
          "text": "Концентрация (события\\мкл)"
         }
        }
       }
      },
      "text/html": [
       "<div>                            <div id=\"b59c593a-f7e9-43a4-bee7-04e587f41906\" class=\"plotly-graph-div\" style=\"height:525px; width:100%;\"></div>            <script type=\"text/javascript\">                require([\"plotly\"], function(Plotly) {                    window.PLOTLYENV=window.PLOTLYENV || {};                                    if (document.getElementById(\"b59c593a-f7e9-43a4-bee7-04e587f41906\")) {                    Plotly.newPlot(                        \"b59c593a-f7e9-43a4-bee7-04e587f41906\",                        [{\"alignmentgroup\": \"True\", \"hovertemplate\": \"\\u0413\\u0440\\u0443\\u043f\\u043f\\u044b=%{x}<br>\\u041a\\u043e\\u043d\\u0446\\u0435\\u043d\\u0442\\u0440\\u0430\\u0446\\u0438\\u044f (\\u0441\\u043e\\u0431\\u044b\\u0442\\u0438\\u044f\\\\\\u043c\\u043a\\u043b)=%{y}<extra></extra>\", \"legendgroup\": \"\\u0417\\u0434\\u043e\\u0440\\u043e\\u0432\\u044b\\u0435 \\u0434\\u043e\\u043d\\u043e\\u0440\\u044b\", \"marker\": {\"color\": \"#636efa\"}, \"name\": \"\\u0417\\u0434\\u043e\\u0440\\u043e\\u0432\\u044b\\u0435 \\u0434\\u043e\\u043d\\u043e\\u0440\\u044b\", \"notched\": false, \"offsetgroup\": \"\\u0417\\u0434\\u043e\\u0440\\u043e\\u0432\\u044b\\u0435 \\u0434\\u043e\\u043d\\u043e\\u0440\\u044b\", \"orientation\": \"v\", \"showlegend\": true, \"type\": \"box\", \"x\": [\"\\u0417\\u0434\\u043e\\u0440\\u043e\\u0432\\u044b\\u0435 \\u0434\\u043e\\u043d\\u043e\\u0440\\u044b\", \"\\u0417\\u0434\\u043e\\u0440\\u043e\\u0432\\u044b\\u0435 \\u0434\\u043e\\u043d\\u043e\\u0440\\u044b\", \"\\u0417\\u0434\\u043e\\u0440\\u043e\\u0432\\u044b\\u0435 \\u0434\\u043e\\u043d\\u043e\\u0440\\u044b\", \"\\u0417\\u0434\\u043e\\u0440\\u043e\\u0432\\u044b\\u0435 \\u0434\\u043e\\u043d\\u043e\\u0440\\u044b\", \"\\u0417\\u0434\\u043e\\u0440\\u043e\\u0432\\u044b\\u0435 \\u0434\\u043e\\u043d\\u043e\\u0440\\u044b\", \"\\u0417\\u0434\\u043e\\u0440\\u043e\\u0432\\u044b\\u0435 \\u0434\\u043e\\u043d\\u043e\\u0440\\u044b\", \"\\u0417\\u0434\\u043e\\u0440\\u043e\\u0432\\u044b\\u0435 \\u0434\\u043e\\u043d\\u043e\\u0440\\u044b\", \"\\u0417\\u0434\\u043e\\u0440\\u043e\\u0432\\u044b\\u0435 \\u0434\\u043e\\u043d\\u043e\\u0440\\u044b\"], \"x0\": \" \", \"xaxis\": \"x\", \"y\": [49.5, 43.6, 99.0, 20.5, 283.7, 36.9, 11.9, 4.5], \"y0\": \" \", \"yaxis\": \"y\"}, {\"alignmentgroup\": \"True\", \"hovertemplate\": \"\\u0413\\u0440\\u0443\\u043f\\u043f\\u044b=%{x}<br>\\u041a\\u043e\\u043d\\u0446\\u0435\\u043d\\u0442\\u0440\\u0430\\u0446\\u0438\\u044f (\\u0441\\u043e\\u0431\\u044b\\u0442\\u0438\\u044f\\\\\\u043c\\u043a\\u043b)=%{y}<extra></extra>\", \"legendgroup\": \"\\u0418\\u0448\\u0435\\u043c\\u0438\\u0447\\u0435\\u0441\\u043a\\u0438\\u0439 \\u0438\\u043d\\u0441\\u0443\\u043b\\u044c\\u0442\", \"marker\": {\"color\": \"#EF553B\"}, \"name\": \"\\u0418\\u0448\\u0435\\u043c\\u0438\\u0447\\u0435\\u0441\\u043a\\u0438\\u0439 \\u0438\\u043d\\u0441\\u0443\\u043b\\u044c\\u0442\", \"notched\": false, \"offsetgroup\": \"\\u0418\\u0448\\u0435\\u043c\\u0438\\u0447\\u0435\\u0441\\u043a\\u0438\\u0439 \\u0438\\u043d\\u0441\\u0443\\u043b\\u044c\\u0442\", \"orientation\": \"v\", \"showlegend\": true, \"type\": \"box\", \"x\": [\"\\u0418\\u0448\\u0435\\u043c\\u0438\\u0447\\u0435\\u0441\\u043a\\u0438\\u0439 \\u0438\\u043d\\u0441\\u0443\\u043b\\u044c\\u0442\", \"\\u0418\\u0448\\u0435\\u043c\\u0438\\u0447\\u0435\\u0441\\u043a\\u0438\\u0439 \\u0438\\u043d\\u0441\\u0443\\u043b\\u044c\\u0442\", \"\\u0418\\u0448\\u0435\\u043c\\u0438\\u0447\\u0435\\u0441\\u043a\\u0438\\u0439 \\u0438\\u043d\\u0441\\u0443\\u043b\\u044c\\u0442\", \"\\u0418\\u0448\\u0435\\u043c\\u0438\\u0447\\u0435\\u0441\\u043a\\u0438\\u0439 \\u0438\\u043d\\u0441\\u0443\\u043b\\u044c\\u0442\", \"\\u0418\\u0448\\u0435\\u043c\\u0438\\u0447\\u0435\\u0441\\u043a\\u0438\\u0439 \\u0438\\u043d\\u0441\\u0443\\u043b\\u044c\\u0442\", \"\\u0418\\u0448\\u0435\\u043c\\u0438\\u0447\\u0435\\u0441\\u043a\\u0438\\u0439 \\u0438\\u043d\\u0441\\u0443\\u043b\\u044c\\u0442\"], \"x0\": \" \", \"xaxis\": \"x\", \"y\": [33.5, 8.3, 234.5, 116.1, 70.9, 89.2], \"y0\": \" \", \"yaxis\": \"y\"}, {\"alignmentgroup\": \"True\", \"hovertemplate\": \"\\u0413\\u0440\\u0443\\u043f\\u043f\\u044b=%{x}<br>\\u041a\\u043e\\u043d\\u0446\\u0435\\u043d\\u0442\\u0440\\u0430\\u0446\\u0438\\u044f (\\u0441\\u043e\\u0431\\u044b\\u0442\\u0438\\u044f\\\\\\u043c\\u043a\\u043b)=%{y}<extra></extra>\", \"legendgroup\": \"\\u0421\\u0414\", \"marker\": {\"color\": \"#00cc96\"}, \"name\": \"\\u0421\\u0414\", \"notched\": false, \"offsetgroup\": \"\\u0421\\u0414\", \"orientation\": \"v\", \"showlegend\": true, \"type\": \"box\", \"x\": [\"\\u0421\\u0414\", \"\\u0421\\u0414\", \"\\u0421\\u0414\", \"\\u0421\\u0414\", \"\\u0421\\u0414\", \"\\u0421\\u0414\", \"\\u0421\\u0414\", \"\\u0421\\u0414\", \"\\u0421\\u0414\", \"\\u0421\\u0414\", \"\\u0421\\u0414\"], \"x0\": \" \", \"xaxis\": \"x\", \"y\": [177.9, 399.0, 376.0, 7.8, 397.8, 7.3, 90.7, 14.1, 63.4, 41.5, 160.8], \"y0\": \" \", \"yaxis\": \"y\"}, {\"alignmentgroup\": \"True\", \"hovertemplate\": \"\\u0413\\u0440\\u0443\\u043f\\u043f\\u044b=%{x}<br>\\u041a\\u043e\\u043d\\u0446\\u0435\\u043d\\u0442\\u0440\\u0430\\u0446\\u0438\\u044f (\\u0441\\u043e\\u0431\\u044b\\u0442\\u0438\\u044f\\\\\\u043c\\u043a\\u043b)=%{y}<extra></extra>\", \"legendgroup\": \"\\u0425\\u041d\\u041c\\u041a\", \"marker\": {\"color\": \"#ab63fa\"}, \"name\": \"\\u0425\\u041d\\u041c\\u041a\", \"notched\": false, \"offsetgroup\": \"\\u0425\\u041d\\u041c\\u041a\", \"orientation\": \"v\", \"showlegend\": true, \"type\": \"box\", \"x\": [\"\\u0425\\u041d\\u041c\\u041a\", \"\\u0425\\u041d\\u041c\\u041a\", \"\\u0425\\u041d\\u041c\\u041a\", \"\\u0425\\u041d\\u041c\\u041a\", \"\\u0425\\u041d\\u041c\\u041a\", \"\\u0425\\u041d\\u041c\\u041a\", \"\\u0425\\u041d\\u041c\\u041a\", \"\\u0425\\u041d\\u041c\\u041a\", \"\\u0425\\u041d\\u041c\\u041a\", \"\\u0425\\u041d\\u041c\\u041a\", \"\\u0425\\u041d\\u041c\\u041a\", \"\\u0425\\u041d\\u041c\\u041a\", \"\\u0425\\u041d\\u041c\\u041a\", \"\\u0425\\u041d\\u041c\\u041a\", \"\\u0425\\u041d\\u041c\\u041a\", \"\\u0425\\u041d\\u041c\\u041a\", \"\\u0425\\u041d\\u041c\\u041a\", \"\\u0425\\u041d\\u041c\\u041a\", \"\\u0425\\u041d\\u041c\\u041a\", \"\\u0425\\u041d\\u041c\\u041a\", \"\\u0425\\u041d\\u041c\\u041a\", \"\\u0425\\u041d\\u041c\\u041a\", \"\\u0425\\u041d\\u041c\\u041a\", \"\\u0425\\u041d\\u041c\\u041a\", \"\\u0425\\u041d\\u041c\\u041a\", \"\\u0425\\u041d\\u041c\\u041a\", \"\\u0425\\u041d\\u041c\\u041a\", \"\\u0425\\u041d\\u041c\\u041a\", \"\\u0425\\u041d\\u041c\\u041a\", \"\\u0425\\u041d\\u041c\\u041a\", \"\\u0425\\u041d\\u041c\\u041a\", \"\\u0425\\u041d\\u041c\\u041a\", \"\\u0425\\u041d\\u041c\\u041a\"], \"x0\": \" \", \"xaxis\": \"x\", \"y\": [143.4, 7.9, 5.5, 91.3, 20.2, 116.0, 35.3, 17.1, 135.1, 6.6, 55.9, 65.2, 65.2, 55.6, 32.0, 198.2, 18.0, 23.5, 139.0, 13.0, 11.7, 22.5, 3.6, 272.0, 39.8, 204.1, 43.5, 7.0, 29.6, 6.1, 37.2, 81.8, 101.8], \"y0\": \" \", \"yaxis\": \"y\"}],                        {\"boxmode\": \"overlay\", \"legend\": {\"title\": {\"text\": \"\\u0413\\u0440\\u0443\\u043f\\u043f\\u044b\"}, \"tracegroupgap\": 0}, \"margin\": {\"t\": 60}, \"template\": {\"data\": {\"bar\": [{\"error_x\": {\"color\": \"#2a3f5f\"}, \"error_y\": {\"color\": \"#2a3f5f\"}, \"marker\": {\"line\": {\"color\": \"#E5ECF6\", \"width\": 0.5}}, \"type\": \"bar\"}], \"barpolar\": [{\"marker\": {\"line\": {\"color\": \"#E5ECF6\", \"width\": 0.5}}, \"type\": \"barpolar\"}], \"carpet\": [{\"aaxis\": {\"endlinecolor\": \"#2a3f5f\", \"gridcolor\": \"white\", \"linecolor\": \"white\", \"minorgridcolor\": \"white\", \"startlinecolor\": \"#2a3f5f\"}, \"baxis\": {\"endlinecolor\": \"#2a3f5f\", \"gridcolor\": \"white\", \"linecolor\": \"white\", \"minorgridcolor\": \"white\", \"startlinecolor\": \"#2a3f5f\"}, \"type\": \"carpet\"}], \"choropleth\": [{\"colorbar\": {\"outlinewidth\": 0, \"ticks\": \"\"}, \"type\": \"choropleth\"}], \"contour\": [{\"colorbar\": {\"outlinewidth\": 0, \"ticks\": \"\"}, \"colorscale\": [[0.0, \"#0d0887\"], [0.1111111111111111, \"#46039f\"], [0.2222222222222222, \"#7201a8\"], [0.3333333333333333, \"#9c179e\"], [0.4444444444444444, \"#bd3786\"], [0.5555555555555556, \"#d8576b\"], [0.6666666666666666, \"#ed7953\"], [0.7777777777777778, \"#fb9f3a\"], [0.8888888888888888, \"#fdca26\"], [1.0, \"#f0f921\"]], \"type\": \"contour\"}], \"contourcarpet\": [{\"colorbar\": {\"outlinewidth\": 0, \"ticks\": \"\"}, \"type\": \"contourcarpet\"}], \"heatmap\": [{\"colorbar\": {\"outlinewidth\": 0, \"ticks\": \"\"}, \"colorscale\": [[0.0, \"#0d0887\"], [0.1111111111111111, \"#46039f\"], [0.2222222222222222, \"#7201a8\"], [0.3333333333333333, \"#9c179e\"], [0.4444444444444444, \"#bd3786\"], [0.5555555555555556, \"#d8576b\"], [0.6666666666666666, \"#ed7953\"], [0.7777777777777778, \"#fb9f3a\"], [0.8888888888888888, \"#fdca26\"], [1.0, \"#f0f921\"]], \"type\": \"heatmap\"}], \"heatmapgl\": [{\"colorbar\": {\"outlinewidth\": 0, \"ticks\": \"\"}, \"colorscale\": [[0.0, \"#0d0887\"], [0.1111111111111111, \"#46039f\"], [0.2222222222222222, \"#7201a8\"], [0.3333333333333333, \"#9c179e\"], [0.4444444444444444, \"#bd3786\"], [0.5555555555555556, \"#d8576b\"], [0.6666666666666666, \"#ed7953\"], [0.7777777777777778, \"#fb9f3a\"], [0.8888888888888888, \"#fdca26\"], [1.0, \"#f0f921\"]], \"type\": \"heatmapgl\"}], \"histogram\": [{\"marker\": {\"colorbar\": {\"outlinewidth\": 0, \"ticks\": \"\"}}, \"type\": \"histogram\"}], \"histogram2d\": [{\"colorbar\": {\"outlinewidth\": 0, \"ticks\": \"\"}, \"colorscale\": [[0.0, \"#0d0887\"], [0.1111111111111111, \"#46039f\"], [0.2222222222222222, \"#7201a8\"], [0.3333333333333333, \"#9c179e\"], [0.4444444444444444, \"#bd3786\"], [0.5555555555555556, \"#d8576b\"], [0.6666666666666666, \"#ed7953\"], [0.7777777777777778, \"#fb9f3a\"], [0.8888888888888888, \"#fdca26\"], [1.0, \"#f0f921\"]], \"type\": \"histogram2d\"}], \"histogram2dcontour\": [{\"colorbar\": {\"outlinewidth\": 0, \"ticks\": \"\"}, \"colorscale\": [[0.0, \"#0d0887\"], [0.1111111111111111, \"#46039f\"], [0.2222222222222222, \"#7201a8\"], [0.3333333333333333, \"#9c179e\"], [0.4444444444444444, \"#bd3786\"], [0.5555555555555556, \"#d8576b\"], [0.6666666666666666, \"#ed7953\"], [0.7777777777777778, \"#fb9f3a\"], [0.8888888888888888, \"#fdca26\"], [1.0, \"#f0f921\"]], \"type\": \"histogram2dcontour\"}], \"mesh3d\": [{\"colorbar\": {\"outlinewidth\": 0, \"ticks\": \"\"}, \"type\": \"mesh3d\"}], \"parcoords\": [{\"line\": {\"colorbar\": {\"outlinewidth\": 0, \"ticks\": \"\"}}, \"type\": \"parcoords\"}], \"pie\": [{\"automargin\": true, \"type\": \"pie\"}], \"scatter\": [{\"marker\": {\"colorbar\": {\"outlinewidth\": 0, \"ticks\": \"\"}}, \"type\": \"scatter\"}], \"scatter3d\": [{\"line\": {\"colorbar\": {\"outlinewidth\": 0, \"ticks\": \"\"}}, \"marker\": {\"colorbar\": {\"outlinewidth\": 0, \"ticks\": \"\"}}, \"type\": \"scatter3d\"}], \"scattercarpet\": [{\"marker\": {\"colorbar\": {\"outlinewidth\": 0, \"ticks\": \"\"}}, \"type\": \"scattercarpet\"}], \"scattergeo\": [{\"marker\": {\"colorbar\": {\"outlinewidth\": 0, \"ticks\": \"\"}}, \"type\": \"scattergeo\"}], \"scattergl\": [{\"marker\": {\"colorbar\": {\"outlinewidth\": 0, \"ticks\": \"\"}}, \"type\": \"scattergl\"}], \"scattermapbox\": [{\"marker\": {\"colorbar\": {\"outlinewidth\": 0, \"ticks\": \"\"}}, \"type\": \"scattermapbox\"}], \"scatterpolar\": [{\"marker\": {\"colorbar\": {\"outlinewidth\": 0, \"ticks\": \"\"}}, \"type\": \"scatterpolar\"}], \"scatterpolargl\": [{\"marker\": {\"colorbar\": {\"outlinewidth\": 0, \"ticks\": \"\"}}, \"type\": \"scatterpolargl\"}], \"scatterternary\": [{\"marker\": {\"colorbar\": {\"outlinewidth\": 0, \"ticks\": \"\"}}, \"type\": \"scatterternary\"}], \"surface\": [{\"colorbar\": {\"outlinewidth\": 0, \"ticks\": \"\"}, \"colorscale\": [[0.0, \"#0d0887\"], [0.1111111111111111, \"#46039f\"], [0.2222222222222222, \"#7201a8\"], [0.3333333333333333, \"#9c179e\"], [0.4444444444444444, \"#bd3786\"], [0.5555555555555556, \"#d8576b\"], [0.6666666666666666, \"#ed7953\"], [0.7777777777777778, \"#fb9f3a\"], [0.8888888888888888, \"#fdca26\"], [1.0, \"#f0f921\"]], \"type\": \"surface\"}], \"table\": [{\"cells\": {\"fill\": {\"color\": \"#EBF0F8\"}, \"line\": {\"color\": \"white\"}}, \"header\": {\"fill\": {\"color\": \"#C8D4E3\"}, \"line\": {\"color\": \"white\"}}, \"type\": \"table\"}]}, \"layout\": {\"annotationdefaults\": {\"arrowcolor\": \"#2a3f5f\", \"arrowhead\": 0, \"arrowwidth\": 1}, \"autotypenumbers\": \"strict\", \"coloraxis\": {\"colorbar\": {\"outlinewidth\": 0, \"ticks\": \"\"}}, \"colorscale\": {\"diverging\": [[0, \"#8e0152\"], [0.1, \"#c51b7d\"], [0.2, \"#de77ae\"], [0.3, \"#f1b6da\"], [0.4, \"#fde0ef\"], [0.5, \"#f7f7f7\"], [0.6, \"#e6f5d0\"], [0.7, \"#b8e186\"], [0.8, \"#7fbc41\"], [0.9, \"#4d9221\"], [1, \"#276419\"]], \"sequential\": [[0.0, \"#0d0887\"], [0.1111111111111111, \"#46039f\"], [0.2222222222222222, \"#7201a8\"], [0.3333333333333333, \"#9c179e\"], [0.4444444444444444, \"#bd3786\"], [0.5555555555555556, \"#d8576b\"], [0.6666666666666666, \"#ed7953\"], [0.7777777777777778, \"#fb9f3a\"], [0.8888888888888888, \"#fdca26\"], [1.0, \"#f0f921\"]], \"sequentialminus\": [[0.0, \"#0d0887\"], [0.1111111111111111, \"#46039f\"], [0.2222222222222222, \"#7201a8\"], [0.3333333333333333, \"#9c179e\"], [0.4444444444444444, \"#bd3786\"], [0.5555555555555556, \"#d8576b\"], [0.6666666666666666, \"#ed7953\"], [0.7777777777777778, \"#fb9f3a\"], [0.8888888888888888, \"#fdca26\"], [1.0, \"#f0f921\"]]}, \"colorway\": [\"#636efa\", \"#EF553B\", \"#00cc96\", \"#ab63fa\", \"#FFA15A\", \"#19d3f3\", \"#FF6692\", \"#B6E880\", \"#FF97FF\", \"#FECB52\"], \"font\": {\"color\": \"#2a3f5f\"}, \"geo\": {\"bgcolor\": \"white\", \"lakecolor\": \"white\", \"landcolor\": \"#E5ECF6\", \"showlakes\": true, \"showland\": true, \"subunitcolor\": \"white\"}, \"hoverlabel\": {\"align\": \"left\"}, \"hovermode\": \"closest\", \"mapbox\": {\"style\": \"light\"}, \"paper_bgcolor\": \"white\", \"plot_bgcolor\": \"#E5ECF6\", \"polar\": {\"angularaxis\": {\"gridcolor\": \"white\", \"linecolor\": \"white\", \"ticks\": \"\"}, \"bgcolor\": \"#E5ECF6\", \"radialaxis\": {\"gridcolor\": \"white\", \"linecolor\": \"white\", \"ticks\": \"\"}}, \"scene\": {\"xaxis\": {\"backgroundcolor\": \"#E5ECF6\", \"gridcolor\": \"white\", \"gridwidth\": 2, \"linecolor\": \"white\", \"showbackground\": true, \"ticks\": \"\", \"zerolinecolor\": \"white\"}, \"yaxis\": {\"backgroundcolor\": \"#E5ECF6\", \"gridcolor\": \"white\", \"gridwidth\": 2, \"linecolor\": \"white\", \"showbackground\": true, \"ticks\": \"\", \"zerolinecolor\": \"white\"}, \"zaxis\": {\"backgroundcolor\": \"#E5ECF6\", \"gridcolor\": \"white\", \"gridwidth\": 2, \"linecolor\": \"white\", \"showbackground\": true, \"ticks\": \"\", \"zerolinecolor\": \"white\"}}, \"shapedefaults\": {\"line\": {\"color\": \"#2a3f5f\"}}, \"ternary\": {\"aaxis\": {\"gridcolor\": \"white\", \"linecolor\": \"white\", \"ticks\": \"\"}, \"baxis\": {\"gridcolor\": \"white\", \"linecolor\": \"white\", \"ticks\": \"\"}, \"bgcolor\": \"#E5ECF6\", \"caxis\": {\"gridcolor\": \"white\", \"linecolor\": \"white\", \"ticks\": \"\"}}, \"title\": {\"x\": 0.05}, \"xaxis\": {\"automargin\": true, \"gridcolor\": \"white\", \"linecolor\": \"white\", \"ticks\": \"\", \"title\": {\"standoff\": 15}, \"zerolinecolor\": \"white\", \"zerolinewidth\": 2}, \"yaxis\": {\"automargin\": true, \"gridcolor\": \"white\", \"linecolor\": \"white\", \"ticks\": \"\", \"title\": {\"standoff\": 15}, \"zerolinecolor\": \"white\", \"zerolinewidth\": 2}}}, \"xaxis\": {\"anchor\": \"y\", \"categoryarray\": [\"\\u0417\\u0434\\u043e\\u0440\\u043e\\u0432\\u044b\\u0435 \\u0434\\u043e\\u043d\\u043e\\u0440\\u044b\", \"\\u0418\\u0448\\u0435\\u043c\\u0438\\u0447\\u0435\\u0441\\u043a\\u0438\\u0439 \\u0438\\u043d\\u0441\\u0443\\u043b\\u044c\\u0442\", \"\\u0421\\u0414\", \"\\u0425\\u041d\\u041c\\u041a\"], \"categoryorder\": \"array\", \"domain\": [0.0, 1.0], \"title\": {\"text\": \"\\u0413\\u0440\\u0443\\u043f\\u043f\\u044b\"}}, \"yaxis\": {\"anchor\": \"x\", \"domain\": [0.0, 1.0], \"title\": {\"text\": \"\\u041a\\u043e\\u043d\\u0446\\u0435\\u043d\\u0442\\u0440\\u0430\\u0446\\u0438\\u044f (\\u0441\\u043e\\u0431\\u044b\\u0442\\u0438\\u044f\\\\\\u043c\\u043a\\u043b)\"}}},                        {\"responsive\": true}                    ).then(function(){\n",
       "                            \n",
       "var gd = document.getElementById('b59c593a-f7e9-43a4-bee7-04e587f41906');\n",
       "var x = new MutationObserver(function (mutations, observer) {{\n",
       "        var display = window.getComputedStyle(gd).display;\n",
       "        if (!display || display === 'none') {{\n",
       "            console.log([gd, 'removed!']);\n",
       "            Plotly.purge(gd);\n",
       "            observer.disconnect();\n",
       "        }}\n",
       "}});\n",
       "\n",
       "// Listen for the removal of the full notebook cells\n",
       "var notebookContainer = gd.closest('#notebook-container');\n",
       "if (notebookContainer) {{\n",
       "    x.observe(notebookContainer, {childList: true});\n",
       "}}\n",
       "\n",
       "// Listen for the clearing of the current output cell\n",
       "var outputEl = gd.closest('.output');\n",
       "if (outputEl) {{\n",
       "    x.observe(outputEl, {childList: true});\n",
       "}}\n",
       "\n",
       "                        })                };                });            </script>        </div>"
      ]
     },
     "metadata": {},
     "output_type": "display_data"
    }
   ],
   "source": [
    "px.box(df, x=df[cols[0]], y=df[cols[4]], color=df[cols[0]], labels={'Groups': 'Группы', 'CD31+ Events/?L(V) w/ dilution': 'Концентрация (события\\мкл)'})"
   ]
  },
  {
   "cell_type": "code",
   "execution_count": 7,
   "id": "685a3606",
   "metadata": {},
   "outputs": [
    {
     "data": {
      "application/vnd.plotly.v1+json": {
       "config": {
        "plotlyServerURL": "https://plot.ly"
       },
       "data": [
        {
         "alignmentgroup": "True",
         "hovertemplate": "Группы=%{x}<br>Концентрация (события\\мкл)=%{y}<extra></extra>",
         "legendgroup": "Здоровые доноры",
         "marker": {
          "color": "#636efa"
         },
         "name": "Здоровые доноры",
         "notched": false,
         "offsetgroup": "Здоровые доноры",
         "orientation": "v",
         "showlegend": true,
         "type": "box",
         "x": [
          "Здоровые доноры",
          "Здоровые доноры",
          "Здоровые доноры",
          "Здоровые доноры",
          "Здоровые доноры",
          "Здоровые доноры",
          "Здоровые доноры",
          "Здоровые доноры"
         ],
         "x0": " ",
         "xaxis": "x",
         "y": [
          18.7,
          5.7,
          3.8,
          4.8,
          4.2,
          21.3,
          null,
          8.8
         ],
         "y0": " ",
         "yaxis": "y"
        },
        {
         "alignmentgroup": "True",
         "hovertemplate": "Группы=%{x}<br>Концентрация (события\\мкл)=%{y}<extra></extra>",
         "legendgroup": "Ишемический инсульт",
         "marker": {
          "color": "#EF553B"
         },
         "name": "Ишемический инсульт",
         "notched": false,
         "offsetgroup": "Ишемический инсульт",
         "orientation": "v",
         "showlegend": true,
         "type": "box",
         "x": [
          "Ишемический инсульт",
          "Ишемический инсульт",
          "Ишемический инсульт",
          "Ишемический инсульт",
          "Ишемический инсульт",
          "Ишемический инсульт"
         ],
         "x0": " ",
         "xaxis": "x",
         "y": [
          1.2,
          5,
          2.3,
          10.9,
          2.7,
          31.8
         ],
         "y0": " ",
         "yaxis": "y"
        },
        {
         "alignmentgroup": "True",
         "hovertemplate": "Группы=%{x}<br>Концентрация (события\\мкл)=%{y}<extra></extra>",
         "legendgroup": "СД",
         "marker": {
          "color": "#00cc96"
         },
         "name": "СД",
         "notched": false,
         "offsetgroup": "СД",
         "orientation": "v",
         "showlegend": true,
         "type": "box",
         "x": [
          "СД",
          "СД",
          "СД",
          "СД",
          "СД",
          "СД",
          "СД",
          "СД",
          "СД",
          "СД",
          "СД"
         ],
         "x0": " ",
         "xaxis": "x",
         "y": [
          0.2,
          null,
          2.3,
          null,
          1.3,
          0.4,
          1.7,
          2.2,
          1.6,
          7.1,
          0.4
         ],
         "y0": " ",
         "yaxis": "y"
        },
        {
         "alignmentgroup": "True",
         "hovertemplate": "Группы=%{x}<br>Концентрация (события\\мкл)=%{y}<extra></extra>",
         "legendgroup": "ХНМК",
         "marker": {
          "color": "#ab63fa"
         },
         "name": "ХНМК",
         "notched": false,
         "offsetgroup": "ХНМК",
         "orientation": "v",
         "showlegend": true,
         "type": "box",
         "x": [
          "ХНМК",
          "ХНМК",
          "ХНМК",
          "ХНМК",
          "ХНМК",
          "ХНМК",
          "ХНМК",
          "ХНМК",
          "ХНМК",
          "ХНМК",
          "ХНМК",
          "ХНМК",
          "ХНМК",
          "ХНМК",
          "ХНМК",
          "ХНМК",
          "ХНМК",
          "ХНМК",
          "ХНМК",
          "ХНМК",
          "ХНМК",
          "ХНМК",
          "ХНМК",
          "ХНМК",
          "ХНМК",
          "ХНМК",
          "ХНМК",
          "ХНМК",
          "ХНМК",
          "ХНМК",
          "ХНМК",
          "ХНМК",
          "ХНМК"
         ],
         "x0": " ",
         "xaxis": "x",
         "y": [
          7,
          null,
          null,
          null,
          1.8,
          1.3,
          11.7,
          null,
          0.4,
          null,
          7.3,
          1,
          null,
          3.2,
          null,
          7,
          null,
          3.9,
          2,
          16.1,
          8,
          1,
          6.7,
          9.5,
          2.3,
          4.2,
          null,
          null,
          null,
          0.8,
          4.7,
          42.8,
          8.3
         ],
         "y0": " ",
         "yaxis": "y"
        }
       ],
       "layout": {
        "boxmode": "overlay",
        "legend": {
         "title": {
          "text": "Группы"
         },
         "tracegroupgap": 0
        },
        "margin": {
         "t": 60
        },
        "template": {
         "data": {
          "bar": [
           {
            "error_x": {
             "color": "#2a3f5f"
            },
            "error_y": {
             "color": "#2a3f5f"
            },
            "marker": {
             "line": {
              "color": "#E5ECF6",
              "width": 0.5
             }
            },
            "type": "bar"
           }
          ],
          "barpolar": [
           {
            "marker": {
             "line": {
              "color": "#E5ECF6",
              "width": 0.5
             }
            },
            "type": "barpolar"
           }
          ],
          "carpet": [
           {
            "aaxis": {
             "endlinecolor": "#2a3f5f",
             "gridcolor": "white",
             "linecolor": "white",
             "minorgridcolor": "white",
             "startlinecolor": "#2a3f5f"
            },
            "baxis": {
             "endlinecolor": "#2a3f5f",
             "gridcolor": "white",
             "linecolor": "white",
             "minorgridcolor": "white",
             "startlinecolor": "#2a3f5f"
            },
            "type": "carpet"
           }
          ],
          "choropleth": [
           {
            "colorbar": {
             "outlinewidth": 0,
             "ticks": ""
            },
            "type": "choropleth"
           }
          ],
          "contour": [
           {
            "colorbar": {
             "outlinewidth": 0,
             "ticks": ""
            },
            "colorscale": [
             [
              0,
              "#0d0887"
             ],
             [
              0.1111111111111111,
              "#46039f"
             ],
             [
              0.2222222222222222,
              "#7201a8"
             ],
             [
              0.3333333333333333,
              "#9c179e"
             ],
             [
              0.4444444444444444,
              "#bd3786"
             ],
             [
              0.5555555555555556,
              "#d8576b"
             ],
             [
              0.6666666666666666,
              "#ed7953"
             ],
             [
              0.7777777777777778,
              "#fb9f3a"
             ],
             [
              0.8888888888888888,
              "#fdca26"
             ],
             [
              1,
              "#f0f921"
             ]
            ],
            "type": "contour"
           }
          ],
          "contourcarpet": [
           {
            "colorbar": {
             "outlinewidth": 0,
             "ticks": ""
            },
            "type": "contourcarpet"
           }
          ],
          "heatmap": [
           {
            "colorbar": {
             "outlinewidth": 0,
             "ticks": ""
            },
            "colorscale": [
             [
              0,
              "#0d0887"
             ],
             [
              0.1111111111111111,
              "#46039f"
             ],
             [
              0.2222222222222222,
              "#7201a8"
             ],
             [
              0.3333333333333333,
              "#9c179e"
             ],
             [
              0.4444444444444444,
              "#bd3786"
             ],
             [
              0.5555555555555556,
              "#d8576b"
             ],
             [
              0.6666666666666666,
              "#ed7953"
             ],
             [
              0.7777777777777778,
              "#fb9f3a"
             ],
             [
              0.8888888888888888,
              "#fdca26"
             ],
             [
              1,
              "#f0f921"
             ]
            ],
            "type": "heatmap"
           }
          ],
          "heatmapgl": [
           {
            "colorbar": {
             "outlinewidth": 0,
             "ticks": ""
            },
            "colorscale": [
             [
              0,
              "#0d0887"
             ],
             [
              0.1111111111111111,
              "#46039f"
             ],
             [
              0.2222222222222222,
              "#7201a8"
             ],
             [
              0.3333333333333333,
              "#9c179e"
             ],
             [
              0.4444444444444444,
              "#bd3786"
             ],
             [
              0.5555555555555556,
              "#d8576b"
             ],
             [
              0.6666666666666666,
              "#ed7953"
             ],
             [
              0.7777777777777778,
              "#fb9f3a"
             ],
             [
              0.8888888888888888,
              "#fdca26"
             ],
             [
              1,
              "#f0f921"
             ]
            ],
            "type": "heatmapgl"
           }
          ],
          "histogram": [
           {
            "marker": {
             "colorbar": {
              "outlinewidth": 0,
              "ticks": ""
             }
            },
            "type": "histogram"
           }
          ],
          "histogram2d": [
           {
            "colorbar": {
             "outlinewidth": 0,
             "ticks": ""
            },
            "colorscale": [
             [
              0,
              "#0d0887"
             ],
             [
              0.1111111111111111,
              "#46039f"
             ],
             [
              0.2222222222222222,
              "#7201a8"
             ],
             [
              0.3333333333333333,
              "#9c179e"
             ],
             [
              0.4444444444444444,
              "#bd3786"
             ],
             [
              0.5555555555555556,
              "#d8576b"
             ],
             [
              0.6666666666666666,
              "#ed7953"
             ],
             [
              0.7777777777777778,
              "#fb9f3a"
             ],
             [
              0.8888888888888888,
              "#fdca26"
             ],
             [
              1,
              "#f0f921"
             ]
            ],
            "type": "histogram2d"
           }
          ],
          "histogram2dcontour": [
           {
            "colorbar": {
             "outlinewidth": 0,
             "ticks": ""
            },
            "colorscale": [
             [
              0,
              "#0d0887"
             ],
             [
              0.1111111111111111,
              "#46039f"
             ],
             [
              0.2222222222222222,
              "#7201a8"
             ],
             [
              0.3333333333333333,
              "#9c179e"
             ],
             [
              0.4444444444444444,
              "#bd3786"
             ],
             [
              0.5555555555555556,
              "#d8576b"
             ],
             [
              0.6666666666666666,
              "#ed7953"
             ],
             [
              0.7777777777777778,
              "#fb9f3a"
             ],
             [
              0.8888888888888888,
              "#fdca26"
             ],
             [
              1,
              "#f0f921"
             ]
            ],
            "type": "histogram2dcontour"
           }
          ],
          "mesh3d": [
           {
            "colorbar": {
             "outlinewidth": 0,
             "ticks": ""
            },
            "type": "mesh3d"
           }
          ],
          "parcoords": [
           {
            "line": {
             "colorbar": {
              "outlinewidth": 0,
              "ticks": ""
             }
            },
            "type": "parcoords"
           }
          ],
          "pie": [
           {
            "automargin": true,
            "type": "pie"
           }
          ],
          "scatter": [
           {
            "marker": {
             "colorbar": {
              "outlinewidth": 0,
              "ticks": ""
             }
            },
            "type": "scatter"
           }
          ],
          "scatter3d": [
           {
            "line": {
             "colorbar": {
              "outlinewidth": 0,
              "ticks": ""
             }
            },
            "marker": {
             "colorbar": {
              "outlinewidth": 0,
              "ticks": ""
             }
            },
            "type": "scatter3d"
           }
          ],
          "scattercarpet": [
           {
            "marker": {
             "colorbar": {
              "outlinewidth": 0,
              "ticks": ""
             }
            },
            "type": "scattercarpet"
           }
          ],
          "scattergeo": [
           {
            "marker": {
             "colorbar": {
              "outlinewidth": 0,
              "ticks": ""
             }
            },
            "type": "scattergeo"
           }
          ],
          "scattergl": [
           {
            "marker": {
             "colorbar": {
              "outlinewidth": 0,
              "ticks": ""
             }
            },
            "type": "scattergl"
           }
          ],
          "scattermapbox": [
           {
            "marker": {
             "colorbar": {
              "outlinewidth": 0,
              "ticks": ""
             }
            },
            "type": "scattermapbox"
           }
          ],
          "scatterpolar": [
           {
            "marker": {
             "colorbar": {
              "outlinewidth": 0,
              "ticks": ""
             }
            },
            "type": "scatterpolar"
           }
          ],
          "scatterpolargl": [
           {
            "marker": {
             "colorbar": {
              "outlinewidth": 0,
              "ticks": ""
             }
            },
            "type": "scatterpolargl"
           }
          ],
          "scatterternary": [
           {
            "marker": {
             "colorbar": {
              "outlinewidth": 0,
              "ticks": ""
             }
            },
            "type": "scatterternary"
           }
          ],
          "surface": [
           {
            "colorbar": {
             "outlinewidth": 0,
             "ticks": ""
            },
            "colorscale": [
             [
              0,
              "#0d0887"
             ],
             [
              0.1111111111111111,
              "#46039f"
             ],
             [
              0.2222222222222222,
              "#7201a8"
             ],
             [
              0.3333333333333333,
              "#9c179e"
             ],
             [
              0.4444444444444444,
              "#bd3786"
             ],
             [
              0.5555555555555556,
              "#d8576b"
             ],
             [
              0.6666666666666666,
              "#ed7953"
             ],
             [
              0.7777777777777778,
              "#fb9f3a"
             ],
             [
              0.8888888888888888,
              "#fdca26"
             ],
             [
              1,
              "#f0f921"
             ]
            ],
            "type": "surface"
           }
          ],
          "table": [
           {
            "cells": {
             "fill": {
              "color": "#EBF0F8"
             },
             "line": {
              "color": "white"
             }
            },
            "header": {
             "fill": {
              "color": "#C8D4E3"
             },
             "line": {
              "color": "white"
             }
            },
            "type": "table"
           }
          ]
         },
         "layout": {
          "annotationdefaults": {
           "arrowcolor": "#2a3f5f",
           "arrowhead": 0,
           "arrowwidth": 1
          },
          "autotypenumbers": "strict",
          "coloraxis": {
           "colorbar": {
            "outlinewidth": 0,
            "ticks": ""
           }
          },
          "colorscale": {
           "diverging": [
            [
             0,
             "#8e0152"
            ],
            [
             0.1,
             "#c51b7d"
            ],
            [
             0.2,
             "#de77ae"
            ],
            [
             0.3,
             "#f1b6da"
            ],
            [
             0.4,
             "#fde0ef"
            ],
            [
             0.5,
             "#f7f7f7"
            ],
            [
             0.6,
             "#e6f5d0"
            ],
            [
             0.7,
             "#b8e186"
            ],
            [
             0.8,
             "#7fbc41"
            ],
            [
             0.9,
             "#4d9221"
            ],
            [
             1,
             "#276419"
            ]
           ],
           "sequential": [
            [
             0,
             "#0d0887"
            ],
            [
             0.1111111111111111,
             "#46039f"
            ],
            [
             0.2222222222222222,
             "#7201a8"
            ],
            [
             0.3333333333333333,
             "#9c179e"
            ],
            [
             0.4444444444444444,
             "#bd3786"
            ],
            [
             0.5555555555555556,
             "#d8576b"
            ],
            [
             0.6666666666666666,
             "#ed7953"
            ],
            [
             0.7777777777777778,
             "#fb9f3a"
            ],
            [
             0.8888888888888888,
             "#fdca26"
            ],
            [
             1,
             "#f0f921"
            ]
           ],
           "sequentialminus": [
            [
             0,
             "#0d0887"
            ],
            [
             0.1111111111111111,
             "#46039f"
            ],
            [
             0.2222222222222222,
             "#7201a8"
            ],
            [
             0.3333333333333333,
             "#9c179e"
            ],
            [
             0.4444444444444444,
             "#bd3786"
            ],
            [
             0.5555555555555556,
             "#d8576b"
            ],
            [
             0.6666666666666666,
             "#ed7953"
            ],
            [
             0.7777777777777778,
             "#fb9f3a"
            ],
            [
             0.8888888888888888,
             "#fdca26"
            ],
            [
             1,
             "#f0f921"
            ]
           ]
          },
          "colorway": [
           "#636efa",
           "#EF553B",
           "#00cc96",
           "#ab63fa",
           "#FFA15A",
           "#19d3f3",
           "#FF6692",
           "#B6E880",
           "#FF97FF",
           "#FECB52"
          ],
          "font": {
           "color": "#2a3f5f"
          },
          "geo": {
           "bgcolor": "white",
           "lakecolor": "white",
           "landcolor": "#E5ECF6",
           "showlakes": true,
           "showland": true,
           "subunitcolor": "white"
          },
          "hoverlabel": {
           "align": "left"
          },
          "hovermode": "closest",
          "mapbox": {
           "style": "light"
          },
          "paper_bgcolor": "white",
          "plot_bgcolor": "#E5ECF6",
          "polar": {
           "angularaxis": {
            "gridcolor": "white",
            "linecolor": "white",
            "ticks": ""
           },
           "bgcolor": "#E5ECF6",
           "radialaxis": {
            "gridcolor": "white",
            "linecolor": "white",
            "ticks": ""
           }
          },
          "scene": {
           "xaxis": {
            "backgroundcolor": "#E5ECF6",
            "gridcolor": "white",
            "gridwidth": 2,
            "linecolor": "white",
            "showbackground": true,
            "ticks": "",
            "zerolinecolor": "white"
           },
           "yaxis": {
            "backgroundcolor": "#E5ECF6",
            "gridcolor": "white",
            "gridwidth": 2,
            "linecolor": "white",
            "showbackground": true,
            "ticks": "",
            "zerolinecolor": "white"
           },
           "zaxis": {
            "backgroundcolor": "#E5ECF6",
            "gridcolor": "white",
            "gridwidth": 2,
            "linecolor": "white",
            "showbackground": true,
            "ticks": "",
            "zerolinecolor": "white"
           }
          },
          "shapedefaults": {
           "line": {
            "color": "#2a3f5f"
           }
          },
          "ternary": {
           "aaxis": {
            "gridcolor": "white",
            "linecolor": "white",
            "ticks": ""
           },
           "baxis": {
            "gridcolor": "white",
            "linecolor": "white",
            "ticks": ""
           },
           "bgcolor": "#E5ECF6",
           "caxis": {
            "gridcolor": "white",
            "linecolor": "white",
            "ticks": ""
           }
          },
          "title": {
           "x": 0.05
          },
          "xaxis": {
           "automargin": true,
           "gridcolor": "white",
           "linecolor": "white",
           "ticks": "",
           "title": {
            "standoff": 15
           },
           "zerolinecolor": "white",
           "zerolinewidth": 2
          },
          "yaxis": {
           "automargin": true,
           "gridcolor": "white",
           "linecolor": "white",
           "ticks": "",
           "title": {
            "standoff": 15
           },
           "zerolinecolor": "white",
           "zerolinewidth": 2
          }
         }
        },
        "xaxis": {
         "anchor": "y",
         "categoryarray": [
          "Здоровые доноры",
          "Ишемический инсульт",
          "СД",
          "ХНМК"
         ],
         "categoryorder": "array",
         "domain": [
          0,
          1
         ],
         "title": {
          "text": "Группы"
         }
        },
        "yaxis": {
         "anchor": "x",
         "domain": [
          0,
          1
         ],
         "title": {
          "text": "Концентрация (события\\мкл)"
         }
        }
       }
      },
      "text/html": [
       "<div>                            <div id=\"623f88f8-6500-466f-84e5-0433a71d4a39\" class=\"plotly-graph-div\" style=\"height:525px; width:100%;\"></div>            <script type=\"text/javascript\">                require([\"plotly\"], function(Plotly) {                    window.PLOTLYENV=window.PLOTLYENV || {};                                    if (document.getElementById(\"623f88f8-6500-466f-84e5-0433a71d4a39\")) {                    Plotly.newPlot(                        \"623f88f8-6500-466f-84e5-0433a71d4a39\",                        [{\"alignmentgroup\": \"True\", \"hovertemplate\": \"\\u0413\\u0440\\u0443\\u043f\\u043f\\u044b=%{x}<br>\\u041a\\u043e\\u043d\\u0446\\u0435\\u043d\\u0442\\u0440\\u0430\\u0446\\u0438\\u044f (\\u0441\\u043e\\u0431\\u044b\\u0442\\u0438\\u044f\\\\\\u043c\\u043a\\u043b)=%{y}<extra></extra>\", \"legendgroup\": \"\\u0417\\u0434\\u043e\\u0440\\u043e\\u0432\\u044b\\u0435 \\u0434\\u043e\\u043d\\u043e\\u0440\\u044b\", \"marker\": {\"color\": \"#636efa\"}, \"name\": \"\\u0417\\u0434\\u043e\\u0440\\u043e\\u0432\\u044b\\u0435 \\u0434\\u043e\\u043d\\u043e\\u0440\\u044b\", \"notched\": false, \"offsetgroup\": \"\\u0417\\u0434\\u043e\\u0440\\u043e\\u0432\\u044b\\u0435 \\u0434\\u043e\\u043d\\u043e\\u0440\\u044b\", \"orientation\": \"v\", \"showlegend\": true, \"type\": \"box\", \"x\": [\"\\u0417\\u0434\\u043e\\u0440\\u043e\\u0432\\u044b\\u0435 \\u0434\\u043e\\u043d\\u043e\\u0440\\u044b\", \"\\u0417\\u0434\\u043e\\u0440\\u043e\\u0432\\u044b\\u0435 \\u0434\\u043e\\u043d\\u043e\\u0440\\u044b\", \"\\u0417\\u0434\\u043e\\u0440\\u043e\\u0432\\u044b\\u0435 \\u0434\\u043e\\u043d\\u043e\\u0440\\u044b\", \"\\u0417\\u0434\\u043e\\u0440\\u043e\\u0432\\u044b\\u0435 \\u0434\\u043e\\u043d\\u043e\\u0440\\u044b\", \"\\u0417\\u0434\\u043e\\u0440\\u043e\\u0432\\u044b\\u0435 \\u0434\\u043e\\u043d\\u043e\\u0440\\u044b\", \"\\u0417\\u0434\\u043e\\u0440\\u043e\\u0432\\u044b\\u0435 \\u0434\\u043e\\u043d\\u043e\\u0440\\u044b\", \"\\u0417\\u0434\\u043e\\u0440\\u043e\\u0432\\u044b\\u0435 \\u0434\\u043e\\u043d\\u043e\\u0440\\u044b\", \"\\u0417\\u0434\\u043e\\u0440\\u043e\\u0432\\u044b\\u0435 \\u0434\\u043e\\u043d\\u043e\\u0440\\u044b\"], \"x0\": \" \", \"xaxis\": \"x\", \"y\": [18.7, 5.7, 3.8, 4.8, 4.2, 21.3, null, 8.8], \"y0\": \" \", \"yaxis\": \"y\"}, {\"alignmentgroup\": \"True\", \"hovertemplate\": \"\\u0413\\u0440\\u0443\\u043f\\u043f\\u044b=%{x}<br>\\u041a\\u043e\\u043d\\u0446\\u0435\\u043d\\u0442\\u0440\\u0430\\u0446\\u0438\\u044f (\\u0441\\u043e\\u0431\\u044b\\u0442\\u0438\\u044f\\\\\\u043c\\u043a\\u043b)=%{y}<extra></extra>\", \"legendgroup\": \"\\u0418\\u0448\\u0435\\u043c\\u0438\\u0447\\u0435\\u0441\\u043a\\u0438\\u0439 \\u0438\\u043d\\u0441\\u0443\\u043b\\u044c\\u0442\", \"marker\": {\"color\": \"#EF553B\"}, \"name\": \"\\u0418\\u0448\\u0435\\u043c\\u0438\\u0447\\u0435\\u0441\\u043a\\u0438\\u0439 \\u0438\\u043d\\u0441\\u0443\\u043b\\u044c\\u0442\", \"notched\": false, \"offsetgroup\": \"\\u0418\\u0448\\u0435\\u043c\\u0438\\u0447\\u0435\\u0441\\u043a\\u0438\\u0439 \\u0438\\u043d\\u0441\\u0443\\u043b\\u044c\\u0442\", \"orientation\": \"v\", \"showlegend\": true, \"type\": \"box\", \"x\": [\"\\u0418\\u0448\\u0435\\u043c\\u0438\\u0447\\u0435\\u0441\\u043a\\u0438\\u0439 \\u0438\\u043d\\u0441\\u0443\\u043b\\u044c\\u0442\", \"\\u0418\\u0448\\u0435\\u043c\\u0438\\u0447\\u0435\\u0441\\u043a\\u0438\\u0439 \\u0438\\u043d\\u0441\\u0443\\u043b\\u044c\\u0442\", \"\\u0418\\u0448\\u0435\\u043c\\u0438\\u0447\\u0435\\u0441\\u043a\\u0438\\u0439 \\u0438\\u043d\\u0441\\u0443\\u043b\\u044c\\u0442\", \"\\u0418\\u0448\\u0435\\u043c\\u0438\\u0447\\u0435\\u0441\\u043a\\u0438\\u0439 \\u0438\\u043d\\u0441\\u0443\\u043b\\u044c\\u0442\", \"\\u0418\\u0448\\u0435\\u043c\\u0438\\u0447\\u0435\\u0441\\u043a\\u0438\\u0439 \\u0438\\u043d\\u0441\\u0443\\u043b\\u044c\\u0442\", \"\\u0418\\u0448\\u0435\\u043c\\u0438\\u0447\\u0435\\u0441\\u043a\\u0438\\u0439 \\u0438\\u043d\\u0441\\u0443\\u043b\\u044c\\u0442\"], \"x0\": \" \", \"xaxis\": \"x\", \"y\": [1.2, 5.0, 2.3, 10.9, 2.7, 31.8], \"y0\": \" \", \"yaxis\": \"y\"}, {\"alignmentgroup\": \"True\", \"hovertemplate\": \"\\u0413\\u0440\\u0443\\u043f\\u043f\\u044b=%{x}<br>\\u041a\\u043e\\u043d\\u0446\\u0435\\u043d\\u0442\\u0440\\u0430\\u0446\\u0438\\u044f (\\u0441\\u043e\\u0431\\u044b\\u0442\\u0438\\u044f\\\\\\u043c\\u043a\\u043b)=%{y}<extra></extra>\", \"legendgroup\": \"\\u0421\\u0414\", \"marker\": {\"color\": \"#00cc96\"}, \"name\": \"\\u0421\\u0414\", \"notched\": false, \"offsetgroup\": \"\\u0421\\u0414\", \"orientation\": \"v\", \"showlegend\": true, \"type\": \"box\", \"x\": [\"\\u0421\\u0414\", \"\\u0421\\u0414\", \"\\u0421\\u0414\", \"\\u0421\\u0414\", \"\\u0421\\u0414\", \"\\u0421\\u0414\", \"\\u0421\\u0414\", \"\\u0421\\u0414\", \"\\u0421\\u0414\", \"\\u0421\\u0414\", \"\\u0421\\u0414\"], \"x0\": \" \", \"xaxis\": \"x\", \"y\": [0.2, null, 2.3, null, 1.3, 0.4, 1.7, 2.2, 1.6, 7.1, 0.4], \"y0\": \" \", \"yaxis\": \"y\"}, {\"alignmentgroup\": \"True\", \"hovertemplate\": \"\\u0413\\u0440\\u0443\\u043f\\u043f\\u044b=%{x}<br>\\u041a\\u043e\\u043d\\u0446\\u0435\\u043d\\u0442\\u0440\\u0430\\u0446\\u0438\\u044f (\\u0441\\u043e\\u0431\\u044b\\u0442\\u0438\\u044f\\\\\\u043c\\u043a\\u043b)=%{y}<extra></extra>\", \"legendgroup\": \"\\u0425\\u041d\\u041c\\u041a\", \"marker\": {\"color\": \"#ab63fa\"}, \"name\": \"\\u0425\\u041d\\u041c\\u041a\", \"notched\": false, \"offsetgroup\": \"\\u0425\\u041d\\u041c\\u041a\", \"orientation\": \"v\", \"showlegend\": true, \"type\": \"box\", \"x\": [\"\\u0425\\u041d\\u041c\\u041a\", \"\\u0425\\u041d\\u041c\\u041a\", \"\\u0425\\u041d\\u041c\\u041a\", \"\\u0425\\u041d\\u041c\\u041a\", \"\\u0425\\u041d\\u041c\\u041a\", \"\\u0425\\u041d\\u041c\\u041a\", \"\\u0425\\u041d\\u041c\\u041a\", \"\\u0425\\u041d\\u041c\\u041a\", \"\\u0425\\u041d\\u041c\\u041a\", \"\\u0425\\u041d\\u041c\\u041a\", \"\\u0425\\u041d\\u041c\\u041a\", \"\\u0425\\u041d\\u041c\\u041a\", \"\\u0425\\u041d\\u041c\\u041a\", \"\\u0425\\u041d\\u041c\\u041a\", \"\\u0425\\u041d\\u041c\\u041a\", \"\\u0425\\u041d\\u041c\\u041a\", \"\\u0425\\u041d\\u041c\\u041a\", \"\\u0425\\u041d\\u041c\\u041a\", \"\\u0425\\u041d\\u041c\\u041a\", \"\\u0425\\u041d\\u041c\\u041a\", \"\\u0425\\u041d\\u041c\\u041a\", \"\\u0425\\u041d\\u041c\\u041a\", \"\\u0425\\u041d\\u041c\\u041a\", \"\\u0425\\u041d\\u041c\\u041a\", \"\\u0425\\u041d\\u041c\\u041a\", \"\\u0425\\u041d\\u041c\\u041a\", \"\\u0425\\u041d\\u041c\\u041a\", \"\\u0425\\u041d\\u041c\\u041a\", \"\\u0425\\u041d\\u041c\\u041a\", \"\\u0425\\u041d\\u041c\\u041a\", \"\\u0425\\u041d\\u041c\\u041a\", \"\\u0425\\u041d\\u041c\\u041a\", \"\\u0425\\u041d\\u041c\\u041a\"], \"x0\": \" \", \"xaxis\": \"x\", \"y\": [7.0, null, null, null, 1.8, 1.3, 11.7, null, 0.4, null, 7.3, 1.0, null, 3.2, null, 7.0, null, 3.9, 2.0, 16.1, 8.0, 1.0, 6.7, 9.5, 2.3, 4.2, null, null, null, 0.8, 4.7, 42.8, 8.3], \"y0\": \" \", \"yaxis\": \"y\"}],                        {\"boxmode\": \"overlay\", \"legend\": {\"title\": {\"text\": \"\\u0413\\u0440\\u0443\\u043f\\u043f\\u044b\"}, \"tracegroupgap\": 0}, \"margin\": {\"t\": 60}, \"template\": {\"data\": {\"bar\": [{\"error_x\": {\"color\": \"#2a3f5f\"}, \"error_y\": {\"color\": \"#2a3f5f\"}, \"marker\": {\"line\": {\"color\": \"#E5ECF6\", \"width\": 0.5}}, \"type\": \"bar\"}], \"barpolar\": [{\"marker\": {\"line\": {\"color\": \"#E5ECF6\", \"width\": 0.5}}, \"type\": \"barpolar\"}], \"carpet\": [{\"aaxis\": {\"endlinecolor\": \"#2a3f5f\", \"gridcolor\": \"white\", \"linecolor\": \"white\", \"minorgridcolor\": \"white\", \"startlinecolor\": \"#2a3f5f\"}, \"baxis\": {\"endlinecolor\": \"#2a3f5f\", \"gridcolor\": \"white\", \"linecolor\": \"white\", \"minorgridcolor\": \"white\", \"startlinecolor\": \"#2a3f5f\"}, \"type\": \"carpet\"}], \"choropleth\": [{\"colorbar\": {\"outlinewidth\": 0, \"ticks\": \"\"}, \"type\": \"choropleth\"}], \"contour\": [{\"colorbar\": {\"outlinewidth\": 0, \"ticks\": \"\"}, \"colorscale\": [[0.0, \"#0d0887\"], [0.1111111111111111, \"#46039f\"], [0.2222222222222222, \"#7201a8\"], [0.3333333333333333, \"#9c179e\"], [0.4444444444444444, \"#bd3786\"], [0.5555555555555556, \"#d8576b\"], [0.6666666666666666, \"#ed7953\"], [0.7777777777777778, \"#fb9f3a\"], [0.8888888888888888, \"#fdca26\"], [1.0, \"#f0f921\"]], \"type\": \"contour\"}], \"contourcarpet\": [{\"colorbar\": {\"outlinewidth\": 0, \"ticks\": \"\"}, \"type\": \"contourcarpet\"}], \"heatmap\": [{\"colorbar\": {\"outlinewidth\": 0, \"ticks\": \"\"}, \"colorscale\": [[0.0, \"#0d0887\"], [0.1111111111111111, \"#46039f\"], [0.2222222222222222, \"#7201a8\"], [0.3333333333333333, \"#9c179e\"], [0.4444444444444444, \"#bd3786\"], [0.5555555555555556, \"#d8576b\"], [0.6666666666666666, \"#ed7953\"], [0.7777777777777778, \"#fb9f3a\"], [0.8888888888888888, \"#fdca26\"], [1.0, \"#f0f921\"]], \"type\": \"heatmap\"}], \"heatmapgl\": [{\"colorbar\": {\"outlinewidth\": 0, \"ticks\": \"\"}, \"colorscale\": [[0.0, \"#0d0887\"], [0.1111111111111111, \"#46039f\"], [0.2222222222222222, \"#7201a8\"], [0.3333333333333333, \"#9c179e\"], [0.4444444444444444, \"#bd3786\"], [0.5555555555555556, \"#d8576b\"], [0.6666666666666666, \"#ed7953\"], [0.7777777777777778, \"#fb9f3a\"], [0.8888888888888888, \"#fdca26\"], [1.0, \"#f0f921\"]], \"type\": \"heatmapgl\"}], \"histogram\": [{\"marker\": {\"colorbar\": {\"outlinewidth\": 0, \"ticks\": \"\"}}, \"type\": \"histogram\"}], \"histogram2d\": [{\"colorbar\": {\"outlinewidth\": 0, \"ticks\": \"\"}, \"colorscale\": [[0.0, \"#0d0887\"], [0.1111111111111111, \"#46039f\"], [0.2222222222222222, \"#7201a8\"], [0.3333333333333333, \"#9c179e\"], [0.4444444444444444, \"#bd3786\"], [0.5555555555555556, \"#d8576b\"], [0.6666666666666666, \"#ed7953\"], [0.7777777777777778, \"#fb9f3a\"], [0.8888888888888888, \"#fdca26\"], [1.0, \"#f0f921\"]], \"type\": \"histogram2d\"}], \"histogram2dcontour\": [{\"colorbar\": {\"outlinewidth\": 0, \"ticks\": \"\"}, \"colorscale\": [[0.0, \"#0d0887\"], [0.1111111111111111, \"#46039f\"], [0.2222222222222222, \"#7201a8\"], [0.3333333333333333, \"#9c179e\"], [0.4444444444444444, \"#bd3786\"], [0.5555555555555556, \"#d8576b\"], [0.6666666666666666, \"#ed7953\"], [0.7777777777777778, \"#fb9f3a\"], [0.8888888888888888, \"#fdca26\"], [1.0, \"#f0f921\"]], \"type\": \"histogram2dcontour\"}], \"mesh3d\": [{\"colorbar\": {\"outlinewidth\": 0, \"ticks\": \"\"}, \"type\": \"mesh3d\"}], \"parcoords\": [{\"line\": {\"colorbar\": {\"outlinewidth\": 0, \"ticks\": \"\"}}, \"type\": \"parcoords\"}], \"pie\": [{\"automargin\": true, \"type\": \"pie\"}], \"scatter\": [{\"marker\": {\"colorbar\": {\"outlinewidth\": 0, \"ticks\": \"\"}}, \"type\": \"scatter\"}], \"scatter3d\": [{\"line\": {\"colorbar\": {\"outlinewidth\": 0, \"ticks\": \"\"}}, \"marker\": {\"colorbar\": {\"outlinewidth\": 0, \"ticks\": \"\"}}, \"type\": \"scatter3d\"}], \"scattercarpet\": [{\"marker\": {\"colorbar\": {\"outlinewidth\": 0, \"ticks\": \"\"}}, \"type\": \"scattercarpet\"}], \"scattergeo\": [{\"marker\": {\"colorbar\": {\"outlinewidth\": 0, \"ticks\": \"\"}}, \"type\": \"scattergeo\"}], \"scattergl\": [{\"marker\": {\"colorbar\": {\"outlinewidth\": 0, \"ticks\": \"\"}}, \"type\": \"scattergl\"}], \"scattermapbox\": [{\"marker\": {\"colorbar\": {\"outlinewidth\": 0, \"ticks\": \"\"}}, \"type\": \"scattermapbox\"}], \"scatterpolar\": [{\"marker\": {\"colorbar\": {\"outlinewidth\": 0, \"ticks\": \"\"}}, \"type\": \"scatterpolar\"}], \"scatterpolargl\": [{\"marker\": {\"colorbar\": {\"outlinewidth\": 0, \"ticks\": \"\"}}, \"type\": \"scatterpolargl\"}], \"scatterternary\": [{\"marker\": {\"colorbar\": {\"outlinewidth\": 0, \"ticks\": \"\"}}, \"type\": \"scatterternary\"}], \"surface\": [{\"colorbar\": {\"outlinewidth\": 0, \"ticks\": \"\"}, \"colorscale\": [[0.0, \"#0d0887\"], [0.1111111111111111, \"#46039f\"], [0.2222222222222222, \"#7201a8\"], [0.3333333333333333, \"#9c179e\"], [0.4444444444444444, \"#bd3786\"], [0.5555555555555556, \"#d8576b\"], [0.6666666666666666, \"#ed7953\"], [0.7777777777777778, \"#fb9f3a\"], [0.8888888888888888, \"#fdca26\"], [1.0, \"#f0f921\"]], \"type\": \"surface\"}], \"table\": [{\"cells\": {\"fill\": {\"color\": \"#EBF0F8\"}, \"line\": {\"color\": \"white\"}}, \"header\": {\"fill\": {\"color\": \"#C8D4E3\"}, \"line\": {\"color\": \"white\"}}, \"type\": \"table\"}]}, \"layout\": {\"annotationdefaults\": {\"arrowcolor\": \"#2a3f5f\", \"arrowhead\": 0, \"arrowwidth\": 1}, \"autotypenumbers\": \"strict\", \"coloraxis\": {\"colorbar\": {\"outlinewidth\": 0, \"ticks\": \"\"}}, \"colorscale\": {\"diverging\": [[0, \"#8e0152\"], [0.1, \"#c51b7d\"], [0.2, \"#de77ae\"], [0.3, \"#f1b6da\"], [0.4, \"#fde0ef\"], [0.5, \"#f7f7f7\"], [0.6, \"#e6f5d0\"], [0.7, \"#b8e186\"], [0.8, \"#7fbc41\"], [0.9, \"#4d9221\"], [1, \"#276419\"]], \"sequential\": [[0.0, \"#0d0887\"], [0.1111111111111111, \"#46039f\"], [0.2222222222222222, \"#7201a8\"], [0.3333333333333333, \"#9c179e\"], [0.4444444444444444, \"#bd3786\"], [0.5555555555555556, \"#d8576b\"], [0.6666666666666666, \"#ed7953\"], [0.7777777777777778, \"#fb9f3a\"], [0.8888888888888888, \"#fdca26\"], [1.0, \"#f0f921\"]], \"sequentialminus\": [[0.0, \"#0d0887\"], [0.1111111111111111, \"#46039f\"], [0.2222222222222222, \"#7201a8\"], [0.3333333333333333, \"#9c179e\"], [0.4444444444444444, \"#bd3786\"], [0.5555555555555556, \"#d8576b\"], [0.6666666666666666, \"#ed7953\"], [0.7777777777777778, \"#fb9f3a\"], [0.8888888888888888, \"#fdca26\"], [1.0, \"#f0f921\"]]}, \"colorway\": [\"#636efa\", \"#EF553B\", \"#00cc96\", \"#ab63fa\", \"#FFA15A\", \"#19d3f3\", \"#FF6692\", \"#B6E880\", \"#FF97FF\", \"#FECB52\"], \"font\": {\"color\": \"#2a3f5f\"}, \"geo\": {\"bgcolor\": \"white\", \"lakecolor\": \"white\", \"landcolor\": \"#E5ECF6\", \"showlakes\": true, \"showland\": true, \"subunitcolor\": \"white\"}, \"hoverlabel\": {\"align\": \"left\"}, \"hovermode\": \"closest\", \"mapbox\": {\"style\": \"light\"}, \"paper_bgcolor\": \"white\", \"plot_bgcolor\": \"#E5ECF6\", \"polar\": {\"angularaxis\": {\"gridcolor\": \"white\", \"linecolor\": \"white\", \"ticks\": \"\"}, \"bgcolor\": \"#E5ECF6\", \"radialaxis\": {\"gridcolor\": \"white\", \"linecolor\": \"white\", \"ticks\": \"\"}}, \"scene\": {\"xaxis\": {\"backgroundcolor\": \"#E5ECF6\", \"gridcolor\": \"white\", \"gridwidth\": 2, \"linecolor\": \"white\", \"showbackground\": true, \"ticks\": \"\", \"zerolinecolor\": \"white\"}, \"yaxis\": {\"backgroundcolor\": \"#E5ECF6\", \"gridcolor\": \"white\", \"gridwidth\": 2, \"linecolor\": \"white\", \"showbackground\": true, \"ticks\": \"\", \"zerolinecolor\": \"white\"}, \"zaxis\": {\"backgroundcolor\": \"#E5ECF6\", \"gridcolor\": \"white\", \"gridwidth\": 2, \"linecolor\": \"white\", \"showbackground\": true, \"ticks\": \"\", \"zerolinecolor\": \"white\"}}, \"shapedefaults\": {\"line\": {\"color\": \"#2a3f5f\"}}, \"ternary\": {\"aaxis\": {\"gridcolor\": \"white\", \"linecolor\": \"white\", \"ticks\": \"\"}, \"baxis\": {\"gridcolor\": \"white\", \"linecolor\": \"white\", \"ticks\": \"\"}, \"bgcolor\": \"#E5ECF6\", \"caxis\": {\"gridcolor\": \"white\", \"linecolor\": \"white\", \"ticks\": \"\"}}, \"title\": {\"x\": 0.05}, \"xaxis\": {\"automargin\": true, \"gridcolor\": \"white\", \"linecolor\": \"white\", \"ticks\": \"\", \"title\": {\"standoff\": 15}, \"zerolinecolor\": \"white\", \"zerolinewidth\": 2}, \"yaxis\": {\"automargin\": true, \"gridcolor\": \"white\", \"linecolor\": \"white\", \"ticks\": \"\", \"title\": {\"standoff\": 15}, \"zerolinecolor\": \"white\", \"zerolinewidth\": 2}}}, \"xaxis\": {\"anchor\": \"y\", \"categoryarray\": [\"\\u0417\\u0434\\u043e\\u0440\\u043e\\u0432\\u044b\\u0435 \\u0434\\u043e\\u043d\\u043e\\u0440\\u044b\", \"\\u0418\\u0448\\u0435\\u043c\\u0438\\u0447\\u0435\\u0441\\u043a\\u0438\\u0439 \\u0438\\u043d\\u0441\\u0443\\u043b\\u044c\\u0442\", \"\\u0421\\u0414\", \"\\u0425\\u041d\\u041c\\u041a\"], \"categoryorder\": \"array\", \"domain\": [0.0, 1.0], \"title\": {\"text\": \"\\u0413\\u0440\\u0443\\u043f\\u043f\\u044b\"}}, \"yaxis\": {\"anchor\": \"x\", \"domain\": [0.0, 1.0], \"title\": {\"text\": \"\\u041a\\u043e\\u043d\\u0446\\u0435\\u043d\\u0442\\u0440\\u0430\\u0446\\u0438\\u044f (\\u0441\\u043e\\u0431\\u044b\\u0442\\u0438\\u044f\\\\\\u043c\\u043a\\u043b)\"}}},                        {\"responsive\": true}                    ).then(function(){\n",
       "                            \n",
       "var gd = document.getElementById('623f88f8-6500-466f-84e5-0433a71d4a39');\n",
       "var x = new MutationObserver(function (mutations, observer) {{\n",
       "        var display = window.getComputedStyle(gd).display;\n",
       "        if (!display || display === 'none') {{\n",
       "            console.log([gd, 'removed!']);\n",
       "            Plotly.purge(gd);\n",
       "            observer.disconnect();\n",
       "        }}\n",
       "}});\n",
       "\n",
       "// Listen for the removal of the full notebook cells\n",
       "var notebookContainer = gd.closest('#notebook-container');\n",
       "if (notebookContainer) {{\n",
       "    x.observe(notebookContainer, {childList: true});\n",
       "}}\n",
       "\n",
       "// Listen for the clearing of the current output cell\n",
       "var outputEl = gd.closest('.output');\n",
       "if (outputEl) {{\n",
       "    x.observe(outputEl, {childList: true});\n",
       "}}\n",
       "\n",
       "                        })                };                });            </script>        </div>"
      ]
     },
     "metadata": {},
     "output_type": "display_data"
    }
   ],
   "source": [
    "px.box(df, x=df[cols[0]], y=df[cols[6]], color=df[cols[0]], labels={'Groups': 'Группы', 'CD133 Events/?L(V) w/ dilution': 'Концентрация (события\\мкл)'})"
   ]
  },
  {
   "cell_type": "code",
   "execution_count": 8,
   "id": "7f2d71f3",
   "metadata": {},
   "outputs": [
    {
     "data": {
      "application/vnd.plotly.v1+json": {
       "config": {
        "plotlyServerURL": "https://plot.ly"
       },
       "data": [
        {
         "alignmentgroup": "True",
         "hovertemplate": "Группы=%{x}<br>Концентрация (события\\мкл)=%{y}<extra></extra>",
         "legendgroup": "Здоровые доноры",
         "marker": {
          "color": "#636efa"
         },
         "name": "Здоровые доноры",
         "notched": false,
         "offsetgroup": "Здоровые доноры",
         "orientation": "v",
         "showlegend": true,
         "type": "box",
         "x": [
          "Здоровые доноры",
          "Здоровые доноры",
          "Здоровые доноры",
          "Здоровые доноры",
          "Здоровые доноры",
          "Здоровые доноры",
          "Здоровые доноры",
          "Здоровые доноры"
         ],
         "x0": " ",
         "xaxis": "x",
         "y": [
          9.1,
          2.8,
          0.8,
          1.1,
          2.9,
          9.4,
          2.1,
          4.8
         ],
         "y0": " ",
         "yaxis": "y"
        },
        {
         "alignmentgroup": "True",
         "hovertemplate": "Группы=%{x}<br>Концентрация (события\\мкл)=%{y}<extra></extra>",
         "legendgroup": "Ишемический инсульт",
         "marker": {
          "color": "#EF553B"
         },
         "name": "Ишемический инсульт",
         "notched": false,
         "offsetgroup": "Ишемический инсульт",
         "orientation": "v",
         "showlegend": true,
         "type": "box",
         "x": [
          "Ишемический инсульт",
          "Ишемический инсульт",
          "Ишемический инсульт",
          "Ишемический инсульт",
          "Ишемический инсульт",
          "Ишемический инсульт"
         ],
         "x0": " ",
         "xaxis": "x",
         "y": [
          1.4,
          0.3,
          9.8,
          6.4,
          2.3,
          2.1
         ],
         "y0": " ",
         "yaxis": "y"
        },
        {
         "alignmentgroup": "True",
         "hovertemplate": "Группы=%{x}<br>Концентрация (события\\мкл)=%{y}<extra></extra>",
         "legendgroup": "СД",
         "marker": {
          "color": "#00cc96"
         },
         "name": "СД",
         "notched": false,
         "offsetgroup": "СД",
         "orientation": "v",
         "showlegend": true,
         "type": "box",
         "x": [
          "СД",
          "СД",
          "СД",
          "СД",
          "СД",
          "СД",
          "СД",
          "СД",
          "СД",
          "СД",
          "СД"
         ],
         "x0": " ",
         "xaxis": "x",
         "y": [
          0,
          9.8,
          0.1,
          1.3,
          0.2,
          0.3,
          0.3,
          0.2,
          0.8,
          1.8,
          0.2
         ],
         "y0": " ",
         "yaxis": "y"
        },
        {
         "alignmentgroup": "True",
         "hovertemplate": "Группы=%{x}<br>Концентрация (события\\мкл)=%{y}<extra></extra>",
         "legendgroup": "ХНМК",
         "marker": {
          "color": "#ab63fa"
         },
         "name": "ХНМК",
         "notched": false,
         "offsetgroup": "ХНМК",
         "orientation": "v",
         "showlegend": true,
         "type": "box",
         "x": [
          "ХНМК",
          "ХНМК",
          "ХНМК",
          "ХНМК",
          "ХНМК",
          "ХНМК",
          "ХНМК",
          "ХНМК",
          "ХНМК",
          "ХНМК",
          "ХНМК",
          "ХНМК",
          "ХНМК",
          "ХНМК",
          "ХНМК",
          "ХНМК",
          "ХНМК",
          "ХНМК",
          "ХНМК",
          "ХНМК",
          "ХНМК",
          "ХНМК",
          "ХНМК",
          "ХНМК",
          "ХНМК",
          "ХНМК",
          "ХНМК",
          "ХНМК",
          "ХНМК",
          "ХНМК",
          "ХНМК",
          "ХНМК",
          "ХНМК"
         ],
         "x0": " ",
         "xaxis": "x",
         "y": [
          3.9,
          1.1,
          0.9,
          10.1,
          1.5,
          0.3,
          0.4,
          0.9,
          0.2,
          0.3,
          0.3,
          0,
          0.8,
          4.4,
          3.2,
          0.2,
          0.6,
          0.9,
          2.4,
          6.4,
          0.4,
          0.4,
          0.2,
          6.1,
          0.3,
          0.3,
          3.1,
          0.6,
          1.4,
          0.3,
          3.2,
          22.9,
          4.4
         ],
         "y0": " ",
         "yaxis": "y"
        }
       ],
       "layout": {
        "boxmode": "overlay",
        "legend": {
         "title": {
          "text": "Группы"
         },
         "tracegroupgap": 0
        },
        "margin": {
         "t": 60
        },
        "template": {
         "data": {
          "bar": [
           {
            "error_x": {
             "color": "#2a3f5f"
            },
            "error_y": {
             "color": "#2a3f5f"
            },
            "marker": {
             "line": {
              "color": "#E5ECF6",
              "width": 0.5
             }
            },
            "type": "bar"
           }
          ],
          "barpolar": [
           {
            "marker": {
             "line": {
              "color": "#E5ECF6",
              "width": 0.5
             }
            },
            "type": "barpolar"
           }
          ],
          "carpet": [
           {
            "aaxis": {
             "endlinecolor": "#2a3f5f",
             "gridcolor": "white",
             "linecolor": "white",
             "minorgridcolor": "white",
             "startlinecolor": "#2a3f5f"
            },
            "baxis": {
             "endlinecolor": "#2a3f5f",
             "gridcolor": "white",
             "linecolor": "white",
             "minorgridcolor": "white",
             "startlinecolor": "#2a3f5f"
            },
            "type": "carpet"
           }
          ],
          "choropleth": [
           {
            "colorbar": {
             "outlinewidth": 0,
             "ticks": ""
            },
            "type": "choropleth"
           }
          ],
          "contour": [
           {
            "colorbar": {
             "outlinewidth": 0,
             "ticks": ""
            },
            "colorscale": [
             [
              0,
              "#0d0887"
             ],
             [
              0.1111111111111111,
              "#46039f"
             ],
             [
              0.2222222222222222,
              "#7201a8"
             ],
             [
              0.3333333333333333,
              "#9c179e"
             ],
             [
              0.4444444444444444,
              "#bd3786"
             ],
             [
              0.5555555555555556,
              "#d8576b"
             ],
             [
              0.6666666666666666,
              "#ed7953"
             ],
             [
              0.7777777777777778,
              "#fb9f3a"
             ],
             [
              0.8888888888888888,
              "#fdca26"
             ],
             [
              1,
              "#f0f921"
             ]
            ],
            "type": "contour"
           }
          ],
          "contourcarpet": [
           {
            "colorbar": {
             "outlinewidth": 0,
             "ticks": ""
            },
            "type": "contourcarpet"
           }
          ],
          "heatmap": [
           {
            "colorbar": {
             "outlinewidth": 0,
             "ticks": ""
            },
            "colorscale": [
             [
              0,
              "#0d0887"
             ],
             [
              0.1111111111111111,
              "#46039f"
             ],
             [
              0.2222222222222222,
              "#7201a8"
             ],
             [
              0.3333333333333333,
              "#9c179e"
             ],
             [
              0.4444444444444444,
              "#bd3786"
             ],
             [
              0.5555555555555556,
              "#d8576b"
             ],
             [
              0.6666666666666666,
              "#ed7953"
             ],
             [
              0.7777777777777778,
              "#fb9f3a"
             ],
             [
              0.8888888888888888,
              "#fdca26"
             ],
             [
              1,
              "#f0f921"
             ]
            ],
            "type": "heatmap"
           }
          ],
          "heatmapgl": [
           {
            "colorbar": {
             "outlinewidth": 0,
             "ticks": ""
            },
            "colorscale": [
             [
              0,
              "#0d0887"
             ],
             [
              0.1111111111111111,
              "#46039f"
             ],
             [
              0.2222222222222222,
              "#7201a8"
             ],
             [
              0.3333333333333333,
              "#9c179e"
             ],
             [
              0.4444444444444444,
              "#bd3786"
             ],
             [
              0.5555555555555556,
              "#d8576b"
             ],
             [
              0.6666666666666666,
              "#ed7953"
             ],
             [
              0.7777777777777778,
              "#fb9f3a"
             ],
             [
              0.8888888888888888,
              "#fdca26"
             ],
             [
              1,
              "#f0f921"
             ]
            ],
            "type": "heatmapgl"
           }
          ],
          "histogram": [
           {
            "marker": {
             "colorbar": {
              "outlinewidth": 0,
              "ticks": ""
             }
            },
            "type": "histogram"
           }
          ],
          "histogram2d": [
           {
            "colorbar": {
             "outlinewidth": 0,
             "ticks": ""
            },
            "colorscale": [
             [
              0,
              "#0d0887"
             ],
             [
              0.1111111111111111,
              "#46039f"
             ],
             [
              0.2222222222222222,
              "#7201a8"
             ],
             [
              0.3333333333333333,
              "#9c179e"
             ],
             [
              0.4444444444444444,
              "#bd3786"
             ],
             [
              0.5555555555555556,
              "#d8576b"
             ],
             [
              0.6666666666666666,
              "#ed7953"
             ],
             [
              0.7777777777777778,
              "#fb9f3a"
             ],
             [
              0.8888888888888888,
              "#fdca26"
             ],
             [
              1,
              "#f0f921"
             ]
            ],
            "type": "histogram2d"
           }
          ],
          "histogram2dcontour": [
           {
            "colorbar": {
             "outlinewidth": 0,
             "ticks": ""
            },
            "colorscale": [
             [
              0,
              "#0d0887"
             ],
             [
              0.1111111111111111,
              "#46039f"
             ],
             [
              0.2222222222222222,
              "#7201a8"
             ],
             [
              0.3333333333333333,
              "#9c179e"
             ],
             [
              0.4444444444444444,
              "#bd3786"
             ],
             [
              0.5555555555555556,
              "#d8576b"
             ],
             [
              0.6666666666666666,
              "#ed7953"
             ],
             [
              0.7777777777777778,
              "#fb9f3a"
             ],
             [
              0.8888888888888888,
              "#fdca26"
             ],
             [
              1,
              "#f0f921"
             ]
            ],
            "type": "histogram2dcontour"
           }
          ],
          "mesh3d": [
           {
            "colorbar": {
             "outlinewidth": 0,
             "ticks": ""
            },
            "type": "mesh3d"
           }
          ],
          "parcoords": [
           {
            "line": {
             "colorbar": {
              "outlinewidth": 0,
              "ticks": ""
             }
            },
            "type": "parcoords"
           }
          ],
          "pie": [
           {
            "automargin": true,
            "type": "pie"
           }
          ],
          "scatter": [
           {
            "marker": {
             "colorbar": {
              "outlinewidth": 0,
              "ticks": ""
             }
            },
            "type": "scatter"
           }
          ],
          "scatter3d": [
           {
            "line": {
             "colorbar": {
              "outlinewidth": 0,
              "ticks": ""
             }
            },
            "marker": {
             "colorbar": {
              "outlinewidth": 0,
              "ticks": ""
             }
            },
            "type": "scatter3d"
           }
          ],
          "scattercarpet": [
           {
            "marker": {
             "colorbar": {
              "outlinewidth": 0,
              "ticks": ""
             }
            },
            "type": "scattercarpet"
           }
          ],
          "scattergeo": [
           {
            "marker": {
             "colorbar": {
              "outlinewidth": 0,
              "ticks": ""
             }
            },
            "type": "scattergeo"
           }
          ],
          "scattergl": [
           {
            "marker": {
             "colorbar": {
              "outlinewidth": 0,
              "ticks": ""
             }
            },
            "type": "scattergl"
           }
          ],
          "scattermapbox": [
           {
            "marker": {
             "colorbar": {
              "outlinewidth": 0,
              "ticks": ""
             }
            },
            "type": "scattermapbox"
           }
          ],
          "scatterpolar": [
           {
            "marker": {
             "colorbar": {
              "outlinewidth": 0,
              "ticks": ""
             }
            },
            "type": "scatterpolar"
           }
          ],
          "scatterpolargl": [
           {
            "marker": {
             "colorbar": {
              "outlinewidth": 0,
              "ticks": ""
             }
            },
            "type": "scatterpolargl"
           }
          ],
          "scatterternary": [
           {
            "marker": {
             "colorbar": {
              "outlinewidth": 0,
              "ticks": ""
             }
            },
            "type": "scatterternary"
           }
          ],
          "surface": [
           {
            "colorbar": {
             "outlinewidth": 0,
             "ticks": ""
            },
            "colorscale": [
             [
              0,
              "#0d0887"
             ],
             [
              0.1111111111111111,
              "#46039f"
             ],
             [
              0.2222222222222222,
              "#7201a8"
             ],
             [
              0.3333333333333333,
              "#9c179e"
             ],
             [
              0.4444444444444444,
              "#bd3786"
             ],
             [
              0.5555555555555556,
              "#d8576b"
             ],
             [
              0.6666666666666666,
              "#ed7953"
             ],
             [
              0.7777777777777778,
              "#fb9f3a"
             ],
             [
              0.8888888888888888,
              "#fdca26"
             ],
             [
              1,
              "#f0f921"
             ]
            ],
            "type": "surface"
           }
          ],
          "table": [
           {
            "cells": {
             "fill": {
              "color": "#EBF0F8"
             },
             "line": {
              "color": "white"
             }
            },
            "header": {
             "fill": {
              "color": "#C8D4E3"
             },
             "line": {
              "color": "white"
             }
            },
            "type": "table"
           }
          ]
         },
         "layout": {
          "annotationdefaults": {
           "arrowcolor": "#2a3f5f",
           "arrowhead": 0,
           "arrowwidth": 1
          },
          "autotypenumbers": "strict",
          "coloraxis": {
           "colorbar": {
            "outlinewidth": 0,
            "ticks": ""
           }
          },
          "colorscale": {
           "diverging": [
            [
             0,
             "#8e0152"
            ],
            [
             0.1,
             "#c51b7d"
            ],
            [
             0.2,
             "#de77ae"
            ],
            [
             0.3,
             "#f1b6da"
            ],
            [
             0.4,
             "#fde0ef"
            ],
            [
             0.5,
             "#f7f7f7"
            ],
            [
             0.6,
             "#e6f5d0"
            ],
            [
             0.7,
             "#b8e186"
            ],
            [
             0.8,
             "#7fbc41"
            ],
            [
             0.9,
             "#4d9221"
            ],
            [
             1,
             "#276419"
            ]
           ],
           "sequential": [
            [
             0,
             "#0d0887"
            ],
            [
             0.1111111111111111,
             "#46039f"
            ],
            [
             0.2222222222222222,
             "#7201a8"
            ],
            [
             0.3333333333333333,
             "#9c179e"
            ],
            [
             0.4444444444444444,
             "#bd3786"
            ],
            [
             0.5555555555555556,
             "#d8576b"
            ],
            [
             0.6666666666666666,
             "#ed7953"
            ],
            [
             0.7777777777777778,
             "#fb9f3a"
            ],
            [
             0.8888888888888888,
             "#fdca26"
            ],
            [
             1,
             "#f0f921"
            ]
           ],
           "sequentialminus": [
            [
             0,
             "#0d0887"
            ],
            [
             0.1111111111111111,
             "#46039f"
            ],
            [
             0.2222222222222222,
             "#7201a8"
            ],
            [
             0.3333333333333333,
             "#9c179e"
            ],
            [
             0.4444444444444444,
             "#bd3786"
            ],
            [
             0.5555555555555556,
             "#d8576b"
            ],
            [
             0.6666666666666666,
             "#ed7953"
            ],
            [
             0.7777777777777778,
             "#fb9f3a"
            ],
            [
             0.8888888888888888,
             "#fdca26"
            ],
            [
             1,
             "#f0f921"
            ]
           ]
          },
          "colorway": [
           "#636efa",
           "#EF553B",
           "#00cc96",
           "#ab63fa",
           "#FFA15A",
           "#19d3f3",
           "#FF6692",
           "#B6E880",
           "#FF97FF",
           "#FECB52"
          ],
          "font": {
           "color": "#2a3f5f"
          },
          "geo": {
           "bgcolor": "white",
           "lakecolor": "white",
           "landcolor": "#E5ECF6",
           "showlakes": true,
           "showland": true,
           "subunitcolor": "white"
          },
          "hoverlabel": {
           "align": "left"
          },
          "hovermode": "closest",
          "mapbox": {
           "style": "light"
          },
          "paper_bgcolor": "white",
          "plot_bgcolor": "#E5ECF6",
          "polar": {
           "angularaxis": {
            "gridcolor": "white",
            "linecolor": "white",
            "ticks": ""
           },
           "bgcolor": "#E5ECF6",
           "radialaxis": {
            "gridcolor": "white",
            "linecolor": "white",
            "ticks": ""
           }
          },
          "scene": {
           "xaxis": {
            "backgroundcolor": "#E5ECF6",
            "gridcolor": "white",
            "gridwidth": 2,
            "linecolor": "white",
            "showbackground": true,
            "ticks": "",
            "zerolinecolor": "white"
           },
           "yaxis": {
            "backgroundcolor": "#E5ECF6",
            "gridcolor": "white",
            "gridwidth": 2,
            "linecolor": "white",
            "showbackground": true,
            "ticks": "",
            "zerolinecolor": "white"
           },
           "zaxis": {
            "backgroundcolor": "#E5ECF6",
            "gridcolor": "white",
            "gridwidth": 2,
            "linecolor": "white",
            "showbackground": true,
            "ticks": "",
            "zerolinecolor": "white"
           }
          },
          "shapedefaults": {
           "line": {
            "color": "#2a3f5f"
           }
          },
          "ternary": {
           "aaxis": {
            "gridcolor": "white",
            "linecolor": "white",
            "ticks": ""
           },
           "baxis": {
            "gridcolor": "white",
            "linecolor": "white",
            "ticks": ""
           },
           "bgcolor": "#E5ECF6",
           "caxis": {
            "gridcolor": "white",
            "linecolor": "white",
            "ticks": ""
           }
          },
          "title": {
           "x": 0.05
          },
          "xaxis": {
           "automargin": true,
           "gridcolor": "white",
           "linecolor": "white",
           "ticks": "",
           "title": {
            "standoff": 15
           },
           "zerolinecolor": "white",
           "zerolinewidth": 2
          },
          "yaxis": {
           "automargin": true,
           "gridcolor": "white",
           "linecolor": "white",
           "ticks": "",
           "title": {
            "standoff": 15
           },
           "zerolinecolor": "white",
           "zerolinewidth": 2
          }
         }
        },
        "xaxis": {
         "anchor": "y",
         "categoryarray": [
          "Здоровые доноры",
          "Ишемический инсульт",
          "СД",
          "ХНМК"
         ],
         "categoryorder": "array",
         "domain": [
          0,
          1
         ],
         "title": {
          "text": "Группы"
         }
        },
        "yaxis": {
         "anchor": "x",
         "domain": [
          0,
          1
         ],
         "title": {
          "text": "Концентрация (события\\мкл)"
         }
        }
       }
      },
      "text/html": [
       "<div>                            <div id=\"628691da-2ba9-4999-acf8-8060b32f153a\" class=\"plotly-graph-div\" style=\"height:525px; width:100%;\"></div>            <script type=\"text/javascript\">                require([\"plotly\"], function(Plotly) {                    window.PLOTLYENV=window.PLOTLYENV || {};                                    if (document.getElementById(\"628691da-2ba9-4999-acf8-8060b32f153a\")) {                    Plotly.newPlot(                        \"628691da-2ba9-4999-acf8-8060b32f153a\",                        [{\"alignmentgroup\": \"True\", \"hovertemplate\": \"\\u0413\\u0440\\u0443\\u043f\\u043f\\u044b=%{x}<br>\\u041a\\u043e\\u043d\\u0446\\u0435\\u043d\\u0442\\u0440\\u0430\\u0446\\u0438\\u044f (\\u0441\\u043e\\u0431\\u044b\\u0442\\u0438\\u044f\\\\\\u043c\\u043a\\u043b)=%{y}<extra></extra>\", \"legendgroup\": \"\\u0417\\u0434\\u043e\\u0440\\u043e\\u0432\\u044b\\u0435 \\u0434\\u043e\\u043d\\u043e\\u0440\\u044b\", \"marker\": {\"color\": \"#636efa\"}, \"name\": \"\\u0417\\u0434\\u043e\\u0440\\u043e\\u0432\\u044b\\u0435 \\u0434\\u043e\\u043d\\u043e\\u0440\\u044b\", \"notched\": false, \"offsetgroup\": \"\\u0417\\u0434\\u043e\\u0440\\u043e\\u0432\\u044b\\u0435 \\u0434\\u043e\\u043d\\u043e\\u0440\\u044b\", \"orientation\": \"v\", \"showlegend\": true, \"type\": \"box\", \"x\": [\"\\u0417\\u0434\\u043e\\u0440\\u043e\\u0432\\u044b\\u0435 \\u0434\\u043e\\u043d\\u043e\\u0440\\u044b\", \"\\u0417\\u0434\\u043e\\u0440\\u043e\\u0432\\u044b\\u0435 \\u0434\\u043e\\u043d\\u043e\\u0440\\u044b\", \"\\u0417\\u0434\\u043e\\u0440\\u043e\\u0432\\u044b\\u0435 \\u0434\\u043e\\u043d\\u043e\\u0440\\u044b\", \"\\u0417\\u0434\\u043e\\u0440\\u043e\\u0432\\u044b\\u0435 \\u0434\\u043e\\u043d\\u043e\\u0440\\u044b\", \"\\u0417\\u0434\\u043e\\u0440\\u043e\\u0432\\u044b\\u0435 \\u0434\\u043e\\u043d\\u043e\\u0440\\u044b\", \"\\u0417\\u0434\\u043e\\u0440\\u043e\\u0432\\u044b\\u0435 \\u0434\\u043e\\u043d\\u043e\\u0440\\u044b\", \"\\u0417\\u0434\\u043e\\u0440\\u043e\\u0432\\u044b\\u0435 \\u0434\\u043e\\u043d\\u043e\\u0440\\u044b\", \"\\u0417\\u0434\\u043e\\u0440\\u043e\\u0432\\u044b\\u0435 \\u0434\\u043e\\u043d\\u043e\\u0440\\u044b\"], \"x0\": \" \", \"xaxis\": \"x\", \"y\": [9.1, 2.8, 0.8, 1.1, 2.9, 9.4, 2.1, 4.8], \"y0\": \" \", \"yaxis\": \"y\"}, {\"alignmentgroup\": \"True\", \"hovertemplate\": \"\\u0413\\u0440\\u0443\\u043f\\u043f\\u044b=%{x}<br>\\u041a\\u043e\\u043d\\u0446\\u0435\\u043d\\u0442\\u0440\\u0430\\u0446\\u0438\\u044f (\\u0441\\u043e\\u0431\\u044b\\u0442\\u0438\\u044f\\\\\\u043c\\u043a\\u043b)=%{y}<extra></extra>\", \"legendgroup\": \"\\u0418\\u0448\\u0435\\u043c\\u0438\\u0447\\u0435\\u0441\\u043a\\u0438\\u0439 \\u0438\\u043d\\u0441\\u0443\\u043b\\u044c\\u0442\", \"marker\": {\"color\": \"#EF553B\"}, \"name\": \"\\u0418\\u0448\\u0435\\u043c\\u0438\\u0447\\u0435\\u0441\\u043a\\u0438\\u0439 \\u0438\\u043d\\u0441\\u0443\\u043b\\u044c\\u0442\", \"notched\": false, \"offsetgroup\": \"\\u0418\\u0448\\u0435\\u043c\\u0438\\u0447\\u0435\\u0441\\u043a\\u0438\\u0439 \\u0438\\u043d\\u0441\\u0443\\u043b\\u044c\\u0442\", \"orientation\": \"v\", \"showlegend\": true, \"type\": \"box\", \"x\": [\"\\u0418\\u0448\\u0435\\u043c\\u0438\\u0447\\u0435\\u0441\\u043a\\u0438\\u0439 \\u0438\\u043d\\u0441\\u0443\\u043b\\u044c\\u0442\", \"\\u0418\\u0448\\u0435\\u043c\\u0438\\u0447\\u0435\\u0441\\u043a\\u0438\\u0439 \\u0438\\u043d\\u0441\\u0443\\u043b\\u044c\\u0442\", \"\\u0418\\u0448\\u0435\\u043c\\u0438\\u0447\\u0435\\u0441\\u043a\\u0438\\u0439 \\u0438\\u043d\\u0441\\u0443\\u043b\\u044c\\u0442\", \"\\u0418\\u0448\\u0435\\u043c\\u0438\\u0447\\u0435\\u0441\\u043a\\u0438\\u0439 \\u0438\\u043d\\u0441\\u0443\\u043b\\u044c\\u0442\", \"\\u0418\\u0448\\u0435\\u043c\\u0438\\u0447\\u0435\\u0441\\u043a\\u0438\\u0439 \\u0438\\u043d\\u0441\\u0443\\u043b\\u044c\\u0442\", \"\\u0418\\u0448\\u0435\\u043c\\u0438\\u0447\\u0435\\u0441\\u043a\\u0438\\u0439 \\u0438\\u043d\\u0441\\u0443\\u043b\\u044c\\u0442\"], \"x0\": \" \", \"xaxis\": \"x\", \"y\": [1.4, 0.3, 9.8, 6.4, 2.3, 2.1], \"y0\": \" \", \"yaxis\": \"y\"}, {\"alignmentgroup\": \"True\", \"hovertemplate\": \"\\u0413\\u0440\\u0443\\u043f\\u043f\\u044b=%{x}<br>\\u041a\\u043e\\u043d\\u0446\\u0435\\u043d\\u0442\\u0440\\u0430\\u0446\\u0438\\u044f (\\u0441\\u043e\\u0431\\u044b\\u0442\\u0438\\u044f\\\\\\u043c\\u043a\\u043b)=%{y}<extra></extra>\", \"legendgroup\": \"\\u0421\\u0414\", \"marker\": {\"color\": \"#00cc96\"}, \"name\": \"\\u0421\\u0414\", \"notched\": false, \"offsetgroup\": \"\\u0421\\u0414\", \"orientation\": \"v\", \"showlegend\": true, \"type\": \"box\", \"x\": [\"\\u0421\\u0414\", \"\\u0421\\u0414\", \"\\u0421\\u0414\", \"\\u0421\\u0414\", \"\\u0421\\u0414\", \"\\u0421\\u0414\", \"\\u0421\\u0414\", \"\\u0421\\u0414\", \"\\u0421\\u0414\", \"\\u0421\\u0414\", \"\\u0421\\u0414\"], \"x0\": \" \", \"xaxis\": \"x\", \"y\": [0.0, 9.8, 0.1, 1.3, 0.2, 0.3, 0.3, 0.2, 0.8, 1.8, 0.2], \"y0\": \" \", \"yaxis\": \"y\"}, {\"alignmentgroup\": \"True\", \"hovertemplate\": \"\\u0413\\u0440\\u0443\\u043f\\u043f\\u044b=%{x}<br>\\u041a\\u043e\\u043d\\u0446\\u0435\\u043d\\u0442\\u0440\\u0430\\u0446\\u0438\\u044f (\\u0441\\u043e\\u0431\\u044b\\u0442\\u0438\\u044f\\\\\\u043c\\u043a\\u043b)=%{y}<extra></extra>\", \"legendgroup\": \"\\u0425\\u041d\\u041c\\u041a\", \"marker\": {\"color\": \"#ab63fa\"}, \"name\": \"\\u0425\\u041d\\u041c\\u041a\", \"notched\": false, \"offsetgroup\": \"\\u0425\\u041d\\u041c\\u041a\", \"orientation\": \"v\", \"showlegend\": true, \"type\": \"box\", \"x\": [\"\\u0425\\u041d\\u041c\\u041a\", \"\\u0425\\u041d\\u041c\\u041a\", \"\\u0425\\u041d\\u041c\\u041a\", \"\\u0425\\u041d\\u041c\\u041a\", \"\\u0425\\u041d\\u041c\\u041a\", \"\\u0425\\u041d\\u041c\\u041a\", \"\\u0425\\u041d\\u041c\\u041a\", \"\\u0425\\u041d\\u041c\\u041a\", \"\\u0425\\u041d\\u041c\\u041a\", \"\\u0425\\u041d\\u041c\\u041a\", \"\\u0425\\u041d\\u041c\\u041a\", \"\\u0425\\u041d\\u041c\\u041a\", \"\\u0425\\u041d\\u041c\\u041a\", \"\\u0425\\u041d\\u041c\\u041a\", \"\\u0425\\u041d\\u041c\\u041a\", \"\\u0425\\u041d\\u041c\\u041a\", \"\\u0425\\u041d\\u041c\\u041a\", \"\\u0425\\u041d\\u041c\\u041a\", \"\\u0425\\u041d\\u041c\\u041a\", \"\\u0425\\u041d\\u041c\\u041a\", \"\\u0425\\u041d\\u041c\\u041a\", \"\\u0425\\u041d\\u041c\\u041a\", \"\\u0425\\u041d\\u041c\\u041a\", \"\\u0425\\u041d\\u041c\\u041a\", \"\\u0425\\u041d\\u041c\\u041a\", \"\\u0425\\u041d\\u041c\\u041a\", \"\\u0425\\u041d\\u041c\\u041a\", \"\\u0425\\u041d\\u041c\\u041a\", \"\\u0425\\u041d\\u041c\\u041a\", \"\\u0425\\u041d\\u041c\\u041a\", \"\\u0425\\u041d\\u041c\\u041a\", \"\\u0425\\u041d\\u041c\\u041a\", \"\\u0425\\u041d\\u041c\\u041a\"], \"x0\": \" \", \"xaxis\": \"x\", \"y\": [3.9, 1.1, 0.9, 10.1, 1.5, 0.3, 0.4, 0.9, 0.2, 0.3, 0.3, 0.0, 0.8, 4.4, 3.2, 0.2, 0.6, 0.9, 2.4, 6.4, 0.4, 0.4, 0.2, 6.1, 0.3, 0.3, 3.1, 0.6, 1.4, 0.3, 3.2, 22.9, 4.4], \"y0\": \" \", \"yaxis\": \"y\"}],                        {\"boxmode\": \"overlay\", \"legend\": {\"title\": {\"text\": \"\\u0413\\u0440\\u0443\\u043f\\u043f\\u044b\"}, \"tracegroupgap\": 0}, \"margin\": {\"t\": 60}, \"template\": {\"data\": {\"bar\": [{\"error_x\": {\"color\": \"#2a3f5f\"}, \"error_y\": {\"color\": \"#2a3f5f\"}, \"marker\": {\"line\": {\"color\": \"#E5ECF6\", \"width\": 0.5}}, \"type\": \"bar\"}], \"barpolar\": [{\"marker\": {\"line\": {\"color\": \"#E5ECF6\", \"width\": 0.5}}, \"type\": \"barpolar\"}], \"carpet\": [{\"aaxis\": {\"endlinecolor\": \"#2a3f5f\", \"gridcolor\": \"white\", \"linecolor\": \"white\", \"minorgridcolor\": \"white\", \"startlinecolor\": \"#2a3f5f\"}, \"baxis\": {\"endlinecolor\": \"#2a3f5f\", \"gridcolor\": \"white\", \"linecolor\": \"white\", \"minorgridcolor\": \"white\", \"startlinecolor\": \"#2a3f5f\"}, \"type\": \"carpet\"}], \"choropleth\": [{\"colorbar\": {\"outlinewidth\": 0, \"ticks\": \"\"}, \"type\": \"choropleth\"}], \"contour\": [{\"colorbar\": {\"outlinewidth\": 0, \"ticks\": \"\"}, \"colorscale\": [[0.0, \"#0d0887\"], [0.1111111111111111, \"#46039f\"], [0.2222222222222222, \"#7201a8\"], [0.3333333333333333, \"#9c179e\"], [0.4444444444444444, \"#bd3786\"], [0.5555555555555556, \"#d8576b\"], [0.6666666666666666, \"#ed7953\"], [0.7777777777777778, \"#fb9f3a\"], [0.8888888888888888, \"#fdca26\"], [1.0, \"#f0f921\"]], \"type\": \"contour\"}], \"contourcarpet\": [{\"colorbar\": {\"outlinewidth\": 0, \"ticks\": \"\"}, \"type\": \"contourcarpet\"}], \"heatmap\": [{\"colorbar\": {\"outlinewidth\": 0, \"ticks\": \"\"}, \"colorscale\": [[0.0, \"#0d0887\"], [0.1111111111111111, \"#46039f\"], [0.2222222222222222, \"#7201a8\"], [0.3333333333333333, \"#9c179e\"], [0.4444444444444444, \"#bd3786\"], [0.5555555555555556, \"#d8576b\"], [0.6666666666666666, \"#ed7953\"], [0.7777777777777778, \"#fb9f3a\"], [0.8888888888888888, \"#fdca26\"], [1.0, \"#f0f921\"]], \"type\": \"heatmap\"}], \"heatmapgl\": [{\"colorbar\": {\"outlinewidth\": 0, \"ticks\": \"\"}, \"colorscale\": [[0.0, \"#0d0887\"], [0.1111111111111111, \"#46039f\"], [0.2222222222222222, \"#7201a8\"], [0.3333333333333333, \"#9c179e\"], [0.4444444444444444, \"#bd3786\"], [0.5555555555555556, \"#d8576b\"], [0.6666666666666666, \"#ed7953\"], [0.7777777777777778, \"#fb9f3a\"], [0.8888888888888888, \"#fdca26\"], [1.0, \"#f0f921\"]], \"type\": \"heatmapgl\"}], \"histogram\": [{\"marker\": {\"colorbar\": {\"outlinewidth\": 0, \"ticks\": \"\"}}, \"type\": \"histogram\"}], \"histogram2d\": [{\"colorbar\": {\"outlinewidth\": 0, \"ticks\": \"\"}, \"colorscale\": [[0.0, \"#0d0887\"], [0.1111111111111111, \"#46039f\"], [0.2222222222222222, \"#7201a8\"], [0.3333333333333333, \"#9c179e\"], [0.4444444444444444, \"#bd3786\"], [0.5555555555555556, \"#d8576b\"], [0.6666666666666666, \"#ed7953\"], [0.7777777777777778, \"#fb9f3a\"], [0.8888888888888888, \"#fdca26\"], [1.0, \"#f0f921\"]], \"type\": \"histogram2d\"}], \"histogram2dcontour\": [{\"colorbar\": {\"outlinewidth\": 0, \"ticks\": \"\"}, \"colorscale\": [[0.0, \"#0d0887\"], [0.1111111111111111, \"#46039f\"], [0.2222222222222222, \"#7201a8\"], [0.3333333333333333, \"#9c179e\"], [0.4444444444444444, \"#bd3786\"], [0.5555555555555556, \"#d8576b\"], [0.6666666666666666, \"#ed7953\"], [0.7777777777777778, \"#fb9f3a\"], [0.8888888888888888, \"#fdca26\"], [1.0, \"#f0f921\"]], \"type\": \"histogram2dcontour\"}], \"mesh3d\": [{\"colorbar\": {\"outlinewidth\": 0, \"ticks\": \"\"}, \"type\": \"mesh3d\"}], \"parcoords\": [{\"line\": {\"colorbar\": {\"outlinewidth\": 0, \"ticks\": \"\"}}, \"type\": \"parcoords\"}], \"pie\": [{\"automargin\": true, \"type\": \"pie\"}], \"scatter\": [{\"marker\": {\"colorbar\": {\"outlinewidth\": 0, \"ticks\": \"\"}}, \"type\": \"scatter\"}], \"scatter3d\": [{\"line\": {\"colorbar\": {\"outlinewidth\": 0, \"ticks\": \"\"}}, \"marker\": {\"colorbar\": {\"outlinewidth\": 0, \"ticks\": \"\"}}, \"type\": \"scatter3d\"}], \"scattercarpet\": [{\"marker\": {\"colorbar\": {\"outlinewidth\": 0, \"ticks\": \"\"}}, \"type\": \"scattercarpet\"}], \"scattergeo\": [{\"marker\": {\"colorbar\": {\"outlinewidth\": 0, \"ticks\": \"\"}}, \"type\": \"scattergeo\"}], \"scattergl\": [{\"marker\": {\"colorbar\": {\"outlinewidth\": 0, \"ticks\": \"\"}}, \"type\": \"scattergl\"}], \"scattermapbox\": [{\"marker\": {\"colorbar\": {\"outlinewidth\": 0, \"ticks\": \"\"}}, \"type\": \"scattermapbox\"}], \"scatterpolar\": [{\"marker\": {\"colorbar\": {\"outlinewidth\": 0, \"ticks\": \"\"}}, \"type\": \"scatterpolar\"}], \"scatterpolargl\": [{\"marker\": {\"colorbar\": {\"outlinewidth\": 0, \"ticks\": \"\"}}, \"type\": \"scatterpolargl\"}], \"scatterternary\": [{\"marker\": {\"colorbar\": {\"outlinewidth\": 0, \"ticks\": \"\"}}, \"type\": \"scatterternary\"}], \"surface\": [{\"colorbar\": {\"outlinewidth\": 0, \"ticks\": \"\"}, \"colorscale\": [[0.0, \"#0d0887\"], [0.1111111111111111, \"#46039f\"], [0.2222222222222222, \"#7201a8\"], [0.3333333333333333, \"#9c179e\"], [0.4444444444444444, \"#bd3786\"], [0.5555555555555556, \"#d8576b\"], [0.6666666666666666, \"#ed7953\"], [0.7777777777777778, \"#fb9f3a\"], [0.8888888888888888, \"#fdca26\"], [1.0, \"#f0f921\"]], \"type\": \"surface\"}], \"table\": [{\"cells\": {\"fill\": {\"color\": \"#EBF0F8\"}, \"line\": {\"color\": \"white\"}}, \"header\": {\"fill\": {\"color\": \"#C8D4E3\"}, \"line\": {\"color\": \"white\"}}, \"type\": \"table\"}]}, \"layout\": {\"annotationdefaults\": {\"arrowcolor\": \"#2a3f5f\", \"arrowhead\": 0, \"arrowwidth\": 1}, \"autotypenumbers\": \"strict\", \"coloraxis\": {\"colorbar\": {\"outlinewidth\": 0, \"ticks\": \"\"}}, \"colorscale\": {\"diverging\": [[0, \"#8e0152\"], [0.1, \"#c51b7d\"], [0.2, \"#de77ae\"], [0.3, \"#f1b6da\"], [0.4, \"#fde0ef\"], [0.5, \"#f7f7f7\"], [0.6, \"#e6f5d0\"], [0.7, \"#b8e186\"], [0.8, \"#7fbc41\"], [0.9, \"#4d9221\"], [1, \"#276419\"]], \"sequential\": [[0.0, \"#0d0887\"], [0.1111111111111111, \"#46039f\"], [0.2222222222222222, \"#7201a8\"], [0.3333333333333333, \"#9c179e\"], [0.4444444444444444, \"#bd3786\"], [0.5555555555555556, \"#d8576b\"], [0.6666666666666666, \"#ed7953\"], [0.7777777777777778, \"#fb9f3a\"], [0.8888888888888888, \"#fdca26\"], [1.0, \"#f0f921\"]], \"sequentialminus\": [[0.0, \"#0d0887\"], [0.1111111111111111, \"#46039f\"], [0.2222222222222222, \"#7201a8\"], [0.3333333333333333, \"#9c179e\"], [0.4444444444444444, \"#bd3786\"], [0.5555555555555556, \"#d8576b\"], [0.6666666666666666, \"#ed7953\"], [0.7777777777777778, \"#fb9f3a\"], [0.8888888888888888, \"#fdca26\"], [1.0, \"#f0f921\"]]}, \"colorway\": [\"#636efa\", \"#EF553B\", \"#00cc96\", \"#ab63fa\", \"#FFA15A\", \"#19d3f3\", \"#FF6692\", \"#B6E880\", \"#FF97FF\", \"#FECB52\"], \"font\": {\"color\": \"#2a3f5f\"}, \"geo\": {\"bgcolor\": \"white\", \"lakecolor\": \"white\", \"landcolor\": \"#E5ECF6\", \"showlakes\": true, \"showland\": true, \"subunitcolor\": \"white\"}, \"hoverlabel\": {\"align\": \"left\"}, \"hovermode\": \"closest\", \"mapbox\": {\"style\": \"light\"}, \"paper_bgcolor\": \"white\", \"plot_bgcolor\": \"#E5ECF6\", \"polar\": {\"angularaxis\": {\"gridcolor\": \"white\", \"linecolor\": \"white\", \"ticks\": \"\"}, \"bgcolor\": \"#E5ECF6\", \"radialaxis\": {\"gridcolor\": \"white\", \"linecolor\": \"white\", \"ticks\": \"\"}}, \"scene\": {\"xaxis\": {\"backgroundcolor\": \"#E5ECF6\", \"gridcolor\": \"white\", \"gridwidth\": 2, \"linecolor\": \"white\", \"showbackground\": true, \"ticks\": \"\", \"zerolinecolor\": \"white\"}, \"yaxis\": {\"backgroundcolor\": \"#E5ECF6\", \"gridcolor\": \"white\", \"gridwidth\": 2, \"linecolor\": \"white\", \"showbackground\": true, \"ticks\": \"\", \"zerolinecolor\": \"white\"}, \"zaxis\": {\"backgroundcolor\": \"#E5ECF6\", \"gridcolor\": \"white\", \"gridwidth\": 2, \"linecolor\": \"white\", \"showbackground\": true, \"ticks\": \"\", \"zerolinecolor\": \"white\"}}, \"shapedefaults\": {\"line\": {\"color\": \"#2a3f5f\"}}, \"ternary\": {\"aaxis\": {\"gridcolor\": \"white\", \"linecolor\": \"white\", \"ticks\": \"\"}, \"baxis\": {\"gridcolor\": \"white\", \"linecolor\": \"white\", \"ticks\": \"\"}, \"bgcolor\": \"#E5ECF6\", \"caxis\": {\"gridcolor\": \"white\", \"linecolor\": \"white\", \"ticks\": \"\"}}, \"title\": {\"x\": 0.05}, \"xaxis\": {\"automargin\": true, \"gridcolor\": \"white\", \"linecolor\": \"white\", \"ticks\": \"\", \"title\": {\"standoff\": 15}, \"zerolinecolor\": \"white\", \"zerolinewidth\": 2}, \"yaxis\": {\"automargin\": true, \"gridcolor\": \"white\", \"linecolor\": \"white\", \"ticks\": \"\", \"title\": {\"standoff\": 15}, \"zerolinecolor\": \"white\", \"zerolinewidth\": 2}}}, \"xaxis\": {\"anchor\": \"y\", \"categoryarray\": [\"\\u0417\\u0434\\u043e\\u0440\\u043e\\u0432\\u044b\\u0435 \\u0434\\u043e\\u043d\\u043e\\u0440\\u044b\", \"\\u0418\\u0448\\u0435\\u043c\\u0438\\u0447\\u0435\\u0441\\u043a\\u0438\\u0439 \\u0438\\u043d\\u0441\\u0443\\u043b\\u044c\\u0442\", \"\\u0421\\u0414\", \"\\u0425\\u041d\\u041c\\u041a\"], \"categoryorder\": \"array\", \"domain\": [0.0, 1.0], \"title\": {\"text\": \"\\u0413\\u0440\\u0443\\u043f\\u043f\\u044b\"}}, \"yaxis\": {\"anchor\": \"x\", \"domain\": [0.0, 1.0], \"title\": {\"text\": \"\\u041a\\u043e\\u043d\\u0446\\u0435\\u043d\\u0442\\u0440\\u0430\\u0446\\u0438\\u044f (\\u0441\\u043e\\u0431\\u044b\\u0442\\u0438\\u044f\\\\\\u043c\\u043a\\u043b)\"}}},                        {\"responsive\": true}                    ).then(function(){\n",
       "                            \n",
       "var gd = document.getElementById('628691da-2ba9-4999-acf8-8060b32f153a');\n",
       "var x = new MutationObserver(function (mutations, observer) {{\n",
       "        var display = window.getComputedStyle(gd).display;\n",
       "        if (!display || display === 'none') {{\n",
       "            console.log([gd, 'removed!']);\n",
       "            Plotly.purge(gd);\n",
       "            observer.disconnect();\n",
       "        }}\n",
       "}});\n",
       "\n",
       "// Listen for the removal of the full notebook cells\n",
       "var notebookContainer = gd.closest('#notebook-container');\n",
       "if (notebookContainer) {{\n",
       "    x.observe(notebookContainer, {childList: true});\n",
       "}}\n",
       "\n",
       "// Listen for the clearing of the current output cell\n",
       "var outputEl = gd.closest('.output');\n",
       "if (outputEl) {{\n",
       "    x.observe(outputEl, {childList: true});\n",
       "}}\n",
       "\n",
       "                        })                };                });            </script>        </div>"
      ]
     },
     "metadata": {},
     "output_type": "display_data"
    }
   ],
   "source": [
    "px.box(df, x=df[cols[0]], y=df[cols[8]], color=df[cols[0]], labels={'Groups': 'Группы', 'CD144+ Events/?L(V) w/ dilution': 'Концентрация (события\\мкл)'})"
   ]
  },
  {
   "cell_type": "code",
   "execution_count": 9,
   "id": "3ad5fcf4",
   "metadata": {},
   "outputs": [
    {
     "data": {
      "application/vnd.plotly.v1+json": {
       "config": {
        "plotlyServerURL": "https://plot.ly"
       },
       "data": [
        {
         "alignmentgroup": "True",
         "hovertemplate": "Группы=%{x}<br>Концентрация (события\\мкл)=%{y}<extra></extra>",
         "legendgroup": "Здоровые доноры",
         "marker": {
          "color": "#636efa"
         },
         "name": "Здоровые доноры",
         "notched": false,
         "offsetgroup": "Здоровые доноры",
         "orientation": "v",
         "showlegend": true,
         "type": "box",
         "x": [
          "Здоровые доноры",
          "Здоровые доноры",
          "Здоровые доноры",
          "Здоровые доноры",
          "Здоровые доноры",
          "Здоровые доноры",
          "Здоровые доноры",
          "Здоровые доноры"
         ],
         "x0": " ",
         "xaxis": "x",
         "y": [
          11.3,
          9.9,
          9.7,
          4.1,
          7.9,
          13,
          2.9,
          2.6
         ],
         "y0": " ",
         "yaxis": "y"
        },
        {
         "alignmentgroup": "True",
         "hovertemplate": "Группы=%{x}<br>Концентрация (события\\мкл)=%{y}<extra></extra>",
         "legendgroup": "Ишемический инсульт",
         "marker": {
          "color": "#EF553B"
         },
         "name": "Ишемический инсульт",
         "notched": false,
         "offsetgroup": "Ишемический инсульт",
         "orientation": "v",
         "showlegend": true,
         "type": "box",
         "x": [
          "Ишемический инсульт",
          "Ишемический инсульт",
          "Ишемический инсульт",
          "Ишемический инсульт",
          "Ишемический инсульт",
          "Ишемический инсульт"
         ],
         "x0": " ",
         "xaxis": "x",
         "y": [
          6.2,
          5.8,
          4.7,
          8.8,
          2,
          6.6
         ],
         "y0": " ",
         "yaxis": "y"
        },
        {
         "alignmentgroup": "True",
         "hovertemplate": "Группы=%{x}<br>Концентрация (события\\мкл)=%{y}<extra></extra>",
         "legendgroup": "СД",
         "marker": {
          "color": "#00cc96"
         },
         "name": "СД",
         "notched": false,
         "offsetgroup": "СД",
         "orientation": "v",
         "showlegend": true,
         "type": "box",
         "x": [
          "СД",
          "СД",
          "СД",
          "СД",
          "СД",
          "СД",
          "СД",
          "СД",
          "СД",
          "СД",
          "СД"
         ],
         "x0": " ",
         "xaxis": "x",
         "y": [
          0.3,
          5.8,
          1.8,
          1.2,
          0.7,
          0.3,
          0.8,
          1.7,
          0.7,
          6.1,
          0.2
         ],
         "y0": " ",
         "yaxis": "y"
        },
        {
         "alignmentgroup": "True",
         "hovertemplate": "Группы=%{x}<br>Концентрация (события\\мкл)=%{y}<extra></extra>",
         "legendgroup": "ХНМК",
         "marker": {
          "color": "#ab63fa"
         },
         "name": "ХНМК",
         "notched": false,
         "offsetgroup": "ХНМК",
         "orientation": "v",
         "showlegend": true,
         "type": "box",
         "x": [
          "ХНМК",
          "ХНМК",
          "ХНМК",
          "ХНМК",
          "ХНМК",
          "ХНМК",
          "ХНМК",
          "ХНМК",
          "ХНМК",
          "ХНМК",
          "ХНМК",
          "ХНМК",
          "ХНМК",
          "ХНМК",
          "ХНМК",
          "ХНМК",
          "ХНМК",
          "ХНМК",
          "ХНМК",
          "ХНМК",
          "ХНМК",
          "ХНМК",
          "ХНМК",
          "ХНМК",
          "ХНМК",
          "ХНМК",
          "ХНМК",
          "ХНМК",
          "ХНМК",
          "ХНМК",
          "ХНМК",
          "ХНМК",
          "ХНМК"
         ],
         "x0": " ",
         "xaxis": "x",
         "y": [
          3,
          1.1,
          0.6,
          22.2,
          1,
          0.8,
          11.2,
          1.4,
          0.3,
          0.4,
          3.4,
          0.3,
          1.3,
          3.1,
          4.4,
          0.6,
          0.8,
          1.3,
          1.6,
          4.2,
          3.4,
          0.2,
          1.3,
          8.8,
          0.8,
          0.8,
          4.2,
          0.9,
          1.9,
          0.1,
          4.4,
          17.6,
          3.2
         ],
         "y0": " ",
         "yaxis": "y"
        }
       ],
       "layout": {
        "boxmode": "overlay",
        "legend": {
         "title": {
          "text": "Группы"
         },
         "tracegroupgap": 0
        },
        "margin": {
         "t": 60
        },
        "template": {
         "data": {
          "bar": [
           {
            "error_x": {
             "color": "#2a3f5f"
            },
            "error_y": {
             "color": "#2a3f5f"
            },
            "marker": {
             "line": {
              "color": "#E5ECF6",
              "width": 0.5
             }
            },
            "type": "bar"
           }
          ],
          "barpolar": [
           {
            "marker": {
             "line": {
              "color": "#E5ECF6",
              "width": 0.5
             }
            },
            "type": "barpolar"
           }
          ],
          "carpet": [
           {
            "aaxis": {
             "endlinecolor": "#2a3f5f",
             "gridcolor": "white",
             "linecolor": "white",
             "minorgridcolor": "white",
             "startlinecolor": "#2a3f5f"
            },
            "baxis": {
             "endlinecolor": "#2a3f5f",
             "gridcolor": "white",
             "linecolor": "white",
             "minorgridcolor": "white",
             "startlinecolor": "#2a3f5f"
            },
            "type": "carpet"
           }
          ],
          "choropleth": [
           {
            "colorbar": {
             "outlinewidth": 0,
             "ticks": ""
            },
            "type": "choropleth"
           }
          ],
          "contour": [
           {
            "colorbar": {
             "outlinewidth": 0,
             "ticks": ""
            },
            "colorscale": [
             [
              0,
              "#0d0887"
             ],
             [
              0.1111111111111111,
              "#46039f"
             ],
             [
              0.2222222222222222,
              "#7201a8"
             ],
             [
              0.3333333333333333,
              "#9c179e"
             ],
             [
              0.4444444444444444,
              "#bd3786"
             ],
             [
              0.5555555555555556,
              "#d8576b"
             ],
             [
              0.6666666666666666,
              "#ed7953"
             ],
             [
              0.7777777777777778,
              "#fb9f3a"
             ],
             [
              0.8888888888888888,
              "#fdca26"
             ],
             [
              1,
              "#f0f921"
             ]
            ],
            "type": "contour"
           }
          ],
          "contourcarpet": [
           {
            "colorbar": {
             "outlinewidth": 0,
             "ticks": ""
            },
            "type": "contourcarpet"
           }
          ],
          "heatmap": [
           {
            "colorbar": {
             "outlinewidth": 0,
             "ticks": ""
            },
            "colorscale": [
             [
              0,
              "#0d0887"
             ],
             [
              0.1111111111111111,
              "#46039f"
             ],
             [
              0.2222222222222222,
              "#7201a8"
             ],
             [
              0.3333333333333333,
              "#9c179e"
             ],
             [
              0.4444444444444444,
              "#bd3786"
             ],
             [
              0.5555555555555556,
              "#d8576b"
             ],
             [
              0.6666666666666666,
              "#ed7953"
             ],
             [
              0.7777777777777778,
              "#fb9f3a"
             ],
             [
              0.8888888888888888,
              "#fdca26"
             ],
             [
              1,
              "#f0f921"
             ]
            ],
            "type": "heatmap"
           }
          ],
          "heatmapgl": [
           {
            "colorbar": {
             "outlinewidth": 0,
             "ticks": ""
            },
            "colorscale": [
             [
              0,
              "#0d0887"
             ],
             [
              0.1111111111111111,
              "#46039f"
             ],
             [
              0.2222222222222222,
              "#7201a8"
             ],
             [
              0.3333333333333333,
              "#9c179e"
             ],
             [
              0.4444444444444444,
              "#bd3786"
             ],
             [
              0.5555555555555556,
              "#d8576b"
             ],
             [
              0.6666666666666666,
              "#ed7953"
             ],
             [
              0.7777777777777778,
              "#fb9f3a"
             ],
             [
              0.8888888888888888,
              "#fdca26"
             ],
             [
              1,
              "#f0f921"
             ]
            ],
            "type": "heatmapgl"
           }
          ],
          "histogram": [
           {
            "marker": {
             "colorbar": {
              "outlinewidth": 0,
              "ticks": ""
             }
            },
            "type": "histogram"
           }
          ],
          "histogram2d": [
           {
            "colorbar": {
             "outlinewidth": 0,
             "ticks": ""
            },
            "colorscale": [
             [
              0,
              "#0d0887"
             ],
             [
              0.1111111111111111,
              "#46039f"
             ],
             [
              0.2222222222222222,
              "#7201a8"
             ],
             [
              0.3333333333333333,
              "#9c179e"
             ],
             [
              0.4444444444444444,
              "#bd3786"
             ],
             [
              0.5555555555555556,
              "#d8576b"
             ],
             [
              0.6666666666666666,
              "#ed7953"
             ],
             [
              0.7777777777777778,
              "#fb9f3a"
             ],
             [
              0.8888888888888888,
              "#fdca26"
             ],
             [
              1,
              "#f0f921"
             ]
            ],
            "type": "histogram2d"
           }
          ],
          "histogram2dcontour": [
           {
            "colorbar": {
             "outlinewidth": 0,
             "ticks": ""
            },
            "colorscale": [
             [
              0,
              "#0d0887"
             ],
             [
              0.1111111111111111,
              "#46039f"
             ],
             [
              0.2222222222222222,
              "#7201a8"
             ],
             [
              0.3333333333333333,
              "#9c179e"
             ],
             [
              0.4444444444444444,
              "#bd3786"
             ],
             [
              0.5555555555555556,
              "#d8576b"
             ],
             [
              0.6666666666666666,
              "#ed7953"
             ],
             [
              0.7777777777777778,
              "#fb9f3a"
             ],
             [
              0.8888888888888888,
              "#fdca26"
             ],
             [
              1,
              "#f0f921"
             ]
            ],
            "type": "histogram2dcontour"
           }
          ],
          "mesh3d": [
           {
            "colorbar": {
             "outlinewidth": 0,
             "ticks": ""
            },
            "type": "mesh3d"
           }
          ],
          "parcoords": [
           {
            "line": {
             "colorbar": {
              "outlinewidth": 0,
              "ticks": ""
             }
            },
            "type": "parcoords"
           }
          ],
          "pie": [
           {
            "automargin": true,
            "type": "pie"
           }
          ],
          "scatter": [
           {
            "marker": {
             "colorbar": {
              "outlinewidth": 0,
              "ticks": ""
             }
            },
            "type": "scatter"
           }
          ],
          "scatter3d": [
           {
            "line": {
             "colorbar": {
              "outlinewidth": 0,
              "ticks": ""
             }
            },
            "marker": {
             "colorbar": {
              "outlinewidth": 0,
              "ticks": ""
             }
            },
            "type": "scatter3d"
           }
          ],
          "scattercarpet": [
           {
            "marker": {
             "colorbar": {
              "outlinewidth": 0,
              "ticks": ""
             }
            },
            "type": "scattercarpet"
           }
          ],
          "scattergeo": [
           {
            "marker": {
             "colorbar": {
              "outlinewidth": 0,
              "ticks": ""
             }
            },
            "type": "scattergeo"
           }
          ],
          "scattergl": [
           {
            "marker": {
             "colorbar": {
              "outlinewidth": 0,
              "ticks": ""
             }
            },
            "type": "scattergl"
           }
          ],
          "scattermapbox": [
           {
            "marker": {
             "colorbar": {
              "outlinewidth": 0,
              "ticks": ""
             }
            },
            "type": "scattermapbox"
           }
          ],
          "scatterpolar": [
           {
            "marker": {
             "colorbar": {
              "outlinewidth": 0,
              "ticks": ""
             }
            },
            "type": "scatterpolar"
           }
          ],
          "scatterpolargl": [
           {
            "marker": {
             "colorbar": {
              "outlinewidth": 0,
              "ticks": ""
             }
            },
            "type": "scatterpolargl"
           }
          ],
          "scatterternary": [
           {
            "marker": {
             "colorbar": {
              "outlinewidth": 0,
              "ticks": ""
             }
            },
            "type": "scatterternary"
           }
          ],
          "surface": [
           {
            "colorbar": {
             "outlinewidth": 0,
             "ticks": ""
            },
            "colorscale": [
             [
              0,
              "#0d0887"
             ],
             [
              0.1111111111111111,
              "#46039f"
             ],
             [
              0.2222222222222222,
              "#7201a8"
             ],
             [
              0.3333333333333333,
              "#9c179e"
             ],
             [
              0.4444444444444444,
              "#bd3786"
             ],
             [
              0.5555555555555556,
              "#d8576b"
             ],
             [
              0.6666666666666666,
              "#ed7953"
             ],
             [
              0.7777777777777778,
              "#fb9f3a"
             ],
             [
              0.8888888888888888,
              "#fdca26"
             ],
             [
              1,
              "#f0f921"
             ]
            ],
            "type": "surface"
           }
          ],
          "table": [
           {
            "cells": {
             "fill": {
              "color": "#EBF0F8"
             },
             "line": {
              "color": "white"
             }
            },
            "header": {
             "fill": {
              "color": "#C8D4E3"
             },
             "line": {
              "color": "white"
             }
            },
            "type": "table"
           }
          ]
         },
         "layout": {
          "annotationdefaults": {
           "arrowcolor": "#2a3f5f",
           "arrowhead": 0,
           "arrowwidth": 1
          },
          "autotypenumbers": "strict",
          "coloraxis": {
           "colorbar": {
            "outlinewidth": 0,
            "ticks": ""
           }
          },
          "colorscale": {
           "diverging": [
            [
             0,
             "#8e0152"
            ],
            [
             0.1,
             "#c51b7d"
            ],
            [
             0.2,
             "#de77ae"
            ],
            [
             0.3,
             "#f1b6da"
            ],
            [
             0.4,
             "#fde0ef"
            ],
            [
             0.5,
             "#f7f7f7"
            ],
            [
             0.6,
             "#e6f5d0"
            ],
            [
             0.7,
             "#b8e186"
            ],
            [
             0.8,
             "#7fbc41"
            ],
            [
             0.9,
             "#4d9221"
            ],
            [
             1,
             "#276419"
            ]
           ],
           "sequential": [
            [
             0,
             "#0d0887"
            ],
            [
             0.1111111111111111,
             "#46039f"
            ],
            [
             0.2222222222222222,
             "#7201a8"
            ],
            [
             0.3333333333333333,
             "#9c179e"
            ],
            [
             0.4444444444444444,
             "#bd3786"
            ],
            [
             0.5555555555555556,
             "#d8576b"
            ],
            [
             0.6666666666666666,
             "#ed7953"
            ],
            [
             0.7777777777777778,
             "#fb9f3a"
            ],
            [
             0.8888888888888888,
             "#fdca26"
            ],
            [
             1,
             "#f0f921"
            ]
           ],
           "sequentialminus": [
            [
             0,
             "#0d0887"
            ],
            [
             0.1111111111111111,
             "#46039f"
            ],
            [
             0.2222222222222222,
             "#7201a8"
            ],
            [
             0.3333333333333333,
             "#9c179e"
            ],
            [
             0.4444444444444444,
             "#bd3786"
            ],
            [
             0.5555555555555556,
             "#d8576b"
            ],
            [
             0.6666666666666666,
             "#ed7953"
            ],
            [
             0.7777777777777778,
             "#fb9f3a"
            ],
            [
             0.8888888888888888,
             "#fdca26"
            ],
            [
             1,
             "#f0f921"
            ]
           ]
          },
          "colorway": [
           "#636efa",
           "#EF553B",
           "#00cc96",
           "#ab63fa",
           "#FFA15A",
           "#19d3f3",
           "#FF6692",
           "#B6E880",
           "#FF97FF",
           "#FECB52"
          ],
          "font": {
           "color": "#2a3f5f"
          },
          "geo": {
           "bgcolor": "white",
           "lakecolor": "white",
           "landcolor": "#E5ECF6",
           "showlakes": true,
           "showland": true,
           "subunitcolor": "white"
          },
          "hoverlabel": {
           "align": "left"
          },
          "hovermode": "closest",
          "mapbox": {
           "style": "light"
          },
          "paper_bgcolor": "white",
          "plot_bgcolor": "#E5ECF6",
          "polar": {
           "angularaxis": {
            "gridcolor": "white",
            "linecolor": "white",
            "ticks": ""
           },
           "bgcolor": "#E5ECF6",
           "radialaxis": {
            "gridcolor": "white",
            "linecolor": "white",
            "ticks": ""
           }
          },
          "scene": {
           "xaxis": {
            "backgroundcolor": "#E5ECF6",
            "gridcolor": "white",
            "gridwidth": 2,
            "linecolor": "white",
            "showbackground": true,
            "ticks": "",
            "zerolinecolor": "white"
           },
           "yaxis": {
            "backgroundcolor": "#E5ECF6",
            "gridcolor": "white",
            "gridwidth": 2,
            "linecolor": "white",
            "showbackground": true,
            "ticks": "",
            "zerolinecolor": "white"
           },
           "zaxis": {
            "backgroundcolor": "#E5ECF6",
            "gridcolor": "white",
            "gridwidth": 2,
            "linecolor": "white",
            "showbackground": true,
            "ticks": "",
            "zerolinecolor": "white"
           }
          },
          "shapedefaults": {
           "line": {
            "color": "#2a3f5f"
           }
          },
          "ternary": {
           "aaxis": {
            "gridcolor": "white",
            "linecolor": "white",
            "ticks": ""
           },
           "baxis": {
            "gridcolor": "white",
            "linecolor": "white",
            "ticks": ""
           },
           "bgcolor": "#E5ECF6",
           "caxis": {
            "gridcolor": "white",
            "linecolor": "white",
            "ticks": ""
           }
          },
          "title": {
           "x": 0.05
          },
          "xaxis": {
           "automargin": true,
           "gridcolor": "white",
           "linecolor": "white",
           "ticks": "",
           "title": {
            "standoff": 15
           },
           "zerolinecolor": "white",
           "zerolinewidth": 2
          },
          "yaxis": {
           "automargin": true,
           "gridcolor": "white",
           "linecolor": "white",
           "ticks": "",
           "title": {
            "standoff": 15
           },
           "zerolinecolor": "white",
           "zerolinewidth": 2
          }
         }
        },
        "xaxis": {
         "anchor": "y",
         "categoryarray": [
          "Здоровые доноры",
          "Ишемический инсульт",
          "СД",
          "ХНМК"
         ],
         "categoryorder": "array",
         "domain": [
          0,
          1
         ],
         "title": {
          "text": "Группы"
         }
        },
        "yaxis": {
         "anchor": "x",
         "domain": [
          0,
          1
         ],
         "title": {
          "text": "Концентрация (события\\мкл)"
         }
        }
       }
      },
      "text/html": [
       "<div>                            <div id=\"dc01e814-1c3e-458f-94da-0f06adc24ee6\" class=\"plotly-graph-div\" style=\"height:525px; width:100%;\"></div>            <script type=\"text/javascript\">                require([\"plotly\"], function(Plotly) {                    window.PLOTLYENV=window.PLOTLYENV || {};                                    if (document.getElementById(\"dc01e814-1c3e-458f-94da-0f06adc24ee6\")) {                    Plotly.newPlot(                        \"dc01e814-1c3e-458f-94da-0f06adc24ee6\",                        [{\"alignmentgroup\": \"True\", \"hovertemplate\": \"\\u0413\\u0440\\u0443\\u043f\\u043f\\u044b=%{x}<br>\\u041a\\u043e\\u043d\\u0446\\u0435\\u043d\\u0442\\u0440\\u0430\\u0446\\u0438\\u044f (\\u0441\\u043e\\u0431\\u044b\\u0442\\u0438\\u044f\\\\\\u043c\\u043a\\u043b)=%{y}<extra></extra>\", \"legendgroup\": \"\\u0417\\u0434\\u043e\\u0440\\u043e\\u0432\\u044b\\u0435 \\u0434\\u043e\\u043d\\u043e\\u0440\\u044b\", \"marker\": {\"color\": \"#636efa\"}, \"name\": \"\\u0417\\u0434\\u043e\\u0440\\u043e\\u0432\\u044b\\u0435 \\u0434\\u043e\\u043d\\u043e\\u0440\\u044b\", \"notched\": false, \"offsetgroup\": \"\\u0417\\u0434\\u043e\\u0440\\u043e\\u0432\\u044b\\u0435 \\u0434\\u043e\\u043d\\u043e\\u0440\\u044b\", \"orientation\": \"v\", \"showlegend\": true, \"type\": \"box\", \"x\": [\"\\u0417\\u0434\\u043e\\u0440\\u043e\\u0432\\u044b\\u0435 \\u0434\\u043e\\u043d\\u043e\\u0440\\u044b\", \"\\u0417\\u0434\\u043e\\u0440\\u043e\\u0432\\u044b\\u0435 \\u0434\\u043e\\u043d\\u043e\\u0440\\u044b\", \"\\u0417\\u0434\\u043e\\u0440\\u043e\\u0432\\u044b\\u0435 \\u0434\\u043e\\u043d\\u043e\\u0440\\u044b\", \"\\u0417\\u0434\\u043e\\u0440\\u043e\\u0432\\u044b\\u0435 \\u0434\\u043e\\u043d\\u043e\\u0440\\u044b\", \"\\u0417\\u0434\\u043e\\u0440\\u043e\\u0432\\u044b\\u0435 \\u0434\\u043e\\u043d\\u043e\\u0440\\u044b\", \"\\u0417\\u0434\\u043e\\u0440\\u043e\\u0432\\u044b\\u0435 \\u0434\\u043e\\u043d\\u043e\\u0440\\u044b\", \"\\u0417\\u0434\\u043e\\u0440\\u043e\\u0432\\u044b\\u0435 \\u0434\\u043e\\u043d\\u043e\\u0440\\u044b\", \"\\u0417\\u0434\\u043e\\u0440\\u043e\\u0432\\u044b\\u0435 \\u0434\\u043e\\u043d\\u043e\\u0440\\u044b\"], \"x0\": \" \", \"xaxis\": \"x\", \"y\": [11.3, 9.9, 9.7, 4.1, 7.9, 13.0, 2.9, 2.6], \"y0\": \" \", \"yaxis\": \"y\"}, {\"alignmentgroup\": \"True\", \"hovertemplate\": \"\\u0413\\u0440\\u0443\\u043f\\u043f\\u044b=%{x}<br>\\u041a\\u043e\\u043d\\u0446\\u0435\\u043d\\u0442\\u0440\\u0430\\u0446\\u0438\\u044f (\\u0441\\u043e\\u0431\\u044b\\u0442\\u0438\\u044f\\\\\\u043c\\u043a\\u043b)=%{y}<extra></extra>\", \"legendgroup\": \"\\u0418\\u0448\\u0435\\u043c\\u0438\\u0447\\u0435\\u0441\\u043a\\u0438\\u0439 \\u0438\\u043d\\u0441\\u0443\\u043b\\u044c\\u0442\", \"marker\": {\"color\": \"#EF553B\"}, \"name\": \"\\u0418\\u0448\\u0435\\u043c\\u0438\\u0447\\u0435\\u0441\\u043a\\u0438\\u0439 \\u0438\\u043d\\u0441\\u0443\\u043b\\u044c\\u0442\", \"notched\": false, \"offsetgroup\": \"\\u0418\\u0448\\u0435\\u043c\\u0438\\u0447\\u0435\\u0441\\u043a\\u0438\\u0439 \\u0438\\u043d\\u0441\\u0443\\u043b\\u044c\\u0442\", \"orientation\": \"v\", \"showlegend\": true, \"type\": \"box\", \"x\": [\"\\u0418\\u0448\\u0435\\u043c\\u0438\\u0447\\u0435\\u0441\\u043a\\u0438\\u0439 \\u0438\\u043d\\u0441\\u0443\\u043b\\u044c\\u0442\", \"\\u0418\\u0448\\u0435\\u043c\\u0438\\u0447\\u0435\\u0441\\u043a\\u0438\\u0439 \\u0438\\u043d\\u0441\\u0443\\u043b\\u044c\\u0442\", \"\\u0418\\u0448\\u0435\\u043c\\u0438\\u0447\\u0435\\u0441\\u043a\\u0438\\u0439 \\u0438\\u043d\\u0441\\u0443\\u043b\\u044c\\u0442\", \"\\u0418\\u0448\\u0435\\u043c\\u0438\\u0447\\u0435\\u0441\\u043a\\u0438\\u0439 \\u0438\\u043d\\u0441\\u0443\\u043b\\u044c\\u0442\", \"\\u0418\\u0448\\u0435\\u043c\\u0438\\u0447\\u0435\\u0441\\u043a\\u0438\\u0439 \\u0438\\u043d\\u0441\\u0443\\u043b\\u044c\\u0442\", \"\\u0418\\u0448\\u0435\\u043c\\u0438\\u0447\\u0435\\u0441\\u043a\\u0438\\u0439 \\u0438\\u043d\\u0441\\u0443\\u043b\\u044c\\u0442\"], \"x0\": \" \", \"xaxis\": \"x\", \"y\": [6.2, 5.8, 4.7, 8.8, 2.0, 6.6], \"y0\": \" \", \"yaxis\": \"y\"}, {\"alignmentgroup\": \"True\", \"hovertemplate\": \"\\u0413\\u0440\\u0443\\u043f\\u043f\\u044b=%{x}<br>\\u041a\\u043e\\u043d\\u0446\\u0435\\u043d\\u0442\\u0440\\u0430\\u0446\\u0438\\u044f (\\u0441\\u043e\\u0431\\u044b\\u0442\\u0438\\u044f\\\\\\u043c\\u043a\\u043b)=%{y}<extra></extra>\", \"legendgroup\": \"\\u0421\\u0414\", \"marker\": {\"color\": \"#00cc96\"}, \"name\": \"\\u0421\\u0414\", \"notched\": false, \"offsetgroup\": \"\\u0421\\u0414\", \"orientation\": \"v\", \"showlegend\": true, \"type\": \"box\", \"x\": [\"\\u0421\\u0414\", \"\\u0421\\u0414\", \"\\u0421\\u0414\", \"\\u0421\\u0414\", \"\\u0421\\u0414\", \"\\u0421\\u0414\", \"\\u0421\\u0414\", \"\\u0421\\u0414\", \"\\u0421\\u0414\", \"\\u0421\\u0414\", \"\\u0421\\u0414\"], \"x0\": \" \", \"xaxis\": \"x\", \"y\": [0.3, 5.8, 1.8, 1.2, 0.7, 0.3, 0.8, 1.7, 0.7, 6.1, 0.2], \"y0\": \" \", \"yaxis\": \"y\"}, {\"alignmentgroup\": \"True\", \"hovertemplate\": \"\\u0413\\u0440\\u0443\\u043f\\u043f\\u044b=%{x}<br>\\u041a\\u043e\\u043d\\u0446\\u0435\\u043d\\u0442\\u0440\\u0430\\u0446\\u0438\\u044f (\\u0441\\u043e\\u0431\\u044b\\u0442\\u0438\\u044f\\\\\\u043c\\u043a\\u043b)=%{y}<extra></extra>\", \"legendgroup\": \"\\u0425\\u041d\\u041c\\u041a\", \"marker\": {\"color\": \"#ab63fa\"}, \"name\": \"\\u0425\\u041d\\u041c\\u041a\", \"notched\": false, \"offsetgroup\": \"\\u0425\\u041d\\u041c\\u041a\", \"orientation\": \"v\", \"showlegend\": true, \"type\": \"box\", \"x\": [\"\\u0425\\u041d\\u041c\\u041a\", \"\\u0425\\u041d\\u041c\\u041a\", \"\\u0425\\u041d\\u041c\\u041a\", \"\\u0425\\u041d\\u041c\\u041a\", \"\\u0425\\u041d\\u041c\\u041a\", \"\\u0425\\u041d\\u041c\\u041a\", \"\\u0425\\u041d\\u041c\\u041a\", \"\\u0425\\u041d\\u041c\\u041a\", \"\\u0425\\u041d\\u041c\\u041a\", \"\\u0425\\u041d\\u041c\\u041a\", \"\\u0425\\u041d\\u041c\\u041a\", \"\\u0425\\u041d\\u041c\\u041a\", \"\\u0425\\u041d\\u041c\\u041a\", \"\\u0425\\u041d\\u041c\\u041a\", \"\\u0425\\u041d\\u041c\\u041a\", \"\\u0425\\u041d\\u041c\\u041a\", \"\\u0425\\u041d\\u041c\\u041a\", \"\\u0425\\u041d\\u041c\\u041a\", \"\\u0425\\u041d\\u041c\\u041a\", \"\\u0425\\u041d\\u041c\\u041a\", \"\\u0425\\u041d\\u041c\\u041a\", \"\\u0425\\u041d\\u041c\\u041a\", \"\\u0425\\u041d\\u041c\\u041a\", \"\\u0425\\u041d\\u041c\\u041a\", \"\\u0425\\u041d\\u041c\\u041a\", \"\\u0425\\u041d\\u041c\\u041a\", \"\\u0425\\u041d\\u041c\\u041a\", \"\\u0425\\u041d\\u041c\\u041a\", \"\\u0425\\u041d\\u041c\\u041a\", \"\\u0425\\u041d\\u041c\\u041a\", \"\\u0425\\u041d\\u041c\\u041a\", \"\\u0425\\u041d\\u041c\\u041a\", \"\\u0425\\u041d\\u041c\\u041a\"], \"x0\": \" \", \"xaxis\": \"x\", \"y\": [3.0, 1.1, 0.6, 22.2, 1.0, 0.8, 11.2, 1.4, 0.3, 0.4, 3.4, 0.3, 1.3, 3.1, 4.4, 0.6, 0.8, 1.3, 1.6, 4.2, 3.4, 0.2, 1.3, 8.8, 0.8, 0.8, 4.2, 0.9, 1.9, 0.1, 4.4, 17.6, 3.2], \"y0\": \" \", \"yaxis\": \"y\"}],                        {\"boxmode\": \"overlay\", \"legend\": {\"title\": {\"text\": \"\\u0413\\u0440\\u0443\\u043f\\u043f\\u044b\"}, \"tracegroupgap\": 0}, \"margin\": {\"t\": 60}, \"template\": {\"data\": {\"bar\": [{\"error_x\": {\"color\": \"#2a3f5f\"}, \"error_y\": {\"color\": \"#2a3f5f\"}, \"marker\": {\"line\": {\"color\": \"#E5ECF6\", \"width\": 0.5}}, \"type\": \"bar\"}], \"barpolar\": [{\"marker\": {\"line\": {\"color\": \"#E5ECF6\", \"width\": 0.5}}, \"type\": \"barpolar\"}], \"carpet\": [{\"aaxis\": {\"endlinecolor\": \"#2a3f5f\", \"gridcolor\": \"white\", \"linecolor\": \"white\", \"minorgridcolor\": \"white\", \"startlinecolor\": \"#2a3f5f\"}, \"baxis\": {\"endlinecolor\": \"#2a3f5f\", \"gridcolor\": \"white\", \"linecolor\": \"white\", \"minorgridcolor\": \"white\", \"startlinecolor\": \"#2a3f5f\"}, \"type\": \"carpet\"}], \"choropleth\": [{\"colorbar\": {\"outlinewidth\": 0, \"ticks\": \"\"}, \"type\": \"choropleth\"}], \"contour\": [{\"colorbar\": {\"outlinewidth\": 0, \"ticks\": \"\"}, \"colorscale\": [[0.0, \"#0d0887\"], [0.1111111111111111, \"#46039f\"], [0.2222222222222222, \"#7201a8\"], [0.3333333333333333, \"#9c179e\"], [0.4444444444444444, \"#bd3786\"], [0.5555555555555556, \"#d8576b\"], [0.6666666666666666, \"#ed7953\"], [0.7777777777777778, \"#fb9f3a\"], [0.8888888888888888, \"#fdca26\"], [1.0, \"#f0f921\"]], \"type\": \"contour\"}], \"contourcarpet\": [{\"colorbar\": {\"outlinewidth\": 0, \"ticks\": \"\"}, \"type\": \"contourcarpet\"}], \"heatmap\": [{\"colorbar\": {\"outlinewidth\": 0, \"ticks\": \"\"}, \"colorscale\": [[0.0, \"#0d0887\"], [0.1111111111111111, \"#46039f\"], [0.2222222222222222, \"#7201a8\"], [0.3333333333333333, \"#9c179e\"], [0.4444444444444444, \"#bd3786\"], [0.5555555555555556, \"#d8576b\"], [0.6666666666666666, \"#ed7953\"], [0.7777777777777778, \"#fb9f3a\"], [0.8888888888888888, \"#fdca26\"], [1.0, \"#f0f921\"]], \"type\": \"heatmap\"}], \"heatmapgl\": [{\"colorbar\": {\"outlinewidth\": 0, \"ticks\": \"\"}, \"colorscale\": [[0.0, \"#0d0887\"], [0.1111111111111111, \"#46039f\"], [0.2222222222222222, \"#7201a8\"], [0.3333333333333333, \"#9c179e\"], [0.4444444444444444, \"#bd3786\"], [0.5555555555555556, \"#d8576b\"], [0.6666666666666666, \"#ed7953\"], [0.7777777777777778, \"#fb9f3a\"], [0.8888888888888888, \"#fdca26\"], [1.0, \"#f0f921\"]], \"type\": \"heatmapgl\"}], \"histogram\": [{\"marker\": {\"colorbar\": {\"outlinewidth\": 0, \"ticks\": \"\"}}, \"type\": \"histogram\"}], \"histogram2d\": [{\"colorbar\": {\"outlinewidth\": 0, \"ticks\": \"\"}, \"colorscale\": [[0.0, \"#0d0887\"], [0.1111111111111111, \"#46039f\"], [0.2222222222222222, \"#7201a8\"], [0.3333333333333333, \"#9c179e\"], [0.4444444444444444, \"#bd3786\"], [0.5555555555555556, \"#d8576b\"], [0.6666666666666666, \"#ed7953\"], [0.7777777777777778, \"#fb9f3a\"], [0.8888888888888888, \"#fdca26\"], [1.0, \"#f0f921\"]], \"type\": \"histogram2d\"}], \"histogram2dcontour\": [{\"colorbar\": {\"outlinewidth\": 0, \"ticks\": \"\"}, \"colorscale\": [[0.0, \"#0d0887\"], [0.1111111111111111, \"#46039f\"], [0.2222222222222222, \"#7201a8\"], [0.3333333333333333, \"#9c179e\"], [0.4444444444444444, \"#bd3786\"], [0.5555555555555556, \"#d8576b\"], [0.6666666666666666, \"#ed7953\"], [0.7777777777777778, \"#fb9f3a\"], [0.8888888888888888, \"#fdca26\"], [1.0, \"#f0f921\"]], \"type\": \"histogram2dcontour\"}], \"mesh3d\": [{\"colorbar\": {\"outlinewidth\": 0, \"ticks\": \"\"}, \"type\": \"mesh3d\"}], \"parcoords\": [{\"line\": {\"colorbar\": {\"outlinewidth\": 0, \"ticks\": \"\"}}, \"type\": \"parcoords\"}], \"pie\": [{\"automargin\": true, \"type\": \"pie\"}], \"scatter\": [{\"marker\": {\"colorbar\": {\"outlinewidth\": 0, \"ticks\": \"\"}}, \"type\": \"scatter\"}], \"scatter3d\": [{\"line\": {\"colorbar\": {\"outlinewidth\": 0, \"ticks\": \"\"}}, \"marker\": {\"colorbar\": {\"outlinewidth\": 0, \"ticks\": \"\"}}, \"type\": \"scatter3d\"}], \"scattercarpet\": [{\"marker\": {\"colorbar\": {\"outlinewidth\": 0, \"ticks\": \"\"}}, \"type\": \"scattercarpet\"}], \"scattergeo\": [{\"marker\": {\"colorbar\": {\"outlinewidth\": 0, \"ticks\": \"\"}}, \"type\": \"scattergeo\"}], \"scattergl\": [{\"marker\": {\"colorbar\": {\"outlinewidth\": 0, \"ticks\": \"\"}}, \"type\": \"scattergl\"}], \"scattermapbox\": [{\"marker\": {\"colorbar\": {\"outlinewidth\": 0, \"ticks\": \"\"}}, \"type\": \"scattermapbox\"}], \"scatterpolar\": [{\"marker\": {\"colorbar\": {\"outlinewidth\": 0, \"ticks\": \"\"}}, \"type\": \"scatterpolar\"}], \"scatterpolargl\": [{\"marker\": {\"colorbar\": {\"outlinewidth\": 0, \"ticks\": \"\"}}, \"type\": \"scatterpolargl\"}], \"scatterternary\": [{\"marker\": {\"colorbar\": {\"outlinewidth\": 0, \"ticks\": \"\"}}, \"type\": \"scatterternary\"}], \"surface\": [{\"colorbar\": {\"outlinewidth\": 0, \"ticks\": \"\"}, \"colorscale\": [[0.0, \"#0d0887\"], [0.1111111111111111, \"#46039f\"], [0.2222222222222222, \"#7201a8\"], [0.3333333333333333, \"#9c179e\"], [0.4444444444444444, \"#bd3786\"], [0.5555555555555556, \"#d8576b\"], [0.6666666666666666, \"#ed7953\"], [0.7777777777777778, \"#fb9f3a\"], [0.8888888888888888, \"#fdca26\"], [1.0, \"#f0f921\"]], \"type\": \"surface\"}], \"table\": [{\"cells\": {\"fill\": {\"color\": \"#EBF0F8\"}, \"line\": {\"color\": \"white\"}}, \"header\": {\"fill\": {\"color\": \"#C8D4E3\"}, \"line\": {\"color\": \"white\"}}, \"type\": \"table\"}]}, \"layout\": {\"annotationdefaults\": {\"arrowcolor\": \"#2a3f5f\", \"arrowhead\": 0, \"arrowwidth\": 1}, \"autotypenumbers\": \"strict\", \"coloraxis\": {\"colorbar\": {\"outlinewidth\": 0, \"ticks\": \"\"}}, \"colorscale\": {\"diverging\": [[0, \"#8e0152\"], [0.1, \"#c51b7d\"], [0.2, \"#de77ae\"], [0.3, \"#f1b6da\"], [0.4, \"#fde0ef\"], [0.5, \"#f7f7f7\"], [0.6, \"#e6f5d0\"], [0.7, \"#b8e186\"], [0.8, \"#7fbc41\"], [0.9, \"#4d9221\"], [1, \"#276419\"]], \"sequential\": [[0.0, \"#0d0887\"], [0.1111111111111111, \"#46039f\"], [0.2222222222222222, \"#7201a8\"], [0.3333333333333333, \"#9c179e\"], [0.4444444444444444, \"#bd3786\"], [0.5555555555555556, \"#d8576b\"], [0.6666666666666666, \"#ed7953\"], [0.7777777777777778, \"#fb9f3a\"], [0.8888888888888888, \"#fdca26\"], [1.0, \"#f0f921\"]], \"sequentialminus\": [[0.0, \"#0d0887\"], [0.1111111111111111, \"#46039f\"], [0.2222222222222222, \"#7201a8\"], [0.3333333333333333, \"#9c179e\"], [0.4444444444444444, \"#bd3786\"], [0.5555555555555556, \"#d8576b\"], [0.6666666666666666, \"#ed7953\"], [0.7777777777777778, \"#fb9f3a\"], [0.8888888888888888, \"#fdca26\"], [1.0, \"#f0f921\"]]}, \"colorway\": [\"#636efa\", \"#EF553B\", \"#00cc96\", \"#ab63fa\", \"#FFA15A\", \"#19d3f3\", \"#FF6692\", \"#B6E880\", \"#FF97FF\", \"#FECB52\"], \"font\": {\"color\": \"#2a3f5f\"}, \"geo\": {\"bgcolor\": \"white\", \"lakecolor\": \"white\", \"landcolor\": \"#E5ECF6\", \"showlakes\": true, \"showland\": true, \"subunitcolor\": \"white\"}, \"hoverlabel\": {\"align\": \"left\"}, \"hovermode\": \"closest\", \"mapbox\": {\"style\": \"light\"}, \"paper_bgcolor\": \"white\", \"plot_bgcolor\": \"#E5ECF6\", \"polar\": {\"angularaxis\": {\"gridcolor\": \"white\", \"linecolor\": \"white\", \"ticks\": \"\"}, \"bgcolor\": \"#E5ECF6\", \"radialaxis\": {\"gridcolor\": \"white\", \"linecolor\": \"white\", \"ticks\": \"\"}}, \"scene\": {\"xaxis\": {\"backgroundcolor\": \"#E5ECF6\", \"gridcolor\": \"white\", \"gridwidth\": 2, \"linecolor\": \"white\", \"showbackground\": true, \"ticks\": \"\", \"zerolinecolor\": \"white\"}, \"yaxis\": {\"backgroundcolor\": \"#E5ECF6\", \"gridcolor\": \"white\", \"gridwidth\": 2, \"linecolor\": \"white\", \"showbackground\": true, \"ticks\": \"\", \"zerolinecolor\": \"white\"}, \"zaxis\": {\"backgroundcolor\": \"#E5ECF6\", \"gridcolor\": \"white\", \"gridwidth\": 2, \"linecolor\": \"white\", \"showbackground\": true, \"ticks\": \"\", \"zerolinecolor\": \"white\"}}, \"shapedefaults\": {\"line\": {\"color\": \"#2a3f5f\"}}, \"ternary\": {\"aaxis\": {\"gridcolor\": \"white\", \"linecolor\": \"white\", \"ticks\": \"\"}, \"baxis\": {\"gridcolor\": \"white\", \"linecolor\": \"white\", \"ticks\": \"\"}, \"bgcolor\": \"#E5ECF6\", \"caxis\": {\"gridcolor\": \"white\", \"linecolor\": \"white\", \"ticks\": \"\"}}, \"title\": {\"x\": 0.05}, \"xaxis\": {\"automargin\": true, \"gridcolor\": \"white\", \"linecolor\": \"white\", \"ticks\": \"\", \"title\": {\"standoff\": 15}, \"zerolinecolor\": \"white\", \"zerolinewidth\": 2}, \"yaxis\": {\"automargin\": true, \"gridcolor\": \"white\", \"linecolor\": \"white\", \"ticks\": \"\", \"title\": {\"standoff\": 15}, \"zerolinecolor\": \"white\", \"zerolinewidth\": 2}}}, \"xaxis\": {\"anchor\": \"y\", \"categoryarray\": [\"\\u0417\\u0434\\u043e\\u0440\\u043e\\u0432\\u044b\\u0435 \\u0434\\u043e\\u043d\\u043e\\u0440\\u044b\", \"\\u0418\\u0448\\u0435\\u043c\\u0438\\u0447\\u0435\\u0441\\u043a\\u0438\\u0439 \\u0438\\u043d\\u0441\\u0443\\u043b\\u044c\\u0442\", \"\\u0421\\u0414\", \"\\u0425\\u041d\\u041c\\u041a\"], \"categoryorder\": \"array\", \"domain\": [0.0, 1.0], \"title\": {\"text\": \"\\u0413\\u0440\\u0443\\u043f\\u043f\\u044b\"}}, \"yaxis\": {\"anchor\": \"x\", \"domain\": [0.0, 1.0], \"title\": {\"text\": \"\\u041a\\u043e\\u043d\\u0446\\u0435\\u043d\\u0442\\u0440\\u0430\\u0446\\u0438\\u044f (\\u0441\\u043e\\u0431\\u044b\\u0442\\u0438\\u044f\\\\\\u043c\\u043a\\u043b)\"}}},                        {\"responsive\": true}                    ).then(function(){\n",
       "                            \n",
       "var gd = document.getElementById('dc01e814-1c3e-458f-94da-0f06adc24ee6');\n",
       "var x = new MutationObserver(function (mutations, observer) {{\n",
       "        var display = window.getComputedStyle(gd).display;\n",
       "        if (!display || display === 'none') {{\n",
       "            console.log([gd, 'removed!']);\n",
       "            Plotly.purge(gd);\n",
       "            observer.disconnect();\n",
       "        }}\n",
       "}});\n",
       "\n",
       "// Listen for the removal of the full notebook cells\n",
       "var notebookContainer = gd.closest('#notebook-container');\n",
       "if (notebookContainer) {{\n",
       "    x.observe(notebookContainer, {childList: true});\n",
       "}}\n",
       "\n",
       "// Listen for the clearing of the current output cell\n",
       "var outputEl = gd.closest('.output');\n",
       "if (outputEl) {{\n",
       "    x.observe(outputEl, {childList: true});\n",
       "}}\n",
       "\n",
       "                        })                };                });            </script>        </div>"
      ]
     },
     "metadata": {},
     "output_type": "display_data"
    }
   ],
   "source": [
    "px.box(df, x=df[cols[0]], y=df[cols[10]], color=df[cols[0]], labels={'Groups': 'Группы', 'CD34 Events/?L(V) w/ dilution': 'Концентрация (события\\мкл)'})"
   ]
  },
  {
   "cell_type": "code",
   "execution_count": 20,
   "id": "d5d915ad",
   "metadata": {},
   "outputs": [
    {
     "data": {
      "text/plain": [
       "ХНМК                   33\n",
       "СД                     11\n",
       "Здоровые доноры         8\n",
       "Ишемический инсульт     6\n",
       "Name: Groups, dtype: int64"
      ]
     },
     "execution_count": 20,
     "metadata": {},
     "output_type": "execute_result"
    }
   ],
   "source": [
    "import plotly.graph_objects as go\n",
    "\n",
    "df['Groups'].value_counts()"
   ]
  },
  {
   "cell_type": "code",
   "execution_count": 33,
   "id": "82f142c7",
   "metadata": {},
   "outputs": [
    {
     "ename": "ValueError",
     "evalue": "Value of 'values' is not the name of a column in 'data_frame'. Expected one of ['Groups', 'CD146 Events/?L(V)', 'CD146 Events/?L(V) w/ dilution', 'CD31+ Events/?L(V)', 'CD31+ Events/?L(V) w/ dilution', 'CD133 Events/?L(V)', 'CD133 Events/?L(V) w/ dilution', 'CD144+ Events/?L(V)', 'CD144+ Events/?L(V) w/ dilution', 'CD34 Events/?L(V)', 'CD34 Events/?L(V) w/ dilution'] but received: <bound method IndexOpsMixin.value_counts of 21        Здоровые доноры\n45        Здоровые доноры\n27        Здоровые доноры\n15        Здоровые доноры\n6         Здоровые доноры\n47        Здоровые доноры\n54        Здоровые доноры\n2         Здоровые доноры\n53    Ишемический инсульт\n9     Ишемический инсульт\n30    Ишемический инсульт\n33    Ишемический инсульт\n34    Ишемический инсульт\n39    Ишемический инсульт\n56                     СД\n29                     СД\n23                     СД\n0                      СД\n48                     СД\n11                     СД\n31                     СД\n51                     СД\n7                      СД\n14                     СД\n49                     СД\n38                   ХНМК\n46                   ХНМК\n41                   ХНМК\n42                   ХНМК\n43                   ХНМК\n44                   ХНМК\n50                   ХНМК\n52                   ХНМК\n55                   ХНМК\n40                   ХНМК\n37                   ХНМК\n28                   ХНМК\n35                   ХНМК\n1                    ХНМК\n3                    ХНМК\n4                    ХНМК\n5                    ХНМК\n8                    ХНМК\n10                   ХНМК\n12                   ХНМК\n13                   ХНМК\n36                   ХНМК\n16                   ХНМК\n18                   ХНМК\n19                   ХНМК\n20                   ХНМК\n22                   ХНМК\n24                   ХНМК\n25                   ХНМК\n26                   ХНМК\n32                   ХНМК\n17                   ХНМК\n57                   ХНМК\nName: Groups, dtype: object>",
     "output_type": "error",
     "traceback": [
      "\u001b[1;31m---------------------------------------------------------------------------\u001b[0m",
      "\u001b[1;31mValueError\u001b[0m                                Traceback (most recent call last)",
      "\u001b[1;32m<ipython-input-33-8bf342c8eaa3>\u001b[0m in \u001b[0;36m<module>\u001b[1;34m\u001b[0m\n\u001b[1;32m----> 1\u001b[1;33m \u001b[0mpx\u001b[0m\u001b[1;33m.\u001b[0m\u001b[0mpie\u001b[0m\u001b[1;33m(\u001b[0m\u001b[0mdf\u001b[0m\u001b[1;33m,\u001b[0m \u001b[0mvalues\u001b[0m\u001b[1;33m=\u001b[0m\u001b[0mdf\u001b[0m\u001b[1;33m.\u001b[0m\u001b[0mGroups\u001b[0m\u001b[1;33m.\u001b[0m\u001b[0mvalue_counts\u001b[0m\u001b[1;33m,\u001b[0m \u001b[0mnames\u001b[0m\u001b[1;33m=\u001b[0m\u001b[1;34m'Groups'\u001b[0m\u001b[1;33m)\u001b[0m\u001b[1;33m\u001b[0m\u001b[1;33m\u001b[0m\u001b[0m\n\u001b[0m",
      "\u001b[1;32mc:\\users\\fyodor\\.virtualenvs\\practise-h5vwcjdk\\lib\\site-packages\\plotly\\express\\_chart_types.py\u001b[0m in \u001b[0;36mpie\u001b[1;34m(data_frame, names, values, color, color_discrete_sequence, color_discrete_map, hover_name, hover_data, custom_data, labels, title, template, width, height, opacity, hole)\u001b[0m\n\u001b[0;32m   1353\u001b[0m     \u001b[1;32melse\u001b[0m\u001b[1;33m:\u001b[0m\u001b[1;33m\u001b[0m\u001b[1;33m\u001b[0m\u001b[0m\n\u001b[0;32m   1354\u001b[0m         \u001b[0mlayout_patch\u001b[0m \u001b[1;33m=\u001b[0m \u001b[1;33m{\u001b[0m\u001b[1;33m}\u001b[0m\u001b[1;33m\u001b[0m\u001b[1;33m\u001b[0m\u001b[0m\n\u001b[1;32m-> 1355\u001b[1;33m     return make_figure(\n\u001b[0m\u001b[0;32m   1356\u001b[0m         \u001b[0margs\u001b[0m\u001b[1;33m=\u001b[0m\u001b[0mlocals\u001b[0m\u001b[1;33m(\u001b[0m\u001b[1;33m)\u001b[0m\u001b[1;33m,\u001b[0m\u001b[1;33m\u001b[0m\u001b[1;33m\u001b[0m\u001b[0m\n\u001b[0;32m   1357\u001b[0m         \u001b[0mconstructor\u001b[0m\u001b[1;33m=\u001b[0m\u001b[0mgo\u001b[0m\u001b[1;33m.\u001b[0m\u001b[0mPie\u001b[0m\u001b[1;33m,\u001b[0m\u001b[1;33m\u001b[0m\u001b[1;33m\u001b[0m\u001b[0m\n",
      "\u001b[1;32mc:\\users\\fyodor\\.virtualenvs\\practise-h5vwcjdk\\lib\\site-packages\\plotly\\express\\_core.py\u001b[0m in \u001b[0;36mmake_figure\u001b[1;34m(args, constructor, trace_patch, layout_patch)\u001b[0m\n\u001b[0;32m   1859\u001b[0m     \u001b[0mapply_default_cascade\u001b[0m\u001b[1;33m(\u001b[0m\u001b[0margs\u001b[0m\u001b[1;33m)\u001b[0m\u001b[1;33m\u001b[0m\u001b[1;33m\u001b[0m\u001b[0m\n\u001b[0;32m   1860\u001b[0m \u001b[1;33m\u001b[0m\u001b[0m\n\u001b[1;32m-> 1861\u001b[1;33m     \u001b[0margs\u001b[0m \u001b[1;33m=\u001b[0m \u001b[0mbuild_dataframe\u001b[0m\u001b[1;33m(\u001b[0m\u001b[0margs\u001b[0m\u001b[1;33m,\u001b[0m \u001b[0mconstructor\u001b[0m\u001b[1;33m)\u001b[0m\u001b[1;33m\u001b[0m\u001b[1;33m\u001b[0m\u001b[0m\n\u001b[0m\u001b[0;32m   1862\u001b[0m     \u001b[1;32mif\u001b[0m \u001b[0mconstructor\u001b[0m \u001b[1;32min\u001b[0m \u001b[1;33m[\u001b[0m\u001b[0mgo\u001b[0m\u001b[1;33m.\u001b[0m\u001b[0mTreemap\u001b[0m\u001b[1;33m,\u001b[0m \u001b[0mgo\u001b[0m\u001b[1;33m.\u001b[0m\u001b[0mSunburst\u001b[0m\u001b[1;33m]\u001b[0m \u001b[1;32mand\u001b[0m \u001b[0margs\u001b[0m\u001b[1;33m[\u001b[0m\u001b[1;34m\"path\"\u001b[0m\u001b[1;33m]\u001b[0m \u001b[1;32mis\u001b[0m \u001b[1;32mnot\u001b[0m \u001b[1;32mNone\u001b[0m\u001b[1;33m:\u001b[0m\u001b[1;33m\u001b[0m\u001b[1;33m\u001b[0m\u001b[0m\n\u001b[0;32m   1863\u001b[0m         \u001b[0margs\u001b[0m \u001b[1;33m=\u001b[0m \u001b[0mprocess_dataframe_hierarchy\u001b[0m\u001b[1;33m(\u001b[0m\u001b[0margs\u001b[0m\u001b[1;33m)\u001b[0m\u001b[1;33m\u001b[0m\u001b[1;33m\u001b[0m\u001b[0m\n",
      "\u001b[1;32mc:\\users\\fyodor\\.virtualenvs\\practise-h5vwcjdk\\lib\\site-packages\\plotly\\express\\_core.py\u001b[0m in \u001b[0;36mbuild_dataframe\u001b[1;34m(args, constructor)\u001b[0m\n\u001b[0;32m   1375\u001b[0m     \u001b[1;31m# now that things have been prepped, we do the systematic rewriting of `args`\u001b[0m\u001b[1;33m\u001b[0m\u001b[1;33m\u001b[0m\u001b[1;33m\u001b[0m\u001b[0m\n\u001b[0;32m   1376\u001b[0m \u001b[1;33m\u001b[0m\u001b[0m\n\u001b[1;32m-> 1377\u001b[1;33m     df_output, wide_id_vars = process_args_into_dataframe(\n\u001b[0m\u001b[0;32m   1378\u001b[0m         \u001b[0margs\u001b[0m\u001b[1;33m,\u001b[0m \u001b[0mwide_mode\u001b[0m\u001b[1;33m,\u001b[0m \u001b[0mvar_name\u001b[0m\u001b[1;33m,\u001b[0m \u001b[0mvalue_name\u001b[0m\u001b[1;33m\u001b[0m\u001b[1;33m\u001b[0m\u001b[0m\n\u001b[0;32m   1379\u001b[0m     )\n",
      "\u001b[1;32mc:\\users\\fyodor\\.virtualenvs\\practise-h5vwcjdk\\lib\\site-packages\\plotly\\express\\_core.py\u001b[0m in \u001b[0;36mprocess_args_into_dataframe\u001b[1;34m(args, wide_mode, var_name, value_name)\u001b[0m\n\u001b[0;32m   1181\u001b[0m                         \u001b[1;32mif\u001b[0m \u001b[0margument\u001b[0m \u001b[1;33m==\u001b[0m \u001b[1;34m\"index\"\u001b[0m\u001b[1;33m:\u001b[0m\u001b[1;33m\u001b[0m\u001b[1;33m\u001b[0m\u001b[0m\n\u001b[0;32m   1182\u001b[0m                             \u001b[0merr_msg\u001b[0m \u001b[1;33m+=\u001b[0m \u001b[1;34m\"\\n To use the index, pass it in directly as `df.index`.\"\u001b[0m\u001b[1;33m\u001b[0m\u001b[1;33m\u001b[0m\u001b[0m\n\u001b[1;32m-> 1183\u001b[1;33m                         \u001b[1;32mraise\u001b[0m \u001b[0mValueError\u001b[0m\u001b[1;33m(\u001b[0m\u001b[0merr_msg\u001b[0m\u001b[1;33m)\u001b[0m\u001b[1;33m\u001b[0m\u001b[1;33m\u001b[0m\u001b[0m\n\u001b[0m\u001b[0;32m   1184\u001b[0m                 \u001b[1;32melif\u001b[0m \u001b[0mlength\u001b[0m \u001b[1;32mand\u001b[0m \u001b[0mlen\u001b[0m\u001b[1;33m(\u001b[0m\u001b[0mdf_input\u001b[0m\u001b[1;33m[\u001b[0m\u001b[0margument\u001b[0m\u001b[1;33m]\u001b[0m\u001b[1;33m)\u001b[0m \u001b[1;33m!=\u001b[0m \u001b[0mlength\u001b[0m\u001b[1;33m:\u001b[0m\u001b[1;33m\u001b[0m\u001b[1;33m\u001b[0m\u001b[0m\n\u001b[0;32m   1185\u001b[0m                     raise ValueError(\n",
      "\u001b[1;31mValueError\u001b[0m: Value of 'values' is not the name of a column in 'data_frame'. Expected one of ['Groups', 'CD146 Events/?L(V)', 'CD146 Events/?L(V) w/ dilution', 'CD31+ Events/?L(V)', 'CD31+ Events/?L(V) w/ dilution', 'CD133 Events/?L(V)', 'CD133 Events/?L(V) w/ dilution', 'CD144+ Events/?L(V)', 'CD144+ Events/?L(V) w/ dilution', 'CD34 Events/?L(V)', 'CD34 Events/?L(V) w/ dilution'] but received: <bound method IndexOpsMixin.value_counts of 21        Здоровые доноры\n45        Здоровые доноры\n27        Здоровые доноры\n15        Здоровые доноры\n6         Здоровые доноры\n47        Здоровые доноры\n54        Здоровые доноры\n2         Здоровые доноры\n53    Ишемический инсульт\n9     Ишемический инсульт\n30    Ишемический инсульт\n33    Ишемический инсульт\n34    Ишемический инсульт\n39    Ишемический инсульт\n56                     СД\n29                     СД\n23                     СД\n0                      СД\n48                     СД\n11                     СД\n31                     СД\n51                     СД\n7                      СД\n14                     СД\n49                     СД\n38                   ХНМК\n46                   ХНМК\n41                   ХНМК\n42                   ХНМК\n43                   ХНМК\n44                   ХНМК\n50                   ХНМК\n52                   ХНМК\n55                   ХНМК\n40                   ХНМК\n37                   ХНМК\n28                   ХНМК\n35                   ХНМК\n1                    ХНМК\n3                    ХНМК\n4                    ХНМК\n5                    ХНМК\n8                    ХНМК\n10                   ХНМК\n12                   ХНМК\n13                   ХНМК\n36                   ХНМК\n16                   ХНМК\n18                   ХНМК\n19                   ХНМК\n20                   ХНМК\n22                   ХНМК\n24                   ХНМК\n25                   ХНМК\n26                   ХНМК\n32                   ХНМК\n17                   ХНМК\n57                   ХНМК\nName: Groups, dtype: object>"
     ]
    }
   ],
   "source": [
    "px.pie(df, values"
   ]
  },
  {
   "cell_type": "code",
   "execution_count": 31,
   "id": "813d5f36",
   "metadata": {},
   "outputs": [],
   "source": [
    "?px.pie"
   ]
  },
  {
   "cell_type": "code",
   "execution_count": null,
   "id": "ddf20b8a",
   "metadata": {},
   "outputs": [],
   "source": []
  }
 ],
 "metadata": {
  "kernelspec": {
   "display_name": "Python 3",
   "language": "python",
   "name": "python3"
  },
  "language_info": {
   "codemirror_mode": {
    "name": "ipython",
    "version": 3
   },
   "file_extension": ".py",
   "mimetype": "text/x-python",
   "name": "python",
   "nbconvert_exporter": "python",
   "pygments_lexer": "ipython3",
   "version": "3.8.6"
  }
 },
 "nbformat": 4,
 "nbformat_minor": 5
}
