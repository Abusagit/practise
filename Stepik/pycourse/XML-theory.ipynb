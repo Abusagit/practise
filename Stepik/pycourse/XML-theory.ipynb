{
 "cells": [
  {
   "cell_type": "markdown",
   "source": [
    "# Работа с имеющимся деревом"
   ],
   "metadata": {
    "collapsed": false,
    "pycharm": {
     "name": "#%% md\n"
    }
   }
  },
  {
   "cell_type": "code",
   "execution_count": 1,
   "metadata": {
    "collapsed": true,
    "pycharm": {
     "is_executing": false
    }
   },
   "outputs": [
    {
     "name": "stdout",
     "text": [
      "<Element 'studentsList' at 0x0000024A9EE49E50>\nstudentsList {}\n"
     ],
     "output_type": "stream"
    }
   ],
   "source": [
    "from xml.etree import ElementTree\n",
    "tree = ElementTree.parse('example.xml') # Возвращение дерева\n",
    "root = tree.getroot() # опросили корень\n",
    "print(root)\n",
    "print(root.tag, root.attrib)"
   ]
  },
  {
   "cell_type": "code",
   "execution_count": 2,
   "outputs": [
    {
     "name": "stdout",
     "text": [
      "student {'id': '1'}\nstudent {'id': '2'}\n"
     ],
     "output_type": "stream"
    }
   ],
   "source": [
    "# исполнение по тегам\n",
    "for child in root:\n",
    "    print(child.tag, child.attrib)"
   ],
   "metadata": {
    "collapsed": false,
    "pycharm": {
     "name": "#%%\n",
     "is_executing": false
    }
   }
  },
  {
   "cell_type": "code",
   "execution_count": 3,
   "outputs": [
    {
     "name": "stdout",
     "text": [
      "Greg\nDean\nTrue\n<Element 'scores' at 0x0000024A9EE79EA0>\n"
     ],
     "output_type": "stream"
    }
   ],
   "source": [
    "# индексация через числа для обращения к детям и детям детей\n",
    "print(root[0][0].text) # \n",
    "print(root[0][1].text)\n",
    "print(root[0][2].text)\n",
    "print(root[0][3])"
   ],
   "metadata": {
    "collapsed": false,
    "pycharm": {
     "name": "#%%ф\n",
     "is_executing": false
    }
   }
  },
  {
   "cell_type": "code",
   "execution_count": 4,
   "outputs": [
    {
     "name": "stdout",
     "text": [
      "<Element 'scores' at 0x0000024A9EE79EA0>\n<Element 'scores' at 0x0000024A9EE7C180>\n"
     ],
     "output_type": "stream"
    }
   ],
   "source": [
    "# Итерация - перебор всех элементов внутри поддерева с данным тегом:\n",
    "for element in root.iter('scores'):\n",
    "    print(element) #2 элемента scores - у первого и второго студента\n",
    "    "
   ],
   "metadata": {
    "collapsed": false,
    "pycharm": {
     "name": "#%%\n",
     "is_executing": false
    }
   }
  },
  {
   "cell_type": "code",
   "execution_count": 5,
   "outputs": [],
   "source": [
    "# Перебор детей в элементе scores - ам 3 результата"
   ],
   "metadata": {
    "collapsed": false,
    "pycharm": {
     "name": "#%%\n",
     "is_executing": false
    }
   }
  },
  {
   "cell_type": "code",
   "execution_count": 6,
   "outputs": [
    {
     "name": "stdout",
     "text": [
      "240.0\n250.0\n"
     ],
     "output_type": "stream"
    }
   ],
   "source": [
    "# Score sum for 1st and 2nd student\n",
    "for element in root.iter('scores'):\n",
    "    score_sum = 0\n",
    "    for child in element:\n",
    "        score_sum += float(child.text)\n",
    "    print(score_sum)"
   ],
   "metadata": {
    "collapsed": false,
    "pycharm": {
     "name": "#%%\n",
     "is_executing": false
    }
   }
  },
  {
   "cell_type": "code",
   "execution_count": 7,
   "outputs": [
    {
     "name": "stdout",
     "text": [
      "<Element 'student' at 0x0000024A9EE51900>\n<Element 'student' at 0x0000024A9EE7C040>\n"
     ],
     "output_type": "stream"
    }
   ],
   "source": [
    "# - iter - все интересующие элементы в поддереве\n",
    "# - .findall - только лишь среди детей - например, со студентами работает, а с баллами - нет, так как это дитё дитя\n",
    "for element in root.findall('student'):\n",
    "    print(element)"
   ],
   "metadata": {
    "collapsed": false,
    "pycharm": {
     "name": "#%%\n",
     "is_executing": false
    }
   }
  },
  {
   "cell_type": "markdown",
   "source": [
    "# Запись дерева в XML-формат"
   ],
   "metadata": {
    "collapsed": false
   }
  },
  {
   "cell_type": "code",
   "execution_count": 8,
   "outputs": [],
   "source": [
    "tree = ElementTree.parse('example.xml')\n",
    "root = tree.getroot()\n",
    "tree.write('example_copy.xml')"
   ],
   "metadata": {
    "collapsed": false,
    "pycharm": {
     "name": "#%%\n",
     "is_executing": false
    }
   }
  },
  {
   "cell_type": "code",
   "execution_count": 9,
   "outputs": [
    {
     "name": "stdout",
     "text": [
      "<Element 'module1' at 0x0000024A9EE8A450> 70\n"
     ],
     "output_type": "stream"
    }
   ],
   "source": [
    "# Изменение данных\n",
    "greg = root[0]\n",
    "module1 = next(greg.iter('module1'))\n",
    "print(module1, module1.text)  # убедились, что это модуль 1 и в нём 70 баллов\n",
    "module1.text = str(float(module1.text) + 30)\n",
    "tree.write('example_modified.xml')  # есколько раз запускал код, поэтому у него баллов больше 100"
   ],
   "metadata": {
    "collapsed": false,
    "pycharm": {
     "name": "#%%\n",
     "is_executing": false
    }
   }
  },
  {
   "cell_type": "code",
   "execution_count": 10,
   "outputs": [],
   "source": [
    "# создание и изменение атрибута\n",
    "tree = ElementTree.parse('example_modified.xml')\n",
    "root = tree.getroot()\n",
    "\n",
    "greg = root[0]\n",
    "certificate = greg[2]\n",
    "certificate.set('type', 'with distinction')  # Атрибут type со значением \"с отличием\"\n",
    "tree.write('example_modified.xml')"
   ],
   "metadata": {
    "collapsed": false,
    "pycharm": {
     "name": "#%%\n",
     "is_executing": false
    }
   }
  },
  {
   "cell_type": "markdown",
   "source": [
    "## Добавление и создание элементов"
   ],
   "metadata": {
    "collapsed": false
   }
  },
  {
   "cell_type": "code",
   "execution_count": 11,
   "outputs": [],
   "source": [
    "description = ElementTree.Element('description')\n",
    "description.text = 'Excellent skills'\n",
    "greg.append(description)\n",
    "\n",
    "tree.write('example_modified.xml')"
   ],
   "metadata": {
    "collapsed": false,
    "pycharm": {
     "name": "#%%\n",
     "is_executing": false
    }
   }
  },
  {
   "cell_type": "markdown",
   "source": [
    "## Удаление элемента"
   ],
   "metadata": {
    "collapsed": false
   }
  },
  {
   "cell_type": "code",
   "execution_count": 12,
   "outputs": [],
   "source": [
    "description = greg.find('description')  # найти вхождение первого ребёнка, являющегося тегом description\n",
    "greg.remove(description)\n",
    "\n",
    "tree.write('example_modified.xml')"
   ],
   "metadata": {
    "collapsed": false,
    "pycharm": {
     "name": "#%%\n",
     "is_executing": false
    }
   }
  },
  {
   "cell_type": "markdown",
   "source": [
    "# Создание дерева с самого начала"
   ],
   "metadata": {
    "collapsed": false
   }
  },
  {
   "cell_type": "code",
   "execution_count": 13,
   "outputs": [],
   "source": [
    "root = ElementTree.Element('student')\n",
    "\n",
    "first_name = ElementTree.SubElement(root, 'firstName')\n",
    "first_name.text = 'Dean'\n",
    "\n",
    "second_name = ElementTree.SubElement(root, 'secondName')\n",
    "second_name.text = 'Dean'\n",
    "\n",
    "scores = ElementTree.SubElement(root, 'scores')\n",
    "\n",
    "module1 = ElementTree.SubElement(scores, 'module1')\n",
    "module1.text = '160'\n",
    "\n",
    "module2 = ElementTree.SubElement(scores, 'module2')\n",
    "module2.text = '80'\n",
    "\n",
    "module3 = ElementTree.SubElement(scores, 'module3')\n",
    "module3.text = '90'\n",
    "\n",
    "tree = ElementTree.ElementTree(root)\n",
    "tree.write('student.xml')"
   ],
   "metadata": {
    "collapsed": false,
    "pycharm": {
     "name": "#%%\n",
     "is_executing": false
    }
   }
  },
  {
   "cell_type": "markdown",
   "source": [
    "# Разбор данных в формате html\n",
    "### библиотека lxml"
   ],
   "metadata": {
    "collapsed": false
   }
  },
  {
   "cell_type": "code",
   "execution_count": 14,
   "outputs": [],
   "source": [
    "from lxml import etree\n",
    "import requests\n",
    "# иблиотека lxml пытается вести себя как elementtree"
   ],
   "metadata": {
    "collapsed": false,
    "pycharm": {
     "name": "#%%\n",
     "is_executing": false
    }
   }
  },
  {
   "cell_type": "code",
   "execution_count": 15,
   "outputs": [
    {
     "name": "stdout",
     "text": [
      "200\ntext/html\n"
     ],
     "output_type": "stream"
    }
   ],
   "source": [
    "# parser может проходить через плохо сформированные данные формата html\n",
    "res = requests.get('https://docs.python.org/3/')\n",
    "print(res.status_code)\n",
    "print(res.headers['Content-Type'])"
   ],
   "metadata": {
    "collapsed": false,
    "pycharm": {
     "name": "#%%\n",
     "is_executing": false
    }
   }
  },
  {
   "cell_type": "code",
   "execution_count": 16,
   "outputs": [
    {
     "name": "stdout",
     "text": [
      "<Element html at 0x24a9f1dbdc0>\n<Element a at 0x24a9f2018c0> {'href': 'genindex.html', 'title': 'General Index', 'accesskey': 'I'}\n<Element a at 0x24a9f2017c0> {'href': 'py-modindex.html', 'title': 'Python Module Index'}\n<Element a at 0x24a9ee7b240> {'href': 'https://www.python.org/'}\n<Element a at 0x24a9ee7b780> {'href': '#'}\n<Element a at 0x24a9ee7b740> {'class': 'biglink', 'href': 'whatsnew/3.8.html'}\n<Element a at 0x24a9ee7b240> {'href': 'whatsnew/index.html'}\n<Element a at 0x24a9ee7b140> {'class': 'biglink', 'href': 'tutorial/index.html'}\n<Element a at 0x24a9ee7b740> {'class': 'biglink', 'href': 'library/index.html'}\n<Element a at 0x24a9ee7b600> {'class': 'biglink', 'href': 'reference/index.html'}\n<Element a at 0x24a9ee7b240> {'class': 'biglink', 'href': 'using/index.html'}\n<Element a at 0x24a9ee7b140> {'class': 'biglink', 'href': 'howto/index.html'}\n<Element a at 0x24a9ee7b740> {'class': 'biglink', 'href': 'installing/index.html'}\n<Element a at 0x24a9ee7b600> {'class': 'biglink', 'href': 'distributing/index.html'}\n<Element a at 0x24a9ee7b240> {'class': 'biglink', 'href': 'extending/index.html'}\n<Element a at 0x24a9ee7b140> {'class': 'biglink', 'href': 'c-api/index.html'}\n<Element a at 0x24a9ee7b740> {'class': 'biglink', 'href': 'faq/index.html'}\n<Element a at 0x24a9ee7b600> {'class': 'biglink', 'href': 'py-modindex.html'}\n<Element a at 0x24a9ee7b240> {'class': 'biglink', 'href': 'genindex.html'}\n<Element a at 0x24a9ee7b140> {'class': 'biglink', 'href': 'glossary.html'}\n<Element a at 0x24a9ee78d00> {'class': 'biglink', 'href': 'search.html'}\n<Element a at 0x24a9f1dbbc0> {'class': 'biglink', 'href': 'contents.html'}\n<Element a at 0x24a9eee9280> {'class': 'biglink', 'href': 'bugs.html'}\n<Element a at 0x24a9f1dbb80> {'class': 'biglink', 'href': 'https://devguide.python.org/docquality/#helping-with-documentation'}\n<Element a at 0x24a9ee78d00> {'class': 'biglink', 'href': 'about.html'}\n<Element a at 0x24a9f1dbb40> {'class': 'biglink', 'href': 'license.html'}\n<Element a at 0x24a9f1d0200> {'class': 'biglink', 'href': 'copyright.html'}\n<Element a at 0x24a9f1dbb80> {'href': 'download.html'}\n<Element a at 0x24a9f1e4600> {'href': 'https://docs.python.org/3.10/'}\n<Element a at 0x24a9ee7b780> {'href': 'https://docs.python.org/3.9/'}\n<Element a at 0x24a9f2018c0> {'href': 'https://docs.python.org/3.8/'}\n<Element a at 0x24a9f20b2c0> {'href': 'https://docs.python.org/3.7/'}\n<Element a at 0x24a9f20b980> {'href': 'https://docs.python.org/3.6/'}\n<Element a at 0x24a9f20bf40> {'href': 'https://docs.python.org/3.5/'}\n<Element a at 0x24a9f2150c0> {'href': 'https://docs.python.org/2.7/'}\n<Element a at 0x24a9f215200> {'href': 'https://www.python.org/doc/versions/'}\n<Element a at 0x24a9f215340> {'href': 'https://www.python.org/dev/peps/'}\n<Element a at 0x24a9f215480> {'href': 'https://wiki.python.org/moin/BeginnersGuide'}\n<Element a at 0x24a9f2155c0> {'href': 'https://wiki.python.org/moin/PythonBooks'}\n<Element a at 0x24a9f215700> {'href': 'https://www.python.org/doc/av/'}\n<Element a at 0x24a9f215840> {'href': 'https://devguide.python.org/'}\n<Element a at 0x24a9f215980> {'href': 'genindex.html', 'title': 'General Index'}\n<Element a at 0x24a9f215ac0> {'href': 'py-modindex.html', 'title': 'Python Module Index'}\n<Element a at 0x24a9f215bc0> {'href': 'https://www.python.org/'}\n<Element a at 0x24a9f215b40> {'href': '#'}\n<Element a at 0x24a9f215e80> {'href': 'copyright.html'}\n<Element a at 0x24a9f215f80> {'href': 'https://www.python.org/psf/donations/'}\n<Element a at 0x24a9f21a140> {'href': 'https://docs.python.org/3/bugs.html'}\n<Element a at 0x24a9f21a280> {'href': 'https://www.sphinx-doc.org/'}\n"
     ],
     "output_type": "stream"
    }
   ],
   "source": [
    "parser = etree.HTMLParser()\n",
    "root = etree.fromstring(res.text, parser)  # орень дерева\n",
    "\n",
    "print(root)\n",
    "\n",
    "# выделение в корне элементов с тегом \"а\"\n",
    "for element in root.iter('a'):\n",
    "    print(element, element.attrib)"
   ],
   "metadata": {
    "collapsed": false,
    "pycharm": {
     "name": "#%%\n",
     "is_executing": false
    }
   }
  }
 ],
 "metadata": {
  "kernelspec": {
   "display_name": "Python 3",
   "language": "python",
   "name": "python3"
  },
  "language_info": {
   "codemirror_mode": {
    "name": "ipython",
    "version": 2
   },
   "file_extension": ".py",
   "mimetype": "text/x-python",
   "name": "python",
   "nbconvert_exporter": "python",
   "pygments_lexer": "ipython2",
   "version": "2.7.6"
  },
  "pycharm": {
   "stem_cell": {
    "cell_type": "raw",
    "source": [],
    "metadata": {
     "collapsed": false
    }
   }
  }
 },
 "nbformat": 4,
 "nbformat_minor": 0
}