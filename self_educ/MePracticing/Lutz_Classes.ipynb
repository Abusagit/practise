{
 "cells": [
  {
   "cell_type": "markdown",
   "source": [
    "# 1-2"
   ],
   "metadata": {
    "collapsed": false
   }
  },
  {
   "cell_type": "code",
   "execution_count": 1,
   "outputs": [
    {
     "name": "stdout",
     "output_type": "stream",
     "text": [
      "[1, 2, 3, 4, 1235, 25, 235]\n",
      "{'a': 1, 'c': 2, 1: 2}\n"
     ]
    }
   ],
   "source": [
    "class Adder():\n",
    "    def add(self, x, y):\n",
    "        NotImplemented\n",
    "\n",
    "\n",
    "class ListAdder(Adder):\n",
    "    def add(self, x:list, y:list):\n",
    "        return x + y\n",
    "\n",
    "class DictAdder(Adder):\n",
    "    def add(self, x:dict, y:dict):\n",
    "        d = {key: value for key, value in x.items()}\n",
    "        for key in y:\n",
    "            if key not in d:\n",
    "                d[key] = y[key]\n",
    "        return d\n",
    "\n",
    "L1 = [1, 2, 3, 4]\n",
    "L2 = [1235,25,235]\n",
    "d1 = {'a':1, 'c':2}\n",
    "d2 = {1:2, 1: 2}\n",
    "\n",
    "x = ListAdder()\n",
    "y = DictAdder()\n",
    "\n",
    "print(x.add(L1, L2))\n",
    "print(y.add(d1, d2))"
   ],
   "metadata": {
    "collapsed": false,
    "pycharm": {
     "name": "#%%\n"
    }
   }
  },
  {
   "cell_type": "code",
   "execution_count": 2,
   "outputs": [],
   "source": [
    "class Adder():\n",
    "\n",
    "    def add(self, x, y):\n",
    "        NotImplemented\n",
    "\n",
    "\n",
    "class ListAdder(Adder):\n",
    "    def add(self, x:list, y:list):\n",
    "        return x + y\n",
    "\n",
    "class DictAdder(Adder):\n",
    "    def add(self, x:dict, y:dict):\n",
    "        d = {key: value for key, value in x.items()}\n",
    "        for key in y:\n",
    "            if key not in d:\n",
    "                d[key] = y[key]\n",
    "        return d\n"
   ],
   "metadata": {
    "collapsed": false,
    "pycharm": {
     "name": "#%%\n"
    }
   }
  },
  {
   "cell_type": "markdown",
   "source": [
    "# 2"
   ],
   "metadata": {
    "collapsed": false
   }
  },
  {
   "cell_type": "code",
   "execution_count": 27,
   "outputs": [
    {
     "name": "stdout",
     "output_type": "stream",
     "text": [
      "adding...\n",
      "[1, 4, 7, 5, 8, 'a', 'b', 'c']\n",
      "getting item...\n",
      "getting item...\n",
      "4 [4, 7]\n",
      "appending...\n",
      "[1, 4, 7, 5, 8, 100]\n",
      "sorting...\n",
      "[1, 4, 5, 7, 8, 100]\n",
      "[1, 2, 3, 1, 4, 5, 7, 8, 100]\n",
      "iterating...\n",
      "iterating...\n",
      "1 1\n",
      "1 4\n",
      "1 5\n",
      "1 7\n",
      "1 8\n",
      "1 100\n",
      "iterating...\n",
      "4 1\n",
      "4 4\n",
      "4 5\n",
      "4 7\n",
      "4 8\n",
      "4 100\n",
      "iterating...\n",
      "5 1\n",
      "5 4\n",
      "5 5\n",
      "5 7\n",
      "5 8\n",
      "5 100\n",
      "iterating...\n",
      "7 1\n",
      "7 4\n",
      "7 5\n",
      "7 7\n",
      "7 8\n",
      "7 100\n",
      "iterating...\n",
      "8 1\n",
      "8 4\n",
      "8 5\n",
      "8 7\n",
      "8 8\n",
      "8 100\n",
      "iterating...\n",
      "100 1\n",
      "100 4\n",
      "100 5\n",
      "100 7\n",
      "100 8\n",
      "100 100\n",
      "[1, 4, 1, 7, 8, 100]\n"
     ]
    }
   ],
   "source": [
    "class MyList():\n",
    "    def __init__(self, lst):\n",
    "        self.lst = lst\n",
    "\n",
    "    def __repr__(self):\n",
    "        return f'repr:{self.lst}'\n",
    "\n",
    "    def __str__(self):\n",
    "        return f'{self.lst}'\n",
    "\n",
    "    def __add__(self, other):\n",
    "        print('adding...')\n",
    "        return self.lst + other\n",
    "\n",
    "    def __radd__(self, other):\n",
    "        return other + self.lst\n",
    "\n",
    "    def __iter__(self):\n",
    "        print('iterating...')\n",
    "        for i in self.lst:\n",
    "            yield i\n",
    "\n",
    "    def __getitem__(self, item):\n",
    "        print('getting item...')\n",
    "        return self.lst[item]\n",
    "\n",
    "    def __setitem__(self, key, value):\n",
    "        self.lst[key] = value\n",
    "\n",
    "    def append(self, item):\n",
    "        print('appending...')\n",
    "        self.lst.append(item)\n",
    "\n",
    "    def sort(self):\n",
    "        print('sorting...')\n",
    "        self.lst.sort()\n",
    "\n",
    "\n",
    "\n",
    "a = MyList([1, 4, 7, 5, 8])\n",
    "print(a + ['a', 'b', 'c'])\n",
    "print(a[1],\n",
    "      a[1:3])\n",
    "a.append(100)\n",
    "print(a)\n",
    "a.sort()\n",
    "print(a)\n",
    "print([1, 2, 3] + a)\n",
    "\n",
    "for i in a:\n",
    "    for g in a:\n",
    "        print(i, g)\n",
    "\n",
    "a[2] = 1\n",
    "print(a)"
   ],
   "metadata": {
    "collapsed": false,
    "pycharm": {
     "name": "#%%\n"
    }
   }
  },
  {
   "cell_type": "code",
   "execution_count": 4,
   "outputs": [
    {
     "name": "stdout",
     "output_type": "stream",
     "text": [
      "getting item...\n"
     ]
    }
   ],
   "source": [
    "x = a[:]"
   ],
   "metadata": {
    "collapsed": false,
    "pycharm": {
     "name": "#%%\n"
    }
   }
  },
  {
   "cell_type": "code",
   "execution_count": 5,
   "outputs": [
    {
     "data": {
      "text/plain": "[1, 4, 5, 7, 8, 100]"
     },
     "execution_count": 5,
     "metadata": {},
     "output_type": "execute_result"
    }
   ],
   "source": [
    "x"
   ],
   "metadata": {
    "collapsed": false,
    "pycharm": {
     "name": "#%%\n"
    }
   }
  },
  {
   "cell_type": "code",
   "execution_count": 6,
   "outputs": [
    {
     "name": "stdout",
     "output_type": "stream",
     "text": [
      "getting item...\n"
     ]
    },
    {
     "data": {
      "text/plain": "[4, 5, 7, 8]"
     },
     "execution_count": 6,
     "metadata": {},
     "output_type": "execute_result"
    }
   ],
   "source": [
    "a[1:5]"
   ],
   "metadata": {
    "collapsed": false,
    "pycharm": {
     "name": "#%%\n"
    }
   }
  },
  {
   "cell_type": "code",
   "execution_count": 7,
   "outputs": [
    {
     "name": "stdout",
     "output_type": "stream",
     "text": [
      "getting item...\n"
     ]
    },
    {
     "data": {
      "text/plain": "8"
     },
     "execution_count": 7,
     "metadata": {},
     "output_type": "execute_result"
    }
   ],
   "source": [
    "a[4]"
   ],
   "metadata": {
    "collapsed": false,
    "pycharm": {
     "name": "#%%\n"
    }
   }
  },
  {
   "cell_type": "markdown",
   "source": [
    "# 3"
   ],
   "metadata": {
    "collapsed": false
   }
  },
  {
   "cell_type": "code",
   "execution_count": 49,
   "outputs": [
    {
     "name": "stdout",
     "output_type": "stream",
     "text": [
      "[1, 2, 3]\n"
     ]
    }
   ],
   "source": [
    "class MyListSub(MyList):\n",
    "    calls = 0\n",
    "    def __init__(self, lst):\n",
    "        MyList.__init__(self, lst)\n",
    "\n",
    "    def __add__(self, other):\n",
    "        MyListSub.calls += 1\n",
    "        print(f'number of proposals to adding is {MyListSub.calls}')\n",
    "        return MyList.__add__(self, other)\n",
    "\n",
    "    @classmethod\n",
    "    def stats(cls):\n",
    "        return cls.calls\n",
    "\n",
    "\n",
    "\n",
    "v = MyListSub([1, 2, 3])\n",
    "print(v)"
   ],
   "metadata": {
    "collapsed": false,
    "pycharm": {
     "name": "#%%\n"
    }
   }
  },
  {
   "cell_type": "code",
   "execution_count": 50,
   "outputs": [
    {
     "name": "stdout",
     "output_type": "stream",
     "text": [
      "number of proposals to adding is 1\n",
      "adding...\n"
     ]
    },
    {
     "data": {
      "text/plain": "[1, 2, 3, 123123]"
     },
     "execution_count": 50,
     "metadata": {},
     "output_type": "execute_result"
    }
   ],
   "source": [
    "v + [123123]"
   ],
   "metadata": {
    "collapsed": false,
    "pycharm": {
     "name": "#%%\n"
    }
   }
  },
  {
   "cell_type": "code",
   "execution_count": 56,
   "outputs": [
    {
     "name": "stdout",
     "output_type": "stream",
     "text": [
      "number of proposals to adding is 5\n",
      "adding...\n",
      "getting item...\n"
     ]
    },
    {
     "data": {
      "text/plain": "2"
     },
     "execution_count": 56,
     "metadata": {},
     "output_type": "execute_result"
    }
   ],
   "source": [
    "v + [1123123123123]\n",
    "\n",
    "a = MyListSub([1, 2, 3, 5, 6])\n",
    "a[1]\n"
   ],
   "metadata": {
    "collapsed": false,
    "pycharm": {
     "name": "#%%\n"
    }
   }
  },
  {
   "cell_type": "code",
   "execution_count": 57,
   "outputs": [
    {
     "data": {
      "text/plain": "5"
     },
     "execution_count": 57,
     "metadata": {},
     "output_type": "execute_result"
    }
   ],
   "source": [
    "a.stats()"
   ],
   "metadata": {
    "collapsed": false,
    "pycharm": {
     "name": "#%%\n"
    }
   }
  },
  {
   "cell_type": "markdown",
   "source": [
    "# 4"
   ],
   "metadata": {
    "collapsed": false
   }
  },
  {
   "cell_type": "code",
   "execution_count": 11,
   "outputs": [
    {
     "name": "stdout",
     "output_type": "stream",
     "text": [
      "attribute tried to set on key \"sum\" and value \"123\"\n",
      "attribute(s) tried to get: gummy\n",
      "attribute(s) tried to get: fskajdhgf\n"
     ]
    }
   ],
   "source": [
    "class Attrs():\n",
    "    def __getattr__(self, item):\n",
    "        print(f'attribute(s) tried to get: {item}')\n",
    "    def __setattr__(self, key, value):\n",
    "        print(f'attribute tried to set on key \"{key}\" and value \"{value}\"')\n",
    "\n",
    "protector = Attrs()\n",
    "\n",
    "protector.sum = 123\n",
    "\n",
    "protector.gummy\n",
    "protector.fskajdhgf"
   ],
   "metadata": {
    "collapsed": false,
    "pycharm": {
     "name": "#%%\n"
    }
   }
  },
  {
   "cell_type": "markdown",
   "source": [
    "# 5"
   ],
   "metadata": {
    "collapsed": false
   }
  },
  {
   "cell_type": "code",
   "execution_count": 11,
   "outputs": [],
   "source": [],
   "metadata": {
    "collapsed": false,
    "pycharm": {
     "name": "#%%\n"
    }
   }
  },
  {
   "cell_type": "markdown",
   "source": [
    "# 6"
   ],
   "metadata": {
    "collapsed": false
   }
  },
  {
   "cell_type": "code",
   "execution_count": 11,
   "outputs": [],
   "source": [],
   "metadata": {
    "collapsed": false,
    "pycharm": {
     "name": "#%%\n"
    }
   }
  },
  {
   "cell_type": "markdown",
   "source": [
    "# 7"
   ],
   "metadata": {
    "collapsed": false
   }
  },
  {
   "cell_type": "code",
   "execution_count": 12,
   "outputs": [],
   "source": [
    "\n",
    "class Lunch():\n",
    "\n",
    "    def __init__(self):\n",
    "        self.custom = Customer('asdasd')\n",
    "        self.emp = Employee()\n",
    "\n",
    "    def order(self, foodname):\n",
    "        print(f'Customer makes order {foodname}')\n",
    "        self.custom.placeOrder(foodname=foodname, employee=self.emp)\n",
    "\n",
    "    def result(self):\n",
    "        print(f'{self.custom} has food {self.custom.printFood()}')\n",
    "\n",
    "\n",
    "class Customer():\n",
    "    def __init__(self, foodname=None):\n",
    "        self.foodname = foodname\n",
    "\n",
    "    def placeOrder(self, foodname, employee):\n",
    "        Employee.takeOrder(employee, foodname)\n",
    "\n",
    "    def printFood(self):\n",
    "        return self.foodname\n",
    "\n",
    "\n",
    "class Employee():\n",
    "\n",
    "    def takeOrder(self, foodName):\n",
    "        print(f'Employee takes order of {foodName}')\n",
    "\n",
    "class Food():\n",
    "    def __init__(self, name):\n",
    "        self.name = name"
   ],
   "metadata": {
    "collapsed": false,
    "pycharm": {
     "name": "#%%\n"
    }
   }
  },
  {
   "cell_type": "code",
   "execution_count": 13,
   "outputs": [],
   "source": [
    "s = Lunch()"
   ],
   "metadata": {
    "collapsed": false,
    "pycharm": {
     "name": "#%%\n"
    }
   }
  },
  {
   "cell_type": "code",
   "execution_count": 14,
   "outputs": [
    {
     "name": "stdout",
     "output_type": "stream",
     "text": [
      "Customer makes order Pizza\n",
      "Employee takes order of Pizza\n"
     ]
    }
   ],
   "source": [
    "s.order('Pizza')"
   ],
   "metadata": {
    "collapsed": false,
    "pycharm": {
     "name": "#%%\n"
    }
   }
  },
  {
   "cell_type": "code",
   "execution_count": 15,
   "outputs": [],
   "source": [
    "class Lunch():\n",
    "\n",
    "    def __init__(self):\n",
    "        self.custom = Customer()\n",
    "        self.emp = Employee()\n",
    "\n",
    "    def order(self, foodname):\n",
    "        print(f'Customer makes order {foodname}')\n",
    "        self.custom.placeOrder(foodname=foodname, employee=self.emp)\n",
    "        self.custom.foodname = foodname\n",
    "\n",
    "    def result(self):\n",
    "        print(f'Customer has food {self.custom.printFood()}')\n",
    "\n",
    "\n",
    "class Customer():\n",
    "    def __init__(self, foodname=None):\n",
    "        self.foodname = foodname\n",
    "\n",
    "    def placeOrder(self, foodname, employee):\n",
    "        print(f'Customer places an order')\n",
    "        Employee.takeOrder(employee, foodname)\n",
    "\n",
    "    def printFood(self):\n",
    "        return self.foodname\n",
    "\n",
    "\n",
    "class Employee():\n",
    "\n",
    "    def takeOrder(self, foodName):\n",
    "        print(f'Employee takes order of {foodName}')\n",
    "        Food.__init__(self, foodName)\n",
    "\n",
    "class Food():\n",
    "    def __init__(self, name):\n",
    "        self.name = name"
   ],
   "metadata": {
    "collapsed": false,
    "pycharm": {
     "name": "#%%\n"
    }
   }
  },
  {
   "cell_type": "code",
   "execution_count": 16,
   "outputs": [],
   "source": [
    "s = Lunch()"
   ],
   "metadata": {
    "collapsed": false,
    "pycharm": {
     "name": "#%%\n"
    }
   }
  },
  {
   "cell_type": "code",
   "execution_count": 17,
   "outputs": [
    {
     "name": "stdout",
     "output_type": "stream",
     "text": [
      "Customer makes order pizza\n",
      "Customer places an order\n",
      "Employee takes order of pizza\n",
      "Customer has food pizza\n"
     ]
    }
   ],
   "source": [
    "s.order('pizza')\n",
    "s.result()"
   ],
   "metadata": {
    "collapsed": false,
    "pycharm": {
     "name": "#%%\n"
    }
   }
  },
  {
   "cell_type": "markdown",
   "source": [
    "# 8"
   ],
   "metadata": {
    "collapsed": false,
    "pycharm": {
     "name": "#%% md\n"
    }
   }
  },
  {
   "cell_type": "code",
   "execution_count": 18,
   "outputs": [],
   "source": [
    "class Animal():\n",
    "    def reply(self):\n",
    "        return self.speak()\n",
    "\n",
    "    def speak(self):\n",
    "        print('OOOO')\n",
    "\n",
    "\n",
    "class Mammal(Animal):\n",
    "    def speak(self):\n",
    "        print('MAMMMAL')\n",
    "\n",
    "class Cat(Mammal):\n",
    "    def speak(self):\n",
    "        print('Meow')\n",
    "\n",
    "class Dog(Mammal):\n",
    "    def speak(self):\n",
    "        print('Bow')\n",
    "\n",
    "class Primate(Mammal):\n",
    "    def speak(self):\n",
    "        print('UghUgh')\n",
    "\n",
    "class Hacker(Primate):\n",
    "    def speak(self):\n",
    "        print('Hello!!!')"
   ],
   "metadata": {
    "collapsed": false,
    "pycharm": {
     "name": "#%%\n"
    }
   }
  },
  {
   "cell_type": "code",
   "execution_count": 19,
   "outputs": [
    {
     "name": "stdout",
     "output_type": "stream",
     "text": [
      "Hello!!!\n"
     ]
    }
   ],
   "source": [
    "a = Hacker()\n",
    "a.speak()"
   ],
   "metadata": {
    "collapsed": false,
    "pycharm": {
     "name": "#%%\n"
    }
   }
  },
  {
   "cell_type": "code",
   "execution_count": 20,
   "outputs": [
    {
     "name": "stdout",
     "output_type": "stream",
     "text": [
      "Meow\n"
     ]
    }
   ],
   "source": [
    "cat = Cat()\n",
    "cat.speak()"
   ],
   "metadata": {
    "collapsed": false,
    "pycharm": {
     "name": "#%%\n"
    }
   }
  },
  {
   "cell_type": "markdown",
   "source": [
    "# 9"
   ],
   "metadata": {
    "collapsed": false,
    "pycharm": {
     "name": "#%% md\n"
    }
   }
  },
  {
   "cell_type": "code",
   "execution_count": 21,
   "outputs": [],
   "source": [
    "class Customer():\n",
    "    def line(self):\n",
    "        print('CUSCUSCUS')\n",
    "\n",
    "class Clerk():\n",
    "    def line(self):\n",
    "        print('CLERRKRKRKKA')\n",
    "\n",
    "class Parrot():\n",
    "    def line(self):\n",
    "        print('KARAMBA')\n",
    "\n",
    "class Scene():\n",
    "    def __init__(self, customer, clerk, parrot):\n",
    "        self.customer = customer\n",
    "        self.clerk = clerk\n",
    "        self.parrot = parrot\n",
    "    def action(self):\n",
    "        for creature in (self.customer, self.clerk, self.parrot):\n",
    "            creature.line(self)"
   ],
   "metadata": {
    "collapsed": false,
    "pycharm": {
     "name": "#%%\n"
    }
   }
  },
  {
   "cell_type": "code",
   "execution_count": 22,
   "outputs": [
    {
     "name": "stdout",
     "output_type": "stream",
     "text": [
      "CUSCUSCUS\n",
      "CLERRKRKRKKA\n",
      "KARAMBA\n"
     ]
    }
   ],
   "source": [
    "a = Scene(Customer, Clerk, Parrot)\n",
    "a.action()"
   ],
   "metadata": {
    "collapsed": false,
    "pycharm": {
     "name": "#%%\n"
    }
   }
  },
  {
   "cell_type": "code",
   "execution_count": 23,
   "outputs": [
    {
     "data": {
      "text/plain": "{'customer': __main__.Customer,\n 'clerk': __main__.Clerk,\n 'parrot': __main__.Parrot}"
     },
     "execution_count": 23,
     "metadata": {},
     "output_type": "execute_result"
    }
   ],
   "source": [
    "a.__dict__"
   ],
   "metadata": {
    "collapsed": false,
    "pycharm": {
     "name": "#%%\n"
    }
   }
  },
  {
   "cell_type": "code",
   "execution_count": 24,
   "outputs": [
    {
     "data": {
      "text/plain": "['customer',\n 'clerk',\n 'parrot',\n '__module__',\n '__init__',\n 'action',\n '__dict__',\n '__weakref__',\n '__doc__',\n '__repr__',\n '__hash__',\n '__str__',\n '__getattribute__',\n '__setattr__',\n '__delattr__',\n '__lt__',\n '__le__',\n '__eq__',\n '__ne__',\n '__gt__',\n '__ge__',\n '__new__',\n '__reduce_ex__',\n '__reduce__',\n '__subclasshook__',\n '__init_subclass__',\n '__format__',\n '__sizeof__',\n '__dir__',\n '__class__']"
     },
     "execution_count": 24,
     "metadata": {},
     "output_type": "execute_result"
    }
   ],
   "source": [
    "a.__dir__()"
   ],
   "metadata": {
    "collapsed": false,
    "pycharm": {
     "name": "#%%\n"
    }
   }
  }
 ],
 "metadata": {
  "kernelspec": {
   "display_name": "Python 3",
   "language": "python",
   "name": "python3"
  },
  "language_info": {
   "codemirror_mode": {
    "name": "ipython",
    "version": 2
   },
   "file_extension": ".py",
   "mimetype": "text/x-python",
   "name": "python",
   "nbconvert_exporter": "python",
   "pygments_lexer": "ipython2",
   "version": "2.7.6"
  }
 },
 "nbformat": 4,
 "nbformat_minor": 0
}