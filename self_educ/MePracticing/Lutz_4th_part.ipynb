{
 "cells": [
  {
   "cell_type": "markdown",
   "metadata": {
    "collapsed": true,
    "pycharm": {
     "name": "#%% md\n"
    }
   },
   "source": [
    "# 1"
   ]
  },
  {
   "cell_type": "code",
   "execution_count": 1,
   "outputs": [],
   "source": [
    "def func(obj):\n",
    "    print(obj, type(obj), sep='  <-----  ')"
   ],
   "metadata": {
    "collapsed": false,
    "pycharm": {
     "name": "#%%\n"
    }
   }
  },
  {
   "cell_type": "code",
   "execution_count": 3,
   "outputs": [
    {
     "name": "stdout",
     "output_type": "stream",
     "text": [
      "1  <-----  <class 'int'>\n",
      "1  <-----  <class 'str'>\n",
      "[1, 2, 3]  <-----  <class 'list'>\n",
      "{'a': 1}  <-----  <class 'dict'>\n"
     ]
    },
    {
     "ename": "TypeError",
     "evalue": "func() takes 1 positional argument but 2 were given",
     "output_type": "error",
     "traceback": [
      "\u001B[1;31m---------------------------------------------------------------------------\u001B[0m",
      "\u001B[1;31mTypeError\u001B[0m                                 Traceback (most recent call last)",
      "\u001B[1;32m<ipython-input-3-ca2f177f780f>\u001B[0m in \u001B[0;36m<module>\u001B[1;34m\u001B[0m\n\u001B[0;32m      3\u001B[0m \u001B[0mfunc\u001B[0m\u001B[1;33m(\u001B[0m\u001B[1;33m[\u001B[0m\u001B[1;36m1\u001B[0m\u001B[1;33m,\u001B[0m \u001B[1;36m2\u001B[0m\u001B[1;33m,\u001B[0m \u001B[1;36m3\u001B[0m\u001B[1;33m]\u001B[0m\u001B[1;33m)\u001B[0m\u001B[1;33m\u001B[0m\u001B[1;33m\u001B[0m\u001B[0m\n\u001B[0;32m      4\u001B[0m \u001B[0mfunc\u001B[0m\u001B[1;33m(\u001B[0m\u001B[1;33m{\u001B[0m\u001B[1;34m'a'\u001B[0m\u001B[1;33m:\u001B[0m \u001B[1;36m1\u001B[0m\u001B[1;33m}\u001B[0m\u001B[1;33m)\u001B[0m\u001B[1;33m\u001B[0m\u001B[1;33m\u001B[0m\u001B[0m\n\u001B[1;32m----> 5\u001B[1;33m \u001B[0mfunc\u001B[0m\u001B[1;33m(\u001B[0m\u001B[1;36m1\u001B[0m\u001B[1;33m,\u001B[0m \u001B[1;36m2\u001B[0m\u001B[1;33m)\u001B[0m\u001B[1;33m\u001B[0m\u001B[1;33m\u001B[0m\u001B[0m\n\u001B[0m\u001B[0;32m      6\u001B[0m \u001B[1;33m\u001B[0m\u001B[0m\n",
      "\u001B[1;31mTypeError\u001B[0m: func() takes 1 positional argument but 2 were given"
     ]
    }
   ],
   "source": [
    "func(1)\n",
    "func('1')\n",
    "func([1, 2, 3])\n",
    "func({'a': 1})\n",
    "func(1, 2)"
   ],
   "metadata": {
    "collapsed": false,
    "pycharm": {
     "name": "#%%\n"
    }
   }
  },
  {
   "cell_type": "code",
   "execution_count": 4,
   "outputs": [],
   "source": [
    "def adder(x, y):\n",
    "    return x + y"
   ],
   "metadata": {
    "collapsed": false,
    "pycharm": {
     "name": "#%%\n"
    }
   }
  },
  {
   "cell_type": "markdown",
   "source": [
    "# 2"
   ],
   "metadata": {
    "collapsed": false,
    "pycharm": {
     "name": "#%% md\n"
    }
   }
  },
  {
   "cell_type": "code",
   "execution_count": 5,
   "outputs": [
    {
     "name": "stdout",
     "output_type": "stream",
     "text": [
      "3\n",
      "abcDEF\n",
      "[1, 2, 3, 'a', 'a', 'b']\n",
      "4.0\n"
     ]
    }
   ],
   "source": [
    "print(adder(1, 2))\n",
    "print(adder('abc', 'DEF'))\n",
    "print(adder([1, 2, 3], ['a', 'a', 'b']))\n",
    "print(adder(1.51, 2.49))"
   ],
   "metadata": {
    "collapsed": false,
    "pycharm": {
     "name": "#%%\n"
    }
   }
  },
  {
   "cell_type": "markdown",
   "source": [
    "# 3"
   ],
   "metadata": {
    "collapsed": false,
    "pycharm": {
     "name": "#%% md\n"
    }
   }
  },
  {
   "cell_type": "code",
   "execution_count": 6,
   "outputs": [],
   "source": [
    "def adder2(*args):\n",
    "    # print(args)\n",
    "    res = args[0]\n",
    "    for arg in args[1:]:\n",
    "        res += arg\n",
    "    # print(type(res))\n",
    "    return res"
   ],
   "metadata": {
    "collapsed": false,
    "pycharm": {
     "name": "#%%\n"
    }
   }
  },
  {
   "cell_type": "code",
   "execution_count": 7,
   "outputs": [
    {
     "name": "stdout",
     "output_type": "stream",
     "text": [
      "10\n",
      "spamadsafsadfsadf\n",
      "[1, 2, 3, 'asfasfsdaf', {'a': 2, 'b': 4}]\n"
     ]
    },
    {
     "ename": "TypeError",
     "evalue": "unsupported operand type(s) for +=: 'dict' and 'dict'",
     "output_type": "error",
     "traceback": [
      "\u001B[1;31m---------------------------------------------------------------------------\u001B[0m",
      "\u001B[1;31mTypeError\u001B[0m                                 Traceback (most recent call last)",
      "\u001B[1;32m<ipython-input-7-0ffb59598612>\u001B[0m in \u001B[0;36m<module>\u001B[1;34m\u001B[0m\n\u001B[0;32m      2\u001B[0m \u001B[0mprint\u001B[0m\u001B[1;33m(\u001B[0m\u001B[0madder2\u001B[0m\u001B[1;33m(\u001B[0m\u001B[1;34m'spam'\u001B[0m\u001B[1;33m,\u001B[0m \u001B[1;34m'adsaf'\u001B[0m\u001B[1;33m,\u001B[0m \u001B[1;34m'sadfsadf'\u001B[0m\u001B[1;33m)\u001B[0m\u001B[1;33m)\u001B[0m\u001B[1;33m\u001B[0m\u001B[1;33m\u001B[0m\u001B[0m\n\u001B[0;32m      3\u001B[0m \u001B[0mprint\u001B[0m\u001B[1;33m(\u001B[0m\u001B[0madder2\u001B[0m\u001B[1;33m(\u001B[0m\u001B[1;33m[\u001B[0m\u001B[1;36m1\u001B[0m\u001B[1;33m,\u001B[0m \u001B[1;36m2\u001B[0m\u001B[1;33m,\u001B[0m \u001B[1;36m3\u001B[0m\u001B[1;33m]\u001B[0m\u001B[1;33m,\u001B[0m \u001B[1;33m[\u001B[0m\u001B[1;34m'asfasfsdaf'\u001B[0m\u001B[1;33m]\u001B[0m\u001B[1;33m,\u001B[0m \u001B[1;33m[\u001B[0m\u001B[1;33m{\u001B[0m\u001B[1;34m'a'\u001B[0m\u001B[1;33m:\u001B[0m \u001B[1;36m2\u001B[0m\u001B[1;33m,\u001B[0m \u001B[1;34m'b'\u001B[0m\u001B[1;33m:\u001B[0m \u001B[1;36m4\u001B[0m\u001B[1;33m}\u001B[0m\u001B[1;33m]\u001B[0m\u001B[1;33m)\u001B[0m\u001B[1;33m)\u001B[0m\u001B[1;33m\u001B[0m\u001B[1;33m\u001B[0m\u001B[0m\n\u001B[1;32m----> 4\u001B[1;33m \u001B[0mprint\u001B[0m\u001B[1;33m(\u001B[0m\u001B[0madder2\u001B[0m\u001B[1;33m(\u001B[0m\u001B[1;33m{\u001B[0m\u001B[1;34m'a'\u001B[0m\u001B[1;33m:\u001B[0m\u001B[1;36m2\u001B[0m\u001B[1;33m}\u001B[0m\u001B[1;33m,\u001B[0m \u001B[1;33m{\u001B[0m\u001B[1;34m'b'\u001B[0m\u001B[1;33m:\u001B[0m \u001B[1;36m3\u001B[0m\u001B[1;33m}\u001B[0m\u001B[1;33m)\u001B[0m\u001B[1;33m)\u001B[0m\u001B[1;33m\u001B[0m\u001B[1;33m\u001B[0m\u001B[0m\n\u001B[0m\u001B[0;32m      5\u001B[0m \u001B[1;33m\u001B[0m\u001B[0m\n",
      "\u001B[1;32m<ipython-input-6-f6127831ee50>\u001B[0m in \u001B[0;36madder2\u001B[1;34m(*args)\u001B[0m\n\u001B[0;32m      3\u001B[0m     \u001B[0mres\u001B[0m \u001B[1;33m=\u001B[0m \u001B[0margs\u001B[0m\u001B[1;33m[\u001B[0m\u001B[1;36m0\u001B[0m\u001B[1;33m]\u001B[0m\u001B[1;33m\u001B[0m\u001B[1;33m\u001B[0m\u001B[0m\n\u001B[0;32m      4\u001B[0m     \u001B[1;32mfor\u001B[0m \u001B[0marg\u001B[0m \u001B[1;32min\u001B[0m \u001B[0margs\u001B[0m\u001B[1;33m[\u001B[0m\u001B[1;36m1\u001B[0m\u001B[1;33m:\u001B[0m\u001B[1;33m]\u001B[0m\u001B[1;33m:\u001B[0m\u001B[1;33m\u001B[0m\u001B[1;33m\u001B[0m\u001B[0m\n\u001B[1;32m----> 5\u001B[1;33m         \u001B[0mres\u001B[0m \u001B[1;33m+=\u001B[0m \u001B[0marg\u001B[0m\u001B[1;33m\u001B[0m\u001B[1;33m\u001B[0m\u001B[0m\n\u001B[0m\u001B[0;32m      6\u001B[0m     \u001B[1;31m# print(type(res))\u001B[0m\u001B[1;33m\u001B[0m\u001B[1;33m\u001B[0m\u001B[1;33m\u001B[0m\u001B[0m\n\u001B[0;32m      7\u001B[0m     \u001B[1;32mreturn\u001B[0m \u001B[0mres\u001B[0m\u001B[1;33m\u001B[0m\u001B[1;33m\u001B[0m\u001B[0m\n",
      "\u001B[1;31mTypeError\u001B[0m: unsupported operand type(s) for +=: 'dict' and 'dict'"
     ]
    }
   ],
   "source": [
    "print(adder2(1, 2, 3, 4))\n",
    "print(adder2('spam', 'adsaf', 'sadfsadf'))\n",
    "print(adder2([1, 2, 3], ['asfasfsdaf'], [{'a': 2, 'b': 4}]))\n",
    "print(adder2({'a':2}, {'b': 3}))"
   ],
   "metadata": {
    "collapsed": false,
    "pycharm": {
     "name": "#%%\n"
    }
   }
  },
  {
   "cell_type": "markdown",
   "source": [
    "# 4"
   ],
   "metadata": {
    "collapsed": false,
    "pycharm": {
     "name": "#%% md\n"
    }
   }
  },
  {
   "cell_type": "code",
   "execution_count": 8,
   "outputs": [],
   "source": [
    "def adder(good=1, bad=3, ugly=7):\n",
    "    print(good + bad + ugly)"
   ],
   "metadata": {
    "collapsed": false,
    "pycharm": {
     "name": "#%%\n"
    }
   }
  },
  {
   "cell_type": "code",
   "execution_count": 9,
   "outputs": [
    {
     "name": "stdout",
     "output_type": "stream",
     "text": [
      "24\n",
      "7\n",
      "16\n",
      "8\n"
     ]
    }
   ],
   "source": [
    "adder(7, 8, 9)\n",
    "adder(good=5, bad=2, ugly=0)\n",
    "adder(6)\n",
    "adder(ugly=1, good=4)"
   ],
   "metadata": {
    "collapsed": false,
    "pycharm": {
     "name": "#%%\n"
    }
   }
  },
  {
   "cell_type": "code",
   "execution_count": 10,
   "outputs": [],
   "source": [
    "def adder(**kwargs):\n",
    "    args = list(kwargs.keys())\n",
    "    res = kwargs[args[0]]\n",
    "    for key in args[1:]:\n",
    "        res += kwargs[key]\n",
    "    print(res)"
   ],
   "metadata": {
    "collapsed": false,
    "pycharm": {
     "name": "#%%\n"
    }
   }
  },
  {
   "cell_type": "code",
   "execution_count": 11,
   "outputs": [
    {
     "name": "stdout",
     "output_type": "stream",
     "text": [
      "18\n",
      "123222kjh\n"
     ]
    }
   ],
   "source": [
    "adder(a=3, b=5, c=9, d=1)\n",
    "adder(a='123', b='222', c='kjh')"
   ],
   "metadata": {
    "collapsed": false,
    "pycharm": {
     "name": "#%%\n"
    }
   }
  },
  {
   "cell_type": "markdown",
   "source": [
    "# 5"
   ],
   "metadata": {
    "collapsed": false
   }
  },
  {
   "cell_type": "code",
   "execution_count": 12,
   "outputs": [],
   "source": [
    "def copyDict(dic):\n",
    "    new_d = {}\n",
    "    for key in dic.keys():\n",
    "        new_d[key] = dic[key]\n",
    "    print(new_d)\n",
    "    print(new_d == dic, new_d is dic, sep=' ---------- ')"
   ],
   "metadata": {
    "collapsed": false,
    "pycharm": {
     "name": "#%%\n"
    }
   }
  },
  {
   "cell_type": "code",
   "execution_count": 13,
   "outputs": [
    {
     "name": "stdout",
     "output_type": "stream",
     "text": [
      "{'a': 1, 'b': 21, 6363: '1231234'}\n",
      "True ---------- False\n"
     ]
    }
   ],
   "source": [
    "copyDict({'a':1, 'b':21, 6363:'1231234'})"
   ],
   "metadata": {
    "collapsed": false,
    "pycharm": {
     "name": "#%%\n"
    }
   }
  },
  {
   "cell_type": "markdown",
   "source": [
    "# 6"
   ],
   "metadata": {
    "collapsed": false,
    "pycharm": {
     "name": "#%% md\n"
    }
   }
  },
  {
   "cell_type": "code",
   "execution_count": 14,
   "outputs": [],
   "source": [
    "def addDict(a1, a2):\n",
    "    new = {}\n",
    "    keys = set(a1.keys()) | set(a2.keys())\n",
    "    for key in keys:\n",
    "        new[key] = a1.get(key) if a1.get(key) else a2[key]\n",
    "    print(new)"
   ],
   "metadata": {
    "collapsed": false,
    "pycharm": {
     "name": "#%%\n"
    }
   }
  },
  {
   "cell_type": "code",
   "execution_count": 15,
   "outputs": [
    {
     "name": "stdout",
     "output_type": "stream",
     "text": [
      "{2: 'a', 3: 'hasad', 'a': 1, 'b': 2}\n"
     ]
    }
   ],
   "source": [
    "addDict({'a':1,'b':2}, {2:'a', 3:'hasad', 'a':12412414})"
   ],
   "metadata": {
    "collapsed": false,
    "pycharm": {
     "name": "#%%\n"
    }
   }
  },
  {
   "cell_type": "markdown",
   "source": [
    "# 7"
   ],
   "metadata": {
    "collapsed": false,
    "pycharm": {
     "name": "#%% md\n"
    }
   }
  },
  {
   "cell_type": "code",
   "execution_count": 16,
   "outputs": [],
   "source": [
    "def f1(a, b):\n",
    "    print(a, b)\n",
    "\n",
    "def f2(a, *b):\n",
    "    print(a, b)\n",
    "\n",
    "def f3(a, **b):\n",
    "    print(a, b)\n",
    "\n",
    "def f4(a, *b, **c):\n",
    "    print(a, b ,c)\n",
    "\n",
    "def f5(a, b=2, c=3):\n",
    "    print(a, b, c)\n",
    "\n",
    "def f6(a, b=2, *c):\n",
    "    print(a, b, c)"
   ],
   "metadata": {
    "collapsed": false,
    "pycharm": {
     "name": "#%%\n"
    }
   }
  },
  {
   "cell_type": "code",
   "execution_count": 18,
   "outputs": [
    {
     "name": "stdout",
     "output_type": "stream",
     "text": [
      "1 2\n",
      "1 2\n",
      "1 (2, 3)\n",
      "1 {'x': 2, 'y': 3}\n",
      "1 (2, 3) {'x': 2, 'y': 3}\n",
      "1 2 3\n",
      "1 4 3\n",
      "1 2 ()\n",
      "1 3 (4,)\n"
     ]
    }
   ],
   "source": [
    "f1(1, 2)\n",
    "\n",
    "f1(b=2, a=1)\n",
    "\n",
    "f2(1, 2, 3)\n",
    "\n",
    "f3(1, x=2, y=3)\n",
    "\n",
    "f4(1, 2, 3, x=2, y=3)\n",
    "\n",
    "f5(1)\n",
    "\n",
    "f5(1, 4)\n",
    "\n",
    "f6(1)\n",
    "\n",
    "f6(1, 3, 4)"
   ],
   "metadata": {
    "collapsed": false,
    "pycharm": {
     "name": "#%%\n"
    }
   }
  },
  {
   "cell_type": "markdown",
   "source": [
    "# 8"
   ],
   "metadata": {
    "collapsed": false,
    "pycharm": {
     "name": "#%% md\n"
    }
   }
  },
  {
   "cell_type": "code",
   "execution_count": 19,
   "outputs": [],
   "source": [
    "def prime(y):\n",
    "    if abs(y) <= 1:\n",
    "        print(f'{y} is not prime')\n",
    "    else:\n",
    "        x = abs(y) // 2\n",
    "        while x > 1:\n",
    "            if y % x == 0:\n",
    "                print(f'{y} has factor {x}')\n",
    "                break\n",
    "            x -= 1\n",
    "        else:\n",
    "            print(f'{y} is prime')"
   ],
   "metadata": {
    "collapsed": false,
    "pycharm": {
     "name": "#%%\n"
    }
   }
  },
  {
   "cell_type": "code",
   "execution_count": 21,
   "outputs": [
    {
     "name": "stdout",
     "output_type": "stream",
     "text": [
      "8 has factor 4\n",
      "10 has factor 5\n",
      "1 is not prime\n",
      "2 is prime\n",
      "2.0 is prime\n",
      "15.0 has factor 5.0\n",
      "0 is not prime\n",
      "-1 is not prime\n",
      "-2 is prime\n"
     ]
    }
   ],
   "source": [
    "prime(8)\n",
    "prime(10)\n",
    "prime(1)\n",
    "prime(2)\n",
    "prime(2.0)\n",
    "prime(15.0)\n",
    "prime(0)\n",
    "prime(-1)\n",
    "prime(-2)"
   ],
   "metadata": {
    "collapsed": false,
    "pycharm": {
     "name": "#%%\n"
    }
   }
  },
  {
   "cell_type": "markdown",
   "source": [
    " # 9"
   ],
   "metadata": {
    "collapsed": false
   }
  },
  {
   "cell_type": "code",
   "execution_count": 24,
   "outputs": [
    {
     "name": "stdout",
     "output_type": "stream",
     "text": [
      "[1.4142135623730951, 2.0, 3.0, 4.0, 5.0]\n",
      "[1.4142135623730951, 2.0, 3.0, 4.0, 5.0]\n",
      "[1.4142135623730951, 2.0, 3.0, 4.0, 5.0]\n",
      "1.4142135623730951\n",
      "2.0\n",
      "3.0\n",
      "4.0\n",
      "5.0\n"
     ]
    }
   ],
   "source": [
    "import math\n",
    "\n",
    "L = [2, 4, 9, 16, 25]\n",
    "\n",
    "res = []\n",
    "for i in L:\n",
    "    res.append(math.sqrt(i))\n",
    "print(res)\n",
    "\n",
    "print(list(map(math.sqrt, L)))\n",
    "\n",
    "print([math.sqrt(i) for i in L])\n",
    "\n",
    "for s in (math.sqrt(i) for i in L):\n",
    "    print(s)"
   ],
   "metadata": {
    "collapsed": false,
    "pycharm": {
     "name": "#%%\n"
    }
   }
  },
  {
   "cell_type": "markdown",
   "source": [
    "# 10"
   ],
   "metadata": {
    "collapsed": false,
    "pycharm": {
     "name": "#%% md\n"
    }
   }
  },
  {
   "cell_type": "code",
   "execution_count": 26,
   "outputs": [
    {
     "name": "stdout",
     "output_type": "stream",
     "text": [
      "1.7877372000000378\n",
      "1.8032610000000204\n",
      "2.0792990999999574\n"
     ]
    }
   ],
   "source": [
    "import timeit\n",
    "x = 10000\n",
    "\n",
    "def maths():\n",
    "    x ** 0.5\n",
    "\n",
    "print(timeit.timeit(stmt='math.sqrt(x)', globals=globals(), number=10000000))\n",
    "print(timeit.timeit(stmt='x ** 0.5', globals=globals(), number=10000000))\n",
    "print(timeit.timeit(stmt='pow(x, 0.5)', globals=globals(), number=10000000))\n"
   ],
   "metadata": {
    "collapsed": false,
    "pycharm": {
     "name": "#%%\n"
    }
   }
  },
  {
   "cell_type": "markdown",
   "source": [
    "# 11"
   ],
   "metadata": {
    "collapsed": false
   }
  },
  {
   "cell_type": "code",
   "execution_count": 43,
   "outputs": [
    {
     "name": "stdout",
     "output_type": "stream",
     "text": [
      "[7, 6, 5, 4, 3, 2, 1, 'stop']\n",
      "[7, 6, 5, 4, 3, 2, 1, 'stop']\n",
      "[7, 6, 5, 4, 3, 2, 1, 'stop']\n",
      "0.003714399999807938\n",
      "0.004652799999803392\n",
      "0.0035708999998860236\n"
     ]
    }
   ],
   "source": [
    "def countdown(x):\n",
    "    for i in range(x, 0, -1):\n",
    "        yield i\n",
    "    yield 'stop'\n",
    "\n",
    "def countdown2(x):\n",
    "    if x ==0:\n",
    "        yield 'stop'\n",
    "    else:\n",
    "        yield x\n",
    "        for x in countdown2(x-1):\n",
    "            yield x\n",
    "\n",
    "def countdown3(x):\n",
    "    yield from range(x, 0, -1)\n",
    "    yield 'stop'\n",
    "\n",
    "\n",
    "print(list(countdown(7)))\n",
    "print(list(countdown2(7)))\n",
    "print(list(countdown3(7)))\n",
    "\n",
    "print(timeit.timeit(stmt='countdown(7)', globals=globals(), number=10000))\n",
    "print(timeit.timeit(stmt='countdown2(7)', globals=globals(), number=10000))\n",
    "print(timeit.timeit(stmt='countdown3(7)', globals=globals(), number=10000))"
   ],
   "metadata": {
    "collapsed": false,
    "pycharm": {
     "name": "#%%\n"
    }
   }
  },
  {
   "cell_type": "markdown",
   "source": [
    "# 12"
   ],
   "metadata": {
    "collapsed": false,
    "pycharm": {
     "name": "#%% md\n"
    }
   }
  },
  {
   "cell_type": "code",
   "execution_count": 45,
   "outputs": [
    {
     "name": "stdout",
     "output_type": "stream",
     "text": [
      "0.025454099999933533\n",
      "0.02050809999991543\n",
      "0.010057899999992514\n",
      "0.00328620000027513\n"
     ]
    }
   ],
   "source": [
    "from functools import reduce\n",
    "\n",
    "def factorial1(N):\n",
    "    if N == 1:\n",
    "        return N\n",
    "    return N * factorial1(N-1)\n",
    "\n",
    "\n",
    "def factorial2(N):\n",
    "    return reduce(lambda x, y: x * y, range(2, N+1))\n",
    "\n",
    "\n",
    "def factorial3(N):\n",
    "    res = 1\n",
    "    for i in range(2, N+1):\n",
    "        res *= i\n",
    "    return res\n",
    "\n",
    "def factorial4(N):\n",
    "    return math.factorial(N)\n",
    "\n",
    "funcs = (factorial1, factorial2, factorial3, factorial4)\n",
    "\n",
    "for function in funcs:\n",
    "    print(timeit.timeit(stmt='function(15)', globals=globals(), number=10000))"
   ],
   "metadata": {
    "collapsed": false,
    "pycharm": {
     "name": "#%%\n"
    }
   }
  },
  {
   "cell_type": "code",
   "execution_count": 46,
   "outputs": [
    {
     "name": "stdout",
     "output_type": "stream",
     "text": [
      "vestvinokileV_rodoyF   vestvinokileV_rodoyF   vestvinokileV_rodoyF\n"
     ]
    }
   ],
   "source": [
    "def rev1(s):\n",
    "    if len(s) == 1:\n",
    "        return s\n",
    "    return s[-1] + rev1(s[:-1])\n",
    "\n",
    "\n",
    "def rev2(s):\n",
    "    return ''.join(reversed(s))\n",
    "\n",
    "def rev3(s):\n",
    "    return s[::-1]\n",
    "\n",
    "string = 'Fyodor_Velikonivtsev'\n",
    "\n",
    "print(rev1(string), rev2(string), rev3(string), sep='   ')"
   ],
   "metadata": {
    "collapsed": false,
    "pycharm": {
     "name": "#%%\n"
    }
   }
  },
  {
   "cell_type": "code",
   "execution_count": 48,
   "outputs": [
    {
     "name": "stdout",
     "output_type": "stream",
     "text": [
      "0.07638930000030086\n",
      "0.007619599999998172\n",
      "0.0018017999996118306\n"
     ]
    }
   ],
   "source": [
    "print(timeit.timeit(stmt='rev1(string)', globals=globals(), number=10000))\n",
    "print(timeit.timeit(stmt='rev2(string)', globals=globals(), number=10000))\n",
    "print(timeit.timeit(stmt='rev3(string)', globals=globals(), number=10000))"
   ],
   "metadata": {
    "collapsed": false,
    "pycharm": {
     "name": "#%%\n"
    }
   }
  }
 ],
 "metadata": {
  "kernelspec": {
   "display_name": "Python 3",
   "language": "python",
   "name": "python3"
  },
  "language_info": {
   "codemirror_mode": {
    "name": "ipython",
    "version": 2
   },
   "file_extension": ".py",
   "mimetype": "text/x-python",
   "name": "python",
   "nbconvert_exporter": "python",
   "pygments_lexer": "ipython2",
   "version": "2.7.6"
  }
 },
 "nbformat": 4,
 "nbformat_minor": 0
}