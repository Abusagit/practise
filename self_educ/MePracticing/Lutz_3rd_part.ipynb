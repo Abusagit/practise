{
 "cells": [
  {
   "cell_type": "markdown",
   "metadata": {
    "collapsed": true,
    "pycharm": {
     "name": "#%% md\n"
    }
   },
   "source": [
    "# 1"
   ]
  },
  {
   "cell_type": "code",
   "execution_count": 27,
   "outputs": [
    {
     "name": "stdout",
     "output_type": "stream",
     "text": [
      "115\n",
      "112\n",
      "97\n",
      "109\n"
     ]
    }
   ],
   "source": [
    "s = 'spam'\n",
    "for i in s:\n",
    "    print(ord(i))"
   ],
   "metadata": {
    "collapsed": false,
    "pycharm": {
     "name": "#%%\n"
    }
   }
  },
  {
   "cell_type": "code",
   "execution_count": 28,
   "outputs": [
    {
     "name": "stdout",
     "output_type": "stream",
     "text": [
      "433\n"
     ]
    }
   ],
   "source": [
    "x = 0\n",
    "for i in s:\n",
    "    x += ord(i)\n",
    "print(x)"
   ],
   "metadata": {
    "collapsed": false,
    "pycharm": {
     "name": "#%%\n"
    }
   }
  },
  {
   "cell_type": "code",
   "execution_count": 29,
   "outputs": [
    {
     "data": {
      "text/plain": "<map at 0x1e1d5ec96d0>"
     },
     "execution_count": 29,
     "metadata": {},
     "output_type": "execute_result"
    }
   ],
   "source": [
    "map(ord, s)"
   ],
   "metadata": {
    "collapsed": false,
    "pycharm": {
     "name": "#%%\n"
    }
   }
  },
  {
   "cell_type": "code",
   "execution_count": 30,
   "outputs": [
    {
     "data": {
      "text/plain": "[115, 112, 97, 109]"
     },
     "execution_count": 30,
     "metadata": {},
     "output_type": "execute_result"
    }
   ],
   "source": [
    "list(map(ord, s))"
   ],
   "metadata": {
    "collapsed": false,
    "pycharm": {
     "name": "#%%\n"
    }
   }
  },
  {
   "cell_type": "code",
   "execution_count": 31,
   "outputs": [
    {
     "data": {
      "text/plain": "[115, 112, 97, 109]"
     },
     "execution_count": 31,
     "metadata": {},
     "output_type": "execute_result"
    }
   ],
   "source": [
    "[ord(i) for i in s]"
   ],
   "metadata": {
    "collapsed": false,
    "pycharm": {
     "name": "#%%\n"
    }
   }
  },
  {
   "cell_type": "markdown",
   "source": [
    "# 2"
   ],
   "metadata": {
    "collapsed": false,
    "pycharm": {
     "name": "#%% md\n"
    }
   }
  },
  {
   "cell_type": "code",
   "execution_count": 33,
   "outputs": [
    {
     "name": "stdout",
     "output_type": "stream",
     "text": [
      "hello 0\n",
      "\u0007\n",
      "hello 1\n",
      "\u0007\n",
      "hello 2\n",
      "\u0007\n",
      "hello 3\n",
      "\u0007\n",
      "hello 4\n",
      "\u0007\n",
      "hello 5\n",
      "\u0007\n",
      "hello 6\n",
      "\u0007\n",
      "hello 7\n",
      "\u0007\n",
      "hello 8\n",
      "\u0007\n",
      "hello 9\n",
      "\u0007\n",
      "hello 10\n",
      "\u0007\n",
      "hello 11\n",
      "\u0007\n",
      "hello 12\n",
      "\u0007\n",
      "hello 13\n",
      "\u0007\n",
      "hello 14\n",
      "\u0007\n",
      "hello 15\n",
      "\u0007\n",
      "hello 16\n",
      "\u0007\n",
      "hello 17\n",
      "\u0007\n",
      "hello 18\n",
      "\u0007\n",
      "hello 19\n",
      "\u0007\n",
      "hello 20\n",
      "\u0007\n",
      "hello 21\n",
      "\u0007\n",
      "hello 22\n",
      "\u0007\n",
      "hello 23\n",
      "\u0007\n",
      "hello 24\n",
      "\u0007\n",
      "hello 25\n",
      "\u0007\n",
      "hello 26\n",
      "\u0007\n",
      "hello 27\n",
      "\u0007\n",
      "hello 28\n",
      "\u0007\n",
      "hello 29\n",
      "\u0007\n",
      "hello 30\n",
      "\u0007\n",
      "hello 31\n",
      "\u0007\n",
      "hello 32\n",
      "\u0007\n",
      "hello 33\n",
      "\u0007\n",
      "hello 34\n",
      "\u0007\n",
      "hello 35\n",
      "\u0007\n",
      "hello 36\n",
      "\u0007\n",
      "hello 37\n",
      "\u0007\n",
      "hello 38\n",
      "\u0007\n",
      "hello 39\n",
      "\u0007\n",
      "hello 40\n",
      "\u0007\n",
      "hello 41\n",
      "\u0007\n",
      "hello 42\n",
      "\u0007\n",
      "hello 43\n",
      "\u0007\n",
      "hello 44\n",
      "\u0007\n",
      "hello 45\n",
      "\u0007\n",
      "hello 46\n",
      "\u0007\n",
      "hello 47\n",
      "\u0007\n",
      "hello 48\n",
      "\u0007\n",
      "hello 49\n",
      "\u0007\n"
     ]
    }
   ],
   "source": [
    "for i in range(50):\n",
    "    print('hello %d\\n\\a' % i)"
   ],
   "metadata": {
    "collapsed": false,
    "pycharm": {
     "name": "#%%\n"
    }
   }
  },
  {
   "cell_type": "markdown",
   "source": [
    "# 3"
   ],
   "metadata": {
    "collapsed": false,
    "pycharm": {
     "name": "#%% md\n"
    }
   }
  },
  {
   "cell_type": "code",
   "execution_count": 35,
   "outputs": [
    {
     "data": {
      "text/plain": "{1: 'c', 2: 'a', 3: 'asd', 6: 'g'}"
     },
     "execution_count": 35,
     "metadata": {},
     "output_type": "execute_result"
    }
   ],
   "source": [
    "d = {1: 'c', 2:'a', 3:'asd', 6:'g'}\n",
    "d"
   ],
   "metadata": {
    "collapsed": false,
    "pycharm": {
     "name": "#%%\n"
    }
   }
  },
  {
   "cell_type": "code",
   "execution_count": 36,
   "outputs": [
    {
     "name": "stdout",
     "output_type": "stream",
     "text": [
      "1 c\n",
      "2 a\n",
      "3 asd\n",
      "6 g\n"
     ]
    }
   ],
   "source": [
    "for i in sorted(d):\n",
    "    print(i, d[i])"
   ],
   "metadata": {
    "collapsed": false,
    "pycharm": {
     "name": "#%%\n"
    }
   }
  },
  {
   "cell_type": "markdown",
   "source": [
    "# 4"
   ],
   "metadata": {
    "collapsed": false,
    "pycharm": {
     "name": "#%% md\n"
    }
   }
  },
  {
   "cell_type": "code",
   "execution_count": 11,
   "outputs": [
    {
     "name": "stdout",
     "output_type": "stream",
     "text": [
      "at index 5\n"
     ]
    }
   ],
   "source": [
    "L = [1, 2, 4, 8, 16, 32, 64]\n",
    "X = 5\n",
    "found = False\n",
    "i = 0\n",
    "while not found and i < len(L):\n",
    "    if 2 ** X == L[i]:\n",
    "        found = True\n",
    "    else:\n",
    "        i = i + 1\n",
    "if found:\n",
    "    print('at index', i)\n",
    "else:\n",
    "    print(X, 'not found')"
   ],
   "metadata": {
    "collapsed": false,
    "pycharm": {
     "name": "#%%\n"
    }
   }
  },
  {
   "cell_type": "code",
   "execution_count": 38,
   "outputs": [
    {
     "name": "stdout",
     "output_type": "stream",
     "text": [
      "at index 5\n"
     ]
    }
   ],
   "source": [
    "i = 0\n",
    "while i < len(L):\n",
    "    if 2 ** X == L[i]:\n",
    "        print('at index', i)\n",
    "        break\n",
    "    else:\n",
    "        i += 1\n",
    "else:\n",
    "    print(X, 'not found')\n"
   ],
   "metadata": {
    "collapsed": false,
    "pycharm": {
     "name": "#%%\n"
    }
   }
  },
  {
   "cell_type": "code",
   "execution_count": 20,
   "outputs": [
    {
     "name": "stdout",
     "output_type": "stream",
     "text": [
      "at index 5\n"
     ]
    }
   ],
   "source": [
    "i = 0\n",
    "for i in L:\n",
    "    if 2 ** X == i:\n",
    "        print('at index', L.index(i))\n",
    "        break\n",
    "else:\n",
    "    print(X, 'not found')"
   ],
   "metadata": {
    "collapsed": false,
    "pycharm": {
     "name": "#%%\n"
    }
   }
  },
  {
   "cell_type": "code",
   "execution_count": 39,
   "outputs": [
    {
     "name": "stdout",
     "output_type": "stream",
     "text": [
      "5\n"
     ]
    }
   ],
   "source": [
    "if 2 ** X in L:\n",
    "    print(L.index(2 ** X))\n",
    "else:\n",
    "    print('not found')"
   ],
   "metadata": {
    "collapsed": false,
    "pycharm": {
     "name": "#%%\n"
    }
   }
  },
  {
   "cell_type": "code",
   "execution_count": 22,
   "outputs": [],
   "source": [
    "L = []\n",
    "for i in range(8):\n",
    "    L.append(2 ** i)"
   ],
   "metadata": {
    "collapsed": false,
    "pycharm": {
     "name": "#%%\n"
    }
   }
  },
  {
   "cell_type": "code",
   "execution_count": 23,
   "outputs": [
    {
     "data": {
      "text/plain": "[1, 2, 4, 8, 16, 32, 64, 128]"
     },
     "execution_count": 23,
     "metadata": {},
     "output_type": "execute_result"
    }
   ],
   "source": [
    "L"
   ],
   "metadata": {
    "collapsed": false,
    "pycharm": {
     "name": "#%%\n"
    }
   }
  },
  {
   "cell_type": "code",
   "execution_count": 25,
   "outputs": [
    {
     "data": {
      "text/plain": "[1, 2, 4, 8, 16, 32, 64]"
     },
     "execution_count": 25,
     "metadata": {},
     "output_type": "execute_result"
    }
   ],
   "source": [
    "L = list(map(lambda x: 2 ** x, range(7)))\n",
    "L"
   ],
   "metadata": {
    "collapsed": false,
    "pycharm": {
     "name": "#%%\n"
    }
   }
  }
 ],
 "metadata": {
  "kernelspec": {
   "display_name": "Python 3",
   "language": "python",
   "name": "python3"
  },
  "language_info": {
   "codemirror_mode": {
    "name": "ipython",
    "version": 2
   },
   "file_extension": ".py",
   "mimetype": "text/x-python",
   "name": "python",
   "nbconvert_exporter": "python",
   "pygments_lexer": "ipython2",
   "version": "2.7.6"
  }
 },
 "nbformat": 4,
 "nbformat_minor": 0
}