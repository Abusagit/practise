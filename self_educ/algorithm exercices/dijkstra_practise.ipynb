{
 "cells": [
  {
   "cell_type": "code",
   "execution_count": 19,
   "metadata": {
    "collapsed": true
   },
   "outputs": [],
   "source": [
    "import algorithms.graphs as gp\n",
    "\n",
    "infinity = float('inf')"
   ]
  },
  {
   "cell_type": "markdown",
   "source": [
    "# A"
   ],
   "metadata": {
    "collapsed": false,
    "pycharm": {
     "name": "#%% md\n"
    }
   }
  },
  {
   "cell_type": "code",
   "execution_count": 21,
   "outputs": [
    {
     "name": "stdout",
     "output_type": "stream",
     "text": [
      "['start', 'A', 'D', 'finish']\n"
     ]
    }
   ],
   "source": [
    "graph = {\n",
    "    'start': {'A': 5, 'B': 2},\n",
    "    'A': {'C': 4, 'D': 2},\n",
    "    'B': {'A': 8, 'D': 7},\n",
    "    'C': {'D': 6, 'finish': 3},\n",
    "    'D': {'finish': 1},\n",
    "    'finish': {}\n",
    "}\n",
    "\n",
    "costs = {\n",
    "    'A': 5,\n",
    "    'B': 2,\n",
    "    'C': infinity,\n",
    "    'D': infinity,\n",
    "    'finish': infinity\n",
    "}\n",
    "\n",
    "parents = {\n",
    "    'A': 'start',\n",
    "    'B': 'start',\n",
    "    'C': None,\n",
    "    'D': None,\n",
    "    'finish': None\n",
    "}\n",
    "\n",
    "print(gp.dijkstra(graph, costs, parents, 'start', 'finish'))"
   ],
   "metadata": {
    "collapsed": false,
    "pycharm": {
     "name": "#%%\n"
    }
   }
  },
  {
   "cell_type": "markdown",
   "source": [
    "# B"
   ],
   "metadata": {
    "collapsed": false,
    "pycharm": {
     "name": "#%% md\n"
    }
   }
  },
  {
   "cell_type": "code",
   "execution_count": 11,
   "outputs": [
    {
     "name": "stdout",
     "output_type": "stream",
     "text": [
      "['start', 'A', 'C', 'finish']\n"
     ]
    }
   ],
   "source": [
    "graph = {\n",
    "    'start': {'A': 10},\n",
    "    'A': {'C': 20},\n",
    "    'B': {'A': 1},\n",
    "    'C': {'B': 1, 'finish': 30},\n",
    "    'finish': {}\n",
    "}\n",
    "\n",
    "costs = {\n",
    "    'A': 10,\n",
    "    'B': infinity,\n",
    "    'C': infinity,\n",
    "    'finish': infinity\n",
    "}\n",
    "\n",
    "parents = {\n",
    "    'A': 'start',\n",
    "    'B': None,\n",
    "    'C': None,\n",
    "    'finish': None\n",
    "}\n",
    "\n",
    "print(gp.dijkstra(graph, costs, parents, 'start', 'finish'))\n"
   ],
   "metadata": {
    "collapsed": false,
    "pycharm": {
     "name": "#%%\n"
    }
   }
  },
  {
   "cell_type": "markdown",
   "source": [
    "# C - тут другой алгоритм, так как есть отрицательное ребро"
   ],
   "metadata": {
    "collapsed": false,
    "pycharm": {
     "name": "#%% md\n"
    }
   }
  },
  {
   "cell_type": "code",
   "execution_count": null,
   "outputs": [],
   "source": [
    "graph = {\n",
    "    'start': {'A': 2, 'B': 2},\n",
    "    'A': {'C': 20},\n",
    "    'B': {'A': 1},\n",
    "    'C': {'B': 1, 'finish': 30},\n",
    "    'finish': {}\n",
    "}\n",
    "\n",
    "costs = {\n",
    "    'A': 10,\n",
    "    'B': infinity,\n",
    "    'C': infinity,\n",
    "    'finish': infinity\n",
    "}\n",
    " # TODO ругой алгоритм\n",
    "parents = {\n",
    "    'A': 'start',\n",
    "    'B': None,\n",
    "    'C': None,\n",
    "    'finish': None\n",
    "}\n",
    "\n",
    "print(gp.dijkstra(graph, costs, parents, 'start', 'finish'))"
   ],
   "metadata": {
    "collapsed": false,
    "pycharm": {
     "name": "#%%\n"
    }
   }
  },
  {
   "cell_type": "code",
   "execution_count": 17,
   "outputs": [
    {
     "name": "stdout",
     "output_type": "stream",
     "text": [
      "['start', 'b', 'a', 'fin']\n"
     ]
    }
   ],
   "source": [
    "graph = {\n",
    "        'start' : {'a' : 6, 'b': 2},\n",
    "        'a': {'fin': 1},\n",
    "        'b': {'a': 3, 'fin': 5},\n",
    "        'fin': {}\n",
    "    }\n",
    "infinity = float('inf')\n",
    "costs = {\n",
    "        'a': 6,\n",
    "        'b': 2,\n",
    "        'fin': infinity\n",
    "    }\n",
    "parents = {\n",
    "        'a': 'start',\n",
    "        'b': 'start',\n",
    "        'fin': None\n",
    "    }\n",
    "print(gp.dijkstra(graph, costs, parents, 'start', 'fin'))  # TODO finish returning value"
   ],
   "metadata": {
    "collapsed": false,
    "pycharm": {
     "name": "#%%\n"
    }
   }
  },
  {
   "cell_type": "code",
   "execution_count": null,
   "outputs": [],
   "source": [],
   "metadata": {
    "collapsed": false,
    "pycharm": {
     "name": "#%%\n"
    }
   }
  }
 ],
 "metadata": {
  "kernelspec": {
   "display_name": "Python 3",
   "language": "python",
   "name": "python3"
  },
  "language_info": {
   "codemirror_mode": {
    "name": "ipython",
    "version": 2
   },
   "file_extension": ".py",
   "mimetype": "text/x-python",
   "name": "python",
   "nbconvert_exporter": "python",
   "pygments_lexer": "ipython2",
   "version": "2.7.6"
  }
 },
 "nbformat": 4,
 "nbformat_minor": 0
}