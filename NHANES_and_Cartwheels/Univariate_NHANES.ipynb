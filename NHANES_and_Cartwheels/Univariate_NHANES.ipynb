{
 "cells": [
  {
   "cell_type": "code",
   "execution_count": 117,
   "outputs": [],
   "source": [
    "import matplotlib.pyplot as plt\n",
    "import seaborn as sns\n",
    "import pandas as pd\n",
    "import statsmodels.api as sm\n",
    "import numpy as np\n",
    "import scipy.stats as stats\n",
    "\n",
    "df = pd.read_csv(r'C:\\Users\\Fyodor\\PycharmProjects\\untitled\\Coursera\\nhanes_2015_2016.csv')"
   ],
   "metadata": {
    "collapsed": false,
    "pycharm": {
     "name": "#%%\n"
    }
   }
  },
  {
   "cell_type": "code",
   "execution_count": 118,
   "outputs": [
    {
     "name": "stdout",
     "output_type": "stream",
     "text": [
      "Index(['SEQN', 'ALQ101', 'ALQ110', 'ALQ130', 'SMQ020', 'RIAGENDR', 'RIDAGEYR',\n",
      "       'RIDRETH1', 'DMDCITZN', 'DMDEDUC2', 'DMDMARTL', 'DMDHHSIZ', 'WTINT2YR',\n",
      "       'SDMVPSU', 'SDMVSTRA', 'INDFMPIR', 'BPXSY1', 'BPXDI1', 'BPXSY2',\n",
      "       'BPXDI2', 'BMXWT', 'BMXHT', 'BMXBMI', 'BMXLEG', 'BMXARML', 'BMXARMC',\n",
      "       'BMXWAIST', 'HIQ210'],\n",
      "      dtype='object')\n"
     ]
    }
   ],
   "source": [
    "print(df.columns)"
   ],
   "metadata": {
    "collapsed": false,
    "pycharm": {
     "name": "#%%\n"
    }
   }
  },
  {
   "cell_type": "markdown",
   "source": [
    "## 1\n",
    "Relabel the marital status variable DMDMARTL to have brief but informative\n",
    "character labels"
   ],
   "metadata": {
    "collapsed": false
   }
  },
  {
   "cell_type": "code",
   "execution_count": 119,
   "outputs": [
    {
     "name": "stdout",
     "output_type": "stream",
     "text": [
      "Married                2780\n",
      "Never married          1004\n",
      "Divorced                579\n",
      "Living with partner     527\n",
      "Widowed                 396\n",
      "Missing                 261\n",
      "Separated               186\n",
      "Refused                   2\n",
      "Name: DMDMARTLx, dtype: int64\n",
      "Female    2976\n",
      "Male      2759\n",
      "Name: RIAGENDRx, dtype: int64\n"
     ]
    }
   ],
   "source": [
    "df['DMDMARTLx'] = df['DMDMARTL'].replace(\n",
    "    {\n",
    "        1: 'Married',\n",
    "        2: 'Widowed',\n",
    "        3: 'Divorced',\n",
    "        4: 'Separated',\n",
    "        5: 'Never married',\n",
    "        6: 'Living with partner',\n",
    "        77: 'Refused',\n",
    "        99: 'Don`t know'\n",
    "    }\n",
    ")\n",
    "df['RIAGENDRx'] = df['RIAGENDR'].replace(\n",
    "    {\n",
    "        1: 'Male',\n",
    "        2: 'Female'\n",
    "    }\n",
    ")\n",
    "df['DMDMARTLx'] = df.DMDMARTLx.fillna('Missing')\n",
    "print(df.DMDMARTLx.value_counts())\n",
    "print(df.RIAGENDRx.value_counts())"
   ],
   "metadata": {
    "collapsed": false,
    "pycharm": {
     "name": "#%%\n"
    }
   }
  },
  {
   "cell_type": "markdown",
   "source": [
    "Then construct a frequency table of these values\n",
    "for all people,\n",
    "then for women only,\n",
    "and for men only"
   ],
   "metadata": {
    "collapsed": false
   }
  },
  {
   "cell_type": "code",
   "execution_count": 120,
   "outputs": [
    {
     "name": "stdout",
     "output_type": "stream",
     "text": [
      "Married                2780\n",
      "Never married          1004\n",
      "Divorced                579\n",
      "Living with partner     527\n",
      "Widowed                 396\n",
      "Missing                 261\n",
      "Separated               186\n",
      "Refused                   2\n",
      "Name: DMDMARTLx, dtype: int64\n"
     ]
    }
   ],
   "source": [
    "# for all\n",
    "print(df.DMDMARTLx.value_counts())"
   ],
   "metadata": {
    "collapsed": false,
    "pycharm": {
     "name": "#%%\n"
    }
   }
  },
  {
   "cell_type": "code",
   "execution_count": 121,
   "outputs": [
    {
     "name": "stdout",
     "output_type": "stream",
     "text": [
      "RIAGENDRx  DMDMARTLx          \n",
      "Female     Married                1303\n",
      "           Never married           520\n",
      "           Divorced                350\n",
      "           Widowed                 296\n",
      "           Living with partner     262\n",
      "           Missing                 126\n",
      "           Separated               118\n",
      "           Refused                   1\n",
      "Male       Married                1477\n",
      "           Never married           484\n",
      "           Living with partner     265\n",
      "           Divorced                229\n",
      "           Missing                 135\n",
      "           Widowed                 100\n",
      "           Separated                68\n",
      "           Refused                   1\n",
      "Name: DMDMARTLx, dtype: int64\n"
     ]
    }
   ],
   "source": [
    "# for women and men simultaneously\n",
    "print(df.groupby('RIAGENDRx')['DMDMARTLx'].value_counts())"
   ],
   "metadata": {
    "collapsed": false,
    "pycharm": {
     "name": "#%%\n"
    }
   }
  },
  {
   "cell_type": "markdown",
   "source": [
    "Then construct these three frequency tables using only people whose age is between 30 and 40"
   ],
   "metadata": {
    "collapsed": false
   }
  },
  {
   "cell_type": "code",
   "execution_count": 122,
   "outputs": [
    {
     "name": "stdout",
     "output_type": "stream",
     "text": [
      "age_grp   DMDMARTLx          \n",
      "(30, 40]  Married                516\n",
      "          Never married          186\n",
      "          Living with partner    129\n",
      "          Divorced                67\n",
      "          Separated               29\n",
      "          Widowed                  4\n",
      "          Refused                  1\n",
      "Name: DMDMARTLx, dtype: int64\n",
      "\n",
      "RIAGENDRx  age_grp   DMDMARTLx          \n",
      "Female     (30, 40]  Married                258\n",
      "                     Never married           97\n",
      "                     Living with partner     57\n",
      "                     Divorced                43\n",
      "                     Separated               17\n",
      "                     Widowed                  2\n",
      "Male       (30, 40]  Married                258\n",
      "                     Never married           89\n",
      "                     Living with partner     72\n",
      "                     Divorced                24\n",
      "                     Separated               12\n",
      "                     Widowed                  2\n",
      "                     Refused                  1\n",
      "Name: DMDMARTLx, dtype: int64\n"
     ]
    }
   ],
   "source": [
    "df['age_grp'] = pd.cut(df.RIDAGEYR, [30, 40])\n",
    "print(df.groupby(['age_grp'])['DMDMARTLx'].value_counts(), end='\\n\\n')\n",
    "print(df.groupby(['RIAGENDRx', 'age_grp'])['DMDMARTLx'].value_counts())"
   ],
   "metadata": {
    "collapsed": false,
    "pycharm": {
     "name": "#%%\n"
    }
   }
  },
  {
   "cell_type": "markdown",
   "source": [
    "## 2"
   ],
   "metadata": {
    "collapsed": false
   }
  },
  {
   "cell_type": "code",
   "execution_count": 123,
   "outputs": [
    {
     "name": "stdout",
     "output_type": "stream",
     "text": [
      "count    5735.000000\n",
      "mean       48.052310\n",
      "std        18.431011\n",
      "min        18.000000\n",
      "25%        32.000000\n",
      "50%        48.000000\n",
      "75%        63.000000\n",
      "max        80.000000\n",
      "Name: RIDAGEYR, dtype: float64\n",
      "\n",
      "\n",
      "RIAGENDRx  DMDMARTLx          \n",
      "Female     Married               0.227\n",
      "           Never married         0.091\n",
      "           Divorced              0.061\n",
      "           Widowed               0.052\n",
      "           Living with partner   0.046\n",
      "           Missing               0.022\n",
      "           Separated             0.021\n",
      "           Refused               0.000\n",
      "Male       Married               0.258\n",
      "           Never married         0.084\n",
      "           Living with partner   0.046\n",
      "           Divorced              0.040\n",
      "           Missing               0.024\n",
      "           Widowed               0.017\n",
      "           Separated             0.012\n",
      "           Refused               0.000\n"
     ]
    }
   ],
   "source": [
    "print(df.RIDAGEYR.dropna().describe(), end='\\n\\n\\n') # to investigate the age\n",
    "df['agev2'] = pd.cut(df.RIDAGEYR, [30, 40, 50, 60, 70, 80])\n",
    "\n",
    "data = df.groupby('RIAGENDRx')['DMDMARTLx'].value_counts()\n",
    "print((data / data.sum()).to_string(float_format='%.3f'))"
   ],
   "metadata": {
    "collapsed": false,
    "pycharm": {
     "name": "#%%\n"
    }
   }
  },
  {
   "cell_type": "code",
   "execution_count": 124,
   "outputs": [
    {
     "name": "stdout",
     "output_type": "stream",
     "text": [
      "DMDMARTLx           Divorced  Living with partner  Married  Never married  Refused  Separated  Widowed\n",
      "RIAGENDRx agev2                                                                                       \n",
      "Female    (30, 40]     0.010                0.013    0.058          0.022      NaN      0.004    0.000\n",
      "          (40, 50]     0.016                0.008    0.065          0.014      NaN      0.007    0.003\n",
      "          (50, 60]     0.019                0.007    0.058          0.009    0.000      0.006    0.006\n",
      "          (60, 70]     0.019                0.004    0.048          0.009      NaN      0.005    0.015\n",
      "          (70, 80]     0.013                0.001    0.029          0.005      NaN      0.002    0.042\n",
      "Male      (30, 40]     0.005                0.016    0.058          0.020    0.000      0.003    0.000\n",
      "          (40, 50]     0.008                0.007    0.063          0.009      NaN      0.002    0.000\n",
      "          (50, 60]     0.013                0.008    0.067          0.011      NaN      0.002    0.002\n",
      "          (60, 70]     0.012                0.005    0.065          0.009      NaN      0.003    0.004\n",
      "          (70, 80]     0.013                0.002    0.055          0.002      NaN      0.003    0.015\n"
     ]
    }
   ],
   "source": [
    "data_with_age = df.groupby(['RIAGENDRx', 'agev2'])['DMDMARTLx'].value_counts()\n",
    "# TODO - get rid of Nan\n",
    "x = (data_with_age / data_with_age.sum()).unstack()\n",
    "print(x.to_string(float_format='%.3f'))"
   ],
   "metadata": {
    "collapsed": false,
    "pycharm": {
     "name": "#%%\n"
    }
   }
  },
  {
   "cell_type": "markdown",
   "source": [
    "# 3\n",
    "\n",
    "Histogram"
   ],
   "metadata": {
    "collapsed": false
   }
  },
  {
   "cell_type": "code",
   "execution_count": 125,
   "outputs": [
    {
     "data": {
      "text/plain": "<Figure size 432x288 with 1 Axes>",
      "image/png": "[encoded data removed]"
     },
     "metadata": {
      "needs_background": "light"
     },
     "output_type": "display_data"
    }
   ],
   "source": [
    "hist = sns.distplot(df.BMXHT.dropna(), bins=160, kde=False).set_title('Distribution of height')\n",
    "plt.show()"
   ],
   "metadata": {
    "collapsed": false,
    "pycharm": {
     "name": "#%%\n"
    }
   }
  },
  {
   "cell_type": "code",
   "execution_count": 126,
   "outputs": [
    {
     "data": {
      "text/plain": "<Figure size 216x432 with 2 Axes>",
      "image/png": "[encoded data removed]"
     },
     "metadata": {
      "needs_background": "light"
     },
     "output_type": "display_data"
    }
   ],
   "source": [
    "side_by_side = sns.FacetGrid(df, row= 'RIAGENDRx')\n",
    "side_by_side =side_by_side.map(plt.hist, 'BMXHT')\n"
   ],
   "metadata": {
    "collapsed": false,
    "pycharm": {
     "name": "#%%\n"
    }
   }
  },
  {
   "cell_type": "code",
   "execution_count": 127,
   "outputs": [
    {
     "data": {
      "text/plain": "<Figure size 432x288 with 1 Axes>",
      "image/png": "[encoded data removed]"
     },
     "metadata": {
      "needs_background": "light"
     },
     "output_type": "display_data"
    }
   ],
   "source": [
    "boxplots = sns.boxplot(x=df['BMXHT'], y=df['RIAGENDRx'], data=df)\n",
    "plt.show()"
   ],
   "metadata": {
    "collapsed": false,
    "pycharm": {
     "name": "#%%\n"
    }
   }
  },
  {
   "cell_type": "markdown",
   "source": [
    "# 5"
   ],
   "metadata": {
    "collapsed": false
   }
  },
  {
   "cell_type": "code",
   "execution_count": 128,
   "outputs": [
    {
     "name": "stdout",
     "output_type": "stream",
     "text": [
      "Education        Household\n",
      "9-11             2            143\n",
      "                 3            105\n",
      "                 4             98\n",
      "                 5             94\n",
      "                 1             75\n",
      "                 6             73\n",
      "                 7             55\n",
      "<9               2            147\n",
      "                 5             97\n",
      "                 3             96\n",
      "                 4             87\n",
      "                 7             85\n",
      "                 1             72\n",
      "                 6             71\n",
      "College          2            475\n",
      "                 3            265\n",
      "                 4            226\n",
      "                 1            195\n",
      "                 5            130\n",
      "                 6             40\n",
      "                 7             35\n",
      "Don`t know       2              2\n",
      "                 5              1\n",
      "HS/GED           2            321\n",
      "                 3            203\n",
      "                 4            192\n",
      "                 1            181\n",
      "                 5            130\n",
      "                 7             81\n",
      "                 6             78\n",
      "Missing          4             59\n",
      "                 3             55\n",
      "                 5             49\n",
      "                 7             39\n",
      "                 6             35\n",
      "                 2             22\n",
      "                 1              2\n",
      "Some college/AA  2            436\n",
      "                 3            313\n",
      "                 4            274\n",
      "                 1            245\n",
      "                 5            198\n",
      "                 6             82\n",
      "                 7             73\n",
      "Name: Household, dtype: int64\n",
      "\n",
      "\n",
      "\n",
      "\n",
      "Household            1      2      3      4      5     6     7\n",
      "Education                                                     \n",
      "9-11              75.0  143.0  105.0   98.0   94.0  73.0  55.0\n",
      "<9                72.0  147.0   96.0   87.0   97.0  71.0  85.0\n",
      "College          195.0  475.0  265.0  226.0  130.0  40.0  35.0\n",
      "Don`t know         NaN    2.0    NaN    NaN    1.0   NaN   NaN\n",
      "HS/GED           181.0  321.0  203.0  192.0  130.0  78.0  81.0\n",
      "Missing            2.0   22.0   55.0   59.0   49.0  35.0  39.0\n",
      "Some college/AA  245.0  436.0  313.0  274.0  198.0  82.0  73.0\n",
      "<class 'pandas.core.series.Series'>\n",
      "<class 'pandas.core.frame.DataFrame'>\n"
     ]
    }
   ],
   "source": [
    "df['Education'] = df['DMDEDUC2'].replace({1: '<9',\n",
    "                                           2: '9-11',\n",
    "                                           3: 'HS/GED',\n",
    "                                           4: 'Some college/AA',\n",
    "                                           5: 'College',\n",
    "                                           7: 'Refused',\n",
    "                                           9: 'Don`t know'\n",
    "                                           }\n",
    "                                          )\n",
    "df['Household'] = df['DMDHHSIZ']\n",
    "df['Education'] = df.Education.fillna('Missing').dropna()\n",
    "df['Household'] = df.Household.fillna('Missing').dropna()\n",
    "v = df.groupby(['Education'])['Household'].value_counts()\n",
    "print(v, end='\\n\\n\\n\\n\\n')\n",
    "\n",
    "print(v.unstack())\n",
    "\n",
    "print(type(v), type(v.unstack()), sep='\\n')  # !!!!!!!!!!!!!!!!!"
   ],
   "metadata": {
    "collapsed": false,
    "pycharm": {
     "name": "#%%\n"
    }
   }
  },
  {
   "cell_type": "code",
   "execution_count": 129,
   "outputs": [
    {
     "name": "stdout",
     "output_type": "stream",
     "text": [
      "Household               1         2         3         4         5         6  \\\n",
      "Education                                                                     \n",
      "9-11             0.116641  0.222395  0.163297  0.152411  0.146190  0.113530   \n",
      "<9               0.109924  0.224427  0.146565  0.132824  0.148092  0.108397   \n",
      "College          0.142753  0.347731  0.193997  0.165447  0.095168  0.029283   \n",
      "Don`t know            NaN  0.666667       NaN       NaN  0.333333       NaN   \n",
      "HS/GED           0.152614  0.270658  0.171164  0.161889  0.109612  0.065767   \n",
      "Missing          0.007663  0.084291  0.210728  0.226054  0.187739  0.134100   \n",
      "Some college/AA  0.151141  0.268970  0.193091  0.169031  0.122147  0.050586   \n",
      "\n",
      "Household               7  \n",
      "Education                  \n",
      "9-11             0.085537  \n",
      "<9               0.129771  \n",
      "College          0.025622  \n",
      "Don`t know            NaN  \n",
      "HS/GED           0.068297  \n",
      "Missing          0.149425  \n",
      "Some college/AA  0.045034  \n",
      "\n",
      "\n",
      "------------------------------------------------------------------------------------------\n",
      "\n",
      "Household           1     2     3     4     5     6     7\n",
      "Education                                                \n",
      "9-11            0.117 0.222 0.163 0.152 0.146 0.114 0.086\n",
      "<9              0.110 0.224 0.147 0.133 0.148 0.108 0.130\n",
      "College         0.143 0.348 0.194 0.165 0.095 0.029 0.026\n",
      "Don`t know        NaN 0.667   NaN   NaN 0.333   NaN   NaN\n",
      "HS/GED          0.153 0.271 0.171 0.162 0.110 0.066 0.068\n",
      "Missing         0.008 0.084 0.211 0.226 0.188 0.134 0.149\n",
      "Some college/AA 0.151 0.269 0.193 0.169 0.122 0.051 0.045\n"
     ]
    }
   ],
   "source": [
    "# Proportions\n",
    "v = v.unstack().apply(lambda x: x / x.sum(), axis=1)\n",
    "print(v, end='\\n\\n\\n{}\\n\\n'.format('-'*90))\n",
    "print(v.to_string(float_format='%.3f'))"
   ],
   "metadata": {
    "collapsed": false,
    "pycharm": {
     "name": "#%%\n"
    }
   }
  },
  {
   "cell_type": "code",
   "execution_count": 130,
   "outputs": [
    {
     "name": "stdout",
     "output_type": "stream",
     "text": [
      "Household                              1     2     3     4     5     6     7\n",
      "RIAGENDRx age_grp  Education                                                \n",
      "Female    (30, 40] 9-11              2.0   7.0   2.0   7.0  11.0   9.0   4.0\n",
      "                   <9                1.0   2.0   4.0   7.0  10.0  13.0   9.0\n",
      "                   College          14.0  23.0  34.0  49.0  18.0   7.0   4.0\n",
      "                   HS/GED            2.0   2.0  16.0  15.0  14.0  15.0  14.0\n",
      "                   Some college/AA   2.0  16.0  29.0  43.0  42.0  12.0  15.0\n",
      "Male      (30, 40] 9-11              2.0   6.0  10.0  16.0  16.0  13.0   6.0\n",
      "                   <9                NaN   2.0   7.0   7.0  12.0   5.0  14.0\n",
      "                   College          12.0  24.0  28.0  33.0  12.0   4.0   2.0\n",
      "                   HS/GED           10.0  13.0  16.0  24.0  17.0  11.0  13.0\n",
      "                   Some college/AA  17.0  15.0  18.0  27.0  25.0  13.0   8.0\n"
     ]
    }
   ],
   "source": [
    "household = df.groupby(['RIAGENDRx', 'age_grp', 'Education'])['Household'].value_counts()\n",
    "print(household.unstack())"
   ],
   "metadata": {
    "collapsed": false,
    "pycharm": {
     "name": "#%%\n"
    }
   }
  },
  {
   "cell_type": "markdown",
   "source": [
    "### Q5b"
   ],
   "metadata": {
    "collapsed": false,
    "pycharm": {
     "name": "#%% md\n"
    }
   }
  },
  {
   "cell_type": "code",
   "execution_count": 131,
   "outputs": [
    {
     "name": "stdout",
     "output_type": "stream",
     "text": [
      "                                    count      mean       std  min   25%  50%  \\\n",
      "age_grp  Education       RIAGENDRx                                              \n",
      "(30, 40] 9-11            Female      42.0  4.452381  1.727855  1.0  3.25  5.0   \n",
      "                         Male        69.0  4.463768  1.529895  1.0  3.00  5.0   \n",
      "         <9              Female      46.0  5.130435  1.529106  1.0  4.00  5.0   \n",
      "                         Male        47.0  5.127660  1.568952  2.0  4.00  5.0   \n",
      "         College         Female     149.0  3.476510  1.407431  1.0  3.00  4.0   \n",
      "                         Male       115.0  3.252174  1.369104  1.0  2.00  3.0   \n",
      "         HS/GED          Female      78.0  4.769231  1.594822  1.0  3.25  5.0   \n",
      "                         Male       104.0  4.057692  1.805208  1.0  3.00  4.0   \n",
      "         Some college/AA Female     159.0  4.276730  1.431614  1.0  3.00  4.0   \n",
      "                         Male       123.0  3.804878  1.753958  1.0  2.00  4.0   \n",
      "\n",
      "                                    75%  max  \n",
      "age_grp  Education       RIAGENDRx            \n",
      "(30, 40] 9-11            Female     6.0  7.0  \n",
      "                         Male       6.0  7.0  \n",
      "         <9              Female     6.0  7.0  \n",
      "                         Male       7.0  7.0  \n",
      "         College         Female     4.0  7.0  \n",
      "                         Male       4.0  7.0  \n",
      "         HS/GED          Female     6.0  7.0  \n",
      "                         Male       5.0  7.0  \n",
      "         Some college/AA Female     5.0  7.0  \n",
      "                         Male       5.0  7.0  \n"
     ]
    }
   ],
   "source": [
    "data = df.groupby(['age_grp', 'Education', 'RIAGENDRx'])['Household'].describe()\n",
    "print(data)"
   ],
   "metadata": {
    "collapsed": false,
    "pycharm": {
     "name": "#%%\n"
    }
   }
  },
  {
   "cell_type": "code",
   "execution_count": 132,
   "outputs": [
    {
     "name": "stdout",
     "output_type": "stream",
     "text": [
      "                           count      mean       std  min  25%  50%   75%  max\n",
      "RIAGENDRx Education                                                           \n",
      "Female    9-11              49.0  4.408163  1.669810  1.0  3.0  5.0  6.00  7.0\n",
      "          <9                49.0  5.102041  1.544411  1.0  4.0  5.0  6.00  7.0\n",
      "          College          174.0  3.367816  1.411062  1.0  2.0  3.0  4.00  7.0\n",
      "          HS/GED            84.0  4.809524  1.571402  1.0  4.0  5.0  6.00  7.0\n",
      "          Some college/AA  176.0  4.267045  1.443109  1.0  3.0  4.0  5.00  7.0\n",
      "Male      9-11              74.0  4.405405  1.534256  1.0  3.0  4.5  5.75  7.0\n",
      "          <9                47.0  5.127660  1.568952  2.0  4.0  5.0  7.00  7.0\n",
      "          College          129.0  3.178295  1.383212  1.0  2.0  3.0  4.00  7.0\n",
      "          HS/GED           113.0  4.053097  1.811869  1.0  3.0  4.0  5.00  7.0\n",
      "          Some college/AA  131.0  3.847328  1.716317  1.0  3.0  4.0  5.00  7.0\n",
      "RIAGENDRx  Education      \n",
      "Female     9-11               5.0\n",
      "           <9                 5.0\n",
      "           College            3.0\n",
      "           HS/GED             5.0\n",
      "           Some college/AA    4.0\n",
      "Male       9-11               4.5\n",
      "           <9                 5.0\n",
      "           College            3.0\n",
      "           HS/GED             4.0\n",
      "           Some college/AA    4.0\n",
      "Name: Household, dtype: float64\n"
     ]
    }
   ],
   "source": [
    "# New dataframe\n",
    "df_new = df[['RIAGENDRx', 'RIDAGEYR', 'Education', 'Household']]\n",
    "df_new_30_40 = df_new[(df_new.RIDAGEYR >= 30) & (df_new.RIDAGEYR <= 40)] # limit new df to ages 30-40\n",
    "\n",
    "data = df_new_30_40.groupby(['RIAGENDRx', 'Education'])['Household']\n",
    "print(data.describe())\n",
    "\n",
    "print(data.median())"
   ],
   "metadata": {
    "collapsed": false,
    "pycharm": {
     "name": "#%%\n"
    }
   }
  },
  {
   "cell_type": "markdown",
   "source": [
    "# 6\n",
    "The participants can be clustered into \"maked variance units\" (MVU) based on every combination of the variables\n",
    "SDMVSTRA and SDMVPSU. Calculate the mean age (RIDAGEYR), height (BMXHT), and BMI (BMXBMI) for each gender (RIAGENDR),\n",
    "within each MVU, and report the ratio between the largest and smallest mean (e.g. for height) across the MVUs."
   ],
   "metadata": {
    "collapsed": false
   }
  },
  {
   "cell_type": "code",
   "execution_count": 135,
   "outputs": [
    {
     "name": "stdout",
     "output_type": "stream",
     "text": [
      "SDMVSTRA  SDMVPSU  RIDAGEYR\n",
      "119.0     1.0      33.0        1\n",
      "120.0     1.0      39.0        1\n",
      "122.0     1.0      35.0        1\n",
      "123.0     1.0      40.0        1\n",
      "125.0     2.0      40.0        1\n",
      "127.0     1.0      35.0        1\n",
      "128.0     2.0      40.0        1\n",
      "130.0     2.0      38.0        1\n",
      "131.0     2.0      38.0        1\n",
      "132.0     1.0      37.0        1\n",
      "                   40.0        1\n",
      "          2.0      35.0        1\n",
      "                   39.0        1\n",
      "Name: RIDAGEYR, dtype: int64\n",
      "SDMVSTRA  SDMVPSU\n",
      "119.0     1.0        33.0\n",
      "120.0     1.0        39.0\n",
      "122.0     1.0        35.0\n",
      "123.0     1.0        40.0\n",
      "125.0     2.0        40.0\n",
      "127.0     1.0        35.0\n",
      "128.0     2.0        40.0\n",
      "130.0     2.0        38.0\n",
      "131.0     2.0        38.0\n",
      "132.0     1.0        38.5\n",
      "          2.0        37.0\n",
      "Name: RIDAGEYR, dtype: float64\n",
      "SDMVSTRA  SDMVPSU\n",
      "119.0     1.0        173.40\n",
      "120.0     1.0        169.60\n",
      "122.0     1.0        174.70\n",
      "123.0     1.0        191.20\n",
      "125.0     2.0        180.50\n",
      "127.0     1.0        171.90\n",
      "128.0     2.0        167.60\n",
      "130.0     2.0        170.50\n",
      "131.0     2.0        174.50\n",
      "132.0     1.0        167.85\n",
      "          2.0        177.75\n",
      "Name: BMXHT, dtype: float64\n",
      "SDMVSTRA  SDMVPSU  BMXBMI\n",
      "119.0     1.0      25.4      1\n",
      "120.0     1.0      26.0      1\n",
      "122.0     1.0      30.3      1\n",
      "123.0     1.0      36.3      1\n",
      "125.0     2.0      25.8      1\n",
      "127.0     1.0      29.2      1\n",
      "128.0     2.0      23.7      1\n",
      "130.0     2.0      25.1      1\n",
      "131.0     2.0      37.6      1\n",
      "132.0     1.0      23.4      1\n",
      "                   27.3      1\n",
      "          2.0      26.8      1\n",
      "                   31.4      1\n",
      "Name: BMXBMI, dtype: int64\n",
      "SDMVSTRA  SDMVPSU\n",
      "119.0     1.0        25.40\n",
      "120.0     1.0        26.00\n",
      "122.0     1.0        30.30\n",
      "123.0     1.0        36.30\n",
      "125.0     2.0        25.80\n",
      "127.0     1.0        29.20\n",
      "128.0     2.0        23.70\n",
      "130.0     2.0        25.10\n",
      "131.0     2.0        37.60\n",
      "132.0     1.0        25.35\n",
      "          2.0        29.10\n",
      "Name: BMXBMI, dtype: float64\n",
      "SDMVSTRA  SDMVPSU  RIDAGEYR\n",
      "120.0     1.0      36.0        1\n",
      "                   37.0        1\n",
      "121.0     1.0      36.0        2\n",
      "                   32.0        1\n",
      "                   33.0        1\n",
      "          2.0      36.0        1\n",
      "122.0     1.0      37.0        1\n",
      "          2.0      40.0        2\n",
      "                   37.0        1\n",
      "123.0     1.0      39.0        1\n",
      "124.0     1.0      31.0        1\n",
      "                   32.0        1\n",
      "          2.0      36.0        1\n",
      "126.0     1.0      31.0        1\n",
      "                   34.0        1\n",
      "                   40.0        1\n",
      "          2.0      37.0        1\n",
      "127.0     1.0      34.0        1\n",
      "                   37.0        1\n",
      "                   39.0        1\n",
      "128.0     1.0      40.0        1\n",
      "129.0     1.0      37.0        1\n",
      "130.0     1.0      33.0        1\n",
      "          2.0      37.0        1\n",
      "131.0     2.0      36.0        2\n",
      "                   38.0        1\n",
      "132.0     1.0      38.0        1\n",
      "Name: RIDAGEYR, dtype: int64\n",
      "SDMVSTRA  SDMVPSU\n",
      "120.0     1.0        36.500000\n",
      "121.0     1.0        34.250000\n",
      "          2.0        36.000000\n",
      "122.0     1.0        37.000000\n",
      "          2.0        39.000000\n",
      "123.0     1.0        39.000000\n",
      "124.0     1.0        31.500000\n",
      "          2.0        36.000000\n",
      "126.0     1.0        35.000000\n",
      "          2.0        37.000000\n",
      "127.0     1.0        36.666667\n",
      "128.0     1.0        40.000000\n",
      "129.0     1.0        37.000000\n",
      "130.0     1.0        33.000000\n",
      "          2.0        37.000000\n",
      "131.0     2.0        36.666667\n",
      "132.0     1.0        38.000000\n",
      "Name: RIDAGEYR, dtype: float64\n",
      "SDMVSTRA  SDMVPSU\n",
      "119.0     1.0        173.40\n",
      "120.0     1.0        169.60\n",
      "122.0     1.0        174.70\n",
      "123.0     1.0        191.20\n",
      "125.0     2.0        180.50\n",
      "127.0     1.0        171.90\n",
      "128.0     2.0        167.60\n",
      "130.0     2.0        170.50\n",
      "131.0     2.0        174.50\n",
      "132.0     1.0        167.85\n",
      "          2.0        177.75\n",
      "Name: BMXHT, dtype: float64\n",
      "SDMVSTRA  SDMVPSU  BMXBMI\n",
      "120.0     1.0      29.1      1\n",
      "                   35.3      1\n",
      "121.0     1.0      24.7      1\n",
      "                   28.3      1\n",
      "                   34.4      1\n",
      "                   37.2      1\n",
      "          2.0      25.3      1\n",
      "122.0     1.0      35.4      1\n",
      "          2.0      18.1      1\n",
      "                   20.1      1\n",
      "                   23.7      1\n",
      "123.0     1.0      33.0      1\n",
      "124.0     1.0      28.1      1\n",
      "                   60.7      1\n",
      "          2.0      26.6      1\n",
      "126.0     1.0      32.8      1\n",
      "                   33.5      1\n",
      "                   45.1      1\n",
      "          2.0      21.5      1\n",
      "127.0     1.0      31.9      1\n",
      "                   32.1      1\n",
      "                   36.3      1\n",
      "128.0     1.0      23.1      1\n",
      "129.0     1.0      27.9      1\n",
      "130.0     1.0      26.5      1\n",
      "          2.0      39.0      1\n",
      "131.0     2.0      31.1      1\n",
      "                   33.4      1\n",
      "                   43.3      1\n",
      "132.0     1.0      39.7      1\n",
      "Name: BMXBMI, dtype: int64\n",
      "SDMVSTRA  SDMVPSU\n",
      "120.0     1.0        32.200000\n",
      "121.0     1.0        31.150000\n",
      "          2.0        25.300000\n",
      "122.0     1.0        35.400000\n",
      "          2.0        20.633333\n",
      "123.0     1.0        33.000000\n",
      "124.0     1.0        44.400000\n",
      "          2.0        26.600000\n",
      "126.0     1.0        37.133333\n",
      "          2.0        21.500000\n",
      "127.0     1.0        33.433333\n",
      "128.0     1.0        23.100000\n",
      "129.0     1.0        27.900000\n",
      "130.0     1.0        26.500000\n",
      "          2.0        39.000000\n",
      "131.0     2.0        35.933333\n",
      "132.0     1.0        39.700000\n",
      "Name: BMXBMI, dtype: float64\n",
      "Male age max: 40.0\n",
      "Male age min: 33.0\n",
      "Male age ratio: 1.2121212121212122\n",
      "Male height ratio: 1.1408114558472553\n",
      "Male BMI ratio: 1.5864978902953588\n",
      "Female age max: 40.0\n",
      "Female age min: 31.5\n",
      "Female age ratio: 1.27\n",
      "1.110091743119266\n",
      "2.1518578352180935\n"
     ]
    }
   ],
   "source": [
    "# create new dataframes for Males and Females\n",
    "data_m = df.where(df.RIAGENDRx == 'Male')\n",
    "data_m = data_m.dropna()\n",
    "data_f = df.where(df.RIAGENDRx == 'Female').dropna()\n",
    "data_f = data_f.dropna()\n",
    "\n",
    "ageM = data_m.groupby(['SDMVSTRA','SDMVPSU'])['RIDAGEYR']\n",
    "print(ageM.value_counts())\n",
    "print(ageM.mean())\n",
    "heightM = data_m.groupby(['SDMVSTRA','SDMVPSU'])['BMXHT']\n",
    "print(heightM.mean())\n",
    "bmiM = data_m.groupby(['SDMVSTRA','SDMVPSU'])['BMXBMI']\n",
    "print(bmiM.value_counts())\n",
    "print(bmiM.mean())\n",
    "\n",
    "ageW = data_f.groupby(['SDMVSTRA','SDMVPSU'])['RIDAGEYR']\n",
    "print(ageW.value_counts())\n",
    "print(ageW.mean())\n",
    "heightW = data_f.groupby(['SDMVSTRA','SDMVPSU'])['BMXHT']\n",
    "print(heightM.mean())\n",
    "bmiW = data_f.groupby(['SDMVSTRA','SDMVPSU'])['BMXBMI']\n",
    "print(bmiW.value_counts())\n",
    "print(bmiW.mean())\n",
    "\n",
    "# report the ratio between the largest and smallest mean (e.g. for height) across the MVUs.\n",
    "pattern = '{0}: {1}'\n",
    "pattern2 = '{0} {1} {2}: {3}'\n",
    "parameters = {1: ('Male', 'Female'), 2: ('age', 'height', 'BMI'), 3: ('max', 'min', 'ratio')}\n",
    "print(pattern.format('Male age max', ageM.mean().max()))\n",
    "print(pattern.format('Male age min', ageM.mean().min()))\n",
    "print(pattern.format('Male age ratio', ageM.mean().max()/ageM.mean().min()))\n",
    "\n",
    "print(pattern.format('Male height ratio', heightM.mean().max()/heightM.mean().min()))\n",
    "print(pattern.format('Male BMI ratio', bmiM.mean().max()/bmiM.mean().min()))\n",
    "\n",
    "print(pattern2.format(parameters[1][1], parameters[2][0], parameters[3][0], ageW.mean().max()))\n",
    "print(pattern2.format(parameters[1][1], parameters[2][0], parameters[3][1], ageW.mean().min()))\n",
    "print(pattern2.format(parameters[1][1], parameters[2][0], parameters[3][2],\n",
    "                      round(ageW.mean().max()/ageW.mean().min(), 3)))\n",
    "\n",
    "print(heightW.mean().max()/heightW.mean().min())\n",
    "print(bmiW.mean().max()/bmiW.mean().min())"
   ],
   "metadata": {
    "collapsed": false,
    "pycharm": {
     "name": "#%%\n"
    }
   }
  },
  {
   "cell_type": "markdown",
   "source": [
    "## IQR of these MVU`s  6b"
   ],
   "metadata": {
    "collapsed": false
   }
  },
  {
   "cell_type": "code",
   "execution_count": 163,
   "outputs": [
    {
     "name": "stdout",
     "output_type": "stream",
     "text": [
      "IQR                          BMXHT  BMXBMI  RIDAGEYR\n",
      "SDMVSTRA SDMVPSU RIAGENDRx                          \n",
      "119      1       Female      9.325   9.750     31.25\n",
      "                 Male        9.000   5.350     29.75\n",
      "         2       Female      9.950   9.350     33.50\n",
      "                 Male       11.225   5.300     29.00\n",
      "120      1       Female      8.750   8.775     26.50\n",
      "                 Male       12.125   9.400     23.75\n",
      "         2       Female     10.550   7.750     25.75\n",
      "                 Male       10.500   7.100     26.00\n",
      "121      1       Female      9.150   9.000     26.25\n",
      "                 Male       10.725   7.500     34.50\n",
      "         2       Female      9.600   8.100     26.00\n",
      "                 Male        8.600   5.700     25.50\n",
      "122      1       Female     10.400   9.875     24.00\n",
      "                 Male        9.400   7.700     29.50\n",
      "         2       Female      7.575   8.475     25.00\n",
      "                 Male       10.150   4.100     30.00\n",
      "123      1       Female      9.675  10.450     30.50\n",
      "                 Male        9.350   8.050     28.25\n",
      "         2       Female     11.200   9.975     34.50\n",
      "                 Male        9.900   8.100     31.50\n",
      "124      1       Female      8.375   8.950     27.00\n",
      "                 Male        9.800   6.100     32.00\n",
      "         2       Female      8.650   9.000     23.50\n",
      "                 Male       11.600   8.700     31.00\n",
      "125      1       Female      9.100   8.000     31.00\n",
      "                 Male       10.350   8.300     29.00\n",
      "         2       Female     10.675  10.325     32.25\n",
      "                 Male        7.925   7.900     33.50\n",
      "126      1       Female      8.500  10.675     30.25\n",
      "                 Male       10.450   8.000     36.25\n",
      "         2       Female     12.025  10.350     31.75\n",
      "                 Male        8.125   6.850     34.00\n",
      "127      1       Female      7.700  11.750     27.25\n",
      "                 Male        9.025   8.200     30.00\n",
      "         2       Female     11.600   9.200     30.00\n",
      "                 Male       10.750   5.950     28.00\n",
      "128      1       Female      9.125   8.500     28.00\n",
      "                 Male        9.950   6.675     33.00\n",
      "         2       Female     10.650   9.375     22.00\n",
      "                 Male        9.850   5.800     25.50\n",
      "129      1       Female     10.375   9.500     24.75\n",
      "                 Male       12.300   6.025     20.75\n",
      "         2       Female      8.900   9.725     26.25\n",
      "                 Male       10.700   5.800     30.75\n",
      "130      1       Female      8.650  11.200     35.50\n",
      "                 Male        9.900   6.700     36.00\n",
      "         2       Female     10.225   8.050     30.25\n",
      "                 Male        8.625   8.375     28.50\n",
      "131      1       Female     10.025  11.075     35.75\n",
      "                 Male       10.500   7.525     36.00\n",
      "         2       Female      7.575  10.625     24.00\n",
      "                 Male        7.750   7.850     28.00\n",
      "132      1       Female     10.950  10.700     30.00\n",
      "                 Male       10.600   6.600     21.25\n",
      "         2       Female     10.100  11.750     33.00\n",
      "                 Male       10.550   9.600     38.00\n",
      "133      1       Female     10.300   8.300     34.00\n",
      "                 Male        8.925   6.425     33.00\n",
      "         2       Female      9.550   9.650     28.50\n",
      "                 Male        8.850   5.900     32.25\n",
      "BMXHT IQR ratio: 1.624\n",
      "BMXBMI IQR ratio: 2.866\n",
      "RIDAGEYR IQR ratio: 1.831\n"
     ]
    }
   ],
   "source": [
    "data_modified = df[['SDMVSTRA', 'SDMVPSU', 'RIAGENDRx', 'BMXHT', 'BMXBMI',\n",
    "                    'RIDAGEYR']]  # new dataframe\n",
    "\n",
    "data_q3 = data_modified.groupby(['SDMVSTRA', 'SDMVPSU', 'RIAGENDRx'], axis=0).quantile(0.75)\n",
    "# print(data_q3)\n",
    "data_q1 = data_modified.groupby(['SDMVSTRA', 'SDMVPSU', 'RIAGENDRx'], axis=0).quantile(0.25)\n",
    "\n",
    "data_iqr = data_q3 - data_q1\n",
    "data_iqr.rename_axis('IQR', axis=1, inplace=True)\n",
    "\n",
    "print(data_iqr)\n",
    "\n",
    "\n",
    "for i in ('BMXHT', 'BMXBMI', 'RIDAGEYR'):\n",
    "    x = data_iqr[i].max()/data_iqr[i].min()\n",
    "    out = '{0} IQR ratio: {1}'.format(i, round(x, 3))\n",
    "    print(out)"
   ],
   "metadata": {
    "collapsed": false,
    "pycharm": {
     "name": "#%%\n"
    }
   }
  }
 ],
 "metadata": {
  "kernelspec": {
   "name": "python3",
   "language": "python",
   "display_name": "Python 3"
  }
 },
 "nbformat": 4,
 "nbformat_minor": 4
}